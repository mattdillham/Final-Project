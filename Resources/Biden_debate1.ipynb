{
 "cells": [
  {
   "cell_type": "code",
   "execution_count": 1,
   "metadata": {},
   "outputs": [
    {
     "name": "stderr",
     "output_type": "stream",
     "text": [
      "C:\\Users\\mattd\\anaconda3\\envs\\PythonData\\lib\\site-packages\\tensorflow\\python\\framework\\dtypes.py:516: FutureWarning: Passing (type, 1) or '1type' as a synonym of type is deprecated; in a future version of numpy, it will be understood as (type, (1,)) / '(1,)type'.\n",
      "  _np_qint8 = np.dtype([(\"qint8\", np.int8, 1)])\n",
      "C:\\Users\\mattd\\anaconda3\\envs\\PythonData\\lib\\site-packages\\tensorflow\\python\\framework\\dtypes.py:517: FutureWarning: Passing (type, 1) or '1type' as a synonym of type is deprecated; in a future version of numpy, it will be understood as (type, (1,)) / '(1,)type'.\n",
      "  _np_quint8 = np.dtype([(\"quint8\", np.uint8, 1)])\n",
      "C:\\Users\\mattd\\anaconda3\\envs\\PythonData\\lib\\site-packages\\tensorflow\\python\\framework\\dtypes.py:518: FutureWarning: Passing (type, 1) or '1type' as a synonym of type is deprecated; in a future version of numpy, it will be understood as (type, (1,)) / '(1,)type'.\n",
      "  _np_qint16 = np.dtype([(\"qint16\", np.int16, 1)])\n",
      "C:\\Users\\mattd\\anaconda3\\envs\\PythonData\\lib\\site-packages\\tensorflow\\python\\framework\\dtypes.py:519: FutureWarning: Passing (type, 1) or '1type' as a synonym of type is deprecated; in a future version of numpy, it will be understood as (type, (1,)) / '(1,)type'.\n",
      "  _np_quint16 = np.dtype([(\"quint16\", np.uint16, 1)])\n",
      "C:\\Users\\mattd\\anaconda3\\envs\\PythonData\\lib\\site-packages\\tensorflow\\python\\framework\\dtypes.py:520: FutureWarning: Passing (type, 1) or '1type' as a synonym of type is deprecated; in a future version of numpy, it will be understood as (type, (1,)) / '(1,)type'.\n",
      "  _np_qint32 = np.dtype([(\"qint32\", np.int32, 1)])\n",
      "C:\\Users\\mattd\\anaconda3\\envs\\PythonData\\lib\\site-packages\\tensorflow\\python\\framework\\dtypes.py:525: FutureWarning: Passing (type, 1) or '1type' as a synonym of type is deprecated; in a future version of numpy, it will be understood as (type, (1,)) / '(1,)type'.\n",
      "  np_resource = np.dtype([(\"resource\", np.ubyte, 1)])\n",
      "C:\\Users\\mattd\\anaconda3\\envs\\PythonData\\lib\\site-packages\\tensorboard\\compat\\tensorflow_stub\\dtypes.py:541: FutureWarning: Passing (type, 1) or '1type' as a synonym of type is deprecated; in a future version of numpy, it will be understood as (type, (1,)) / '(1,)type'.\n",
      "  _np_qint8 = np.dtype([(\"qint8\", np.int8, 1)])\n",
      "C:\\Users\\mattd\\anaconda3\\envs\\PythonData\\lib\\site-packages\\tensorboard\\compat\\tensorflow_stub\\dtypes.py:542: FutureWarning: Passing (type, 1) or '1type' as a synonym of type is deprecated; in a future version of numpy, it will be understood as (type, (1,)) / '(1,)type'.\n",
      "  _np_quint8 = np.dtype([(\"quint8\", np.uint8, 1)])\n",
      "C:\\Users\\mattd\\anaconda3\\envs\\PythonData\\lib\\site-packages\\tensorboard\\compat\\tensorflow_stub\\dtypes.py:543: FutureWarning: Passing (type, 1) or '1type' as a synonym of type is deprecated; in a future version of numpy, it will be understood as (type, (1,)) / '(1,)type'.\n",
      "  _np_qint16 = np.dtype([(\"qint16\", np.int16, 1)])\n",
      "C:\\Users\\mattd\\anaconda3\\envs\\PythonData\\lib\\site-packages\\tensorboard\\compat\\tensorflow_stub\\dtypes.py:544: FutureWarning: Passing (type, 1) or '1type' as a synonym of type is deprecated; in a future version of numpy, it will be understood as (type, (1,)) / '(1,)type'.\n",
      "  _np_quint16 = np.dtype([(\"quint16\", np.uint16, 1)])\n",
      "C:\\Users\\mattd\\anaconda3\\envs\\PythonData\\lib\\site-packages\\tensorboard\\compat\\tensorflow_stub\\dtypes.py:545: FutureWarning: Passing (type, 1) or '1type' as a synonym of type is deprecated; in a future version of numpy, it will be understood as (type, (1,)) / '(1,)type'.\n",
      "  _np_qint32 = np.dtype([(\"qint32\", np.int32, 1)])\n",
      "C:\\Users\\mattd\\anaconda3\\envs\\PythonData\\lib\\site-packages\\tensorboard\\compat\\tensorflow_stub\\dtypes.py:550: FutureWarning: Passing (type, 1) or '1type' as a synonym of type is deprecated; in a future version of numpy, it will be understood as (type, (1,)) / '(1,)type'.\n",
      "  np_resource = np.dtype([(\"resource\", np.ubyte, 1)])\n"
     ]
    }
   ],
   "source": [
    "# Import our dependencies\n",
    "from sklearn.model_selection import train_test_split\n",
    "from sklearn.preprocessing import StandardScaler\n",
    "from sklearn.ensemble import RandomForestClassifier\n",
    "from sklearn.metrics import accuracy_score\n",
    "from sklearn.preprocessing import OneHotEncoder\n",
    "import pandas as pd\n",
    "import tensorflow as tf\n",
    "import sklearn as skl\n",
    "import datetime as dt"
   ]
  },
  {
   "cell_type": "code",
   "execution_count": 2,
   "metadata": {},
   "outputs": [
    {
     "name": "stderr",
     "output_type": "stream",
     "text": [
      "C:\\Users\\mattd\\anaconda3\\envs\\PythonData\\lib\\site-packages\\IPython\\core\\interactiveshell.py:3063: DtypeWarning: Columns (9) have mixed types.Specify dtype option on import or set low_memory=False.\n",
      "  interactivity=interactivity, compiler=compiler, result=result)\n"
     ]
    }
   ],
   "source": [
    "biden_1debate_df = pd.read_csv(\"Biden_FirstDebate_2020.csv\")"
   ]
  },
  {
   "cell_type": "code",
   "execution_count": 3,
   "metadata": {},
   "outputs": [
    {
     "data": {
      "text/html": [
       "<div>\n",
       "<style scoped>\n",
       "    .dataframe tbody tr th:only-of-type {\n",
       "        vertical-align: middle;\n",
       "    }\n",
       "\n",
       "    .dataframe tbody tr th {\n",
       "        vertical-align: top;\n",
       "    }\n",
       "\n",
       "    .dataframe thead th {\n",
       "        text-align: right;\n",
       "    }\n",
       "</style>\n",
       "<table border=\"1\" class=\"dataframe\">\n",
       "  <thead>\n",
       "    <tr style=\"text-align: right;\">\n",
       "      <th></th>\n",
       "      <th>id</th>\n",
       "      <th>conversation_id</th>\n",
       "      <th>created_at</th>\n",
       "      <th>date</th>\n",
       "      <th>time</th>\n",
       "      <th>timezone</th>\n",
       "      <th>user_id</th>\n",
       "      <th>username</th>\n",
       "      <th>name</th>\n",
       "      <th>place</th>\n",
       "      <th>...</th>\n",
       "      <th>geo</th>\n",
       "      <th>source</th>\n",
       "      <th>user_rt_id</th>\n",
       "      <th>user_rt</th>\n",
       "      <th>retweet_id</th>\n",
       "      <th>reply_to</th>\n",
       "      <th>retweet_date</th>\n",
       "      <th>translate</th>\n",
       "      <th>trans_src</th>\n",
       "      <th>trans_dest</th>\n",
       "    </tr>\n",
       "  </thead>\n",
       "  <tbody>\n",
       "    <tr>\n",
       "      <th>0</th>\n",
       "      <td>1311455787206627333</td>\n",
       "      <td>1311396967159799810</td>\n",
       "      <td>2020-09-30 19:59:59 Eastern Daylight Time</td>\n",
       "      <td>2020-09-30</td>\n",
       "      <td>19:59:59</td>\n",
       "      <td>-400</td>\n",
       "      <td>1288621002583240705</td>\n",
       "      <td>dailyphoenix1</td>\n",
       "      <td>Daily Phoenix</td>\n",
       "      <td>NaN</td>\n",
       "      <td>...</td>\n",
       "      <td>NaN</td>\n",
       "      <td>NaN</td>\n",
       "      <td>NaN</td>\n",
       "      <td>NaN</td>\n",
       "      <td>NaN</td>\n",
       "      <td>{'user_id': '832376325306359808', 'username': ...</td>\n",
       "      <td>NaN</td>\n",
       "      <td>NaN</td>\n",
       "      <td>NaN</td>\n",
       "      <td>NaN</td>\n",
       "    </tr>\n",
       "    <tr>\n",
       "      <th>1</th>\n",
       "      <td>1311455785822695424</td>\n",
       "      <td>1311128884121755648</td>\n",
       "      <td>2020-09-30 19:59:59 Eastern Daylight Time</td>\n",
       "      <td>2020-09-30</td>\n",
       "      <td>19:59:59</td>\n",
       "      <td>-400</td>\n",
       "      <td>1278008053686730753</td>\n",
       "      <td>maya73863414</td>\n",
       "      <td>maya</td>\n",
       "      <td>NaN</td>\n",
       "      <td>...</td>\n",
       "      <td>NaN</td>\n",
       "      <td>NaN</td>\n",
       "      <td>NaN</td>\n",
       "      <td>NaN</td>\n",
       "      <td>NaN</td>\n",
       "      <td>{'user_id': '956360508575232002', 'username': ...</td>\n",
       "      <td>NaN</td>\n",
       "      <td>NaN</td>\n",
       "      <td>NaN</td>\n",
       "      <td>NaN</td>\n",
       "    </tr>\n",
       "    <tr>\n",
       "      <th>2</th>\n",
       "      <td>1311455785688485889</td>\n",
       "      <td>1311422569522831363</td>\n",
       "      <td>2020-09-30 19:59:59 Eastern Daylight Time</td>\n",
       "      <td>2020-09-30</td>\n",
       "      <td>19:59:59</td>\n",
       "      <td>-400</td>\n",
       "      <td>57237687</td>\n",
       "      <td>wesatkinson</td>\n",
       "      <td>Big Wes</td>\n",
       "      <td>NaN</td>\n",
       "      <td>...</td>\n",
       "      <td>NaN</td>\n",
       "      <td>NaN</td>\n",
       "      <td>NaN</td>\n",
       "      <td>NaN</td>\n",
       "      <td>NaN</td>\n",
       "      <td>{'user_id': '939091', 'username': 'JoeBiden'}</td>\n",
       "      <td>NaN</td>\n",
       "      <td>NaN</td>\n",
       "      <td>NaN</td>\n",
       "      <td>NaN</td>\n",
       "    </tr>\n",
       "    <tr>\n",
       "      <th>3</th>\n",
       "      <td>1311455785164079106</td>\n",
       "      <td>1311455785164079106</td>\n",
       "      <td>2020-09-30 19:59:59 Eastern Daylight Time</td>\n",
       "      <td>2020-09-30</td>\n",
       "      <td>19:59:59</td>\n",
       "      <td>-400</td>\n",
       "      <td>554408108</td>\n",
       "      <td>woodrow823</td>\n",
       "      <td>Woodrow</td>\n",
       "      <td>NaN</td>\n",
       "      <td>...</td>\n",
       "      <td>NaN</td>\n",
       "      <td>NaN</td>\n",
       "      <td>NaN</td>\n",
       "      <td>NaN</td>\n",
       "      <td>NaN</td>\n",
       "      <td>{'user_id': None, 'username': None}</td>\n",
       "      <td>NaN</td>\n",
       "      <td>NaN</td>\n",
       "      <td>NaN</td>\n",
       "      <td>NaN</td>\n",
       "    </tr>\n",
       "    <tr>\n",
       "      <th>4</th>\n",
       "      <td>1311455784895680512</td>\n",
       "      <td>1311402310489247750</td>\n",
       "      <td>2020-09-30 19:59:59 Eastern Daylight Time</td>\n",
       "      <td>2020-09-30</td>\n",
       "      <td>19:59:59</td>\n",
       "      <td>-400</td>\n",
       "      <td>306055499</td>\n",
       "      <td>sadie_75resist</td>\n",
       "      <td>😷SADIE💙2020 BLUE WAVE💙</td>\n",
       "      <td>NaN</td>\n",
       "      <td>...</td>\n",
       "      <td>NaN</td>\n",
       "      <td>NaN</td>\n",
       "      <td>NaN</td>\n",
       "      <td>NaN</td>\n",
       "      <td>NaN</td>\n",
       "      <td>{'user_id': '1249416438051246080', 'username':...</td>\n",
       "      <td>NaN</td>\n",
       "      <td>NaN</td>\n",
       "      <td>NaN</td>\n",
       "      <td>NaN</td>\n",
       "    </tr>\n",
       "  </tbody>\n",
       "</table>\n",
       "<p>5 rows × 36 columns</p>\n",
       "</div>"
      ],
      "text/plain": [
       "                    id      conversation_id  \\\n",
       "0  1311455787206627333  1311396967159799810   \n",
       "1  1311455785822695424  1311128884121755648   \n",
       "2  1311455785688485889  1311422569522831363   \n",
       "3  1311455785164079106  1311455785164079106   \n",
       "4  1311455784895680512  1311402310489247750   \n",
       "\n",
       "                                  created_at        date      time  timezone  \\\n",
       "0  2020-09-30 19:59:59 Eastern Daylight Time  2020-09-30  19:59:59      -400   \n",
       "1  2020-09-30 19:59:59 Eastern Daylight Time  2020-09-30  19:59:59      -400   \n",
       "2  2020-09-30 19:59:59 Eastern Daylight Time  2020-09-30  19:59:59      -400   \n",
       "3  2020-09-30 19:59:59 Eastern Daylight Time  2020-09-30  19:59:59      -400   \n",
       "4  2020-09-30 19:59:59 Eastern Daylight Time  2020-09-30  19:59:59      -400   \n",
       "\n",
       "               user_id        username                    name place  ... geo  \\\n",
       "0  1288621002583240705   dailyphoenix1           Daily Phoenix   NaN  ... NaN   \n",
       "1  1278008053686730753    maya73863414                    maya   NaN  ... NaN   \n",
       "2             57237687     wesatkinson                 Big Wes   NaN  ... NaN   \n",
       "3            554408108      woodrow823                 Woodrow   NaN  ... NaN   \n",
       "4            306055499  sadie_75resist  😷SADIE💙2020 BLUE WAVE💙   NaN  ... NaN   \n",
       "\n",
       "  source user_rt_id user_rt retweet_id  \\\n",
       "0    NaN        NaN     NaN        NaN   \n",
       "1    NaN        NaN     NaN        NaN   \n",
       "2    NaN        NaN     NaN        NaN   \n",
       "3    NaN        NaN     NaN        NaN   \n",
       "4    NaN        NaN     NaN        NaN   \n",
       "\n",
       "                                            reply_to  retweet_date  translate  \\\n",
       "0  {'user_id': '832376325306359808', 'username': ...           NaN        NaN   \n",
       "1  {'user_id': '956360508575232002', 'username': ...           NaN        NaN   \n",
       "2      {'user_id': '939091', 'username': 'JoeBiden'}           NaN        NaN   \n",
       "3                {'user_id': None, 'username': None}           NaN        NaN   \n",
       "4  {'user_id': '1249416438051246080', 'username':...           NaN        NaN   \n",
       "\n",
       "  trans_src trans_dest  \n",
       "0       NaN        NaN  \n",
       "1       NaN        NaN  \n",
       "2       NaN        NaN  \n",
       "3       NaN        NaN  \n",
       "4       NaN        NaN  \n",
       "\n",
       "[5 rows x 36 columns]"
      ]
     },
     "execution_count": 3,
     "metadata": {},
     "output_type": "execute_result"
    }
   ],
   "source": [
    "biden_1debate_df.head(5)"
   ]
  },
  {
   "cell_type": "code",
   "execution_count": 4,
   "metadata": {},
   "outputs": [
    {
     "data": {
      "text/plain": [
       "id                   int64\n",
       "conversation_id      int64\n",
       "created_at          object\n",
       "date                object\n",
       "time                object\n",
       "timezone             int64\n",
       "user_id              int64\n",
       "username            object\n",
       "name                object\n",
       "place               object\n",
       "tweet               object\n",
       "language            object\n",
       "mentions            object\n",
       "urls                object\n",
       "photos              object\n",
       "replies_count        int64\n",
       "retweets_count       int64\n",
       "likes_count          int64\n",
       "hashtags            object\n",
       "cashtags            object\n",
       "link                object\n",
       "retweet            float64\n",
       "quote_url           object\n",
       "video                int64\n",
       "thumbnail           object\n",
       "near               float64\n",
       "geo                float64\n",
       "source             float64\n",
       "user_rt_id         float64\n",
       "user_rt            float64\n",
       "retweet_id         float64\n",
       "reply_to            object\n",
       "retweet_date       float64\n",
       "translate          float64\n",
       "trans_src          float64\n",
       "trans_dest         float64\n",
       "dtype: object"
      ]
     },
     "execution_count": 4,
     "metadata": {},
     "output_type": "execute_result"
    }
   ],
   "source": [
    "biden_1debate_df.dtypes"
   ]
  },
  {
   "cell_type": "code",
   "execution_count": 5,
   "metadata": {},
   "outputs": [
    {
     "data": {
      "text/plain": [
       "id                      0\n",
       "conversation_id         0\n",
       "created_at              0\n",
       "date                    0\n",
       "time                    0\n",
       "timezone                0\n",
       "user_id                 0\n",
       "username                0\n",
       "name                   50\n",
       "place              536201\n",
       "tweet                   0\n",
       "language                0\n",
       "mentions                0\n",
       "urls                    0\n",
       "photos                  0\n",
       "replies_count           0\n",
       "retweets_count          0\n",
       "likes_count             0\n",
       "hashtags                0\n",
       "cashtags                0\n",
       "link                    0\n",
       "retweet            536260\n",
       "quote_url          504852\n",
       "video                   0\n",
       "thumbnail          475276\n",
       "near               536260\n",
       "geo                536260\n",
       "source             536260\n",
       "user_rt_id         536260\n",
       "user_rt            536260\n",
       "retweet_id         536260\n",
       "reply_to                0\n",
       "retweet_date       536260\n",
       "translate          536260\n",
       "trans_src          536260\n",
       "trans_dest         536260\n",
       "dtype: int64"
      ]
     },
     "execution_count": 5,
     "metadata": {},
     "output_type": "execute_result"
    }
   ],
   "source": [
    "biden_1debate_df.isnull().sum(axis = 0)"
   ]
  },
  {
   "cell_type": "code",
   "execution_count": 6,
   "metadata": {},
   "outputs": [
    {
     "data": {
      "text/plain": [
       "Series([], Name: retweet, dtype: int64)"
      ]
     },
     "execution_count": 6,
     "metadata": {},
     "output_type": "execute_result"
    }
   ],
   "source": [
    "biden_1debate_df.retweet.value_counts()"
   ]
  },
  {
   "cell_type": "code",
   "execution_count": 7,
   "metadata": {},
   "outputs": [
    {
     "data": {
      "text/plain": [
       "(536260, 36)"
      ]
     },
     "execution_count": 7,
     "metadata": {},
     "output_type": "execute_result"
    }
   ],
   "source": [
    "biden_1debate_df.shape"
   ]
  },
  {
   "cell_type": "code",
   "execution_count": 8,
   "metadata": {},
   "outputs": [],
   "source": [
    "columns = [\"place\", \"retweet\", \"quote_url\", \"near\", \"geo\", \"source\", \"user_rt_id\", \"user_rt\", \"retweet_date\", \"retweet_id\", \"translate\", \"trans_src\", \"trans_dest\"]"
   ]
  },
  {
   "cell_type": "code",
   "execution_count": 9,
   "metadata": {},
   "outputs": [],
   "source": [
    "biden_1debate_df.drop(columns, axis=1, inplace=True)"
   ]
  },
  {
   "cell_type": "code",
   "execution_count": 10,
   "metadata": {},
   "outputs": [
    {
     "data": {
      "text/html": [
       "<div>\n",
       "<style scoped>\n",
       "    .dataframe tbody tr th:only-of-type {\n",
       "        vertical-align: middle;\n",
       "    }\n",
       "\n",
       "    .dataframe tbody tr th {\n",
       "        vertical-align: top;\n",
       "    }\n",
       "\n",
       "    .dataframe thead th {\n",
       "        text-align: right;\n",
       "    }\n",
       "</style>\n",
       "<table border=\"1\" class=\"dataframe\">\n",
       "  <thead>\n",
       "    <tr style=\"text-align: right;\">\n",
       "      <th></th>\n",
       "      <th>id</th>\n",
       "      <th>conversation_id</th>\n",
       "      <th>created_at</th>\n",
       "      <th>date</th>\n",
       "      <th>time</th>\n",
       "      <th>timezone</th>\n",
       "      <th>user_id</th>\n",
       "      <th>username</th>\n",
       "      <th>name</th>\n",
       "      <th>tweet</th>\n",
       "      <th>...</th>\n",
       "      <th>photos</th>\n",
       "      <th>replies_count</th>\n",
       "      <th>retweets_count</th>\n",
       "      <th>likes_count</th>\n",
       "      <th>hashtags</th>\n",
       "      <th>cashtags</th>\n",
       "      <th>link</th>\n",
       "      <th>video</th>\n",
       "      <th>thumbnail</th>\n",
       "      <th>reply_to</th>\n",
       "    </tr>\n",
       "  </thead>\n",
       "  <tbody>\n",
       "    <tr>\n",
       "      <th>0</th>\n",
       "      <td>1311455787206627333</td>\n",
       "      <td>1311396967159799810</td>\n",
       "      <td>2020-09-30 19:59:59 Eastern Daylight Time</td>\n",
       "      <td>2020-09-30</td>\n",
       "      <td>19:59:59</td>\n",
       "      <td>-400</td>\n",
       "      <td>1288621002583240705</td>\n",
       "      <td>dailyphoenix1</td>\n",
       "      <td>Daily Phoenix</td>\n",
       "      <td>@kathyhoffman_az @JoeBiden Should we have CRT ...</td>\n",
       "      <td>...</td>\n",
       "      <td>[]</td>\n",
       "      <td>1</td>\n",
       "      <td>0</td>\n",
       "      <td>2</td>\n",
       "      <td>[]</td>\n",
       "      <td>[]</td>\n",
       "      <td>https://twitter.com/DailyPhoenix1/status/13114...</td>\n",
       "      <td>0</td>\n",
       "      <td>NaN</td>\n",
       "      <td>{'user_id': '832376325306359808', 'username': ...</td>\n",
       "    </tr>\n",
       "    <tr>\n",
       "      <th>1</th>\n",
       "      <td>1311455785822695424</td>\n",
       "      <td>1311128884121755648</td>\n",
       "      <td>2020-09-30 19:59:59 Eastern Daylight Time</td>\n",
       "      <td>2020-09-30</td>\n",
       "      <td>19:59:59</td>\n",
       "      <td>-400</td>\n",
       "      <td>1278008053686730753</td>\n",
       "      <td>maya73863414</td>\n",
       "      <td>maya</td>\n",
       "      <td>@Rocket54441 @JoeBiden Literally trump but ok</td>\n",
       "      <td>...</td>\n",
       "      <td>[]</td>\n",
       "      <td>0</td>\n",
       "      <td>0</td>\n",
       "      <td>0</td>\n",
       "      <td>[]</td>\n",
       "      <td>[]</td>\n",
       "      <td>https://twitter.com/maya73863414/status/131145...</td>\n",
       "      <td>0</td>\n",
       "      <td>NaN</td>\n",
       "      <td>{'user_id': '956360508575232002', 'username': ...</td>\n",
       "    </tr>\n",
       "    <tr>\n",
       "      <th>2</th>\n",
       "      <td>1311455785688485889</td>\n",
       "      <td>1311422569522831363</td>\n",
       "      <td>2020-09-30 19:59:59 Eastern Daylight Time</td>\n",
       "      <td>2020-09-30</td>\n",
       "      <td>19:59:59</td>\n",
       "      <td>-400</td>\n",
       "      <td>57237687</td>\n",
       "      <td>wesatkinson</td>\n",
       "      <td>Big Wes</td>\n",
       "      <td>@JoeBiden @MonicaLewinsky https://t.co/Wni5F0WJHt</td>\n",
       "      <td>...</td>\n",
       "      <td>['https://pbs.twimg.com/media/EjM6FGwXgAEhUL3....</td>\n",
       "      <td>0</td>\n",
       "      <td>0</td>\n",
       "      <td>2</td>\n",
       "      <td>[]</td>\n",
       "      <td>[]</td>\n",
       "      <td>https://twitter.com/wesatkinson/status/1311455...</td>\n",
       "      <td>1</td>\n",
       "      <td>https://pbs.twimg.com/media/EjM6FGwXgAEhUL3.jpg</td>\n",
       "      <td>{'user_id': '939091', 'username': 'JoeBiden'}</td>\n",
       "    </tr>\n",
       "    <tr>\n",
       "      <th>3</th>\n",
       "      <td>1311455785164079106</td>\n",
       "      <td>1311455785164079106</td>\n",
       "      <td>2020-09-30 19:59:59 Eastern Daylight Time</td>\n",
       "      <td>2020-09-30</td>\n",
       "      <td>19:59:59</td>\n",
       "      <td>-400</td>\n",
       "      <td>554408108</td>\n",
       "      <td>woodrow823</td>\n",
       "      <td>Woodrow</td>\n",
       "      <td>Pres. you missed the op to mention HBCU.  @Joe...</td>\n",
       "      <td>...</td>\n",
       "      <td>[]</td>\n",
       "      <td>0</td>\n",
       "      <td>0</td>\n",
       "      <td>0</td>\n",
       "      <td>['blackvote']</td>\n",
       "      <td>[]</td>\n",
       "      <td>https://twitter.com/woodrow823/status/13114557...</td>\n",
       "      <td>0</td>\n",
       "      <td>NaN</td>\n",
       "      <td>{'user_id': None, 'username': None}</td>\n",
       "    </tr>\n",
       "    <tr>\n",
       "      <th>4</th>\n",
       "      <td>1311455784895680512</td>\n",
       "      <td>1311402310489247750</td>\n",
       "      <td>2020-09-30 19:59:59 Eastern Daylight Time</td>\n",
       "      <td>2020-09-30</td>\n",
       "      <td>19:59:59</td>\n",
       "      <td>-400</td>\n",
       "      <td>306055499</td>\n",
       "      <td>sadie_75resist</td>\n",
       "      <td>😷SADIE💙2020 BLUE WAVE💙</td>\n",
       "      <td>@Jillbiden46 @JoeBiden ❤️ #VoteBidenHarris2020...</td>\n",
       "      <td>...</td>\n",
       "      <td>['https://pbs.twimg.com/tweet_video_thumb/EjM6...</td>\n",
       "      <td>0</td>\n",
       "      <td>0</td>\n",
       "      <td>0</td>\n",
       "      <td>['votebidenharris2020', 'voteearly', 'votebide...</td>\n",
       "      <td>[]</td>\n",
       "      <td>https://twitter.com/Sadie_75Resist/status/1311...</td>\n",
       "      <td>1</td>\n",
       "      <td>https://pbs.twimg.com/tweet_video_thumb/EjM6FP...</td>\n",
       "      <td>{'user_id': '1249416438051246080', 'username':...</td>\n",
       "    </tr>\n",
       "  </tbody>\n",
       "</table>\n",
       "<p>5 rows × 23 columns</p>\n",
       "</div>"
      ],
      "text/plain": [
       "                    id      conversation_id  \\\n",
       "0  1311455787206627333  1311396967159799810   \n",
       "1  1311455785822695424  1311128884121755648   \n",
       "2  1311455785688485889  1311422569522831363   \n",
       "3  1311455785164079106  1311455785164079106   \n",
       "4  1311455784895680512  1311402310489247750   \n",
       "\n",
       "                                  created_at        date      time  timezone  \\\n",
       "0  2020-09-30 19:59:59 Eastern Daylight Time  2020-09-30  19:59:59      -400   \n",
       "1  2020-09-30 19:59:59 Eastern Daylight Time  2020-09-30  19:59:59      -400   \n",
       "2  2020-09-30 19:59:59 Eastern Daylight Time  2020-09-30  19:59:59      -400   \n",
       "3  2020-09-30 19:59:59 Eastern Daylight Time  2020-09-30  19:59:59      -400   \n",
       "4  2020-09-30 19:59:59 Eastern Daylight Time  2020-09-30  19:59:59      -400   \n",
       "\n",
       "               user_id        username                    name  \\\n",
       "0  1288621002583240705   dailyphoenix1           Daily Phoenix   \n",
       "1  1278008053686730753    maya73863414                    maya   \n",
       "2             57237687     wesatkinson                 Big Wes   \n",
       "3            554408108      woodrow823                 Woodrow   \n",
       "4            306055499  sadie_75resist  😷SADIE💙2020 BLUE WAVE💙   \n",
       "\n",
       "                                               tweet  ...  \\\n",
       "0  @kathyhoffman_az @JoeBiden Should we have CRT ...  ...   \n",
       "1      @Rocket54441 @JoeBiden Literally trump but ok  ...   \n",
       "2  @JoeBiden @MonicaLewinsky https://t.co/Wni5F0WJHt  ...   \n",
       "3  Pres. you missed the op to mention HBCU.  @Joe...  ...   \n",
       "4  @Jillbiden46 @JoeBiden ❤️ #VoteBidenHarris2020...  ...   \n",
       "\n",
       "                                              photos replies_count  \\\n",
       "0                                                 []             1   \n",
       "1                                                 []             0   \n",
       "2  ['https://pbs.twimg.com/media/EjM6FGwXgAEhUL3....             0   \n",
       "3                                                 []             0   \n",
       "4  ['https://pbs.twimg.com/tweet_video_thumb/EjM6...             0   \n",
       "\n",
       "  retweets_count likes_count  \\\n",
       "0              0           2   \n",
       "1              0           0   \n",
       "2              0           2   \n",
       "3              0           0   \n",
       "4              0           0   \n",
       "\n",
       "                                            hashtags  cashtags  \\\n",
       "0                                                 []        []   \n",
       "1                                                 []        []   \n",
       "2                                                 []        []   \n",
       "3                                      ['blackvote']        []   \n",
       "4  ['votebidenharris2020', 'voteearly', 'votebide...        []   \n",
       "\n",
       "                                                link video  \\\n",
       "0  https://twitter.com/DailyPhoenix1/status/13114...     0   \n",
       "1  https://twitter.com/maya73863414/status/131145...     0   \n",
       "2  https://twitter.com/wesatkinson/status/1311455...     1   \n",
       "3  https://twitter.com/woodrow823/status/13114557...     0   \n",
       "4  https://twitter.com/Sadie_75Resist/status/1311...     1   \n",
       "\n",
       "                                           thumbnail  \\\n",
       "0                                                NaN   \n",
       "1                                                NaN   \n",
       "2    https://pbs.twimg.com/media/EjM6FGwXgAEhUL3.jpg   \n",
       "3                                                NaN   \n",
       "4  https://pbs.twimg.com/tweet_video_thumb/EjM6FP...   \n",
       "\n",
       "                                            reply_to  \n",
       "0  {'user_id': '832376325306359808', 'username': ...  \n",
       "1  {'user_id': '956360508575232002', 'username': ...  \n",
       "2      {'user_id': '939091', 'username': 'JoeBiden'}  \n",
       "3                {'user_id': None, 'username': None}  \n",
       "4  {'user_id': '1249416438051246080', 'username':...  \n",
       "\n",
       "[5 rows x 23 columns]"
      ]
     },
     "execution_count": 10,
     "metadata": {},
     "output_type": "execute_result"
    }
   ],
   "source": [
    "biden_1debate_df.head()"
   ]
  },
  {
   "cell_type": "code",
   "execution_count": 11,
   "metadata": {},
   "outputs": [
    {
     "data": {
      "text/plain": [
       "-400    536260\n",
       "Name: timezone, dtype: int64"
      ]
     },
     "execution_count": 11,
     "metadata": {},
     "output_type": "execute_result"
    }
   ],
   "source": [
    "biden_1debate_df.timezone.value_counts()"
   ]
  },
  {
   "cell_type": "code",
   "execution_count": 12,
   "metadata": {},
   "outputs": [
    {
     "data": {
      "text/plain": [
       "1216941395975507973    340\n",
       "1298358446270472192    207\n",
       "1255913478440665088    201\n",
       "1305951790903554050    175\n",
       "1267427037968556037    164\n",
       "                      ... \n",
       "3059411045               1\n",
       "720260133767524352       1\n",
       "203081825                1\n",
       "259729501                1\n",
       "50333697                 1\n",
       "Name: user_id, Length: 293422, dtype: int64"
      ]
     },
     "execution_count": 12,
     "metadata": {},
     "output_type": "execute_result"
    }
   ],
   "source": [
    "biden_1debate_df.user_id.value_counts()"
   ]
  },
  {
   "cell_type": "code",
   "execution_count": 13,
   "metadata": {},
   "outputs": [
    {
     "data": {
      "text/plain": [
       "293422"
      ]
     },
     "execution_count": 13,
     "metadata": {},
     "output_type": "execute_result"
    }
   ],
   "source": [
    "biden_1debate_df.username.nunique()"
   ]
  },
  {
   "cell_type": "code",
   "execution_count": 14,
   "metadata": {},
   "outputs": [
    {
     "data": {
      "text/plain": [
       "00:00:40    35\n",
       "00:02:28    30\n",
       "00:00:09    29\n",
       "00:15:34    29\n",
       "00:00:03    29\n",
       "            ..\n",
       "02:43:52     1\n",
       "03:29:57     1\n",
       "04:38:34     1\n",
       "02:23:43     1\n",
       "05:43:14     1\n",
       "Name: time, Length: 71387, dtype: int64"
      ]
     },
     "execution_count": 14,
     "metadata": {},
     "output_type": "execute_result"
    }
   ],
   "source": [
    "tweet_time = biden_1debate_df.time.value_counts()\n",
    "tweet_time"
   ]
  },
  {
   "cell_type": "code",
   "execution_count": 15,
   "metadata": {},
   "outputs": [],
   "source": [
    "biden_1debate_df[\"hour\"]=pd.to_datetime(biden_1debate_df['time'], format='%H:%M:%S').dt.hour"
   ]
  },
  {
   "cell_type": "code",
   "execution_count": 16,
   "metadata": {},
   "outputs": [],
   "source": [
    "hours=biden_1debate_df.hour.value_counts()"
   ]
  },
  {
   "cell_type": "code",
   "execution_count": 17,
   "metadata": {},
   "outputs": [
    {
     "data": {
      "text/plain": [
       "RangeIndex(start=0, stop=536260, step=1)"
      ]
     },
     "execution_count": 17,
     "metadata": {},
     "output_type": "execute_result"
    }
   ],
   "source": [
    "biden_1debate_df.hour.index"
   ]
  },
  {
   "cell_type": "code",
   "execution_count": 18,
   "metadata": {},
   "outputs": [
    {
     "data": {
      "text/plain": [
       "<matplotlib.axes._subplots.AxesSubplot at 0x1b903ae3508>"
      ]
     },
     "execution_count": 18,
     "metadata": {},
     "output_type": "execute_result"
    },
    {
     "data": {
      "image/png": "[encoded data removed]",
      "text/plain": [
       "<Figure size 432x288 with 1 Axes>"
      ]
     },
     "metadata": {
      "needs_background": "light"
     },
     "output_type": "display_data"
    }
   ],
   "source": [
    "# Visualize the value counts\n",
    "tweet_time.plot.density()"
   ]
  },
  {
   "cell_type": "code",
   "execution_count": 19,
   "metadata": {},
   "outputs": [
    {
     "data": {
      "text/plain": [
       "Index(['00:00:40', '00:02:28', '00:00:09', '00:15:34', '00:00:03', '00:00:25',\n",
       "       '00:03:47', '00:00:59', '00:03:57', '00:00:00',\n",
       "       ...\n",
       "       '05:30:48', '02:27:11', '04:05:20', '03:13:30', '04:02:40', '02:43:52',\n",
       "       '03:29:57', '04:38:34', '02:23:43', '05:43:14'],\n",
       "      dtype='object', length=71387)"
      ]
     },
     "execution_count": 19,
     "metadata": {},
     "output_type": "execute_result"
    }
   ],
   "source": [
    "tweet_time.index"
   ]
  },
  {
   "cell_type": "code",
   "execution_count": 20,
   "metadata": {},
   "outputs": [
    {
     "data": {
      "text/plain": [
       "array([35, 30, 29, ...,  1,  1,  1], dtype=int64)"
      ]
     },
     "execution_count": 20,
     "metadata": {},
     "output_type": "execute_result"
    }
   ],
   "source": [
    "tweet_time.values"
   ]
  },
  {
   "cell_type": "code",
   "execution_count": 21,
   "metadata": {},
   "outputs": [
    {
     "data": {
      "text/plain": [
       "0     49336\n",
       "11    35283\n",
       "10    34615\n",
       "12    34242\n",
       "9     33543\n",
       "8     32621\n",
       "13    31812\n",
       "14    30712\n",
       "1     29118\n",
       "17    27983\n",
       "18    27703\n",
       "15    26429\n",
       "16    26402\n",
       "19    25259\n",
       "7     22889\n",
       "2     18565\n",
       "6     14701\n",
       "3     13197\n",
       "5     11240\n",
       "4     10610\n",
       "Name: hour, dtype: int64"
      ]
     },
     "execution_count": 21,
     "metadata": {},
     "output_type": "execute_result"
    }
   ],
   "source": [
    "hours"
   ]
  },
  {
   "cell_type": "code",
   "execution_count": 22,
   "metadata": {},
   "outputs": [],
   "source": [
    "hours.sort_index(ascending=True, inplace=True)"
   ]
  },
  {
   "cell_type": "code",
   "execution_count": 23,
   "metadata": {},
   "outputs": [
    {
     "data": {
      "text/plain": [
       "0     49336\n",
       "1     29118\n",
       "2     18565\n",
       "3     13197\n",
       "4     10610\n",
       "5     11240\n",
       "6     14701\n",
       "7     22889\n",
       "8     32621\n",
       "9     33543\n",
       "10    34615\n",
       "11    35283\n",
       "12    34242\n",
       "13    31812\n",
       "14    30712\n",
       "15    26429\n",
       "16    26402\n",
       "17    27983\n",
       "18    27703\n",
       "19    25259\n",
       "Name: hour, dtype: int64"
      ]
     },
     "execution_count": 23,
     "metadata": {},
     "output_type": "execute_result"
    }
   ],
   "source": [
    "hours"
   ]
  },
  {
   "cell_type": "code",
   "execution_count": 24,
   "metadata": {},
   "outputs": [
    {
     "data": {
      "text/plain": [
       "<matplotlib.axes._subplots.AxesSubplot at 0x1b904c911c8>"
      ]
     },
     "execution_count": 24,
     "metadata": {},
     "output_type": "execute_result"
    },
    {
     "data": {
      "image/png": "[encoded data removed]",
      "text/plain": [
       "<Figure size 432x288 with 1 Axes>"
      ]
     },
     "metadata": {
      "needs_background": "light"
     },
     "output_type": "display_data"
    }
   ],
   "source": [
    "hours.plot()"
   ]
  },
  {
   "cell_type": "code",
   "execution_count": null,
   "metadata": {},
   "outputs": [],
   "source": []
  }
 ],
 "metadata": {
  "kernelspec": {
   "display_name": "PythonData",
   "language": "python",
   "name": "pythondata"
  },
  "language_info": {
   "codemirror_mode": {
    "name": "ipython",
    "version": 3
   },
   "file_extension": ".py",
   "mimetype": "text/x-python",
   "name": "python",
   "nbconvert_exporter": "python",
   "pygments_lexer": "ipython3",
   "version": "3.7.7"
  }
 },
 "nbformat": 4,
 "nbformat_minor": 4
}
