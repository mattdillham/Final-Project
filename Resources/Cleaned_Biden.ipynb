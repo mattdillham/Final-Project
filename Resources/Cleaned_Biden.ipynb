{
 "cells": [
  {
   "cell_type": "code",
   "execution_count": 1,
   "metadata": {},
   "outputs": [
    {
     "name": "stderr",
     "output_type": "stream",
     "text": [
      "C:\\Users\\mattd\\anaconda3\\envs\\PythonData\\lib\\site-packages\\tensorflow\\python\\framework\\dtypes.py:516: FutureWarning: Passing (type, 1) or '1type' as a synonym of type is deprecated; in a future version of numpy, it will be understood as (type, (1,)) / '(1,)type'.\n",
      "  _np_qint8 = np.dtype([(\"qint8\", np.int8, 1)])\n",
      "C:\\Users\\mattd\\anaconda3\\envs\\PythonData\\lib\\site-packages\\tensorflow\\python\\framework\\dtypes.py:517: FutureWarning: Passing (type, 1) or '1type' as a synonym of type is deprecated; in a future version of numpy, it will be understood as (type, (1,)) / '(1,)type'.\n",
      "  _np_quint8 = np.dtype([(\"quint8\", np.uint8, 1)])\n",
      "C:\\Users\\mattd\\anaconda3\\envs\\PythonData\\lib\\site-packages\\tensorflow\\python\\framework\\dtypes.py:518: FutureWarning: Passing (type, 1) or '1type' as a synonym of type is deprecated; in a future version of numpy, it will be understood as (type, (1,)) / '(1,)type'.\n",
      "  _np_qint16 = np.dtype([(\"qint16\", np.int16, 1)])\n",
      "C:\\Users\\mattd\\anaconda3\\envs\\PythonData\\lib\\site-packages\\tensorflow\\python\\framework\\dtypes.py:519: FutureWarning: Passing (type, 1) or '1type' as a synonym of type is deprecated; in a future version of numpy, it will be understood as (type, (1,)) / '(1,)type'.\n",
      "  _np_quint16 = np.dtype([(\"quint16\", np.uint16, 1)])\n",
      "C:\\Users\\mattd\\anaconda3\\envs\\PythonData\\lib\\site-packages\\tensorflow\\python\\framework\\dtypes.py:520: FutureWarning: Passing (type, 1) or '1type' as a synonym of type is deprecated; in a future version of numpy, it will be understood as (type, (1,)) / '(1,)type'.\n",
      "  _np_qint32 = np.dtype([(\"qint32\", np.int32, 1)])\n",
      "C:\\Users\\mattd\\anaconda3\\envs\\PythonData\\lib\\site-packages\\tensorflow\\python\\framework\\dtypes.py:525: FutureWarning: Passing (type, 1) or '1type' as a synonym of type is deprecated; in a future version of numpy, it will be understood as (type, (1,)) / '(1,)type'.\n",
      "  np_resource = np.dtype([(\"resource\", np.ubyte, 1)])\n",
      "C:\\Users\\mattd\\anaconda3\\envs\\PythonData\\lib\\site-packages\\tensorboard\\compat\\tensorflow_stub\\dtypes.py:541: FutureWarning: Passing (type, 1) or '1type' as a synonym of type is deprecated; in a future version of numpy, it will be understood as (type, (1,)) / '(1,)type'.\n",
      "  _np_qint8 = np.dtype([(\"qint8\", np.int8, 1)])\n",
      "C:\\Users\\mattd\\anaconda3\\envs\\PythonData\\lib\\site-packages\\tensorboard\\compat\\tensorflow_stub\\dtypes.py:542: FutureWarning: Passing (type, 1) or '1type' as a synonym of type is deprecated; in a future version of numpy, it will be understood as (type, (1,)) / '(1,)type'.\n",
      "  _np_quint8 = np.dtype([(\"quint8\", np.uint8, 1)])\n",
      "C:\\Users\\mattd\\anaconda3\\envs\\PythonData\\lib\\site-packages\\tensorboard\\compat\\tensorflow_stub\\dtypes.py:543: FutureWarning: Passing (type, 1) or '1type' as a synonym of type is deprecated; in a future version of numpy, it will be understood as (type, (1,)) / '(1,)type'.\n",
      "  _np_qint16 = np.dtype([(\"qint16\", np.int16, 1)])\n",
      "C:\\Users\\mattd\\anaconda3\\envs\\PythonData\\lib\\site-packages\\tensorboard\\compat\\tensorflow_stub\\dtypes.py:544: FutureWarning: Passing (type, 1) or '1type' as a synonym of type is deprecated; in a future version of numpy, it will be understood as (type, (1,)) / '(1,)type'.\n",
      "  _np_quint16 = np.dtype([(\"quint16\", np.uint16, 1)])\n",
      "C:\\Users\\mattd\\anaconda3\\envs\\PythonData\\lib\\site-packages\\tensorboard\\compat\\tensorflow_stub\\dtypes.py:545: FutureWarning: Passing (type, 1) or '1type' as a synonym of type is deprecated; in a future version of numpy, it will be understood as (type, (1,)) / '(1,)type'.\n",
      "  _np_qint32 = np.dtype([(\"qint32\", np.int32, 1)])\n",
      "C:\\Users\\mattd\\anaconda3\\envs\\PythonData\\lib\\site-packages\\tensorboard\\compat\\tensorflow_stub\\dtypes.py:550: FutureWarning: Passing (type, 1) or '1type' as a synonym of type is deprecated; in a future version of numpy, it will be understood as (type, (1,)) / '(1,)type'.\n",
      "  np_resource = np.dtype([(\"resource\", np.ubyte, 1)])\n"
     ]
    }
   ],
   "source": [
    "# Import our dependencies\n",
    "from sklearn.model_selection import train_test_split\n",
    "from sklearn.preprocessing import StandardScaler\n",
    "from sklearn.ensemble import RandomForestClassifier\n",
    "from sklearn.metrics import accuracy_score\n",
    "from sklearn.preprocessing import OneHotEncoder\n",
    "import pandas as pd\n",
    "import tensorflow as tf\n",
    "import sklearn as skl\n",
    "import datetime as dt"
   ]
  },
  {
   "cell_type": "code",
   "execution_count": 2,
   "metadata": {},
   "outputs": [
    {
     "name": "stderr",
     "output_type": "stream",
     "text": [
      "C:\\Users\\mattd\\anaconda3\\envs\\PythonData\\lib\\site-packages\\IPython\\core\\interactiveshell.py:3063: DtypeWarning: Columns (9) have mixed types.Specify dtype option on import or set low_memory=False.\n",
      "  interactivity=interactivity, compiler=compiler, result=result)\n"
     ]
    }
   ],
   "source": [
    "biden_df = pd.read_csv(\"biden1_2020.csv\")"
   ]
  },
  {
   "cell_type": "code",
   "execution_count": 3,
   "metadata": {},
   "outputs": [
    {
     "data": {
      "text/html": [
       "<div>\n",
       "<style scoped>\n",
       "    .dataframe tbody tr th:only-of-type {\n",
       "        vertical-align: middle;\n",
       "    }\n",
       "\n",
       "    .dataframe tbody tr th {\n",
       "        vertical-align: top;\n",
       "    }\n",
       "\n",
       "    .dataframe thead th {\n",
       "        text-align: right;\n",
       "    }\n",
       "</style>\n",
       "<table border=\"1\" class=\"dataframe\">\n",
       "  <thead>\n",
       "    <tr style=\"text-align: right;\">\n",
       "      <th></th>\n",
       "      <th>id</th>\n",
       "      <th>conversation_id</th>\n",
       "      <th>created_at</th>\n",
       "      <th>date</th>\n",
       "      <th>time</th>\n",
       "      <th>timezone</th>\n",
       "      <th>user_id</th>\n",
       "      <th>username</th>\n",
       "      <th>name</th>\n",
       "      <th>place</th>\n",
       "      <th>...</th>\n",
       "      <th>geo</th>\n",
       "      <th>source</th>\n",
       "      <th>user_rt_id</th>\n",
       "      <th>user_rt</th>\n",
       "      <th>retweet_id</th>\n",
       "      <th>reply_to</th>\n",
       "      <th>retweet_date</th>\n",
       "      <th>translate</th>\n",
       "      <th>trans_src</th>\n",
       "      <th>trans_dest</th>\n",
       "    </tr>\n",
       "  </thead>\n",
       "  <tbody>\n",
       "    <tr>\n",
       "      <th>0</th>\n",
       "      <td>1312905335737257984</td>\n",
       "      <td>1312831100914405379</td>\n",
       "      <td>2020-10-04 19:59:59 Eastern Daylight Time</td>\n",
       "      <td>2020-10-04</td>\n",
       "      <td>19:59:59</td>\n",
       "      <td>-400</td>\n",
       "      <td>1301748230015692800</td>\n",
       "      <td>stevese03250566</td>\n",
       "      <td>steve sellers</td>\n",
       "      <td>NaN</td>\n",
       "      <td>...</td>\n",
       "      <td>NaN</td>\n",
       "      <td>NaN</td>\n",
       "      <td>NaN</td>\n",
       "      <td>NaN</td>\n",
       "      <td>NaN</td>\n",
       "      <td>{'user_id': '939091', 'username': 'JoeBiden'}</td>\n",
       "      <td>NaN</td>\n",
       "      <td>NaN</td>\n",
       "      <td>NaN</td>\n",
       "      <td>NaN</td>\n",
       "    </tr>\n",
       "    <tr>\n",
       "      <th>1</th>\n",
       "      <td>1312905335602999296</td>\n",
       "      <td>1312905335602999296</td>\n",
       "      <td>2020-10-04 19:59:59 Eastern Daylight Time</td>\n",
       "      <td>2020-10-04</td>\n",
       "      <td>19:59:59</td>\n",
       "      <td>-400</td>\n",
       "      <td>700550947</td>\n",
       "      <td>helster_62</td>\n",
       "      <td>Helen Zuniga</td>\n",
       "      <td>NaN</td>\n",
       "      <td>...</td>\n",
       "      <td>NaN</td>\n",
       "      <td>NaN</td>\n",
       "      <td>NaN</td>\n",
       "      <td>NaN</td>\n",
       "      <td>NaN</td>\n",
       "      <td>{'user_id': '939091', 'username': 'JoeBiden'}</td>\n",
       "      <td>NaN</td>\n",
       "      <td>NaN</td>\n",
       "      <td>NaN</td>\n",
       "      <td>NaN</td>\n",
       "    </tr>\n",
       "    <tr>\n",
       "      <th>2</th>\n",
       "      <td>1312905332461633536</td>\n",
       "      <td>1312875881568763904</td>\n",
       "      <td>2020-10-04 19:59:58 Eastern Daylight Time</td>\n",
       "      <td>2020-10-04</td>\n",
       "      <td>19:59:58</td>\n",
       "      <td>-400</td>\n",
       "      <td>784027235627962368</td>\n",
       "      <td>citizenthegame</td>\n",
       "      <td>citizenthegame</td>\n",
       "      <td>NaN</td>\n",
       "      <td>...</td>\n",
       "      <td>NaN</td>\n",
       "      <td>NaN</td>\n",
       "      <td>NaN</td>\n",
       "      <td>NaN</td>\n",
       "      <td>NaN</td>\n",
       "      <td>{'user_id': '15576928', 'username': 'goldengat...</td>\n",
       "      <td>NaN</td>\n",
       "      <td>NaN</td>\n",
       "      <td>NaN</td>\n",
       "      <td>NaN</td>\n",
       "    </tr>\n",
       "    <tr>\n",
       "      <th>3</th>\n",
       "      <td>1312905332319031297</td>\n",
       "      <td>1312905332319031297</td>\n",
       "      <td>2020-10-04 19:59:58 Eastern Daylight Time</td>\n",
       "      <td>2020-10-04</td>\n",
       "      <td>19:59:58</td>\n",
       "      <td>-400</td>\n",
       "      <td>14511397</td>\n",
       "      <td>cingroomer</td>\n",
       "      <td>Cindy Ballard</td>\n",
       "      <td>NaN</td>\n",
       "      <td>...</td>\n",
       "      <td>NaN</td>\n",
       "      <td>NaN</td>\n",
       "      <td>NaN</td>\n",
       "      <td>NaN</td>\n",
       "      <td>NaN</td>\n",
       "      <td>{'user_id': None, 'username': None}</td>\n",
       "      <td>NaN</td>\n",
       "      <td>NaN</td>\n",
       "      <td>NaN</td>\n",
       "      <td>NaN</td>\n",
       "    </tr>\n",
       "    <tr>\n",
       "      <th>4</th>\n",
       "      <td>1312905329252864000</td>\n",
       "      <td>1312755702113472515</td>\n",
       "      <td>2020-10-04 19:59:57 Eastern Daylight Time</td>\n",
       "      <td>2020-10-04</td>\n",
       "      <td>19:59:57</td>\n",
       "      <td>-400</td>\n",
       "      <td>1344901682</td>\n",
       "      <td>rebeccabguinn</td>\n",
       "      <td>Rebecca B Guinn</td>\n",
       "      <td>NaN</td>\n",
       "      <td>...</td>\n",
       "      <td>NaN</td>\n",
       "      <td>NaN</td>\n",
       "      <td>NaN</td>\n",
       "      <td>NaN</td>\n",
       "      <td>NaN</td>\n",
       "      <td>{'user_id': '1301577497042186241', 'username':...</td>\n",
       "      <td>NaN</td>\n",
       "      <td>NaN</td>\n",
       "      <td>NaN</td>\n",
       "      <td>NaN</td>\n",
       "    </tr>\n",
       "  </tbody>\n",
       "</table>\n",
       "<p>5 rows × 36 columns</p>\n",
       "</div>"
      ],
      "text/plain": [
       "                    id      conversation_id  \\\n",
       "0  1312905335737257984  1312831100914405379   \n",
       "1  1312905335602999296  1312905335602999296   \n",
       "2  1312905332461633536  1312875881568763904   \n",
       "3  1312905332319031297  1312905332319031297   \n",
       "4  1312905329252864000  1312755702113472515   \n",
       "\n",
       "                                  created_at        date      time  timezone  \\\n",
       "0  2020-10-04 19:59:59 Eastern Daylight Time  2020-10-04  19:59:59      -400   \n",
       "1  2020-10-04 19:59:59 Eastern Daylight Time  2020-10-04  19:59:59      -400   \n",
       "2  2020-10-04 19:59:58 Eastern Daylight Time  2020-10-04  19:59:58      -400   \n",
       "3  2020-10-04 19:59:58 Eastern Daylight Time  2020-10-04  19:59:58      -400   \n",
       "4  2020-10-04 19:59:57 Eastern Daylight Time  2020-10-04  19:59:57      -400   \n",
       "\n",
       "               user_id         username             name place  ... geo  \\\n",
       "0  1301748230015692800  stevese03250566    steve sellers   NaN  ... NaN   \n",
       "1            700550947       helster_62     Helen Zuniga   NaN  ... NaN   \n",
       "2   784027235627962368   citizenthegame   citizenthegame   NaN  ... NaN   \n",
       "3             14511397       cingroomer    Cindy Ballard   NaN  ... NaN   \n",
       "4           1344901682    rebeccabguinn  Rebecca B Guinn   NaN  ... NaN   \n",
       "\n",
       "  source user_rt_id user_rt retweet_id  \\\n",
       "0    NaN        NaN     NaN        NaN   \n",
       "1    NaN        NaN     NaN        NaN   \n",
       "2    NaN        NaN     NaN        NaN   \n",
       "3    NaN        NaN     NaN        NaN   \n",
       "4    NaN        NaN     NaN        NaN   \n",
       "\n",
       "                                            reply_to  retweet_date  translate  \\\n",
       "0      {'user_id': '939091', 'username': 'JoeBiden'}           NaN        NaN   \n",
       "1      {'user_id': '939091', 'username': 'JoeBiden'}           NaN        NaN   \n",
       "2  {'user_id': '15576928', 'username': 'goldengat...           NaN        NaN   \n",
       "3                {'user_id': None, 'username': None}           NaN        NaN   \n",
       "4  {'user_id': '1301577497042186241', 'username':...           NaN        NaN   \n",
       "\n",
       "  trans_src trans_dest  \n",
       "0       NaN        NaN  \n",
       "1       NaN        NaN  \n",
       "2       NaN        NaN  \n",
       "3       NaN        NaN  \n",
       "4       NaN        NaN  \n",
       "\n",
       "[5 rows x 36 columns]"
      ]
     },
     "execution_count": 3,
     "metadata": {},
     "output_type": "execute_result"
    }
   ],
   "source": [
    "biden_df.head(5)"
   ]
  },
  {
   "cell_type": "code",
   "execution_count": 4,
   "metadata": {},
   "outputs": [
    {
     "data": {
      "text/plain": [
       "id                   int64\n",
       "conversation_id      int64\n",
       "created_at          object\n",
       "date                object\n",
       "time                object\n",
       "timezone             int64\n",
       "user_id              int64\n",
       "username            object\n",
       "name                object\n",
       "place               object\n",
       "tweet               object\n",
       "language            object\n",
       "mentions            object\n",
       "urls                object\n",
       "photos              object\n",
       "replies_count        int64\n",
       "retweets_count       int64\n",
       "likes_count          int64\n",
       "hashtags            object\n",
       "cashtags            object\n",
       "link                object\n",
       "retweet            float64\n",
       "quote_url           object\n",
       "video                int64\n",
       "thumbnail           object\n",
       "near               float64\n",
       "geo                float64\n",
       "source             float64\n",
       "user_rt_id         float64\n",
       "user_rt            float64\n",
       "retweet_id         float64\n",
       "reply_to            object\n",
       "retweet_date       float64\n",
       "translate          float64\n",
       "trans_src          float64\n",
       "trans_dest         float64\n",
       "dtype: object"
      ]
     },
     "execution_count": 4,
     "metadata": {},
     "output_type": "execute_result"
    }
   ],
   "source": [
    "biden_df.dtypes"
   ]
  },
  {
   "cell_type": "code",
   "execution_count": 5,
   "metadata": {
    "scrolled": true
   },
   "outputs": [
    {
     "data": {
      "text/plain": [
       "id                      0\n",
       "conversation_id         0\n",
       "created_at              0\n",
       "date                    0\n",
       "time                    0\n",
       "timezone                0\n",
       "user_id                 0\n",
       "username                0\n",
       "name                   12\n",
       "place              169248\n",
       "tweet                   0\n",
       "language                0\n",
       "mentions                0\n",
       "urls                    0\n",
       "photos                  0\n",
       "replies_count           0\n",
       "retweets_count          0\n",
       "likes_count             0\n",
       "hashtags                0\n",
       "cashtags                0\n",
       "link                    0\n",
       "retweet            169268\n",
       "quote_url          152886\n",
       "video                   0\n",
       "thumbnail          150076\n",
       "near               169268\n",
       "geo                169268\n",
       "source             169268\n",
       "user_rt_id         169268\n",
       "user_rt            169268\n",
       "retweet_id         169268\n",
       "reply_to                0\n",
       "retweet_date       169268\n",
       "translate          169268\n",
       "trans_src          169268\n",
       "trans_dest         169268\n",
       "dtype: int64"
      ]
     },
     "execution_count": 5,
     "metadata": {},
     "output_type": "execute_result"
    }
   ],
   "source": [
    "biden_df.isnull().sum(axis = 0)"
   ]
  },
  {
   "cell_type": "code",
   "execution_count": 6,
   "metadata": {},
   "outputs": [
    {
     "data": {
      "text/plain": [
       "Series([], Name: retweet, dtype: int64)"
      ]
     },
     "execution_count": 6,
     "metadata": {},
     "output_type": "execute_result"
    }
   ],
   "source": [
    "biden_df.retweet.value_counts()"
   ]
  },
  {
   "cell_type": "code",
   "execution_count": 7,
   "metadata": {},
   "outputs": [
    {
     "data": {
      "text/plain": [
       "(169268, 36)"
      ]
     },
     "execution_count": 7,
     "metadata": {},
     "output_type": "execute_result"
    }
   ],
   "source": [
    "biden_df.shape"
   ]
  },
  {
   "cell_type": "code",
   "execution_count": 8,
   "metadata": {},
   "outputs": [],
   "source": [
    "#columns to drop[]"
   ]
  },
  {
   "cell_type": "code",
   "execution_count": 9,
   "metadata": {},
   "outputs": [],
   "source": [
    "columns = [\"place\", \"retweet\", \"quote_url\", \"near\", \"geo\", \"source\", \"user_rt_id\", \"user_rt\", \"retweet_date\", \"retweet_id\", \"translate\", \"trans_src\", \"trans_dest\"]"
   ]
  },
  {
   "cell_type": "code",
   "execution_count": 10,
   "metadata": {},
   "outputs": [],
   "source": [
    "biden_df.drop(columns, axis=1, inplace=True)"
   ]
  },
  {
   "cell_type": "code",
   "execution_count": 11,
   "metadata": {},
   "outputs": [
    {
     "data": {
      "text/html": [
       "<div>\n",
       "<style scoped>\n",
       "    .dataframe tbody tr th:only-of-type {\n",
       "        vertical-align: middle;\n",
       "    }\n",
       "\n",
       "    .dataframe tbody tr th {\n",
       "        vertical-align: top;\n",
       "    }\n",
       "\n",
       "    .dataframe thead th {\n",
       "        text-align: right;\n",
       "    }\n",
       "</style>\n",
       "<table border=\"1\" class=\"dataframe\">\n",
       "  <thead>\n",
       "    <tr style=\"text-align: right;\">\n",
       "      <th></th>\n",
       "      <th>id</th>\n",
       "      <th>conversation_id</th>\n",
       "      <th>created_at</th>\n",
       "      <th>date</th>\n",
       "      <th>time</th>\n",
       "      <th>timezone</th>\n",
       "      <th>user_id</th>\n",
       "      <th>username</th>\n",
       "      <th>name</th>\n",
       "      <th>tweet</th>\n",
       "      <th>...</th>\n",
       "      <th>photos</th>\n",
       "      <th>replies_count</th>\n",
       "      <th>retweets_count</th>\n",
       "      <th>likes_count</th>\n",
       "      <th>hashtags</th>\n",
       "      <th>cashtags</th>\n",
       "      <th>link</th>\n",
       "      <th>video</th>\n",
       "      <th>thumbnail</th>\n",
       "      <th>reply_to</th>\n",
       "    </tr>\n",
       "  </thead>\n",
       "  <tbody>\n",
       "    <tr>\n",
       "      <th>0</th>\n",
       "      <td>1312905335737257984</td>\n",
       "      <td>1312831100914405379</td>\n",
       "      <td>2020-10-04 19:59:59 Eastern Daylight Time</td>\n",
       "      <td>2020-10-04</td>\n",
       "      <td>19:59:59</td>\n",
       "      <td>-400</td>\n",
       "      <td>1301748230015692800</td>\n",
       "      <td>stevese03250566</td>\n",
       "      <td>steve sellers</td>\n",
       "      <td>@JoeBiden Well said! I personally hope that if...</td>\n",
       "      <td>...</td>\n",
       "      <td>[]</td>\n",
       "      <td>0</td>\n",
       "      <td>0</td>\n",
       "      <td>0</td>\n",
       "      <td>[]</td>\n",
       "      <td>[]</td>\n",
       "      <td>https://twitter.com/stevese03250566/status/131...</td>\n",
       "      <td>0</td>\n",
       "      <td>NaN</td>\n",
       "      <td>{'user_id': '939091', 'username': 'JoeBiden'}</td>\n",
       "    </tr>\n",
       "    <tr>\n",
       "      <th>1</th>\n",
       "      <td>1312905335602999296</td>\n",
       "      <td>1312905335602999296</td>\n",
       "      <td>2020-10-04 19:59:59 Eastern Daylight Time</td>\n",
       "      <td>2020-10-04</td>\n",
       "      <td>19:59:59</td>\n",
       "      <td>-400</td>\n",
       "      <td>700550947</td>\n",
       "      <td>helster_62</td>\n",
       "      <td>Helen Zuniga</td>\n",
       "      <td>@JoeBiden @KamalaHarris Time to step it up! Ki...</td>\n",
       "      <td>...</td>\n",
       "      <td>[]</td>\n",
       "      <td>0</td>\n",
       "      <td>0</td>\n",
       "      <td>0</td>\n",
       "      <td>['bidenharris2020tosaveamerica']</td>\n",
       "      <td>[]</td>\n",
       "      <td>https://twitter.com/helster_62/status/13129053...</td>\n",
       "      <td>0</td>\n",
       "      <td>NaN</td>\n",
       "      <td>{'user_id': '939091', 'username': 'JoeBiden'}</td>\n",
       "    </tr>\n",
       "    <tr>\n",
       "      <th>2</th>\n",
       "      <td>1312905332461633536</td>\n",
       "      <td>1312875881568763904</td>\n",
       "      <td>2020-10-04 19:59:58 Eastern Daylight Time</td>\n",
       "      <td>2020-10-04</td>\n",
       "      <td>19:59:58</td>\n",
       "      <td>-400</td>\n",
       "      <td>784027235627962368</td>\n",
       "      <td>citizenthegame</td>\n",
       "      <td>citizenthegame</td>\n",
       "      <td>@goldengateblond @Marianne_Mallet @JoeBiden Wh...</td>\n",
       "      <td>...</td>\n",
       "      <td>[]</td>\n",
       "      <td>0</td>\n",
       "      <td>0</td>\n",
       "      <td>1</td>\n",
       "      <td>[]</td>\n",
       "      <td>[]</td>\n",
       "      <td>https://twitter.com/citizenthegame/status/1312...</td>\n",
       "      <td>0</td>\n",
       "      <td>NaN</td>\n",
       "      <td>{'user_id': '15576928', 'username': 'goldengat...</td>\n",
       "    </tr>\n",
       "    <tr>\n",
       "      <th>3</th>\n",
       "      <td>1312905332319031297</td>\n",
       "      <td>1312905332319031297</td>\n",
       "      <td>2020-10-04 19:59:58 Eastern Daylight Time</td>\n",
       "      <td>2020-10-04</td>\n",
       "      <td>19:59:58</td>\n",
       "      <td>-400</td>\n",
       "      <td>14511397</td>\n",
       "      <td>cingroomer</td>\n",
       "      <td>Cindy Ballard</td>\n",
       "      <td>Come on @JoeBiden if you want our support you ...</td>\n",
       "      <td>...</td>\n",
       "      <td>[]</td>\n",
       "      <td>0</td>\n",
       "      <td>0</td>\n",
       "      <td>0</td>\n",
       "      <td>[]</td>\n",
       "      <td>[]</td>\n",
       "      <td>https://twitter.com/cingroomer/status/13129053...</td>\n",
       "      <td>0</td>\n",
       "      <td>NaN</td>\n",
       "      <td>{'user_id': None, 'username': None}</td>\n",
       "    </tr>\n",
       "    <tr>\n",
       "      <th>4</th>\n",
       "      <td>1312905329252864000</td>\n",
       "      <td>1312755702113472515</td>\n",
       "      <td>2020-10-04 19:59:57 Eastern Daylight Time</td>\n",
       "      <td>2020-10-04</td>\n",
       "      <td>19:59:57</td>\n",
       "      <td>-400</td>\n",
       "      <td>1344901682</td>\n",
       "      <td>rebeccabguinn</td>\n",
       "      <td>Rebecca B Guinn</td>\n",
       "      <td>@realPaulMay @ridinwitbiden46 @JoeBiden https:...</td>\n",
       "      <td>...</td>\n",
       "      <td>['https://pbs.twimg.com/tweet_video_thumb/Ejhg...</td>\n",
       "      <td>0</td>\n",
       "      <td>0</td>\n",
       "      <td>0</td>\n",
       "      <td>[]</td>\n",
       "      <td>[]</td>\n",
       "      <td>https://twitter.com/rebeccabguinn/status/13129...</td>\n",
       "      <td>1</td>\n",
       "      <td>https://pbs.twimg.com/tweet_video_thumb/Ejhgbj...</td>\n",
       "      <td>{'user_id': '1301577497042186241', 'username':...</td>\n",
       "    </tr>\n",
       "  </tbody>\n",
       "</table>\n",
       "<p>5 rows × 23 columns</p>\n",
       "</div>"
      ],
      "text/plain": [
       "                    id      conversation_id  \\\n",
       "0  1312905335737257984  1312831100914405379   \n",
       "1  1312905335602999296  1312905335602999296   \n",
       "2  1312905332461633536  1312875881568763904   \n",
       "3  1312905332319031297  1312905332319031297   \n",
       "4  1312905329252864000  1312755702113472515   \n",
       "\n",
       "                                  created_at        date      time  timezone  \\\n",
       "0  2020-10-04 19:59:59 Eastern Daylight Time  2020-10-04  19:59:59      -400   \n",
       "1  2020-10-04 19:59:59 Eastern Daylight Time  2020-10-04  19:59:59      -400   \n",
       "2  2020-10-04 19:59:58 Eastern Daylight Time  2020-10-04  19:59:58      -400   \n",
       "3  2020-10-04 19:59:58 Eastern Daylight Time  2020-10-04  19:59:58      -400   \n",
       "4  2020-10-04 19:59:57 Eastern Daylight Time  2020-10-04  19:59:57      -400   \n",
       "\n",
       "               user_id         username             name  \\\n",
       "0  1301748230015692800  stevese03250566    steve sellers   \n",
       "1            700550947       helster_62     Helen Zuniga   \n",
       "2   784027235627962368   citizenthegame   citizenthegame   \n",
       "3             14511397       cingroomer    Cindy Ballard   \n",
       "4           1344901682    rebeccabguinn  Rebecca B Guinn   \n",
       "\n",
       "                                               tweet  ...  \\\n",
       "0  @JoeBiden Well said! I personally hope that if...  ...   \n",
       "1  @JoeBiden @KamalaHarris Time to step it up! Ki...  ...   \n",
       "2  @goldengateblond @Marianne_Mallet @JoeBiden Wh...  ...   \n",
       "3  Come on @JoeBiden if you want our support you ...  ...   \n",
       "4  @realPaulMay @ridinwitbiden46 @JoeBiden https:...  ...   \n",
       "\n",
       "                                              photos replies_count  \\\n",
       "0                                                 []             0   \n",
       "1                                                 []             0   \n",
       "2                                                 []             0   \n",
       "3                                                 []             0   \n",
       "4  ['https://pbs.twimg.com/tweet_video_thumb/Ejhg...             0   \n",
       "\n",
       "  retweets_count likes_count                          hashtags  cashtags  \\\n",
       "0              0           0                                []        []   \n",
       "1              0           0  ['bidenharris2020tosaveamerica']        []   \n",
       "2              0           1                                []        []   \n",
       "3              0           0                                []        []   \n",
       "4              0           0                                []        []   \n",
       "\n",
       "                                                link video  \\\n",
       "0  https://twitter.com/stevese03250566/status/131...     0   \n",
       "1  https://twitter.com/helster_62/status/13129053...     0   \n",
       "2  https://twitter.com/citizenthegame/status/1312...     0   \n",
       "3  https://twitter.com/cingroomer/status/13129053...     0   \n",
       "4  https://twitter.com/rebeccabguinn/status/13129...     1   \n",
       "\n",
       "                                           thumbnail  \\\n",
       "0                                                NaN   \n",
       "1                                                NaN   \n",
       "2                                                NaN   \n",
       "3                                                NaN   \n",
       "4  https://pbs.twimg.com/tweet_video_thumb/Ejhgbj...   \n",
       "\n",
       "                                            reply_to  \n",
       "0      {'user_id': '939091', 'username': 'JoeBiden'}  \n",
       "1      {'user_id': '939091', 'username': 'JoeBiden'}  \n",
       "2  {'user_id': '15576928', 'username': 'goldengat...  \n",
       "3                {'user_id': None, 'username': None}  \n",
       "4  {'user_id': '1301577497042186241', 'username':...  \n",
       "\n",
       "[5 rows x 23 columns]"
      ]
     },
     "execution_count": 11,
     "metadata": {},
     "output_type": "execute_result"
    }
   ],
   "source": [
    "biden_df.head()"
   ]
  },
  {
   "cell_type": "code",
   "execution_count": 12,
   "metadata": {},
   "outputs": [
    {
     "data": {
      "text/plain": [
       "-400    169268\n",
       "Name: timezone, dtype: int64"
      ]
     },
     "execution_count": 12,
     "metadata": {},
     "output_type": "execute_result"
    }
   ],
   "source": [
    "biden_df.timezone.value_counts()"
   ]
  },
  {
   "cell_type": "code",
   "execution_count": 13,
   "metadata": {},
   "outputs": [
    {
     "data": {
      "text/plain": [
       "1552359542             169\n",
       "1149002118440914944    129\n",
       "951225554              112\n",
       "3202270943              99\n",
       "1227030886840971264     90\n",
       "                      ... \n",
       "2528300223               1\n",
       "916834766359547905       1\n",
       "829401696564629519       1\n",
       "486178994                1\n",
       "15736836                 1\n",
       "Name: user_id, Length: 104850, dtype: int64"
      ]
     },
     "execution_count": 13,
     "metadata": {},
     "output_type": "execute_result"
    }
   ],
   "source": [
    "biden_df.user_id.value_counts()"
   ]
  },
  {
   "cell_type": "code",
   "execution_count": 14,
   "metadata": {},
   "outputs": [
    {
     "data": {
      "text/plain": [
       "104851"
      ]
     },
     "execution_count": 14,
     "metadata": {},
     "output_type": "execute_result"
    }
   ],
   "source": [
    "biden_df.username.nunique()"
   ]
  },
  {
   "cell_type": "code",
   "execution_count": 15,
   "metadata": {},
   "outputs": [
    {
     "data": {
      "text/plain": [
       "18:01:55    14\n",
       "18:41:03    13\n",
       "13:23:07    13\n",
       "15:55:19    13\n",
       "18:24:32    13\n",
       "            ..\n",
       "17:43:10     1\n",
       "13:37:36     1\n",
       "02:54:48     1\n",
       "02:51:54     1\n",
       "07:54:54     1\n",
       "Name: time, Length: 58864, dtype: int64"
      ]
     },
     "execution_count": 15,
     "metadata": {},
     "output_type": "execute_result"
    }
   ],
   "source": [
    "tweet_time = biden_df.time.value_counts()\n",
    "tweet_time"
   ]
  },
  {
   "cell_type": "code",
   "execution_count": 16,
   "metadata": {},
   "outputs": [
    {
     "data": {
      "text/plain": [
       "<matplotlib.axes._subplots.AxesSubplot at 0x1f638b97208>"
      ]
     },
     "execution_count": 16,
     "metadata": {},
     "output_type": "execute_result"
    },
    {
     "data": {
      "image/png": "[encoded data removed]",
      "text/plain": [
       "<Figure size 432x288 with 1 Axes>"
      ]
     },
     "metadata": {
      "needs_background": "light"
     },
     "output_type": "display_data"
    }
   ],
   "source": [
    "# Visualize the value counts\n",
    "tweet_time.plot.density()"
   ]
  },
  {
   "cell_type": "code",
   "execution_count": 17,
   "metadata": {},
   "outputs": [],
   "source": [
    "import matplotlib.pyplot as plt\n",
    "import numpy as np"
   ]
  },
  {
   "cell_type": "code",
   "execution_count": 19,
   "metadata": {},
   "outputs": [
    {
     "data": {
      "text/plain": [
       "0        108351\n",
       "1         29019\n",
       "2         10850\n",
       "3          5141\n",
       "4          3080\n",
       "          ...  \n",
       "11056         1\n",
       "7350          1\n",
       "1717          1\n",
       "5815          1\n",
       "9979          1\n",
       "Name: likes_count, Length: 794, dtype: int64"
      ]
     },
     "execution_count": 19,
     "metadata": {},
     "output_type": "execute_result"
    }
   ],
   "source": [
    "likes_count = biden_df.likes_count.value_counts()\n",
    "likes_count"
   ]
  },
  {
   "cell_type": "code",
   "execution_count": 20,
   "metadata": {},
   "outputs": [
    {
     "data": {
      "text/plain": [
       "<matplotlib.axes._subplots.AxesSubplot at 0x1f63af758c8>"
      ]
     },
     "execution_count": 20,
     "metadata": {},
     "output_type": "execute_result"
    },
    {
     "data": {
      "image/png": "[encoded data removed]",
      "text/plain": [
       "<Figure size 432x288 with 1 Axes>"
      ]
     },
     "metadata": {
      "needs_background": "light"
     },
     "output_type": "display_data"
    }
   ],
   "source": [
    "# Visualize the value counts\n",
    "likes_count.plot.density()"
   ]
  },
  {
   "cell_type": "code",
   "execution_count": 22,
   "metadata": {},
   "outputs": [
    {
     "ename": "ValueError",
     "evalue": "x and y must have same first dimension, but have shapes (794,) and (58864,)",
     "output_type": "error",
     "traceback": [
      "\u001b[1;31m---------------------------------------------------------------------------\u001b[0m",
      "\u001b[1;31mValueError\u001b[0m                                Traceback (most recent call last)",
      "\u001b[1;32m<ipython-input-22-63c804815095>\u001b[0m in \u001b[0;36m<module>\u001b[1;34m\u001b[0m\n\u001b[0;32m      1\u001b[0m \u001b[0mfig\u001b[0m\u001b[1;33m,\u001b[0m \u001b[0max\u001b[0m \u001b[1;33m=\u001b[0m \u001b[0mplt\u001b[0m\u001b[1;33m.\u001b[0m\u001b[0msubplots\u001b[0m\u001b[1;33m(\u001b[0m\u001b[1;33m)\u001b[0m\u001b[1;33m\u001b[0m\u001b[1;33m\u001b[0m\u001b[0m\n\u001b[1;32m----> 2\u001b[1;33m \u001b[0max\u001b[0m\u001b[1;33m.\u001b[0m\u001b[0mplot\u001b[0m\u001b[1;33m(\u001b[0m\u001b[0mlikes_count\u001b[0m\u001b[1;33m,\u001b[0m \u001b[0mtweet_time\u001b[0m\u001b[1;33m)\u001b[0m\u001b[1;33m\u001b[0m\u001b[1;33m\u001b[0m\u001b[0m\n\u001b[0m\u001b[0;32m      3\u001b[0m \u001b[0max\u001b[0m\u001b[1;33m.\u001b[0m\u001b[0mset_title\u001b[0m\u001b[1;33m(\u001b[0m\u001b[1;34m'A single plot'\u001b[0m\u001b[1;33m)\u001b[0m\u001b[1;33m\u001b[0m\u001b[1;33m\u001b[0m\u001b[0m\n",
      "\u001b[1;32m~\\anaconda3\\envs\\PythonData\\lib\\site-packages\\matplotlib\\axes\\_axes.py\u001b[0m in \u001b[0;36mplot\u001b[1;34m(self, scalex, scaley, data, *args, **kwargs)\u001b[0m\n\u001b[0;32m   1645\u001b[0m         \"\"\"\n\u001b[0;32m   1646\u001b[0m         \u001b[0mkwargs\u001b[0m \u001b[1;33m=\u001b[0m \u001b[0mcbook\u001b[0m\u001b[1;33m.\u001b[0m\u001b[0mnormalize_kwargs\u001b[0m\u001b[1;33m(\u001b[0m\u001b[0mkwargs\u001b[0m\u001b[1;33m,\u001b[0m \u001b[0mmlines\u001b[0m\u001b[1;33m.\u001b[0m\u001b[0mLine2D\u001b[0m\u001b[1;33m)\u001b[0m\u001b[1;33m\u001b[0m\u001b[1;33m\u001b[0m\u001b[0m\n\u001b[1;32m-> 1647\u001b[1;33m         \u001b[0mlines\u001b[0m \u001b[1;33m=\u001b[0m \u001b[1;33m[\u001b[0m\u001b[1;33m*\u001b[0m\u001b[0mself\u001b[0m\u001b[1;33m.\u001b[0m\u001b[0m_get_lines\u001b[0m\u001b[1;33m(\u001b[0m\u001b[1;33m*\u001b[0m\u001b[0margs\u001b[0m\u001b[1;33m,\u001b[0m \u001b[0mdata\u001b[0m\u001b[1;33m=\u001b[0m\u001b[0mdata\u001b[0m\u001b[1;33m,\u001b[0m \u001b[1;33m**\u001b[0m\u001b[0mkwargs\u001b[0m\u001b[1;33m)\u001b[0m\u001b[1;33m]\u001b[0m\u001b[1;33m\u001b[0m\u001b[1;33m\u001b[0m\u001b[0m\n\u001b[0m\u001b[0;32m   1648\u001b[0m         \u001b[1;32mfor\u001b[0m \u001b[0mline\u001b[0m \u001b[1;32min\u001b[0m \u001b[0mlines\u001b[0m\u001b[1;33m:\u001b[0m\u001b[1;33m\u001b[0m\u001b[1;33m\u001b[0m\u001b[0m\n\u001b[0;32m   1649\u001b[0m             \u001b[0mself\u001b[0m\u001b[1;33m.\u001b[0m\u001b[0madd_line\u001b[0m\u001b[1;33m(\u001b[0m\u001b[0mline\u001b[0m\u001b[1;33m)\u001b[0m\u001b[1;33m\u001b[0m\u001b[1;33m\u001b[0m\u001b[0m\n",
      "\u001b[1;32m~\\anaconda3\\envs\\PythonData\\lib\\site-packages\\matplotlib\\axes\\_base.py\u001b[0m in \u001b[0;36m__call__\u001b[1;34m(self, *args, **kwargs)\u001b[0m\n\u001b[0;32m    214\u001b[0m                 \u001b[0mthis\u001b[0m \u001b[1;33m+=\u001b[0m \u001b[0margs\u001b[0m\u001b[1;33m[\u001b[0m\u001b[1;36m0\u001b[0m\u001b[1;33m]\u001b[0m\u001b[1;33m,\u001b[0m\u001b[1;33m\u001b[0m\u001b[1;33m\u001b[0m\u001b[0m\n\u001b[0;32m    215\u001b[0m                 \u001b[0margs\u001b[0m \u001b[1;33m=\u001b[0m \u001b[0margs\u001b[0m\u001b[1;33m[\u001b[0m\u001b[1;36m1\u001b[0m\u001b[1;33m:\u001b[0m\u001b[1;33m]\u001b[0m\u001b[1;33m\u001b[0m\u001b[1;33m\u001b[0m\u001b[0m\n\u001b[1;32m--> 216\u001b[1;33m             \u001b[1;32myield\u001b[0m \u001b[1;32mfrom\u001b[0m \u001b[0mself\u001b[0m\u001b[1;33m.\u001b[0m\u001b[0m_plot_args\u001b[0m\u001b[1;33m(\u001b[0m\u001b[0mthis\u001b[0m\u001b[1;33m,\u001b[0m \u001b[0mkwargs\u001b[0m\u001b[1;33m)\u001b[0m\u001b[1;33m\u001b[0m\u001b[1;33m\u001b[0m\u001b[0m\n\u001b[0m\u001b[0;32m    217\u001b[0m \u001b[1;33m\u001b[0m\u001b[0m\n\u001b[0;32m    218\u001b[0m     \u001b[1;32mdef\u001b[0m \u001b[0mget_next_color\u001b[0m\u001b[1;33m(\u001b[0m\u001b[0mself\u001b[0m\u001b[1;33m)\u001b[0m\u001b[1;33m:\u001b[0m\u001b[1;33m\u001b[0m\u001b[1;33m\u001b[0m\u001b[0m\n",
      "\u001b[1;32m~\\anaconda3\\envs\\PythonData\\lib\\site-packages\\matplotlib\\axes\\_base.py\u001b[0m in \u001b[0;36m_plot_args\u001b[1;34m(self, tup, kwargs)\u001b[0m\n\u001b[0;32m    340\u001b[0m \u001b[1;33m\u001b[0m\u001b[0m\n\u001b[0;32m    341\u001b[0m         \u001b[1;32mif\u001b[0m \u001b[0mx\u001b[0m\u001b[1;33m.\u001b[0m\u001b[0mshape\u001b[0m\u001b[1;33m[\u001b[0m\u001b[1;36m0\u001b[0m\u001b[1;33m]\u001b[0m \u001b[1;33m!=\u001b[0m \u001b[0my\u001b[0m\u001b[1;33m.\u001b[0m\u001b[0mshape\u001b[0m\u001b[1;33m[\u001b[0m\u001b[1;36m0\u001b[0m\u001b[1;33m]\u001b[0m\u001b[1;33m:\u001b[0m\u001b[1;33m\u001b[0m\u001b[1;33m\u001b[0m\u001b[0m\n\u001b[1;32m--> 342\u001b[1;33m             raise ValueError(f\"x and y must have same first dimension, but \"\n\u001b[0m\u001b[0;32m    343\u001b[0m                              f\"have shapes {x.shape} and {y.shape}\")\n\u001b[0;32m    344\u001b[0m         \u001b[1;32mif\u001b[0m \u001b[0mx\u001b[0m\u001b[1;33m.\u001b[0m\u001b[0mndim\u001b[0m \u001b[1;33m>\u001b[0m \u001b[1;36m2\u001b[0m \u001b[1;32mor\u001b[0m \u001b[0my\u001b[0m\u001b[1;33m.\u001b[0m\u001b[0mndim\u001b[0m \u001b[1;33m>\u001b[0m \u001b[1;36m2\u001b[0m\u001b[1;33m:\u001b[0m\u001b[1;33m\u001b[0m\u001b[1;33m\u001b[0m\u001b[0m\n",
      "\u001b[1;31mValueError\u001b[0m: x and y must have same first dimension, but have shapes (794,) and (58864,)"
     ]
    },
    {
     "data": {
      "image/png": "[encoded data removed]",
      "text/plain": [
       "<Figure size 432x288 with 1 Axes>"
      ]
     },
     "metadata": {
      "needs_background": "light"
     },
     "output_type": "display_data"
    }
   ],
   "source": [
    "fig, ax = plt.subplots()\n",
    "ax.plot(likes_count, tweet_time)\n",
    "ax.set_title('A single plot')"
   ]
  },
  {
   "cell_type": "code",
   "execution_count": null,
   "metadata": {},
   "outputs": [],
   "source": []
  }
 ],
 "metadata": {
  "kernelspec": {
   "display_name": "PythonData",
   "language": "python",
   "name": "pythondata"
  },
  "language_info": {
   "codemirror_mode": {
    "name": "ipython",
    "version": 3
   },
   "file_extension": ".py",
   "mimetype": "text/x-python",
   "name": "python",
   "nbconvert_exporter": "python",
   "pygments_lexer": "ipython3",
   "version": "3.7.7"
  }
 },
 "nbformat": 4,
 "nbformat_minor": 4
}
