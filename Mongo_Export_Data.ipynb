{
 "cells": [
  {
   "cell_type": "markdown",
   "metadata": {},
   "source": [
    "# MongoDB Export Data"
   ]
  },
  {
   "cell_type": "markdown",
   "metadata": {},
   "source": [
    "### Import Dependencies"
   ]
  },
  {
   "cell_type": "code",
   "execution_count": 1,
   "metadata": {},
   "outputs": [],
   "source": [
    "import pandas as pd\n",
    "import datetime as dt\n",
    "\n",
    "# Import Dependency to create functions to export cleaned datasets to MongoDB\n",
    "import pymongo"
   ]
  },
  {
   "cell_type": "markdown",
   "metadata": {},
   "source": [
    "### Reading CSV Files"
   ]
  },
  {
   "cell_type": "code",
   "execution_count": 6,
   "metadata": {},
   "outputs": [
    {
     "name": "stderr",
     "output_type": "stream",
     "text": [
      "C:\\Users\\Greg\\anaconda3\\envs\\PythonData\\lib\\site-packages\\IPython\\core\\interactiveshell.py:3063: DtypeWarning: Columns (9,22) have mixed types.Specify dtype option on import or set low_memory=False.\n",
      "  interactivity=interactivity, compiler=compiler, result=result)\n"
     ]
    }
   ],
   "source": [
    "# Reading a test csv file to demonstrate operability\n",
    "trump3_20_df=pd.read_csv(\"../2020_Data/trump3_2020.csv\")"
   ]
  },
  {
   "cell_type": "markdown",
   "metadata": {},
   "source": [
    "### Function to Clean Datasets"
   ]
  },
  {
   "cell_type": "code",
   "execution_count": 7,
   "metadata": {},
   "outputs": [],
   "source": [
    "# Creating function to clean datasets(this is just an example)\n",
    "def drop_cols(db):\n",
    "    col_list=['place', 'retweet', 'quote_url', 'thumbnail', 'near', 'geo','source',\n",
    "          'user_rt_id', 'user_rt', 'retweet_id', 'retweet_date', 'translate', \n",
    "          'trans_src','trans_dest']\n",
    "    db.drop(col_list, axis=1, inplace=True)\n",
    "    db['date'] = pd.to_datetime(db['date']) # Converting to datetime\n",
    "    db['time'] =  pd.to_datetime(db['time'], format='%H:%M:%S') # Converting to datetime\n",
    "    \n",
    "    return ('Dataset Cleaned')"
   ]
  },
  {
   "cell_type": "markdown",
   "metadata": {},
   "source": [
    "### Function to Export Datasets to MongoDB"
   ]
  },
  {
   "cell_type": "code",
   "execution_count": 8,
   "metadata": {},
   "outputs": [],
   "source": [
    "def export_collection(data):\n",
    "    name =[x for x in globals() if globals()[x] is data][0] # Assigning name of DataFrame to variable 'name'\n",
    "    a_dict=data.to_dict('records') # Creating a Dict() to send to MongoDB\n",
    "    client=pymongo.MongoClient('mongodb://localhost:27017/') # Making a connection to MongoClient\n",
    "    db=client['test1'] # Using the database called 'test1'\n",
    "    user_info_table=db[f'{name}'] # Creating a collection (or table) \n",
    "    user_info_table.insert_many(a_dict) # Inserting collection to dictionary created above\n",
    "    return ('Collection Inserted to Mongo Database')"
   ]
  },
  {
   "cell_type": "markdown",
   "metadata": {},
   "source": [
    "### Cleaning Dataset"
   ]
  },
  {
   "cell_type": "code",
   "execution_count": 9,
   "metadata": {},
   "outputs": [
    {
     "data": {
      "text/plain": [
       "'Dataset Cleaned'"
      ]
     },
     "execution_count": 9,
     "metadata": {},
     "output_type": "execute_result"
    }
   ],
   "source": [
    "drop_cols(trump3_20_df)"
   ]
  },
  {
   "cell_type": "markdown",
   "metadata": {},
   "source": [
    "### Loading Dataset into MongoDB"
   ]
  },
  {
   "cell_type": "code",
   "execution_count": 10,
   "metadata": {},
   "outputs": [
    {
     "data": {
      "text/plain": [
       "'Collection Inserted to Mongo Database'"
      ]
     },
     "execution_count": 10,
     "metadata": {},
     "output_type": "execute_result"
    }
   ],
   "source": [
    "export_collection(trump3_20_df)"
   ]
  }
 ],
 "metadata": {
  "kernelspec": {
   "display_name": "PythonData",
   "language": "python",
   "name": "pythondata"
  },
  "language_info": {
   "codemirror_mode": {
    "name": "ipython",
    "version": 3
   },
   "file_extension": ".py",
   "mimetype": "text/x-python",
   "name": "python",
   "nbconvert_exporter": "python",
   "pygments_lexer": "ipython3",
   "version": "3.7.7"
  }
 },
 "nbformat": 4,
 "nbformat_minor": 4
}
