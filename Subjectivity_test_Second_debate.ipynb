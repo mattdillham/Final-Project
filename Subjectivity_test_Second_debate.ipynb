{
 "cells": [
  {
   "cell_type": "code",
   "execution_count": 1,
   "metadata": {},
   "outputs": [],
   "source": [
    "#Subjectivity Analysis\n"
   ]
  },
  {
   "cell_type": "code",
   "execution_count": 2,
   "metadata": {},
   "outputs": [],
   "source": [
    "import pandas as pd"
   ]
  },
  {
   "cell_type": "code",
   "execution_count": 3,
   "metadata": {},
   "outputs": [
    {
     "data": {
      "text/html": [
       "<div>\n",
       "<style scoped>\n",
       "    .dataframe tbody tr th:only-of-type {\n",
       "        vertical-align: middle;\n",
       "    }\n",
       "\n",
       "    .dataframe tbody tr th {\n",
       "        vertical-align: top;\n",
       "    }\n",
       "\n",
       "    .dataframe thead th {\n",
       "        text-align: right;\n",
       "    }\n",
       "</style>\n",
       "<table border=\"1\" class=\"dataframe\">\n",
       "  <thead>\n",
       "    <tr style=\"text-align: right;\">\n",
       "      <th></th>\n",
       "      <th>tweet</th>\n",
       "      <th>replies_count</th>\n",
       "      <th>retweets_count</th>\n",
       "      <th>likes_count</th>\n",
       "      <th>candidate</th>\n",
       "      <th>tweet_length</th>\n",
       "      <th>Subjectivity</th>\n",
       "      <th>Polarity</th>\n",
       "      <th>Sentiment</th>\n",
       "    </tr>\n",
       "  </thead>\n",
       "  <tbody>\n",
       "    <tr>\n",
       "      <th>0</th>\n",
       "      <td>So why was trump elected</td>\n",
       "      <td>0</td>\n",
       "      <td>0</td>\n",
       "      <td>0</td>\n",
       "      <td>Biden</td>\n",
       "      <td>5</td>\n",
       "      <td>0.000000</td>\n",
       "      <td>0.000000</td>\n",
       "      <td>Neutral</td>\n",
       "    </tr>\n",
       "    <tr>\n",
       "      <th>1</th>\n",
       "      <td>Oklahoma early voting is October 29 30 and 31...</td>\n",
       "      <td>0</td>\n",
       "      <td>0</td>\n",
       "      <td>0</td>\n",
       "      <td>Biden</td>\n",
       "      <td>15</td>\n",
       "      <td>0.300000</td>\n",
       "      <td>0.100000</td>\n",
       "      <td>Positive</td>\n",
       "    </tr>\n",
       "    <tr>\n",
       "      <th>2</th>\n",
       "      <td>Open the state</td>\n",
       "      <td>0</td>\n",
       "      <td>0</td>\n",
       "      <td>0</td>\n",
       "      <td>Biden</td>\n",
       "      <td>3</td>\n",
       "      <td>0.500000</td>\n",
       "      <td>0.000000</td>\n",
       "      <td>Neutral</td>\n",
       "    </tr>\n",
       "    <tr>\n",
       "      <th>3</th>\n",
       "      <td>if you haven noticed more than half the count...</td>\n",
       "      <td>0</td>\n",
       "      <td>1</td>\n",
       "      <td>0</td>\n",
       "      <td>Biden</td>\n",
       "      <td>20</td>\n",
       "      <td>0.222222</td>\n",
       "      <td>0.111111</td>\n",
       "      <td>Positive</td>\n",
       "    </tr>\n",
       "    <tr>\n",
       "      <th>4</th>\n",
       "      <td>It came down to muting the president That what...</td>\n",
       "      <td>0</td>\n",
       "      <td>1</td>\n",
       "      <td>1</td>\n",
       "      <td>Biden</td>\n",
       "      <td>40</td>\n",
       "      <td>0.489815</td>\n",
       "      <td>0.028241</td>\n",
       "      <td>Positive</td>\n",
       "    </tr>\n",
       "  </tbody>\n",
       "</table>\n",
       "</div>"
      ],
      "text/plain": [
       "                                               tweet  replies_count  \\\n",
       "0                          So why was trump elected               0   \n",
       "1   Oklahoma early voting is October 29 30 and 31...              0   \n",
       "2                                     Open the state              0   \n",
       "3   if you haven noticed more than half the count...              0   \n",
       "4  It came down to muting the president That what...              0   \n",
       "\n",
       "   retweets_count  likes_count candidate  tweet_length  Subjectivity  \\\n",
       "0               0            0     Biden             5      0.000000   \n",
       "1               0            0     Biden            15      0.300000   \n",
       "2               0            0     Biden             3      0.500000   \n",
       "3               1            0     Biden            20      0.222222   \n",
       "4               1            1     Biden            40      0.489815   \n",
       "\n",
       "   Polarity Sentiment  \n",
       "0  0.000000   Neutral  \n",
       "1  0.100000  Positive  \n",
       "2  0.000000   Neutral  \n",
       "3  0.111111  Positive  \n",
       "4  0.028241  Positive  "
      ]
     },
     "execution_count": 3,
     "metadata": {},
     "output_type": "execute_result"
    }
   ],
   "source": [
    "# Read csv file\n",
    "file=('Resources/Second_debate.csv')\n",
    "first_df=pd.read_csv(file)\n",
    "first_df.head()"
   ]
  },
  {
   "cell_type": "code",
   "execution_count": 4,
   "metadata": {},
   "outputs": [],
   "source": [
    "# Separating Biden and Trump Data\n",
    "biden_sentiment=first_df[(first_df['candidate']=='Biden')]\n",
    "trump_sentiment=first_df[(first_df['candidate']=='Trump')]"
   ]
  },
  {
   "cell_type": "code",
   "execution_count": null,
   "metadata": {},
   "outputs": [],
   "source": [
    "#Biden Subjectivity Analysis"
   ]
  },
  {
   "cell_type": "code",
   "execution_count": 5,
   "metadata": {},
   "outputs": [
    {
     "data": {
      "text/plain": [
       "0        0.000000\n",
       "1        0.300000\n",
       "2        0.500000\n",
       "3        0.222222\n",
       "4        0.489815\n",
       "           ...   \n",
       "94680    0.595000\n",
       "94681    0.100000\n",
       "94682    1.000000\n",
       "94683    0.937500\n",
       "94684    0.000000\n",
       "Name: Subjectivity, Length: 94685, dtype: float64"
      ]
     },
     "execution_count": 5,
     "metadata": {},
     "output_type": "execute_result"
    }
   ],
   "source": [
    "# Creating Bins for Subjectivity\n",
    "biden_bin=biden_sentiment.Subjectivity\n",
    "biden_bin"
   ]
  },
  {
   "cell_type": "code",
   "execution_count": null,
   "metadata": {},
   "outputs": [],
   "source": [
    "#Creating Bins"
   ]
  },
  {
   "cell_type": "code",
   "execution_count": 6,
   "metadata": {},
   "outputs": [
    {
     "data": {
      "text/plain": [
       "Subjectivity\n",
       "(-0.5, 0.3]    46757\n",
       "(0.3, 0.7]     35591\n",
       "(0.7, 1.5]     12337\n",
       "Name: Subjectivity, dtype: int64"
      ]
     },
     "execution_count": 6,
     "metadata": {},
     "output_type": "execute_result"
    }
   ],
   "source": [
    "# Assumption of Subjectivity Ranges\n",
    "# 0.0 - 0.3 => Passive (or Nonchalant Tweeter)\n",
    "# 0.3 - 0.7 => Balanced (or more Objective Tweeter)\n",
    "# 0.7 - 1.0 => Subjective (or less Objective Tweeter)\n",
    "bins = bins = [float('-0.5'),0.3,0.7,float('1.5')]\n",
    "groups = [\"Passive\", \"Balanced\", \"Subjective\"]\n",
    "biden_bin.groupby(pd.cut(biden_bin, bins)).count()"
   ]
  },
  {
   "cell_type": "code",
   "execution_count": 7,
   "metadata": {},
   "outputs": [
    {
     "name": "stderr",
     "output_type": "stream",
     "text": [
      "C:\\Users\\kevin\\anaconda3\\envs\\Pythondata\\lib\\site-packages\\ipykernel_launcher.py:2: SettingWithCopyWarning: \n",
      "A value is trying to be set on a copy of a slice from a DataFrame.\n",
      "Try using .loc[row_indexer,col_indexer] = value instead\n",
      "\n",
      "See the caveats in the documentation: https://pandas.pydata.org/pandas-docs/stable/user_guide/indexing.html#returning-a-view-versus-a-copy\n",
      "  \n"
     ]
    },
    {
     "data": {
      "text/html": [
       "<div>\n",
       "<style scoped>\n",
       "    .dataframe tbody tr th:only-of-type {\n",
       "        vertical-align: middle;\n",
       "    }\n",
       "\n",
       "    .dataframe tbody tr th {\n",
       "        vertical-align: top;\n",
       "    }\n",
       "\n",
       "    .dataframe thead th {\n",
       "        text-align: right;\n",
       "    }\n",
       "</style>\n",
       "<table border=\"1\" class=\"dataframe\">\n",
       "  <thead>\n",
       "    <tr style=\"text-align: right;\">\n",
       "      <th></th>\n",
       "      <th>tweet</th>\n",
       "      <th>replies_count</th>\n",
       "      <th>retweets_count</th>\n",
       "      <th>likes_count</th>\n",
       "      <th>candidate</th>\n",
       "      <th>tweet_length</th>\n",
       "      <th>Subjectivity</th>\n",
       "      <th>Polarity</th>\n",
       "      <th>Sentiment</th>\n",
       "      <th>Subjectivity_Class</th>\n",
       "    </tr>\n",
       "  </thead>\n",
       "  <tbody>\n",
       "    <tr>\n",
       "      <th>0</th>\n",
       "      <td>So why was trump elected</td>\n",
       "      <td>0</td>\n",
       "      <td>0</td>\n",
       "      <td>0</td>\n",
       "      <td>Biden</td>\n",
       "      <td>5</td>\n",
       "      <td>0.000000</td>\n",
       "      <td>0.000000</td>\n",
       "      <td>Neutral</td>\n",
       "      <td>Passive</td>\n",
       "    </tr>\n",
       "    <tr>\n",
       "      <th>1</th>\n",
       "      <td>Oklahoma early voting is October 29 30 and 31...</td>\n",
       "      <td>0</td>\n",
       "      <td>0</td>\n",
       "      <td>0</td>\n",
       "      <td>Biden</td>\n",
       "      <td>15</td>\n",
       "      <td>0.300000</td>\n",
       "      <td>0.100000</td>\n",
       "      <td>Positive</td>\n",
       "      <td>Passive</td>\n",
       "    </tr>\n",
       "    <tr>\n",
       "      <th>2</th>\n",
       "      <td>Open the state</td>\n",
       "      <td>0</td>\n",
       "      <td>0</td>\n",
       "      <td>0</td>\n",
       "      <td>Biden</td>\n",
       "      <td>3</td>\n",
       "      <td>0.500000</td>\n",
       "      <td>0.000000</td>\n",
       "      <td>Neutral</td>\n",
       "      <td>Balanced</td>\n",
       "    </tr>\n",
       "    <tr>\n",
       "      <th>3</th>\n",
       "      <td>if you haven noticed more than half the count...</td>\n",
       "      <td>0</td>\n",
       "      <td>1</td>\n",
       "      <td>0</td>\n",
       "      <td>Biden</td>\n",
       "      <td>20</td>\n",
       "      <td>0.222222</td>\n",
       "      <td>0.111111</td>\n",
       "      <td>Positive</td>\n",
       "      <td>Passive</td>\n",
       "    </tr>\n",
       "    <tr>\n",
       "      <th>4</th>\n",
       "      <td>It came down to muting the president That what...</td>\n",
       "      <td>0</td>\n",
       "      <td>1</td>\n",
       "      <td>1</td>\n",
       "      <td>Biden</td>\n",
       "      <td>40</td>\n",
       "      <td>0.489815</td>\n",
       "      <td>0.028241</td>\n",
       "      <td>Positive</td>\n",
       "      <td>Balanced</td>\n",
       "    </tr>\n",
       "    <tr>\n",
       "      <th>...</th>\n",
       "      <td>...</td>\n",
       "      <td>...</td>\n",
       "      <td>...</td>\n",
       "      <td>...</td>\n",
       "      <td>...</td>\n",
       "      <td>...</td>\n",
       "      <td>...</td>\n",
       "      <td>...</td>\n",
       "      <td>...</td>\n",
       "      <td>...</td>\n",
       "    </tr>\n",
       "    <tr>\n",
       "      <th>94680</th>\n",
       "      <td>Joe Biden had the line of the night after Don...</td>\n",
       "      <td>0</td>\n",
       "      <td>0</td>\n",
       "      <td>0</td>\n",
       "      <td>Biden</td>\n",
       "      <td>36</td>\n",
       "      <td>0.595000</td>\n",
       "      <td>-0.048333</td>\n",
       "      <td>Negative</td>\n",
       "      <td>Balanced</td>\n",
       "    </tr>\n",
       "    <tr>\n",
       "      <th>94681</th>\n",
       "      <td>What do you expect Joe Biden coronavirus resp...</td>\n",
       "      <td>3</td>\n",
       "      <td>0</td>\n",
       "      <td>0</td>\n",
       "      <td>Biden</td>\n",
       "      <td>11</td>\n",
       "      <td>0.100000</td>\n",
       "      <td>0.000000</td>\n",
       "      <td>Neutral</td>\n",
       "      <td>Passive</td>\n",
       "    </tr>\n",
       "    <tr>\n",
       "      <th>94682</th>\n",
       "      <td>Proud to have voted for you</td>\n",
       "      <td>0</td>\n",
       "      <td>0</td>\n",
       "      <td>3</td>\n",
       "      <td>Biden</td>\n",
       "      <td>6</td>\n",
       "      <td>1.000000</td>\n",
       "      <td>0.800000</td>\n",
       "      <td>Positive</td>\n",
       "      <td>Subjective</td>\n",
       "    </tr>\n",
       "    <tr>\n",
       "      <th>94683</th>\n",
       "      <td>She cut off our President 111 times And she o...</td>\n",
       "      <td>0</td>\n",
       "      <td>0</td>\n",
       "      <td>0</td>\n",
       "      <td>Biden</td>\n",
       "      <td>34</td>\n",
       "      <td>0.937500</td>\n",
       "      <td>0.116667</td>\n",
       "      <td>Positive</td>\n",
       "      <td>Subjective</td>\n",
       "    </tr>\n",
       "    <tr>\n",
       "      <th>94684</th>\n",
       "      <td>No you are</td>\n",
       "      <td>1</td>\n",
       "      <td>0</td>\n",
       "      <td>1</td>\n",
       "      <td>Biden</td>\n",
       "      <td>3</td>\n",
       "      <td>0.000000</td>\n",
       "      <td>0.000000</td>\n",
       "      <td>Neutral</td>\n",
       "      <td>Passive</td>\n",
       "    </tr>\n",
       "  </tbody>\n",
       "</table>\n",
       "<p>94685 rows × 10 columns</p>\n",
       "</div>"
      ],
      "text/plain": [
       "                                                   tweet  replies_count  \\\n",
       "0                              So why was trump elected               0   \n",
       "1       Oklahoma early voting is October 29 30 and 31...              0   \n",
       "2                                         Open the state              0   \n",
       "3       if you haven noticed more than half the count...              0   \n",
       "4      It came down to muting the president That what...              0   \n",
       "...                                                  ...            ...   \n",
       "94680   Joe Biden had the line of the night after Don...              0   \n",
       "94681   What do you expect Joe Biden coronavirus resp...              3   \n",
       "94682                       Proud to have voted for you               0   \n",
       "94683   She cut off our President 111 times And she o...              0   \n",
       "94684                                         No you are              1   \n",
       "\n",
       "       retweets_count  likes_count candidate  tweet_length  Subjectivity  \\\n",
       "0                   0            0     Biden             5      0.000000   \n",
       "1                   0            0     Biden            15      0.300000   \n",
       "2                   0            0     Biden             3      0.500000   \n",
       "3                   1            0     Biden            20      0.222222   \n",
       "4                   1            1     Biden            40      0.489815   \n",
       "...               ...          ...       ...           ...           ...   \n",
       "94680               0            0     Biden            36      0.595000   \n",
       "94681               0            0     Biden            11      0.100000   \n",
       "94682               0            3     Biden             6      1.000000   \n",
       "94683               0            0     Biden            34      0.937500   \n",
       "94684               0            1     Biden             3      0.000000   \n",
       "\n",
       "       Polarity Sentiment Subjectivity_Class  \n",
       "0      0.000000   Neutral            Passive  \n",
       "1      0.100000  Positive            Passive  \n",
       "2      0.000000   Neutral           Balanced  \n",
       "3      0.111111  Positive            Passive  \n",
       "4      0.028241  Positive           Balanced  \n",
       "...         ...       ...                ...  \n",
       "94680 -0.048333  Negative           Balanced  \n",
       "94681  0.000000   Neutral            Passive  \n",
       "94682  0.800000  Positive         Subjective  \n",
       "94683  0.116667  Positive         Subjective  \n",
       "94684  0.000000   Neutral            Passive  \n",
       "\n",
       "[94685 rows x 10 columns]"
      ]
     },
     "execution_count": 7,
     "metadata": {},
     "output_type": "execute_result"
    }
   ],
   "source": [
    "# Categorize subjectivity bins\n",
    "biden_sentiment[\"Subjectivity_Class\"] = pd.cut(biden_bin, bins=bins, labels=groups)\n",
    "biden_sentiment"
   ]
  },
  {
   "cell_type": "code",
   "execution_count": 8,
   "metadata": {},
   "outputs": [],
   "source": [
    "#Feature Engineering (Biden)"
   ]
  },
  {
   "cell_type": "code",
   "execution_count": 9,
   "metadata": {},
   "outputs": [
    {
     "data": {
      "text/plain": [
       "Subjectivity_Class\n",
       "Passive       46757\n",
       "Balanced      35591\n",
       "Subjective    12337\n",
       "Name: tweet, dtype: int64"
      ]
     },
     "execution_count": 9,
     "metadata": {},
     "output_type": "execute_result"
    }
   ],
   "source": [
    "# Calculating Totals by Subjectivity Ranges\n",
    "biden_sub_groups_count = biden_sentiment.groupby([\"Subjectivity_Class\"]).count()[\"tweet\"]\n",
    "biden_sub_groups_count"
   ]
  },
  {
   "cell_type": "code",
   "execution_count": 10,
   "metadata": {},
   "outputs": [
    {
     "data": {
      "text/plain": [
       "Subjectivity_Class\n",
       "Passive       1.572620\n",
       "Balanced      1.306679\n",
       "Subjective    1.765583\n",
       "Name: replies_count, dtype: float64"
      ]
     },
     "execution_count": 10,
     "metadata": {},
     "output_type": "execute_result"
    }
   ],
   "source": [
    "# Average Replies\n",
    "biden_avg_replies = biden_sentiment.groupby([\"Subjectivity_Class\"]).mean()[\"replies_count\"]\n",
    "biden_avg_replies"
   ]
  },
  {
   "cell_type": "code",
   "execution_count": 11,
   "metadata": {},
   "outputs": [
    {
     "data": {
      "text/plain": [
       "Subjectivity_Class\n",
       "Passive       4.058259\n",
       "Balanced      3.505381\n",
       "Subjective    3.653076\n",
       "Name: retweets_count, dtype: float64"
      ]
     },
     "execution_count": 11,
     "metadata": {},
     "output_type": "execute_result"
    }
   ],
   "source": [
    "# Average Retweets\n",
    "biden_avg_retweets = biden_sentiment.groupby([\"Subjectivity_Class\"]).mean()[\"retweets_count\"]\n",
    "biden_avg_retweets"
   ]
  },
  {
   "cell_type": "code",
   "execution_count": 12,
   "metadata": {},
   "outputs": [
    {
     "data": {
      "text/plain": [
       "Subjectivity_Class\n",
       "Passive       19.226105\n",
       "Balanced      14.639516\n",
       "Subjective    19.595120\n",
       "Name: likes_count, dtype: float64"
      ]
     },
     "execution_count": 12,
     "metadata": {},
     "output_type": "execute_result"
    }
   ],
   "source": [
    "# Average Likes\n",
    "biden_avg_likes = biden_sentiment.groupby([\"Subjectivity_Class\"]).mean()[\"likes_count\"]\n",
    "biden_avg_likes"
   ]
  },
  {
   "cell_type": "code",
   "execution_count": 13,
   "metadata": {},
   "outputs": [
    {
     "data": {
      "text/plain": [
       "Subjectivity_Class\n",
       "Passive       14.413200\n",
       "Balanced      25.457531\n",
       "Subjective    18.265218\n",
       "Name: tweet_length, dtype: float64"
      ]
     },
     "execution_count": 13,
     "metadata": {},
     "output_type": "execute_result"
    }
   ],
   "source": [
    "# Average Tweet Length\n",
    "biden_avg_tweet_length = biden_sentiment.groupby([\"Subjectivity_Class\"]).mean()[\"tweet_length\"]\n",
    "biden_avg_tweet_length"
   ]
  },
  {
   "cell_type": "code",
   "execution_count": 14,
   "metadata": {},
   "outputs": [
    {
     "data": {
      "text/plain": [
       "Subjectivity_Class\n",
       "Passive       0.014744\n",
       "Balanced      0.113267\n",
       "Subjective    0.066271\n",
       "Name: Polarity, dtype: float64"
      ]
     },
     "execution_count": 14,
     "metadata": {},
     "output_type": "execute_result"
    }
   ],
   "source": [
    "# Average Sentiment Score\n",
    "biden_avg_sentiment_score= biden_sentiment.groupby([\"Subjectivity_Class\"]).mean()[\"Polarity\"]\n",
    "biden_avg_sentiment_score"
   ]
  },
  {
   "cell_type": "code",
   "execution_count": 15,
   "metadata": {},
   "outputs": [
    {
     "data": {
      "text/html": [
       "<div>\n",
       "<style scoped>\n",
       "    .dataframe tbody tr th:only-of-type {\n",
       "        vertical-align: middle;\n",
       "    }\n",
       "\n",
       "    .dataframe tbody tr th {\n",
       "        vertical-align: top;\n",
       "    }\n",
       "\n",
       "    .dataframe thead th {\n",
       "        text-align: right;\n",
       "    }\n",
       "</style>\n",
       "<table border=\"1\" class=\"dataframe\">\n",
       "  <thead>\n",
       "    <tr style=\"text-align: right;\">\n",
       "      <th></th>\n",
       "      <th>Avg Replies</th>\n",
       "      <th>Avg Retweets</th>\n",
       "      <th>Avg Likes</th>\n",
       "      <th>Avg Tweet Length</th>\n",
       "      <th>Avg Sentiment</th>\n",
       "      <th>Total</th>\n",
       "    </tr>\n",
       "    <tr>\n",
       "      <th>Subjectivity_Class</th>\n",
       "      <th></th>\n",
       "      <th></th>\n",
       "      <th></th>\n",
       "      <th></th>\n",
       "      <th></th>\n",
       "      <th></th>\n",
       "    </tr>\n",
       "  </thead>\n",
       "  <tbody>\n",
       "    <tr>\n",
       "      <th>Passive</th>\n",
       "      <td>1.572620</td>\n",
       "      <td>4.058259</td>\n",
       "      <td>19.226105</td>\n",
       "      <td>14.413200</td>\n",
       "      <td>0.014744</td>\n",
       "      <td>46757</td>\n",
       "    </tr>\n",
       "    <tr>\n",
       "      <th>Balanced</th>\n",
       "      <td>1.306679</td>\n",
       "      <td>3.505381</td>\n",
       "      <td>14.639516</td>\n",
       "      <td>25.457531</td>\n",
       "      <td>0.113267</td>\n",
       "      <td>35591</td>\n",
       "    </tr>\n",
       "    <tr>\n",
       "      <th>Subjective</th>\n",
       "      <td>1.765583</td>\n",
       "      <td>3.653076</td>\n",
       "      <td>19.595120</td>\n",
       "      <td>18.265218</td>\n",
       "      <td>0.066271</td>\n",
       "      <td>12337</td>\n",
       "    </tr>\n",
       "  </tbody>\n",
       "</table>\n",
       "</div>"
      ],
      "text/plain": [
       "                    Avg Replies  Avg Retweets  Avg Likes  Avg Tweet Length  \\\n",
       "Subjectivity_Class                                                           \n",
       "Passive                1.572620      4.058259  19.226105         14.413200   \n",
       "Balanced               1.306679      3.505381  14.639516         25.457531   \n",
       "Subjective             1.765583      3.653076  19.595120         18.265218   \n",
       "\n",
       "                    Avg Sentiment  Total  \n",
       "Subjectivity_Class                        \n",
       "Passive                  0.014744  46757  \n",
       "Balanced                 0.113267  35591  \n",
       "Subjective               0.066271  12337  "
      ]
     },
     "execution_count": 15,
     "metadata": {},
     "output_type": "execute_result"
    }
   ],
   "source": [
    "# Combine each Series for table\n",
    "biden_subjectivity_table = pd.DataFrame({\n",
    "               \"Avg Replies\": biden_avg_replies,\n",
    "               \"Avg Retweets\": biden_avg_retweets,\n",
    "               \"Avg Likes\": biden_avg_likes,\n",
    "               \"Avg Tweet Length\": biden_avg_tweet_length,\n",
    "               \"Avg Sentiment\" : biden_avg_sentiment_score,\n",
    "               \"Total\" : biden_sub_groups_count})\n",
    "\n",
    "biden_subjectivity_table.head()"
   ]
  },
  {
   "cell_type": "code",
   "execution_count": 16,
   "metadata": {},
   "outputs": [
    {
     "data": {
      "text/html": [
       "<div>\n",
       "<style scoped>\n",
       "    .dataframe tbody tr th:only-of-type {\n",
       "        vertical-align: middle;\n",
       "    }\n",
       "\n",
       "    .dataframe tbody tr th {\n",
       "        vertical-align: top;\n",
       "    }\n",
       "\n",
       "    .dataframe thead th {\n",
       "        text-align: right;\n",
       "    }\n",
       "</style>\n",
       "<table border=\"1\" class=\"dataframe\">\n",
       "  <thead>\n",
       "    <tr style=\"text-align: right;\">\n",
       "      <th></th>\n",
       "      <th>Avg Replies</th>\n",
       "      <th>Avg Retweets</th>\n",
       "      <th>Avg Likes</th>\n",
       "      <th>Avg Tweet Length</th>\n",
       "      <th>Avg Sentiment</th>\n",
       "      <th>Total</th>\n",
       "    </tr>\n",
       "    <tr>\n",
       "      <th>Subjectivity_Class</th>\n",
       "      <th></th>\n",
       "      <th></th>\n",
       "      <th></th>\n",
       "      <th></th>\n",
       "      <th></th>\n",
       "      <th></th>\n",
       "    </tr>\n",
       "  </thead>\n",
       "  <tbody>\n",
       "    <tr>\n",
       "      <th>Passive</th>\n",
       "      <td>1.6</td>\n",
       "      <td>4.1</td>\n",
       "      <td>19.2</td>\n",
       "      <td>14.4</td>\n",
       "      <td>0.015</td>\n",
       "      <td>46757</td>\n",
       "    </tr>\n",
       "    <tr>\n",
       "      <th>Balanced</th>\n",
       "      <td>1.3</td>\n",
       "      <td>3.5</td>\n",
       "      <td>14.6</td>\n",
       "      <td>25.5</td>\n",
       "      <td>0.113</td>\n",
       "      <td>35591</td>\n",
       "    </tr>\n",
       "    <tr>\n",
       "      <th>Subjective</th>\n",
       "      <td>1.8</td>\n",
       "      <td>3.7</td>\n",
       "      <td>19.6</td>\n",
       "      <td>18.3</td>\n",
       "      <td>0.066</td>\n",
       "      <td>12337</td>\n",
       "    </tr>\n",
       "  </tbody>\n",
       "</table>\n",
       "</div>"
      ],
      "text/plain": [
       "                   Avg Replies Avg Retweets Avg Likes Avg Tweet Length  \\\n",
       "Subjectivity_Class                                                       \n",
       "Passive                    1.6          4.1      19.2             14.4   \n",
       "Balanced                   1.3          3.5      14.6             25.5   \n",
       "Subjective                 1.8          3.7      19.6             18.3   \n",
       "\n",
       "                   Avg Sentiment  Total  \n",
       "Subjectivity_Class                       \n",
       "Passive                    0.015  46757  \n",
       "Balanced                   0.113  35591  \n",
       "Subjective                 0.066  12337  "
      ]
     },
     "execution_count": 16,
     "metadata": {},
     "output_type": "execute_result"
    }
   ],
   "source": [
    "# Format each column\n",
    "biden_subjectivity_table[\"Avg Replies\"] = biden_subjectivity_table[\"Avg Replies\"].map(\"{:.1f}\".format)\n",
    "\n",
    "biden_subjectivity_table[\"Avg Retweets\"] = biden_subjectivity_table[\"Avg Retweets\"].map(\"{:.1f}\".format)\n",
    "\n",
    "biden_subjectivity_table[\"Avg Likes\"] = biden_subjectivity_table[\"Avg Likes\"].map(\"{:.1f}\".format)\n",
    "\n",
    "biden_subjectivity_table[\"Avg Tweet Length\"] = biden_subjectivity_table[\"Avg Tweet Length\"].map(\"{:.1f}\".format)\n",
    "\n",
    "biden_subjectivity_table[\"Avg Sentiment\"] = biden_subjectivity_table[\"Avg Sentiment\"].map(\"{:.3f}\".format)\n",
    "\n",
    "\n",
    "# Display the DataFrame.\n",
    "biden_subjectivity_table.head()"
   ]
  },
  {
   "cell_type": "code",
   "execution_count": 17,
   "metadata": {},
   "outputs": [],
   "source": [
    "#Writing csv file for Dashboard"
   ]
  },
  {
   "cell_type": "code",
   "execution_count": 18,
   "metadata": {},
   "outputs": [],
   "source": [
    "biden_subjectivity_table.to_csv(r'C:\\Users\\kevin\\Documents\\myrepo\\Final-Project\\Resources\\Second_debate_biden_subjectivity.csv', index = True, header=True)"
   ]
  },
  {
   "cell_type": "code",
   "execution_count": 19,
   "metadata": {},
   "outputs": [],
   "source": [
    "#Trump Subjectivity Analysis"
   ]
  },
  {
   "cell_type": "code",
   "execution_count": 20,
   "metadata": {},
   "outputs": [
    {
     "data": {
      "text/plain": [
       "94685     0.500000\n",
       "94686     0.800000\n",
       "94687     0.308333\n",
       "94688     0.600000\n",
       "94689     1.000000\n",
       "            ...   \n",
       "255596    0.000000\n",
       "255597    0.000000\n",
       "255598    0.547222\n",
       "255599    0.100000\n",
       "255600    1.000000\n",
       "Name: Subjectivity, Length: 160916, dtype: float64"
      ]
     },
     "execution_count": 20,
     "metadata": {},
     "output_type": "execute_result"
    }
   ],
   "source": [
    "# Creating Bins for Subjectivity\n",
    "trump_bin=trump_sentiment.Subjectivity\n",
    "trump_bin\n"
   ]
  },
  {
   "cell_type": "code",
   "execution_count": 21,
   "metadata": {},
   "outputs": [],
   "source": [
    "#Creating Bins"
   ]
  },
  {
   "cell_type": "code",
   "execution_count": 22,
   "metadata": {},
   "outputs": [
    {
     "data": {
      "text/plain": [
       "Subjectivity\n",
       "(-0.5, 0.3]    77259\n",
       "(0.3, 0.7]     59357\n",
       "(0.7, 1.5]     24300\n",
       "Name: Subjectivity, dtype: int64"
      ]
     },
     "execution_count": 22,
     "metadata": {},
     "output_type": "execute_result"
    }
   ],
   "source": [
    "# Assumption of Subjectivity Ranges\n",
    "# 0.0 - 0.3 => Passive (or Nonchalant Tweeter)\n",
    "# 0.3 - 0.7 => Balanced (or more Objective Tweeter)\n",
    "# 0.7 - 1.0 => Subjective (or less Objective Tweeter)\n",
    "trump_bin.groupby(pd.cut(trump_bin, bins)).count()"
   ]
  },
  {
   "cell_type": "code",
   "execution_count": 23,
   "metadata": {},
   "outputs": [
    {
     "name": "stderr",
     "output_type": "stream",
     "text": [
      "C:\\Users\\kevin\\anaconda3\\envs\\Pythondata\\lib\\site-packages\\ipykernel_launcher.py:2: SettingWithCopyWarning: \n",
      "A value is trying to be set on a copy of a slice from a DataFrame.\n",
      "Try using .loc[row_indexer,col_indexer] = value instead\n",
      "\n",
      "See the caveats in the documentation: https://pandas.pydata.org/pandas-docs/stable/user_guide/indexing.html#returning-a-view-versus-a-copy\n",
      "  \n"
     ]
    },
    {
     "data": {
      "text/html": [
       "<div>\n",
       "<style scoped>\n",
       "    .dataframe tbody tr th:only-of-type {\n",
       "        vertical-align: middle;\n",
       "    }\n",
       "\n",
       "    .dataframe tbody tr th {\n",
       "        vertical-align: top;\n",
       "    }\n",
       "\n",
       "    .dataframe thead th {\n",
       "        text-align: right;\n",
       "    }\n",
       "</style>\n",
       "<table border=\"1\" class=\"dataframe\">\n",
       "  <thead>\n",
       "    <tr style=\"text-align: right;\">\n",
       "      <th></th>\n",
       "      <th>tweet</th>\n",
       "      <th>replies_count</th>\n",
       "      <th>retweets_count</th>\n",
       "      <th>likes_count</th>\n",
       "      <th>candidate</th>\n",
       "      <th>tweet_length</th>\n",
       "      <th>Subjectivity</th>\n",
       "      <th>Polarity</th>\n",
       "      <th>Sentiment</th>\n",
       "      <th>Subjectivity_Class</th>\n",
       "    </tr>\n",
       "  </thead>\n",
       "  <tbody>\n",
       "    <tr>\n",
       "      <th>94685</th>\n",
       "      <td>SMH such ignorance</td>\n",
       "      <td>0</td>\n",
       "      <td>0</td>\n",
       "      <td>0</td>\n",
       "      <td>Trump</td>\n",
       "      <td>3</td>\n",
       "      <td>0.500000</td>\n",
       "      <td>0.000000</td>\n",
       "      <td>Neutral</td>\n",
       "      <td>Balanced</td>\n",
       "    </tr>\n",
       "    <tr>\n",
       "      <th>94686</th>\n",
       "      <td>Precise Hahahahahahahaha</td>\n",
       "      <td>0</td>\n",
       "      <td>0</td>\n",
       "      <td>0</td>\n",
       "      <td>Trump</td>\n",
       "      <td>2</td>\n",
       "      <td>0.800000</td>\n",
       "      <td>0.400000</td>\n",
       "      <td>Positive</td>\n",
       "      <td>Subjective</td>\n",
       "    </tr>\n",
       "    <tr>\n",
       "      <th>94687</th>\n",
       "      <td>shame on mr president 4 yrs ago when voted fo...</td>\n",
       "      <td>0</td>\n",
       "      <td>1</td>\n",
       "      <td>0</td>\n",
       "      <td>Trump</td>\n",
       "      <td>25</td>\n",
       "      <td>0.308333</td>\n",
       "      <td>0.066667</td>\n",
       "      <td>Positive</td>\n",
       "      <td>Balanced</td>\n",
       "    </tr>\n",
       "    <tr>\n",
       "      <th>94688</th>\n",
       "      <td>YEP And PTL you did Love you</td>\n",
       "      <td>0</td>\n",
       "      <td>0</td>\n",
       "      <td>0</td>\n",
       "      <td>Trump</td>\n",
       "      <td>7</td>\n",
       "      <td>0.600000</td>\n",
       "      <td>0.500000</td>\n",
       "      <td>Positive</td>\n",
       "      <td>Balanced</td>\n",
       "    </tr>\n",
       "    <tr>\n",
       "      <th>94689</th>\n",
       "      <td>not even your wife loves you Sad</td>\n",
       "      <td>0</td>\n",
       "      <td>0</td>\n",
       "      <td>0</td>\n",
       "      <td>Trump</td>\n",
       "      <td>7</td>\n",
       "      <td>1.000000</td>\n",
       "      <td>-0.500000</td>\n",
       "      <td>Negative</td>\n",
       "      <td>Subjective</td>\n",
       "    </tr>\n",
       "    <tr>\n",
       "      <th>...</th>\n",
       "      <td>...</td>\n",
       "      <td>...</td>\n",
       "      <td>...</td>\n",
       "      <td>...</td>\n",
       "      <td>...</td>\n",
       "      <td>...</td>\n",
       "      <td>...</td>\n",
       "      <td>...</td>\n",
       "      <td>...</td>\n",
       "      <td>...</td>\n",
       "    </tr>\n",
       "    <tr>\n",
       "      <th>255596</th>\n",
       "      <td>Keep on dreaming Trump</td>\n",
       "      <td>0</td>\n",
       "      <td>0</td>\n",
       "      <td>0</td>\n",
       "      <td>Trump</td>\n",
       "      <td>4</td>\n",
       "      <td>0.000000</td>\n",
       "      <td>0.000000</td>\n",
       "      <td>Neutral</td>\n",
       "      <td>Passive</td>\n",
       "    </tr>\n",
       "    <tr>\n",
       "      <th>255597</th>\n",
       "      <td>He lied People died</td>\n",
       "      <td>0</td>\n",
       "      <td>0</td>\n",
       "      <td>0</td>\n",
       "      <td>Trump</td>\n",
       "      <td>4</td>\n",
       "      <td>0.000000</td>\n",
       "      <td>0.000000</td>\n",
       "      <td>Neutral</td>\n",
       "      <td>Passive</td>\n",
       "    </tr>\n",
       "    <tr>\n",
       "      <th>255598</th>\n",
       "      <td>Thanks for your hard work to re elect Preside...</td>\n",
       "      <td>0</td>\n",
       "      <td>0</td>\n",
       "      <td>2</td>\n",
       "      <td>Trump</td>\n",
       "      <td>10</td>\n",
       "      <td>0.547222</td>\n",
       "      <td>0.236111</td>\n",
       "      <td>Positive</td>\n",
       "      <td>Balanced</td>\n",
       "    </tr>\n",
       "    <tr>\n",
       "      <th>255599</th>\n",
       "      <td>My Big President</td>\n",
       "      <td>0</td>\n",
       "      <td>0</td>\n",
       "      <td>0</td>\n",
       "      <td>Trump</td>\n",
       "      <td>3</td>\n",
       "      <td>0.100000</td>\n",
       "      <td>0.000000</td>\n",
       "      <td>Neutral</td>\n",
       "      <td>Passive</td>\n",
       "    </tr>\n",
       "    <tr>\n",
       "      <th>255600</th>\n",
       "      <td>Facts are facts and Ted Cruz is dick is factu...</td>\n",
       "      <td>0</td>\n",
       "      <td>0</td>\n",
       "      <td>0</td>\n",
       "      <td>Trump</td>\n",
       "      <td>28</td>\n",
       "      <td>1.000000</td>\n",
       "      <td>-0.100000</td>\n",
       "      <td>Negative</td>\n",
       "      <td>Subjective</td>\n",
       "    </tr>\n",
       "  </tbody>\n",
       "</table>\n",
       "<p>160916 rows × 10 columns</p>\n",
       "</div>"
      ],
      "text/plain": [
       "                                                    tweet  replies_count  \\\n",
       "94685                                 SMH such ignorance               0   \n",
       "94686                           Precise Hahahahahahahaha               0   \n",
       "94687    shame on mr president 4 yrs ago when voted fo...              0   \n",
       "94688                       YEP And PTL you did Love you               0   \n",
       "94689                    not even your wife loves you Sad              0   \n",
       "...                                                   ...            ...   \n",
       "255596                             Keep on dreaming Trump              0   \n",
       "255597                               He lied People died               0   \n",
       "255598   Thanks for your hard work to re elect Preside...              0   \n",
       "255599                                   My Big President              0   \n",
       "255600   Facts are facts and Ted Cruz is dick is factu...              0   \n",
       "\n",
       "        retweets_count  likes_count candidate  tweet_length  Subjectivity  \\\n",
       "94685                0            0     Trump             3      0.500000   \n",
       "94686                0            0     Trump             2      0.800000   \n",
       "94687                1            0     Trump            25      0.308333   \n",
       "94688                0            0     Trump             7      0.600000   \n",
       "94689                0            0     Trump             7      1.000000   \n",
       "...                ...          ...       ...           ...           ...   \n",
       "255596               0            0     Trump             4      0.000000   \n",
       "255597               0            0     Trump             4      0.000000   \n",
       "255598               0            2     Trump            10      0.547222   \n",
       "255599               0            0     Trump             3      0.100000   \n",
       "255600               0            0     Trump            28      1.000000   \n",
       "\n",
       "        Polarity Sentiment Subjectivity_Class  \n",
       "94685   0.000000   Neutral           Balanced  \n",
       "94686   0.400000  Positive         Subjective  \n",
       "94687   0.066667  Positive           Balanced  \n",
       "94688   0.500000  Positive           Balanced  \n",
       "94689  -0.500000  Negative         Subjective  \n",
       "...          ...       ...                ...  \n",
       "255596  0.000000   Neutral            Passive  \n",
       "255597  0.000000   Neutral            Passive  \n",
       "255598  0.236111  Positive           Balanced  \n",
       "255599  0.000000   Neutral            Passive  \n",
       "255600 -0.100000  Negative         Subjective  \n",
       "\n",
       "[160916 rows x 10 columns]"
      ]
     },
     "execution_count": 23,
     "metadata": {},
     "output_type": "execute_result"
    }
   ],
   "source": [
    "# Categorize subjectivity bins\n",
    "trump_sentiment[\"Subjectivity_Class\"] = pd.cut(trump_bin, bins=bins, labels=groups)\n",
    "trump_sentiment"
   ]
  },
  {
   "cell_type": "code",
   "execution_count": 24,
   "metadata": {},
   "outputs": [
    {
     "data": {
      "text/plain": [
       "Subjectivity_Class\n",
       "Passive       77259\n",
       "Balanced      59357\n",
       "Subjective    24300\n",
       "Name: tweet, dtype: int64"
      ]
     },
     "execution_count": 24,
     "metadata": {},
     "output_type": "execute_result"
    }
   ],
   "source": [
    "# Calculating Totals by Subjectivity Ranges\n",
    "trump_sub_groups_count = trump_sentiment.groupby([\"Subjectivity_Class\"]).count()[\"tweet\"]\n",
    "trump_sub_groups_count"
   ]
  },
  {
   "cell_type": "code",
   "execution_count": 25,
   "metadata": {},
   "outputs": [
    {
     "data": {
      "text/plain": [
       "Subjectivity_Class\n",
       "Passive       0.771496\n",
       "Balanced      1.009215\n",
       "Subjective    0.554733\n",
       "Name: replies_count, dtype: float64"
      ]
     },
     "execution_count": 25,
     "metadata": {},
     "output_type": "execute_result"
    }
   ],
   "source": [
    "# Average Replies\n",
    "trump_avg_replies = trump_sentiment.groupby([\"Subjectivity_Class\"]).mean()[\"replies_count\"]\n",
    "trump_avg_replies"
   ]
  },
  {
   "cell_type": "code",
   "execution_count": 26,
   "metadata": {},
   "outputs": [
    {
     "data": {
      "text/plain": [
       "Subjectivity_Class\n",
       "Passive       1.397714\n",
       "Balanced      2.131627\n",
       "Subjective    0.898395\n",
       "Name: retweets_count, dtype: float64"
      ]
     },
     "execution_count": 26,
     "metadata": {},
     "output_type": "execute_result"
    }
   ],
   "source": [
    "# Average Retweets\n",
    "trump_avg_retweets = trump_sentiment.groupby([\"Subjectivity_Class\"]).mean()[\"retweets_count\"]\n",
    "trump_avg_retweets"
   ]
  },
  {
   "cell_type": "code",
   "execution_count": 27,
   "metadata": {},
   "outputs": [
    {
     "data": {
      "text/plain": [
       "Subjectivity_Class\n",
       "Passive        8.497793\n",
       "Balanced      10.751790\n",
       "Subjective     6.537037\n",
       "Name: likes_count, dtype: float64"
      ]
     },
     "execution_count": 27,
     "metadata": {},
     "output_type": "execute_result"
    }
   ],
   "source": [
    "# Average Likes\n",
    "trump_avg_likes = trump_sentiment.groupby([\"Subjectivity_Class\"]).mean()[\"likes_count\"]\n",
    "trump_avg_likes"
   ]
  },
  {
   "cell_type": "code",
   "execution_count": 28,
   "metadata": {},
   "outputs": [
    {
     "data": {
      "text/plain": [
       "Subjectivity_Class\n",
       "Passive       12.532106\n",
       "Balanced      23.292737\n",
       "Subjective    16.267737\n",
       "Name: tweet_length, dtype: float64"
      ]
     },
     "execution_count": 28,
     "metadata": {},
     "output_type": "execute_result"
    }
   ],
   "source": [
    "# Average Tweet Length\n",
    "trump_avg_tweet_length = trump_sentiment.groupby([\"Subjectivity_Class\"]).mean()[\"tweet_length\"]\n",
    "trump_avg_tweet_length"
   ]
  },
  {
   "cell_type": "code",
   "execution_count": 29,
   "metadata": {},
   "outputs": [
    {
     "data": {
      "text/plain": [
       "Subjectivity_Class\n",
       "Passive       0.015592\n",
       "Balanced      0.114384\n",
       "Subjective    0.001986\n",
       "Name: Polarity, dtype: float64"
      ]
     },
     "execution_count": 29,
     "metadata": {},
     "output_type": "execute_result"
    }
   ],
   "source": [
    "# Average Sentiment\n",
    "trump_avg_sentiment_score= trump_sentiment.groupby([\"Subjectivity_Class\"]).mean()[\"Polarity\"]\n",
    "trump_avg_sentiment_score"
   ]
  },
  {
   "cell_type": "code",
   "execution_count": 30,
   "metadata": {},
   "outputs": [
    {
     "data": {
      "text/html": [
       "<div>\n",
       "<style scoped>\n",
       "    .dataframe tbody tr th:only-of-type {\n",
       "        vertical-align: middle;\n",
       "    }\n",
       "\n",
       "    .dataframe tbody tr th {\n",
       "        vertical-align: top;\n",
       "    }\n",
       "\n",
       "    .dataframe thead th {\n",
       "        text-align: right;\n",
       "    }\n",
       "</style>\n",
       "<table border=\"1\" class=\"dataframe\">\n",
       "  <thead>\n",
       "    <tr style=\"text-align: right;\">\n",
       "      <th></th>\n",
       "      <th>Avg Replies</th>\n",
       "      <th>Avg Retweets</th>\n",
       "      <th>Avg Likes</th>\n",
       "      <th>Avg Tweet Length</th>\n",
       "      <th>Avg Sentiment</th>\n",
       "      <th>Total</th>\n",
       "    </tr>\n",
       "    <tr>\n",
       "      <th>Subjectivity_Class</th>\n",
       "      <th></th>\n",
       "      <th></th>\n",
       "      <th></th>\n",
       "      <th></th>\n",
       "      <th></th>\n",
       "      <th></th>\n",
       "    </tr>\n",
       "  </thead>\n",
       "  <tbody>\n",
       "    <tr>\n",
       "      <th>Passive</th>\n",
       "      <td>0.771496</td>\n",
       "      <td>1.397714</td>\n",
       "      <td>8.497793</td>\n",
       "      <td>12.532106</td>\n",
       "      <td>0.015592</td>\n",
       "      <td>77259</td>\n",
       "    </tr>\n",
       "    <tr>\n",
       "      <th>Balanced</th>\n",
       "      <td>1.009215</td>\n",
       "      <td>2.131627</td>\n",
       "      <td>10.751790</td>\n",
       "      <td>23.292737</td>\n",
       "      <td>0.114384</td>\n",
       "      <td>59357</td>\n",
       "    </tr>\n",
       "    <tr>\n",
       "      <th>Subjective</th>\n",
       "      <td>0.554733</td>\n",
       "      <td>0.898395</td>\n",
       "      <td>6.537037</td>\n",
       "      <td>16.267737</td>\n",
       "      <td>0.001986</td>\n",
       "      <td>24300</td>\n",
       "    </tr>\n",
       "  </tbody>\n",
       "</table>\n",
       "</div>"
      ],
      "text/plain": [
       "                    Avg Replies  Avg Retweets  Avg Likes  Avg Tweet Length  \\\n",
       "Subjectivity_Class                                                           \n",
       "Passive                0.771496      1.397714   8.497793         12.532106   \n",
       "Balanced               1.009215      2.131627  10.751790         23.292737   \n",
       "Subjective             0.554733      0.898395   6.537037         16.267737   \n",
       "\n",
       "                    Avg Sentiment  Total  \n",
       "Subjectivity_Class                        \n",
       "Passive                  0.015592  77259  \n",
       "Balanced                 0.114384  59357  \n",
       "Subjective               0.001986  24300  "
      ]
     },
     "execution_count": 30,
     "metadata": {},
     "output_type": "execute_result"
    }
   ],
   "source": [
    "# Combine each Series for table\n",
    "trump_subjectivity_table = pd.DataFrame({\n",
    "               \"Avg Replies\": trump_avg_replies,\n",
    "               \"Avg Retweets\": trump_avg_retweets,\n",
    "               \"Avg Likes\": trump_avg_likes,\n",
    "               \"Avg Tweet Length\": trump_avg_tweet_length,\n",
    "               \"Avg Sentiment\" : trump_avg_sentiment_score,\n",
    "               \"Total\" : trump_sub_groups_count})\n",
    "\n",
    "trump_subjectivity_table.head()"
   ]
  },
  {
   "cell_type": "code",
   "execution_count": 31,
   "metadata": {},
   "outputs": [
    {
     "data": {
      "text/html": [
       "<div>\n",
       "<style scoped>\n",
       "    .dataframe tbody tr th:only-of-type {\n",
       "        vertical-align: middle;\n",
       "    }\n",
       "\n",
       "    .dataframe tbody tr th {\n",
       "        vertical-align: top;\n",
       "    }\n",
       "\n",
       "    .dataframe thead th {\n",
       "        text-align: right;\n",
       "    }\n",
       "</style>\n",
       "<table border=\"1\" class=\"dataframe\">\n",
       "  <thead>\n",
       "    <tr style=\"text-align: right;\">\n",
       "      <th></th>\n",
       "      <th>Avg Replies</th>\n",
       "      <th>Avg Retweets</th>\n",
       "      <th>Avg Likes</th>\n",
       "      <th>Avg Tweet Length</th>\n",
       "      <th>Avg Sentiment</th>\n",
       "      <th>Total</th>\n",
       "    </tr>\n",
       "    <tr>\n",
       "      <th>Subjectivity_Class</th>\n",
       "      <th></th>\n",
       "      <th></th>\n",
       "      <th></th>\n",
       "      <th></th>\n",
       "      <th></th>\n",
       "      <th></th>\n",
       "    </tr>\n",
       "  </thead>\n",
       "  <tbody>\n",
       "    <tr>\n",
       "      <th>Passive</th>\n",
       "      <td>0.8</td>\n",
       "      <td>1.4</td>\n",
       "      <td>8.5</td>\n",
       "      <td>12.5</td>\n",
       "      <td>0.016</td>\n",
       "      <td>77259</td>\n",
       "    </tr>\n",
       "    <tr>\n",
       "      <th>Balanced</th>\n",
       "      <td>1.0</td>\n",
       "      <td>2.1</td>\n",
       "      <td>10.8</td>\n",
       "      <td>23.3</td>\n",
       "      <td>0.114</td>\n",
       "      <td>59357</td>\n",
       "    </tr>\n",
       "    <tr>\n",
       "      <th>Subjective</th>\n",
       "      <td>0.6</td>\n",
       "      <td>0.9</td>\n",
       "      <td>6.5</td>\n",
       "      <td>16.3</td>\n",
       "      <td>0.002</td>\n",
       "      <td>24300</td>\n",
       "    </tr>\n",
       "  </tbody>\n",
       "</table>\n",
       "</div>"
      ],
      "text/plain": [
       "                   Avg Replies Avg Retweets Avg Likes Avg Tweet Length  \\\n",
       "Subjectivity_Class                                                       \n",
       "Passive                    0.8          1.4       8.5             12.5   \n",
       "Balanced                   1.0          2.1      10.8             23.3   \n",
       "Subjective                 0.6          0.9       6.5             16.3   \n",
       "\n",
       "                   Avg Sentiment  Total  \n",
       "Subjectivity_Class                       \n",
       "Passive                    0.016  77259  \n",
       "Balanced                   0.114  59357  \n",
       "Subjective                 0.002  24300  "
      ]
     },
     "execution_count": 31,
     "metadata": {},
     "output_type": "execute_result"
    }
   ],
   "source": [
    "# Format each column\n",
    "trump_subjectivity_table[\"Avg Replies\"] = trump_subjectivity_table[\"Avg Replies\"].map(\"{:.1f}\".format)\n",
    "\n",
    "trump_subjectivity_table[\"Avg Retweets\"] = trump_subjectivity_table[\"Avg Retweets\"].map(\"{:.1f}\".format)\n",
    "\n",
    "trump_subjectivity_table[\"Avg Likes\"] = trump_subjectivity_table[\"Avg Likes\"].map(\"{:.1f}\".format)\n",
    "\n",
    "trump_subjectivity_table[\"Avg Tweet Length\"] = trump_subjectivity_table[\"Avg Tweet Length\"].map(\"{:.1f}\".format)\n",
    "\n",
    "trump_subjectivity_table[\"Avg Sentiment\"] = trump_subjectivity_table[\"Avg Sentiment\"].map(\"{:.3f}\".format)\n",
    "\n",
    "\n",
    "# Display the DataFrame.\n",
    "trump_subjectivity_table.head()"
   ]
  },
  {
   "cell_type": "code",
   "execution_count": 32,
   "metadata": {},
   "outputs": [],
   "source": [
    "trump_subjectivity_table.to_csv(r'C:\\Users\\kevin\\Documents\\myrepo\\Final-Project\\Resources\\Second_debate_trump_subjectivity.csv', index = True, header=True)"
   ]
  },
  {
   "cell_type": "code",
   "execution_count": null,
   "metadata": {},
   "outputs": [],
   "source": []
  }
 ],
 "metadata": {
  "kernelspec": {
   "display_name": "PythonData",
   "language": "python",
   "name": "pythondata"
  },
  "language_info": {
   "codemirror_mode": {
    "name": "ipython",
    "version": 3
   },
   "file_extension": ".py",
   "mimetype": "text/x-python",
   "name": "python",
   "nbconvert_exporter": "python",
   "pygments_lexer": "ipython3",
   "version": "3.7.7"
  }
 },
 "nbformat": 4,
 "nbformat_minor": 4
}
