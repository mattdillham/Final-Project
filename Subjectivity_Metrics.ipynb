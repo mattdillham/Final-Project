{
 "cells": [
  {
   "cell_type": "markdown",
   "metadata": {},
   "source": [
    "# Subjectivity Analysis"
   ]
  },
  {
   "cell_type": "markdown",
   "metadata": {},
   "source": [
    "### Import Dependency"
   ]
  },
  {
   "cell_type": "code",
   "execution_count": 17,
   "metadata": {},
   "outputs": [],
   "source": [
    "import pandas as pd"
   ]
  },
  {
   "cell_type": "code",
   "execution_count": 18,
   "metadata": {},
   "outputs": [
    {
     "data": {
      "text/html": [
       "<div>\n",
       "<style scoped>\n",
       "    .dataframe tbody tr th:only-of-type {\n",
       "        vertical-align: middle;\n",
       "    }\n",
       "\n",
       "    .dataframe tbody tr th {\n",
       "        vertical-align: top;\n",
       "    }\n",
       "\n",
       "    .dataframe thead th {\n",
       "        text-align: right;\n",
       "    }\n",
       "</style>\n",
       "<table border=\"1\" class=\"dataframe\">\n",
       "  <thead>\n",
       "    <tr style=\"text-align: right;\">\n",
       "      <th></th>\n",
       "      <th>tweet</th>\n",
       "      <th>replies_count</th>\n",
       "      <th>retweets_count</th>\n",
       "      <th>likes_count</th>\n",
       "      <th>candidate</th>\n",
       "      <th>tweet_length</th>\n",
       "      <th>Subjectivity</th>\n",
       "      <th>Polarity</th>\n",
       "      <th>Sentiment</th>\n",
       "    </tr>\n",
       "  </thead>\n",
       "  <tbody>\n",
       "    <tr>\n",
       "      <th>0</th>\n",
       "      <td>Truly wish YOU had been the Moderator Brian Y...</td>\n",
       "      <td>0</td>\n",
       "      <td>0</td>\n",
       "      <td>0</td>\n",
       "      <td>Biden</td>\n",
       "      <td>40</td>\n",
       "      <td>0.1</td>\n",
       "      <td>-0.20</td>\n",
       "      <td>Negative</td>\n",
       "    </tr>\n",
       "    <tr>\n",
       "      <th>1</th>\n",
       "      <td>Crazy different RT Joe Biden hit Trump with th...</td>\n",
       "      <td>0</td>\n",
       "      <td>0</td>\n",
       "      <td>0</td>\n",
       "      <td>Biden</td>\n",
       "      <td>13</td>\n",
       "      <td>0.7</td>\n",
       "      <td>-0.20</td>\n",
       "      <td>Negative</td>\n",
       "    </tr>\n",
       "    <tr>\n",
       "      <th>2</th>\n",
       "      <td>Brilliant retort Joe The world hopes for your...</td>\n",
       "      <td>0</td>\n",
       "      <td>0</td>\n",
       "      <td>0</td>\n",
       "      <td>Biden</td>\n",
       "      <td>20</td>\n",
       "      <td>0.5</td>\n",
       "      <td>0.45</td>\n",
       "      <td>Positive</td>\n",
       "    </tr>\n",
       "    <tr>\n",
       "      <th>3</th>\n",
       "      <td>Anytime or slandering Joe Biden Me</td>\n",
       "      <td>0</td>\n",
       "      <td>2</td>\n",
       "      <td>2</td>\n",
       "      <td>Biden</td>\n",
       "      <td>6</td>\n",
       "      <td>0.0</td>\n",
       "      <td>0.00</td>\n",
       "      <td>Neutral</td>\n",
       "    </tr>\n",
       "    <tr>\n",
       "      <th>4</th>\n",
       "      <td>You are just trying to rile us and it working</td>\n",
       "      <td>0</td>\n",
       "      <td>0</td>\n",
       "      <td>1</td>\n",
       "      <td>Biden</td>\n",
       "      <td>10</td>\n",
       "      <td>0.0</td>\n",
       "      <td>0.00</td>\n",
       "      <td>Neutral</td>\n",
       "    </tr>\n",
       "  </tbody>\n",
       "</table>\n",
       "</div>"
      ],
      "text/plain": [
       "                                               tweet  replies_count  \\\n",
       "0   Truly wish YOU had been the Moderator Brian Y...              0   \n",
       "1  Crazy different RT Joe Biden hit Trump with th...              0   \n",
       "2   Brilliant retort Joe The world hopes for your...              0   \n",
       "3                Anytime or slandering Joe Biden Me               0   \n",
       "4     You are just trying to rile us and it working               0   \n",
       "\n",
       "   retweets_count  likes_count candidate  tweet_length  Subjectivity  \\\n",
       "0               0            0     Biden            40           0.1   \n",
       "1               0            0     Biden            13           0.7   \n",
       "2               0            0     Biden            20           0.5   \n",
       "3               2            2     Biden             6           0.0   \n",
       "4               0            1     Biden            10           0.0   \n",
       "\n",
       "   Polarity Sentiment  \n",
       "0     -0.20  Negative  \n",
       "1     -0.20  Negative  \n",
       "2      0.45  Positive  \n",
       "3      0.00   Neutral  \n",
       "4      0.00   Neutral  "
      ]
     },
     "execution_count": 18,
     "metadata": {},
     "output_type": "execute_result"
    }
   ],
   "source": [
    "# Read csv file\n",
    "file=('Concat_ML_Data/first_debate.csv')\n",
    "first_df=pd.read_csv(file)\n",
    "first_df.head()"
   ]
  },
  {
   "cell_type": "code",
   "execution_count": 19,
   "metadata": {},
   "outputs": [],
   "source": [
    "# Separating Biden and Trump Data\n",
    "biden_sentiment=first_df[(first_df['candidate']=='Biden')]\n",
    "trump_sentiment=first_df[(first_df['candidate']=='Trump')]"
   ]
  },
  {
   "cell_type": "markdown",
   "metadata": {},
   "source": [
    "### Biden Subjectivity Analysis"
   ]
  },
  {
   "cell_type": "code",
   "execution_count": 20,
   "metadata": {},
   "outputs": [
    {
     "data": {
      "text/plain": [
       "0         0.100000\n",
       "1         0.700000\n",
       "2         0.500000\n",
       "3         0.000000\n",
       "4         0.000000\n",
       "            ...   \n",
       "147161    0.300000\n",
       "147162    0.000000\n",
       "147163    0.666667\n",
       "147164    0.500000\n",
       "147165    0.000000\n",
       "Name: Subjectivity, Length: 147166, dtype: float64"
      ]
     },
     "execution_count": 20,
     "metadata": {},
     "output_type": "execute_result"
    }
   ],
   "source": [
    "# Creating Bins for Subjectivity\n",
    "biden_bin=biden_sentiment.Subjectivity\n",
    "biden_bin"
   ]
  },
  {
   "cell_type": "markdown",
   "metadata": {},
   "source": [
    "### Creating Bins"
   ]
  },
  {
   "cell_type": "code",
   "execution_count": 23,
   "metadata": {},
   "outputs": [
    {
     "data": {
      "text/plain": [
       "Subjectivity\n",
       "(-0.5, 0.3]    71438\n",
       "(0.3, 0.7]     55724\n",
       "(0.7, 1.5]     20004\n",
       "Name: Subjectivity, dtype: int64"
      ]
     },
     "execution_count": 23,
     "metadata": {},
     "output_type": "execute_result"
    }
   ],
   "source": [
    "# Assumption of Subjectivity Ranges\n",
    "# 0.0 - 0.3 => Passive (or Nonchalant Tweeter)\n",
    "# 0.3 - 0.7 => Balanced (or more Objective Tweeter)\n",
    "# 0.7 - 1.0 => Subjective (or less Objective Tweeter)\n",
    "bins = bins = [float('-0.5'),0.3,0.7,float('1.5')]\n",
    "groups = [\"Passive\", \"Balanced\", \"Subjective\"]\n",
    "biden_bin.groupby(pd.cut(biden_bin, bins)).count()"
   ]
  },
  {
   "cell_type": "code",
   "execution_count": 24,
   "metadata": {},
   "outputs": [
    {
     "name": "stderr",
     "output_type": "stream",
     "text": [
      "C:\\Users\\Greg\\anaconda3\\envs\\PythonData\\lib\\site-packages\\ipykernel_launcher.py:2: SettingWithCopyWarning: \n",
      "A value is trying to be set on a copy of a slice from a DataFrame.\n",
      "Try using .loc[row_indexer,col_indexer] = value instead\n",
      "\n",
      "See the caveats in the documentation: https://pandas.pydata.org/pandas-docs/stable/user_guide/indexing.html#returning-a-view-versus-a-copy\n",
      "  \n"
     ]
    },
    {
     "data": {
      "text/html": [
       "<div>\n",
       "<style scoped>\n",
       "    .dataframe tbody tr th:only-of-type {\n",
       "        vertical-align: middle;\n",
       "    }\n",
       "\n",
       "    .dataframe tbody tr th {\n",
       "        vertical-align: top;\n",
       "    }\n",
       "\n",
       "    .dataframe thead th {\n",
       "        text-align: right;\n",
       "    }\n",
       "</style>\n",
       "<table border=\"1\" class=\"dataframe\">\n",
       "  <thead>\n",
       "    <tr style=\"text-align: right;\">\n",
       "      <th></th>\n",
       "      <th>tweet</th>\n",
       "      <th>replies_count</th>\n",
       "      <th>retweets_count</th>\n",
       "      <th>likes_count</th>\n",
       "      <th>candidate</th>\n",
       "      <th>tweet_length</th>\n",
       "      <th>Subjectivity</th>\n",
       "      <th>Polarity</th>\n",
       "      <th>Sentiment</th>\n",
       "      <th>Subjectivity_Class</th>\n",
       "    </tr>\n",
       "  </thead>\n",
       "  <tbody>\n",
       "    <tr>\n",
       "      <th>0</th>\n",
       "      <td>Truly wish YOU had been the Moderator Brian Y...</td>\n",
       "      <td>0</td>\n",
       "      <td>0</td>\n",
       "      <td>0</td>\n",
       "      <td>Biden</td>\n",
       "      <td>40</td>\n",
       "      <td>0.100000</td>\n",
       "      <td>-0.200000</td>\n",
       "      <td>Negative</td>\n",
       "      <td>Passive</td>\n",
       "    </tr>\n",
       "    <tr>\n",
       "      <th>1</th>\n",
       "      <td>Crazy different RT Joe Biden hit Trump with th...</td>\n",
       "      <td>0</td>\n",
       "      <td>0</td>\n",
       "      <td>0</td>\n",
       "      <td>Biden</td>\n",
       "      <td>13</td>\n",
       "      <td>0.700000</td>\n",
       "      <td>-0.200000</td>\n",
       "      <td>Negative</td>\n",
       "      <td>Subjective</td>\n",
       "    </tr>\n",
       "    <tr>\n",
       "      <th>2</th>\n",
       "      <td>Brilliant retort Joe The world hopes for your...</td>\n",
       "      <td>0</td>\n",
       "      <td>0</td>\n",
       "      <td>0</td>\n",
       "      <td>Biden</td>\n",
       "      <td>20</td>\n",
       "      <td>0.500000</td>\n",
       "      <td>0.450000</td>\n",
       "      <td>Positive</td>\n",
       "      <td>Balanced</td>\n",
       "    </tr>\n",
       "    <tr>\n",
       "      <th>3</th>\n",
       "      <td>Anytime or slandering Joe Biden Me</td>\n",
       "      <td>0</td>\n",
       "      <td>2</td>\n",
       "      <td>2</td>\n",
       "      <td>Biden</td>\n",
       "      <td>6</td>\n",
       "      <td>0.000000</td>\n",
       "      <td>0.000000</td>\n",
       "      <td>Neutral</td>\n",
       "      <td>Passive</td>\n",
       "    </tr>\n",
       "    <tr>\n",
       "      <th>4</th>\n",
       "      <td>You are just trying to rile us and it working</td>\n",
       "      <td>0</td>\n",
       "      <td>0</td>\n",
       "      <td>1</td>\n",
       "      <td>Biden</td>\n",
       "      <td>10</td>\n",
       "      <td>0.000000</td>\n",
       "      <td>0.000000</td>\n",
       "      <td>Neutral</td>\n",
       "      <td>Passive</td>\n",
       "    </tr>\n",
       "    <tr>\n",
       "      <th>...</th>\n",
       "      <td>...</td>\n",
       "      <td>...</td>\n",
       "      <td>...</td>\n",
       "      <td>...</td>\n",
       "      <td>...</td>\n",
       "      <td>...</td>\n",
       "      <td>...</td>\n",
       "      <td>...</td>\n",
       "      <td>...</td>\n",
       "      <td>...</td>\n",
       "    </tr>\n",
       "    <tr>\n",
       "      <th>147161</th>\n",
       "      <td>doesn matter you shouldn bring up personal life</td>\n",
       "      <td>0</td>\n",
       "      <td>0</td>\n",
       "      <td>3</td>\n",
       "      <td>Biden</td>\n",
       "      <td>8</td>\n",
       "      <td>0.300000</td>\n",
       "      <td>0.000000</td>\n",
       "      <td>Neutral</td>\n",
       "      <td>Passive</td>\n",
       "    </tr>\n",
       "    <tr>\n",
       "      <th>147162</th>\n",
       "      <td>How</td>\n",
       "      <td>0</td>\n",
       "      <td>0</td>\n",
       "      <td>0</td>\n",
       "      <td>Biden</td>\n",
       "      <td>1</td>\n",
       "      <td>0.000000</td>\n",
       "      <td>0.000000</td>\n",
       "      <td>Neutral</td>\n",
       "      <td>Passive</td>\n",
       "    </tr>\n",
       "    <tr>\n",
       "      <th>147163</th>\n",
       "      <td>could have done better easily</td>\n",
       "      <td>0</td>\n",
       "      <td>0</td>\n",
       "      <td>1</td>\n",
       "      <td>Biden</td>\n",
       "      <td>5</td>\n",
       "      <td>0.666667</td>\n",
       "      <td>0.466667</td>\n",
       "      <td>Positive</td>\n",
       "      <td>Balanced</td>\n",
       "    </tr>\n",
       "    <tr>\n",
       "      <th>147164</th>\n",
       "      <td>unconscious more like</td>\n",
       "      <td>1</td>\n",
       "      <td>0</td>\n",
       "      <td>1</td>\n",
       "      <td>Biden</td>\n",
       "      <td>3</td>\n",
       "      <td>0.500000</td>\n",
       "      <td>0.500000</td>\n",
       "      <td>Positive</td>\n",
       "      <td>Balanced</td>\n",
       "    </tr>\n",
       "    <tr>\n",
       "      <th>147165</th>\n",
       "      <td>Joe Biden gets what he asked for</td>\n",
       "      <td>0</td>\n",
       "      <td>0</td>\n",
       "      <td>0</td>\n",
       "      <td>Biden</td>\n",
       "      <td>7</td>\n",
       "      <td>0.000000</td>\n",
       "      <td>0.000000</td>\n",
       "      <td>Neutral</td>\n",
       "      <td>Passive</td>\n",
       "    </tr>\n",
       "  </tbody>\n",
       "</table>\n",
       "<p>147166 rows × 10 columns</p>\n",
       "</div>"
      ],
      "text/plain": [
       "                                                    tweet  replies_count  \\\n",
       "0        Truly wish YOU had been the Moderator Brian Y...              0   \n",
       "1       Crazy different RT Joe Biden hit Trump with th...              0   \n",
       "2        Brilliant retort Joe The world hopes for your...              0   \n",
       "3                     Anytime or slandering Joe Biden Me               0   \n",
       "4          You are just trying to rile us and it working               0   \n",
       "...                                                   ...            ...   \n",
       "147161    doesn matter you shouldn bring up personal life              0   \n",
       "147162                                               How               0   \n",
       "147163                      could have done better easily              0   \n",
       "147164                             unconscious more like               1   \n",
       "147165                  Joe Biden gets what he asked for               0   \n",
       "\n",
       "        retweets_count  likes_count candidate  tweet_length  Subjectivity  \\\n",
       "0                    0            0     Biden            40      0.100000   \n",
       "1                    0            0     Biden            13      0.700000   \n",
       "2                    0            0     Biden            20      0.500000   \n",
       "3                    2            2     Biden             6      0.000000   \n",
       "4                    0            1     Biden            10      0.000000   \n",
       "...                ...          ...       ...           ...           ...   \n",
       "147161               0            3     Biden             8      0.300000   \n",
       "147162               0            0     Biden             1      0.000000   \n",
       "147163               0            1     Biden             5      0.666667   \n",
       "147164               0            1     Biden             3      0.500000   \n",
       "147165               0            0     Biden             7      0.000000   \n",
       "\n",
       "        Polarity Sentiment Subjectivity_Class  \n",
       "0      -0.200000  Negative            Passive  \n",
       "1      -0.200000  Negative         Subjective  \n",
       "2       0.450000  Positive           Balanced  \n",
       "3       0.000000   Neutral            Passive  \n",
       "4       0.000000   Neutral            Passive  \n",
       "...          ...       ...                ...  \n",
       "147161  0.000000   Neutral            Passive  \n",
       "147162  0.000000   Neutral            Passive  \n",
       "147163  0.466667  Positive           Balanced  \n",
       "147164  0.500000  Positive           Balanced  \n",
       "147165  0.000000   Neutral            Passive  \n",
       "\n",
       "[147166 rows x 10 columns]"
      ]
     },
     "execution_count": 24,
     "metadata": {},
     "output_type": "execute_result"
    }
   ],
   "source": [
    "# Categorize subjectivity bins\n",
    "biden_sentiment[\"Subjectivity_Class\"] = pd.cut(biden_bin, bins=bins, labels=groups)\n",
    "biden_sentiment"
   ]
  },
  {
   "cell_type": "markdown",
   "metadata": {},
   "source": [
    "### Feature Engineering (Biden)"
   ]
  },
  {
   "cell_type": "code",
   "execution_count": 27,
   "metadata": {},
   "outputs": [
    {
     "data": {
      "text/plain": [
       "Subjectivity_Class\n",
       "Passive       71438\n",
       "Balanced      55724\n",
       "Subjective    20004\n",
       "Name: tweet, dtype: int64"
      ]
     },
     "execution_count": 27,
     "metadata": {},
     "output_type": "execute_result"
    }
   ],
   "source": [
    "# Calculating Totals by Subjectivity Ranges\n",
    "biden_sub_groups_count = biden_sentiment.groupby([\"Subjectivity_Class\"]).count()[\"tweet\"]\n",
    "biden_sub_groups_count"
   ]
  },
  {
   "cell_type": "code",
   "execution_count": 28,
   "metadata": {},
   "outputs": [
    {
     "data": {
      "text/plain": [
       "Subjectivity_Class\n",
       "Passive       1.182186\n",
       "Balanced      1.500574\n",
       "Subjective    2.073885\n",
       "Name: replies_count, dtype: float64"
      ]
     },
     "execution_count": 28,
     "metadata": {},
     "output_type": "execute_result"
    }
   ],
   "source": [
    "# Average Replies\n",
    "biden_avg_replies = biden_sentiment.groupby([\"Subjectivity_Class\"]).mean()[\"replies_count\"]\n",
    "biden_avg_replies"
   ]
  },
  {
   "cell_type": "code",
   "execution_count": 29,
   "metadata": {},
   "outputs": [
    {
     "data": {
      "text/plain": [
       "Subjectivity_Class\n",
       "Passive       4.639730\n",
       "Balanced      4.098342\n",
       "Subjective    4.870176\n",
       "Name: retweets_count, dtype: float64"
      ]
     },
     "execution_count": 29,
     "metadata": {},
     "output_type": "execute_result"
    }
   ],
   "source": [
    "# Average Retweets\n",
    "biden_avg_retweets = biden_sentiment.groupby([\"Subjectivity_Class\"]).mean()[\"retweets_count\"]\n",
    "biden_avg_retweets"
   ]
  },
  {
   "cell_type": "code",
   "execution_count": 30,
   "metadata": {},
   "outputs": [
    {
     "data": {
      "text/plain": [
       "Subjectivity_Class\n",
       "Passive       19.837020\n",
       "Balanced      18.730565\n",
       "Subjective    24.556239\n",
       "Name: likes_count, dtype: float64"
      ]
     },
     "execution_count": 30,
     "metadata": {},
     "output_type": "execute_result"
    }
   ],
   "source": [
    "# Average Likes\n",
    "biden_avg_likes = biden_sentiment.groupby([\"Subjectivity_Class\"]).mean()[\"likes_count\"]\n",
    "biden_avg_likes"
   ]
  },
  {
   "cell_type": "code",
   "execution_count": 31,
   "metadata": {},
   "outputs": [
    {
     "data": {
      "text/plain": [
       "Subjectivity_Class\n",
       "Passive       13.898149\n",
       "Balanced      25.190295\n",
       "Subjective    18.645321\n",
       "Name: tweet_length, dtype: float64"
      ]
     },
     "execution_count": 31,
     "metadata": {},
     "output_type": "execute_result"
    }
   ],
   "source": [
    "# Average Tweet Length\n",
    "biden_avg_tweet_length = biden_sentiment.groupby([\"Subjectivity_Class\"]).mean()[\"tweet_length\"]\n",
    "biden_avg_tweet_length"
   ]
  },
  {
   "cell_type": "code",
   "execution_count": 32,
   "metadata": {},
   "outputs": [
    {
     "data": {
      "text/plain": [
       "Subjectivity_Class\n",
       "Passive       0.016924\n",
       "Balanced      0.108526\n",
       "Subjective    0.013532\n",
       "Name: Polarity, dtype: float64"
      ]
     },
     "execution_count": 32,
     "metadata": {},
     "output_type": "execute_result"
    }
   ],
   "source": [
    "# Average Sentiment Score\n",
    "biden_avg_sentiment_score= biden_sentiment.groupby([\"Subjectivity_Class\"]).mean()[\"Polarity\"]\n",
    "biden_avg_sentiment_score"
   ]
  },
  {
   "cell_type": "code",
   "execution_count": 45,
   "metadata": {},
   "outputs": [
    {
     "data": {
      "text/html": [
       "<div>\n",
       "<style scoped>\n",
       "    .dataframe tbody tr th:only-of-type {\n",
       "        vertical-align: middle;\n",
       "    }\n",
       "\n",
       "    .dataframe tbody tr th {\n",
       "        vertical-align: top;\n",
       "    }\n",
       "\n",
       "    .dataframe thead th {\n",
       "        text-align: right;\n",
       "    }\n",
       "</style>\n",
       "<table border=\"1\" class=\"dataframe\">\n",
       "  <thead>\n",
       "    <tr style=\"text-align: right;\">\n",
       "      <th></th>\n",
       "      <th>Avg Replies</th>\n",
       "      <th>Avg Retweets</th>\n",
       "      <th>Avg Likes</th>\n",
       "      <th>Avg Tweet Length</th>\n",
       "      <th>Avg Sentiment</th>\n",
       "      <th>Total</th>\n",
       "    </tr>\n",
       "    <tr>\n",
       "      <th>Subjectivity_Class</th>\n",
       "      <th></th>\n",
       "      <th></th>\n",
       "      <th></th>\n",
       "      <th></th>\n",
       "      <th></th>\n",
       "      <th></th>\n",
       "    </tr>\n",
       "  </thead>\n",
       "  <tbody>\n",
       "    <tr>\n",
       "      <th>Passive</th>\n",
       "      <td>1.182186</td>\n",
       "      <td>4.639730</td>\n",
       "      <td>19.837020</td>\n",
       "      <td>13.898149</td>\n",
       "      <td>0.016924</td>\n",
       "      <td>71438</td>\n",
       "    </tr>\n",
       "    <tr>\n",
       "      <th>Balanced</th>\n",
       "      <td>1.500574</td>\n",
       "      <td>4.098342</td>\n",
       "      <td>18.730565</td>\n",
       "      <td>25.190295</td>\n",
       "      <td>0.108526</td>\n",
       "      <td>55724</td>\n",
       "    </tr>\n",
       "    <tr>\n",
       "      <th>Subjective</th>\n",
       "      <td>2.073885</td>\n",
       "      <td>4.870176</td>\n",
       "      <td>24.556239</td>\n",
       "      <td>18.645321</td>\n",
       "      <td>0.013532</td>\n",
       "      <td>20004</td>\n",
       "    </tr>\n",
       "  </tbody>\n",
       "</table>\n",
       "</div>"
      ],
      "text/plain": [
       "                    Avg Replies  Avg Retweets  Avg Likes  Avg Tweet Length  \\\n",
       "Subjectivity_Class                                                           \n",
       "Passive                1.182186      4.639730  19.837020         13.898149   \n",
       "Balanced               1.500574      4.098342  18.730565         25.190295   \n",
       "Subjective             2.073885      4.870176  24.556239         18.645321   \n",
       "\n",
       "                    Avg Sentiment  Total  \n",
       "Subjectivity_Class                        \n",
       "Passive                  0.016924  71438  \n",
       "Balanced                 0.108526  55724  \n",
       "Subjective               0.013532  20004  "
      ]
     },
     "execution_count": 45,
     "metadata": {},
     "output_type": "execute_result"
    }
   ],
   "source": [
    "# Combine each Series for table\n",
    "biden_subjectivity_table = pd.DataFrame({\n",
    "               \"Avg Replies\": biden_avg_replies,\n",
    "               \"Avg Retweets\": biden_avg_retweets,\n",
    "               \"Avg Likes\": biden_avg_likes,\n",
    "               \"Avg Tweet Length\": biden_avg_tweet_length,\n",
    "               \"Avg Sentiment\" : biden_avg_sentiment_score,\n",
    "               \"Total\" : biden_sub_groups_count})\n",
    "\n",
    "biden_subjectivity_table.head()"
   ]
  },
  {
   "cell_type": "code",
   "execution_count": 46,
   "metadata": {},
   "outputs": [
    {
     "data": {
      "text/html": [
       "<div>\n",
       "<style scoped>\n",
       "    .dataframe tbody tr th:only-of-type {\n",
       "        vertical-align: middle;\n",
       "    }\n",
       "\n",
       "    .dataframe tbody tr th {\n",
       "        vertical-align: top;\n",
       "    }\n",
       "\n",
       "    .dataframe thead th {\n",
       "        text-align: right;\n",
       "    }\n",
       "</style>\n",
       "<table border=\"1\" class=\"dataframe\">\n",
       "  <thead>\n",
       "    <tr style=\"text-align: right;\">\n",
       "      <th></th>\n",
       "      <th>Avg Replies</th>\n",
       "      <th>Avg Retweets</th>\n",
       "      <th>Avg Likes</th>\n",
       "      <th>Avg Tweet Length</th>\n",
       "      <th>Avg Sentiment</th>\n",
       "      <th>Total</th>\n",
       "    </tr>\n",
       "    <tr>\n",
       "      <th>Subjectivity_Class</th>\n",
       "      <th></th>\n",
       "      <th></th>\n",
       "      <th></th>\n",
       "      <th></th>\n",
       "      <th></th>\n",
       "      <th></th>\n",
       "    </tr>\n",
       "  </thead>\n",
       "  <tbody>\n",
       "    <tr>\n",
       "      <th>Passive</th>\n",
       "      <td>1.2</td>\n",
       "      <td>4.6</td>\n",
       "      <td>19.8</td>\n",
       "      <td>13.9</td>\n",
       "      <td>0.017</td>\n",
       "      <td>71438</td>\n",
       "    </tr>\n",
       "    <tr>\n",
       "      <th>Balanced</th>\n",
       "      <td>1.5</td>\n",
       "      <td>4.1</td>\n",
       "      <td>18.7</td>\n",
       "      <td>25.2</td>\n",
       "      <td>0.109</td>\n",
       "      <td>55724</td>\n",
       "    </tr>\n",
       "    <tr>\n",
       "      <th>Subjective</th>\n",
       "      <td>2.1</td>\n",
       "      <td>4.9</td>\n",
       "      <td>24.6</td>\n",
       "      <td>18.6</td>\n",
       "      <td>0.014</td>\n",
       "      <td>20004</td>\n",
       "    </tr>\n",
       "  </tbody>\n",
       "</table>\n",
       "</div>"
      ],
      "text/plain": [
       "                   Avg Replies Avg Retweets Avg Likes Avg Tweet Length  \\\n",
       "Subjectivity_Class                                                       \n",
       "Passive                    1.2          4.6      19.8             13.9   \n",
       "Balanced                   1.5          4.1      18.7             25.2   \n",
       "Subjective                 2.1          4.9      24.6             18.6   \n",
       "\n",
       "                   Avg Sentiment  Total  \n",
       "Subjectivity_Class                       \n",
       "Passive                    0.017  71438  \n",
       "Balanced                   0.109  55724  \n",
       "Subjective                 0.014  20004  "
      ]
     },
     "execution_count": 46,
     "metadata": {},
     "output_type": "execute_result"
    }
   ],
   "source": [
    "# Format each column\n",
    "biden_subjectivity_table[\"Avg Replies\"] = biden_subjectivity_table[\"Avg Replies\"].map(\"{:.1f}\".format)\n",
    "\n",
    "biden_subjectivity_table[\"Avg Retweets\"] = biden_subjectivity_table[\"Avg Retweets\"].map(\"{:.1f}\".format)\n",
    "\n",
    "biden_subjectivity_table[\"Avg Likes\"] = biden_subjectivity_table[\"Avg Likes\"].map(\"{:.1f}\".format)\n",
    "\n",
    "biden_subjectivity_table[\"Avg Tweet Length\"] = biden_subjectivity_table[\"Avg Tweet Length\"].map(\"{:.1f}\".format)\n",
    "\n",
    "biden_subjectivity_table[\"Avg Sentiment\"] = biden_subjectivity_table[\"Avg Sentiment\"].map(\"{:.3f}\".format)\n",
    "\n",
    "\n",
    "# Display the DataFrame.\n",
    "biden_subjectivity_table.head()"
   ]
  },
  {
   "cell_type": "markdown",
   "metadata": {},
   "source": [
    "### Writing csv file for Dashboard"
   ]
  },
  {
   "cell_type": "code",
   "execution_count": 47,
   "metadata": {},
   "outputs": [],
   "source": [
    "biden_subjectivity_table.to_csv(r'C:\\Users\\Greg\\Documents\\Analysis_Projects\\Final_Project\\Concat_ML_Data\\first_debate_biden_subjectivity.csv', index = True, header=True)"
   ]
  },
  {
   "cell_type": "markdown",
   "metadata": {},
   "source": [
    "### Trump Subjectivity Analysis"
   ]
  },
  {
   "cell_type": "code",
   "execution_count": 33,
   "metadata": {},
   "outputs": [
    {
     "data": {
      "text/plain": [
       "147166    0.40625\n",
       "147167    0.00000\n",
       "147168    0.00000\n",
       "147169    0.32500\n",
       "147170    0.70000\n",
       "           ...   \n",
       "421550    0.00000\n",
       "421551    0.00000\n",
       "421552    0.00000\n",
       "421553    0.00000\n",
       "421554    0.00000\n",
       "Name: Subjectivity, Length: 274389, dtype: float64"
      ]
     },
     "execution_count": 33,
     "metadata": {},
     "output_type": "execute_result"
    }
   ],
   "source": [
    "# Creating Bins for Subjectivity\n",
    "trump_bin=trump_sentiment.Subjectivity\n",
    "trump_bin"
   ]
  },
  {
   "cell_type": "markdown",
   "metadata": {},
   "source": [
    "### Creating Bins"
   ]
  },
  {
   "cell_type": "code",
   "execution_count": 34,
   "metadata": {},
   "outputs": [
    {
     "data": {
      "text/plain": [
       "Subjectivity\n",
       "(-0.5, 0.3]    133953\n",
       "(0.3, 0.7]     100199\n",
       "(0.7, 1.5]      40237\n",
       "Name: Subjectivity, dtype: int64"
      ]
     },
     "execution_count": 34,
     "metadata": {},
     "output_type": "execute_result"
    }
   ],
   "source": [
    "# Assumption of Subjectivity Ranges\n",
    "# 0.0 - 0.3 => Passive (or Nonchalant Tweeter)\n",
    "# 0.3 - 0.7 => Balanced (or more Objective Tweeter)\n",
    "# 0.7 - 1.0 => Subjective (or less Objective Tweeter)\n",
    "trump_bin.groupby(pd.cut(trump_bin, bins)).count()"
   ]
  },
  {
   "cell_type": "code",
   "execution_count": 35,
   "metadata": {},
   "outputs": [
    {
     "name": "stderr",
     "output_type": "stream",
     "text": [
      "C:\\Users\\Greg\\anaconda3\\envs\\PythonData\\lib\\site-packages\\ipykernel_launcher.py:2: SettingWithCopyWarning: \n",
      "A value is trying to be set on a copy of a slice from a DataFrame.\n",
      "Try using .loc[row_indexer,col_indexer] = value instead\n",
      "\n",
      "See the caveats in the documentation: https://pandas.pydata.org/pandas-docs/stable/user_guide/indexing.html#returning-a-view-versus-a-copy\n",
      "  \n"
     ]
    },
    {
     "data": {
      "text/html": [
       "<div>\n",
       "<style scoped>\n",
       "    .dataframe tbody tr th:only-of-type {\n",
       "        vertical-align: middle;\n",
       "    }\n",
       "\n",
       "    .dataframe tbody tr th {\n",
       "        vertical-align: top;\n",
       "    }\n",
       "\n",
       "    .dataframe thead th {\n",
       "        text-align: right;\n",
       "    }\n",
       "</style>\n",
       "<table border=\"1\" class=\"dataframe\">\n",
       "  <thead>\n",
       "    <tr style=\"text-align: right;\">\n",
       "      <th></th>\n",
       "      <th>tweet</th>\n",
       "      <th>replies_count</th>\n",
       "      <th>retweets_count</th>\n",
       "      <th>likes_count</th>\n",
       "      <th>candidate</th>\n",
       "      <th>tweet_length</th>\n",
       "      <th>Subjectivity</th>\n",
       "      <th>Polarity</th>\n",
       "      <th>Sentiment</th>\n",
       "      <th>Subjectivity_Class</th>\n",
       "    </tr>\n",
       "  </thead>\n",
       "  <tbody>\n",
       "    <tr>\n",
       "      <th>147166</th>\n",
       "      <td>mean Modi ji and XI are synonymous Donald tru...</td>\n",
       "      <td>0</td>\n",
       "      <td>0</td>\n",
       "      <td>0</td>\n",
       "      <td>Trump</td>\n",
       "      <td>29</td>\n",
       "      <td>0.40625</td>\n",
       "      <td>-0.156250</td>\n",
       "      <td>Negative</td>\n",
       "      <td>Balanced</td>\n",
       "    </tr>\n",
       "    <tr>\n",
       "      <th>147167</th>\n",
       "      <td>Toasted trump</td>\n",
       "      <td>0</td>\n",
       "      <td>0</td>\n",
       "      <td>0</td>\n",
       "      <td>Trump</td>\n",
       "      <td>2</td>\n",
       "      <td>0.00000</td>\n",
       "      <td>0.000000</td>\n",
       "      <td>Neutral</td>\n",
       "      <td>Passive</td>\n",
       "    </tr>\n",
       "    <tr>\n",
       "      <th>147168</th>\n",
       "      <td>And integrity</td>\n",
       "      <td>0</td>\n",
       "      <td>0</td>\n",
       "      <td>0</td>\n",
       "      <td>Trump</td>\n",
       "      <td>2</td>\n",
       "      <td>0.00000</td>\n",
       "      <td>0.000000</td>\n",
       "      <td>Neutral</td>\n",
       "      <td>Passive</td>\n",
       "    </tr>\n",
       "    <tr>\n",
       "      <th>147169</th>\n",
       "      <td>Tell Chris amp Biden to stop lying CNN Jake T...</td>\n",
       "      <td>0</td>\n",
       "      <td>0</td>\n",
       "      <td>0</td>\n",
       "      <td>Trump</td>\n",
       "      <td>39</td>\n",
       "      <td>0.32500</td>\n",
       "      <td>0.270833</td>\n",
       "      <td>Positive</td>\n",
       "      <td>Balanced</td>\n",
       "    </tr>\n",
       "    <tr>\n",
       "      <th>147170</th>\n",
       "      <td>The anchor is your abrasive conceit ship anch...</td>\n",
       "      <td>0</td>\n",
       "      <td>0</td>\n",
       "      <td>0</td>\n",
       "      <td>Trump</td>\n",
       "      <td>21</td>\n",
       "      <td>0.70000</td>\n",
       "      <td>0.500000</td>\n",
       "      <td>Positive</td>\n",
       "      <td>Balanced</td>\n",
       "    </tr>\n",
       "    <tr>\n",
       "      <th>...</th>\n",
       "      <td>...</td>\n",
       "      <td>...</td>\n",
       "      <td>...</td>\n",
       "      <td>...</td>\n",
       "      <td>...</td>\n",
       "      <td>...</td>\n",
       "      <td>...</td>\n",
       "      <td>...</td>\n",
       "      <td>...</td>\n",
       "      <td>...</td>\n",
       "    </tr>\n",
       "    <tr>\n",
       "      <th>421550</th>\n",
       "      <td>Organization</td>\n",
       "      <td>0</td>\n",
       "      <td>0</td>\n",
       "      <td>0</td>\n",
       "      <td>Trump</td>\n",
       "      <td>1</td>\n",
       "      <td>0.00000</td>\n",
       "      <td>0.000000</td>\n",
       "      <td>Neutral</td>\n",
       "      <td>Passive</td>\n",
       "    </tr>\n",
       "    <tr>\n",
       "      <th>421551</th>\n",
       "      <td>Are you kidding He too sleepy to listen to us...</td>\n",
       "      <td>0</td>\n",
       "      <td>0</td>\n",
       "      <td>0</td>\n",
       "      <td>Trump</td>\n",
       "      <td>24</td>\n",
       "      <td>0.00000</td>\n",
       "      <td>0.000000</td>\n",
       "      <td>Neutral</td>\n",
       "      <td>Passive</td>\n",
       "    </tr>\n",
       "    <tr>\n",
       "      <th>421552</th>\n",
       "      <td>Comedy president in the world</td>\n",
       "      <td>0</td>\n",
       "      <td>0</td>\n",
       "      <td>0</td>\n",
       "      <td>Trump</td>\n",
       "      <td>5</td>\n",
       "      <td>0.00000</td>\n",
       "      <td>0.000000</td>\n",
       "      <td>Neutral</td>\n",
       "      <td>Passive</td>\n",
       "    </tr>\n",
       "    <tr>\n",
       "      <th>421553</th>\n",
       "      <td>JAJAJAJA mco risa la gente que apoya Trump yq ...</td>\n",
       "      <td>1</td>\n",
       "      <td>0</td>\n",
       "      <td>1</td>\n",
       "      <td>Trump</td>\n",
       "      <td>22</td>\n",
       "      <td>0.00000</td>\n",
       "      <td>0.000000</td>\n",
       "      <td>Neutral</td>\n",
       "      <td>Passive</td>\n",
       "    </tr>\n",
       "    <tr>\n",
       "      <th>421554</th>\n",
       "      <td>Trump wearing mask Muzzle the for the next de...</td>\n",
       "      <td>0</td>\n",
       "      <td>0</td>\n",
       "      <td>0</td>\n",
       "      <td>Trump</td>\n",
       "      <td>9</td>\n",
       "      <td>0.00000</td>\n",
       "      <td>0.000000</td>\n",
       "      <td>Neutral</td>\n",
       "      <td>Passive</td>\n",
       "    </tr>\n",
       "  </tbody>\n",
       "</table>\n",
       "<p>274389 rows × 10 columns</p>\n",
       "</div>"
      ],
      "text/plain": [
       "                                                    tweet  replies_count  \\\n",
       "147166   mean Modi ji and XI are synonymous Donald tru...              0   \n",
       "147167                                      Toasted trump              0   \n",
       "147168                                      And integrity              0   \n",
       "147169   Tell Chris amp Biden to stop lying CNN Jake T...              0   \n",
       "147170   The anchor is your abrasive conceit ship anch...              0   \n",
       "...                                                   ...            ...   \n",
       "421550                                      Organization               0   \n",
       "421551   Are you kidding He too sleepy to listen to us...              0   \n",
       "421552                     Comedy president in the world               0   \n",
       "421553  JAJAJAJA mco risa la gente que apoya Trump yq ...              1   \n",
       "421554   Trump wearing mask Muzzle the for the next de...              0   \n",
       "\n",
       "        retweets_count  likes_count candidate  tweet_length  Subjectivity  \\\n",
       "147166               0            0     Trump            29       0.40625   \n",
       "147167               0            0     Trump             2       0.00000   \n",
       "147168               0            0     Trump             2       0.00000   \n",
       "147169               0            0     Trump            39       0.32500   \n",
       "147170               0            0     Trump            21       0.70000   \n",
       "...                ...          ...       ...           ...           ...   \n",
       "421550               0            0     Trump             1       0.00000   \n",
       "421551               0            0     Trump            24       0.00000   \n",
       "421552               0            0     Trump             5       0.00000   \n",
       "421553               0            1     Trump            22       0.00000   \n",
       "421554               0            0     Trump             9       0.00000   \n",
       "\n",
       "        Polarity Sentiment Subjectivity_Class  \n",
       "147166 -0.156250  Negative           Balanced  \n",
       "147167  0.000000   Neutral            Passive  \n",
       "147168  0.000000   Neutral            Passive  \n",
       "147169  0.270833  Positive           Balanced  \n",
       "147170  0.500000  Positive           Balanced  \n",
       "...          ...       ...                ...  \n",
       "421550  0.000000   Neutral            Passive  \n",
       "421551  0.000000   Neutral            Passive  \n",
       "421552  0.000000   Neutral            Passive  \n",
       "421553  0.000000   Neutral            Passive  \n",
       "421554  0.000000   Neutral            Passive  \n",
       "\n",
       "[274389 rows x 10 columns]"
      ]
     },
     "execution_count": 35,
     "metadata": {},
     "output_type": "execute_result"
    }
   ],
   "source": [
    "# Categorize subjectivity bins\n",
    "trump_sentiment[\"Subjectivity_Class\"] = pd.cut(trump_bin, bins=bins, labels=groups)\n",
    "trump_sentiment"
   ]
  },
  {
   "cell_type": "code",
   "execution_count": 36,
   "metadata": {},
   "outputs": [
    {
     "data": {
      "text/plain": [
       "Subjectivity_Class\n",
       "Passive       133953\n",
       "Balanced      100199\n",
       "Subjective     40237\n",
       "Name: tweet, dtype: int64"
      ]
     },
     "execution_count": 36,
     "metadata": {},
     "output_type": "execute_result"
    }
   ],
   "source": [
    "# Calculating Totals by Subjectivity Ranges\n",
    "trump_sub_groups_count = trump_sentiment.groupby([\"Subjectivity_Class\"]).count()[\"tweet\"]\n",
    "trump_sub_groups_count"
   ]
  },
  {
   "cell_type": "code",
   "execution_count": 37,
   "metadata": {},
   "outputs": [
    {
     "data": {
      "text/plain": [
       "Subjectivity_Class\n",
       "Passive       1.216083\n",
       "Balanced      1.220551\n",
       "Subjective    0.775679\n",
       "Name: replies_count, dtype: float64"
      ]
     },
     "execution_count": 37,
     "metadata": {},
     "output_type": "execute_result"
    }
   ],
   "source": [
    "# Average Replies\n",
    "trump_avg_replies = trump_sentiment.groupby([\"Subjectivity_Class\"]).mean()[\"replies_count\"]\n",
    "trump_avg_replies"
   ]
  },
  {
   "cell_type": "code",
   "execution_count": 38,
   "metadata": {},
   "outputs": [
    {
     "data": {
      "text/plain": [
       "Subjectivity_Class\n",
       "Passive       2.152591\n",
       "Balanced      2.329544\n",
       "Subjective    0.998186\n",
       "Name: retweets_count, dtype: float64"
      ]
     },
     "execution_count": 38,
     "metadata": {},
     "output_type": "execute_result"
    }
   ],
   "source": [
    "# Average Retweets\n",
    "trump_avg_retweets = trump_sentiment.groupby([\"Subjectivity_Class\"]).mean()[\"retweets_count\"]\n",
    "trump_avg_retweets"
   ]
  },
  {
   "cell_type": "code",
   "execution_count": 39,
   "metadata": {},
   "outputs": [
    {
     "data": {
      "text/plain": [
       "Subjectivity_Class\n",
       "Passive        9.726822\n",
       "Balanced      10.354624\n",
       "Subjective     5.554539\n",
       "Name: likes_count, dtype: float64"
      ]
     },
     "execution_count": 39,
     "metadata": {},
     "output_type": "execute_result"
    }
   ],
   "source": [
    "# Average Likes\n",
    "trump_avg_likes = trump_sentiment.groupby([\"Subjectivity_Class\"]).mean()[\"likes_count\"]\n",
    "trump_avg_likes"
   ]
  },
  {
   "cell_type": "code",
   "execution_count": 40,
   "metadata": {},
   "outputs": [
    {
     "data": {
      "text/plain": [
       "Subjectivity_Class\n",
       "Passive       12.583526\n",
       "Balanced      23.578928\n",
       "Subjective    16.523449\n",
       "Name: tweet_length, dtype: float64"
      ]
     },
     "execution_count": 40,
     "metadata": {},
     "output_type": "execute_result"
    }
   ],
   "source": [
    "# Average Tweet Length\n",
    "trump_avg_tweet_length = trump_sentiment.groupby([\"Subjectivity_Class\"]).mean()[\"tweet_length\"]\n",
    "trump_avg_tweet_length"
   ]
  },
  {
   "cell_type": "code",
   "execution_count": 41,
   "metadata": {},
   "outputs": [
    {
     "data": {
      "text/plain": [
       "Subjectivity_Class\n",
       "Passive       0.012286\n",
       "Balanced      0.093594\n",
       "Subjective   -0.015504\n",
       "Name: Polarity, dtype: float64"
      ]
     },
     "execution_count": 41,
     "metadata": {},
     "output_type": "execute_result"
    }
   ],
   "source": [
    "# Average Sentiment\n",
    "trump_avg_sentiment_score= trump_sentiment.groupby([\"Subjectivity_Class\"]).mean()[\"Polarity\"]\n",
    "trump_avg_sentiment_score"
   ]
  },
  {
   "cell_type": "code",
   "execution_count": 48,
   "metadata": {},
   "outputs": [
    {
     "data": {
      "text/html": [
       "<div>\n",
       "<style scoped>\n",
       "    .dataframe tbody tr th:only-of-type {\n",
       "        vertical-align: middle;\n",
       "    }\n",
       "\n",
       "    .dataframe tbody tr th {\n",
       "        vertical-align: top;\n",
       "    }\n",
       "\n",
       "    .dataframe thead th {\n",
       "        text-align: right;\n",
       "    }\n",
       "</style>\n",
       "<table border=\"1\" class=\"dataframe\">\n",
       "  <thead>\n",
       "    <tr style=\"text-align: right;\">\n",
       "      <th></th>\n",
       "      <th>Avg Replies</th>\n",
       "      <th>Avg Retweets</th>\n",
       "      <th>Avg Likes</th>\n",
       "      <th>Avg Tweet Length</th>\n",
       "      <th>Avg Sentiment</th>\n",
       "      <th>Total</th>\n",
       "    </tr>\n",
       "    <tr>\n",
       "      <th>Subjectivity_Class</th>\n",
       "      <th></th>\n",
       "      <th></th>\n",
       "      <th></th>\n",
       "      <th></th>\n",
       "      <th></th>\n",
       "      <th></th>\n",
       "    </tr>\n",
       "  </thead>\n",
       "  <tbody>\n",
       "    <tr>\n",
       "      <th>Passive</th>\n",
       "      <td>1.216083</td>\n",
       "      <td>2.152591</td>\n",
       "      <td>9.726822</td>\n",
       "      <td>12.583526</td>\n",
       "      <td>0.012286</td>\n",
       "      <td>133953</td>\n",
       "    </tr>\n",
       "    <tr>\n",
       "      <th>Balanced</th>\n",
       "      <td>1.220551</td>\n",
       "      <td>2.329544</td>\n",
       "      <td>10.354624</td>\n",
       "      <td>23.578928</td>\n",
       "      <td>0.093594</td>\n",
       "      <td>100199</td>\n",
       "    </tr>\n",
       "    <tr>\n",
       "      <th>Subjective</th>\n",
       "      <td>0.775679</td>\n",
       "      <td>0.998186</td>\n",
       "      <td>5.554539</td>\n",
       "      <td>16.523449</td>\n",
       "      <td>-0.015504</td>\n",
       "      <td>40237</td>\n",
       "    </tr>\n",
       "  </tbody>\n",
       "</table>\n",
       "</div>"
      ],
      "text/plain": [
       "                    Avg Replies  Avg Retweets  Avg Likes  Avg Tweet Length  \\\n",
       "Subjectivity_Class                                                           \n",
       "Passive                1.216083      2.152591   9.726822         12.583526   \n",
       "Balanced               1.220551      2.329544  10.354624         23.578928   \n",
       "Subjective             0.775679      0.998186   5.554539         16.523449   \n",
       "\n",
       "                    Avg Sentiment   Total  \n",
       "Subjectivity_Class                         \n",
       "Passive                  0.012286  133953  \n",
       "Balanced                 0.093594  100199  \n",
       "Subjective              -0.015504   40237  "
      ]
     },
     "execution_count": 48,
     "metadata": {},
     "output_type": "execute_result"
    }
   ],
   "source": [
    "# Combine each Series for table\n",
    "trump_subjectivity_table = pd.DataFrame({\n",
    "               \"Avg Replies\": trump_avg_replies,\n",
    "               \"Avg Retweets\": trump_avg_retweets,\n",
    "               \"Avg Likes\": trump_avg_likes,\n",
    "               \"Avg Tweet Length\": trump_avg_tweet_length,\n",
    "               \"Avg Sentiment\" : trump_avg_sentiment_score,\n",
    "               \"Total\" : trump_sub_groups_count})\n",
    "\n",
    "trump_subjectivity_table.head()"
   ]
  },
  {
   "cell_type": "code",
   "execution_count": 49,
   "metadata": {},
   "outputs": [
    {
     "data": {
      "text/html": [
       "<div>\n",
       "<style scoped>\n",
       "    .dataframe tbody tr th:only-of-type {\n",
       "        vertical-align: middle;\n",
       "    }\n",
       "\n",
       "    .dataframe tbody tr th {\n",
       "        vertical-align: top;\n",
       "    }\n",
       "\n",
       "    .dataframe thead th {\n",
       "        text-align: right;\n",
       "    }\n",
       "</style>\n",
       "<table border=\"1\" class=\"dataframe\">\n",
       "  <thead>\n",
       "    <tr style=\"text-align: right;\">\n",
       "      <th></th>\n",
       "      <th>Avg Replies</th>\n",
       "      <th>Avg Retweets</th>\n",
       "      <th>Avg Likes</th>\n",
       "      <th>Avg Tweet Length</th>\n",
       "      <th>Avg Sentiment</th>\n",
       "      <th>Total</th>\n",
       "    </tr>\n",
       "    <tr>\n",
       "      <th>Subjectivity_Class</th>\n",
       "      <th></th>\n",
       "      <th></th>\n",
       "      <th></th>\n",
       "      <th></th>\n",
       "      <th></th>\n",
       "      <th></th>\n",
       "    </tr>\n",
       "  </thead>\n",
       "  <tbody>\n",
       "    <tr>\n",
       "      <th>Passive</th>\n",
       "      <td>1.2</td>\n",
       "      <td>2.2</td>\n",
       "      <td>9.7</td>\n",
       "      <td>12.6</td>\n",
       "      <td>0.012</td>\n",
       "      <td>133953</td>\n",
       "    </tr>\n",
       "    <tr>\n",
       "      <th>Balanced</th>\n",
       "      <td>1.2</td>\n",
       "      <td>2.3</td>\n",
       "      <td>10.4</td>\n",
       "      <td>23.6</td>\n",
       "      <td>0.094</td>\n",
       "      <td>100199</td>\n",
       "    </tr>\n",
       "    <tr>\n",
       "      <th>Subjective</th>\n",
       "      <td>0.8</td>\n",
       "      <td>1.0</td>\n",
       "      <td>5.6</td>\n",
       "      <td>16.5</td>\n",
       "      <td>-0.016</td>\n",
       "      <td>40237</td>\n",
       "    </tr>\n",
       "  </tbody>\n",
       "</table>\n",
       "</div>"
      ],
      "text/plain": [
       "                   Avg Replies Avg Retweets Avg Likes Avg Tweet Length  \\\n",
       "Subjectivity_Class                                                       \n",
       "Passive                    1.2          2.2       9.7             12.6   \n",
       "Balanced                   1.2          2.3      10.4             23.6   \n",
       "Subjective                 0.8          1.0       5.6             16.5   \n",
       "\n",
       "                   Avg Sentiment   Total  \n",
       "Subjectivity_Class                        \n",
       "Passive                    0.012  133953  \n",
       "Balanced                   0.094  100199  \n",
       "Subjective                -0.016   40237  "
      ]
     },
     "execution_count": 49,
     "metadata": {},
     "output_type": "execute_result"
    }
   ],
   "source": [
    "# Format each column\n",
    "trump_subjectivity_table[\"Avg Replies\"] = trump_subjectivity_table[\"Avg Replies\"].map(\"{:.1f}\".format)\n",
    "\n",
    "trump_subjectivity_table[\"Avg Retweets\"] = trump_subjectivity_table[\"Avg Retweets\"].map(\"{:.1f}\".format)\n",
    "\n",
    "trump_subjectivity_table[\"Avg Likes\"] = trump_subjectivity_table[\"Avg Likes\"].map(\"{:.1f}\".format)\n",
    "\n",
    "trump_subjectivity_table[\"Avg Tweet Length\"] = trump_subjectivity_table[\"Avg Tweet Length\"].map(\"{:.1f}\".format)\n",
    "\n",
    "trump_subjectivity_table[\"Avg Sentiment\"] = trump_subjectivity_table[\"Avg Sentiment\"].map(\"{:.3f}\".format)\n",
    "\n",
    "\n",
    "# Display the DataFrame.\n",
    "trump_subjectivity_table.head()"
   ]
  },
  {
   "cell_type": "markdown",
   "metadata": {},
   "source": [
    "### Writing csv file for Dashboard"
   ]
  },
  {
   "cell_type": "code",
   "execution_count": 50,
   "metadata": {},
   "outputs": [],
   "source": [
    "trump_subjectivity_table.to_csv(r'C:\\Users\\Greg\\Documents\\Analysis_Projects\\Final_Project\\Concat_ML_Data\\first_debate_trump_subjectivity.csv', index = True, header=True)"
   ]
  }
 ],
 "metadata": {
  "kernelspec": {
   "display_name": "PythonData",
   "language": "python",
   "name": "pythondata"
  },
  "language_info": {
   "codemirror_mode": {
    "name": "ipython",
    "version": 3
   },
   "file_extension": ".py",
   "mimetype": "text/x-python",
   "name": "python",
   "nbconvert_exporter": "python",
   "pygments_lexer": "ipython3",
   "version": "3.7.7"
  }
 },
 "nbformat": 4,
 "nbformat_minor": 4
}
