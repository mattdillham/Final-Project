{
 "cells": [
  {
   "cell_type": "code",
   "execution_count": 1,
   "metadata": {},
   "outputs": [],
   "source": [
    "#Subjectivity Analysis\n"
   ]
  },
  {
   "cell_type": "code",
   "execution_count": 2,
   "metadata": {},
   "outputs": [],
   "source": [
    "import pandas as pd"
   ]
  },
  {
   "cell_type": "code",
   "execution_count": 3,
   "metadata": {},
   "outputs": [
    {
     "data": {
      "text/html": [
       "<div>\n",
       "<style scoped>\n",
       "    .dataframe tbody tr th:only-of-type {\n",
       "        vertical-align: middle;\n",
       "    }\n",
       "\n",
       "    .dataframe tbody tr th {\n",
       "        vertical-align: top;\n",
       "    }\n",
       "\n",
       "    .dataframe thead th {\n",
       "        text-align: right;\n",
       "    }\n",
       "</style>\n",
       "<table border=\"1\" class=\"dataframe\">\n",
       "  <thead>\n",
       "    <tr style=\"text-align: right;\">\n",
       "      <th></th>\n",
       "      <th>tweet</th>\n",
       "      <th>replies_count</th>\n",
       "      <th>retweets_count</th>\n",
       "      <th>likes_count</th>\n",
       "      <th>candidate</th>\n",
       "      <th>tweet_length</th>\n",
       "      <th>Subjectivity</th>\n",
       "      <th>Polarity</th>\n",
       "      <th>Sentiment</th>\n",
       "    </tr>\n",
       "  </thead>\n",
       "  <tbody>\n",
       "    <tr>\n",
       "      <th>0</th>\n",
       "      <td>In 2016 Massachusetts Gov Charlie Baker sat ou...</td>\n",
       "      <td>38</td>\n",
       "      <td>41</td>\n",
       "      <td>144</td>\n",
       "      <td>Biden</td>\n",
       "      <td>25</td>\n",
       "      <td>0.90</td>\n",
       "      <td>0.5</td>\n",
       "      <td>Positive</td>\n",
       "    </tr>\n",
       "    <tr>\n",
       "      <th>1</th>\n",
       "      <td>Obama came in after Bush Trump didn inherit t...</td>\n",
       "      <td>1</td>\n",
       "      <td>0</td>\n",
       "      <td>0</td>\n",
       "      <td>Biden</td>\n",
       "      <td>46</td>\n",
       "      <td>0.55</td>\n",
       "      <td>0.0</td>\n",
       "      <td>Neutral</td>\n",
       "    </tr>\n",
       "    <tr>\n",
       "      <th>2</th>\n",
       "      <td>People voting against their best interest is ...</td>\n",
       "      <td>0</td>\n",
       "      <td>0</td>\n",
       "      <td>8</td>\n",
       "      <td>Biden</td>\n",
       "      <td>24</td>\n",
       "      <td>0.15</td>\n",
       "      <td>0.4</td>\n",
       "      <td>Positive</td>\n",
       "    </tr>\n",
       "    <tr>\n",
       "      <th>3</th>\n",
       "      <td>Joe is senile Sorry But also he a crook But s...</td>\n",
       "      <td>0</td>\n",
       "      <td>0</td>\n",
       "      <td>0</td>\n",
       "      <td>Biden</td>\n",
       "      <td>19</td>\n",
       "      <td>1.00</td>\n",
       "      <td>-0.5</td>\n",
       "      <td>Negative</td>\n",
       "    </tr>\n",
       "    <tr>\n",
       "      <th>4</th>\n",
       "      <td>hope the media stops reporting his every utte...</td>\n",
       "      <td>0</td>\n",
       "      <td>0</td>\n",
       "      <td>1</td>\n",
       "      <td>Biden</td>\n",
       "      <td>9</td>\n",
       "      <td>0.00</td>\n",
       "      <td>0.0</td>\n",
       "      <td>Neutral</td>\n",
       "    </tr>\n",
       "  </tbody>\n",
       "</table>\n",
       "</div>"
      ],
      "text/plain": [
       "                                               tweet  replies_count  \\\n",
       "0  In 2016 Massachusetts Gov Charlie Baker sat ou...             38   \n",
       "1   Obama came in after Bush Trump didn inherit t...              1   \n",
       "2   People voting against their best interest is ...              0   \n",
       "3   Joe is senile Sorry But also he a crook But s...              0   \n",
       "4   hope the media stops reporting his every utte...              0   \n",
       "\n",
       "   retweets_count  likes_count candidate  tweet_length  Subjectivity  \\\n",
       "0              41          144     Biden            25          0.90   \n",
       "1               0            0     Biden            46          0.55   \n",
       "2               0            8     Biden            24          0.15   \n",
       "3               0            0     Biden            19          1.00   \n",
       "4               0            1     Biden             9          0.00   \n",
       "\n",
       "   Polarity Sentiment  \n",
       "0       0.5  Positive  \n",
       "1       0.0   Neutral  \n",
       "2       0.4  Positive  \n",
       "3      -0.5  Negative  \n",
       "4       0.0   Neutral  "
      ]
     },
     "execution_count": 3,
     "metadata": {},
     "output_type": "execute_result"
    }
   ],
   "source": [
    "# Read csv file\n",
    "file=('Resources/town_hall.csv')\n",
    "first_df=pd.read_csv(file)\n",
    "first_df.head()"
   ]
  },
  {
   "cell_type": "code",
   "execution_count": 4,
   "metadata": {},
   "outputs": [],
   "source": [
    "# Separating Biden and Trump Data\n",
    "biden_sentiment=first_df[(first_df['candidate']=='Biden')]\n",
    "trump_sentiment=first_df[(first_df['candidate']=='Trump')]"
   ]
  },
  {
   "cell_type": "code",
   "execution_count": 5,
   "metadata": {},
   "outputs": [],
   "source": [
    "#Biden Subjectivity Analysis"
   ]
  },
  {
   "cell_type": "code",
   "execution_count": 6,
   "metadata": {},
   "outputs": [
    {
     "data": {
      "text/plain": [
       "0         0.900000\n",
       "1         0.550000\n",
       "2         0.150000\n",
       "3         1.000000\n",
       "4         0.000000\n",
       "            ...   \n",
       "122922    0.000000\n",
       "122923    0.193750\n",
       "122924    0.212500\n",
       "122925    0.651515\n",
       "122926    0.000000\n",
       "Name: Subjectivity, Length: 122927, dtype: float64"
      ]
     },
     "execution_count": 6,
     "metadata": {},
     "output_type": "execute_result"
    }
   ],
   "source": [
    "# Creating Bins for Subjectivity\n",
    "biden_bin=biden_sentiment.Subjectivity\n",
    "biden_bin"
   ]
  },
  {
   "cell_type": "code",
   "execution_count": 7,
   "metadata": {},
   "outputs": [],
   "source": [
    "#Creating Bins"
   ]
  },
  {
   "cell_type": "code",
   "execution_count": 8,
   "metadata": {},
   "outputs": [
    {
     "data": {
      "text/plain": [
       "Subjectivity\n",
       "(-0.5, 0.3]    56341\n",
       "(0.3, 0.7]     48844\n",
       "(0.7, 1.5]     17742\n",
       "Name: Subjectivity, dtype: int64"
      ]
     },
     "execution_count": 8,
     "metadata": {},
     "output_type": "execute_result"
    }
   ],
   "source": [
    "# Assumption of Subjectivity Ranges\n",
    "# 0.0 - 0.3 => Passive (or Nonchalant Tweeter)\n",
    "# 0.3 - 0.7 => Balanced (or more Objective Tweeter)\n",
    "# 0.7 - 1.0 => Subjective (or less Objective Tweeter)\n",
    "bins = bins = [float('-0.5'),0.3,0.7,float('1.5')]\n",
    "groups = [\"Passive\", \"Balanced\", \"Subjective\"]\n",
    "biden_bin.groupby(pd.cut(biden_bin, bins)).count()"
   ]
  },
  {
   "cell_type": "code",
   "execution_count": 9,
   "metadata": {},
   "outputs": [
    {
     "name": "stderr",
     "output_type": "stream",
     "text": [
      "C:\\Users\\kevin\\anaconda3\\envs\\Pythondata\\lib\\site-packages\\ipykernel_launcher.py:2: SettingWithCopyWarning: \n",
      "A value is trying to be set on a copy of a slice from a DataFrame.\n",
      "Try using .loc[row_indexer,col_indexer] = value instead\n",
      "\n",
      "See the caveats in the documentation: https://pandas.pydata.org/pandas-docs/stable/user_guide/indexing.html#returning-a-view-versus-a-copy\n",
      "  \n"
     ]
    },
    {
     "data": {
      "text/html": [
       "<div>\n",
       "<style scoped>\n",
       "    .dataframe tbody tr th:only-of-type {\n",
       "        vertical-align: middle;\n",
       "    }\n",
       "\n",
       "    .dataframe tbody tr th {\n",
       "        vertical-align: top;\n",
       "    }\n",
       "\n",
       "    .dataframe thead th {\n",
       "        text-align: right;\n",
       "    }\n",
       "</style>\n",
       "<table border=\"1\" class=\"dataframe\">\n",
       "  <thead>\n",
       "    <tr style=\"text-align: right;\">\n",
       "      <th></th>\n",
       "      <th>tweet</th>\n",
       "      <th>replies_count</th>\n",
       "      <th>retweets_count</th>\n",
       "      <th>likes_count</th>\n",
       "      <th>candidate</th>\n",
       "      <th>tweet_length</th>\n",
       "      <th>Subjectivity</th>\n",
       "      <th>Polarity</th>\n",
       "      <th>Sentiment</th>\n",
       "      <th>Subjectivity_Class</th>\n",
       "    </tr>\n",
       "  </thead>\n",
       "  <tbody>\n",
       "    <tr>\n",
       "      <th>0</th>\n",
       "      <td>In 2016 Massachusetts Gov Charlie Baker sat ou...</td>\n",
       "      <td>38</td>\n",
       "      <td>41</td>\n",
       "      <td>144</td>\n",
       "      <td>Biden</td>\n",
       "      <td>25</td>\n",
       "      <td>0.900000</td>\n",
       "      <td>0.500000</td>\n",
       "      <td>Positive</td>\n",
       "      <td>Subjective</td>\n",
       "    </tr>\n",
       "    <tr>\n",
       "      <th>1</th>\n",
       "      <td>Obama came in after Bush Trump didn inherit t...</td>\n",
       "      <td>1</td>\n",
       "      <td>0</td>\n",
       "      <td>0</td>\n",
       "      <td>Biden</td>\n",
       "      <td>46</td>\n",
       "      <td>0.550000</td>\n",
       "      <td>0.000000</td>\n",
       "      <td>Neutral</td>\n",
       "      <td>Balanced</td>\n",
       "    </tr>\n",
       "    <tr>\n",
       "      <th>2</th>\n",
       "      <td>People voting against their best interest is ...</td>\n",
       "      <td>0</td>\n",
       "      <td>0</td>\n",
       "      <td>8</td>\n",
       "      <td>Biden</td>\n",
       "      <td>24</td>\n",
       "      <td>0.150000</td>\n",
       "      <td>0.400000</td>\n",
       "      <td>Positive</td>\n",
       "      <td>Passive</td>\n",
       "    </tr>\n",
       "    <tr>\n",
       "      <th>3</th>\n",
       "      <td>Joe is senile Sorry But also he a crook But s...</td>\n",
       "      <td>0</td>\n",
       "      <td>0</td>\n",
       "      <td>0</td>\n",
       "      <td>Biden</td>\n",
       "      <td>19</td>\n",
       "      <td>1.000000</td>\n",
       "      <td>-0.500000</td>\n",
       "      <td>Negative</td>\n",
       "      <td>Subjective</td>\n",
       "    </tr>\n",
       "    <tr>\n",
       "      <th>4</th>\n",
       "      <td>hope the media stops reporting his every utte...</td>\n",
       "      <td>0</td>\n",
       "      <td>0</td>\n",
       "      <td>1</td>\n",
       "      <td>Biden</td>\n",
       "      <td>9</td>\n",
       "      <td>0.000000</td>\n",
       "      <td>0.000000</td>\n",
       "      <td>Neutral</td>\n",
       "      <td>Passive</td>\n",
       "    </tr>\n",
       "    <tr>\n",
       "      <th>...</th>\n",
       "      <td>...</td>\n",
       "      <td>...</td>\n",
       "      <td>...</td>\n",
       "      <td>...</td>\n",
       "      <td>...</td>\n",
       "      <td>...</td>\n",
       "      <td>...</td>\n",
       "      <td>...</td>\n",
       "      <td>...</td>\n",
       "      <td>...</td>\n",
       "    </tr>\n",
       "    <tr>\n",
       "      <th>122922</th>\n",
       "      <td>The direction Texas is headed</td>\n",
       "      <td>0</td>\n",
       "      <td>0</td>\n",
       "      <td>0</td>\n",
       "      <td>Biden</td>\n",
       "      <td>5</td>\n",
       "      <td>0.000000</td>\n",
       "      <td>0.000000</td>\n",
       "      <td>Neutral</td>\n",
       "      <td>Passive</td>\n",
       "    </tr>\n",
       "    <tr>\n",
       "      <th>122923</th>\n",
       "      <td>Trump is the dead past while offers vision of ...</td>\n",
       "      <td>0</td>\n",
       "      <td>0</td>\n",
       "      <td>0</td>\n",
       "      <td>Biden</td>\n",
       "      <td>11</td>\n",
       "      <td>0.193750</td>\n",
       "      <td>-0.087500</td>\n",
       "      <td>Negative</td>\n",
       "      <td>Passive</td>\n",
       "    </tr>\n",
       "    <tr>\n",
       "      <th>122924</th>\n",
       "      <td>How much did he pay in payroll taxes thought ...</td>\n",
       "      <td>2</td>\n",
       "      <td>0</td>\n",
       "      <td>0</td>\n",
       "      <td>Biden</td>\n",
       "      <td>45</td>\n",
       "      <td>0.212500</td>\n",
       "      <td>0.087500</td>\n",
       "      <td>Positive</td>\n",
       "      <td>Passive</td>\n",
       "    </tr>\n",
       "    <tr>\n",
       "      <th>122925</th>\n",
       "      <td>federal judge finalized the 25 million settle...</td>\n",
       "      <td>5</td>\n",
       "      <td>4</td>\n",
       "      <td>11</td>\n",
       "      <td>Biden</td>\n",
       "      <td>39</td>\n",
       "      <td>0.651515</td>\n",
       "      <td>0.062121</td>\n",
       "      <td>Positive</td>\n",
       "      <td>Balanced</td>\n",
       "    </tr>\n",
       "    <tr>\n",
       "      <th>122926</th>\n",
       "      <td>You can keep those two jerkoffs</td>\n",
       "      <td>0</td>\n",
       "      <td>0</td>\n",
       "      <td>0</td>\n",
       "      <td>Biden</td>\n",
       "      <td>6</td>\n",
       "      <td>0.000000</td>\n",
       "      <td>0.000000</td>\n",
       "      <td>Neutral</td>\n",
       "      <td>Passive</td>\n",
       "    </tr>\n",
       "  </tbody>\n",
       "</table>\n",
       "<p>122927 rows × 10 columns</p>\n",
       "</div>"
      ],
      "text/plain": [
       "                                                    tweet  replies_count  \\\n",
       "0       In 2016 Massachusetts Gov Charlie Baker sat ou...             38   \n",
       "1        Obama came in after Bush Trump didn inherit t...              1   \n",
       "2        People voting against their best interest is ...              0   \n",
       "3        Joe is senile Sorry But also he a crook But s...              0   \n",
       "4        hope the media stops reporting his every utte...              0   \n",
       "...                                                   ...            ...   \n",
       "122922                     The direction Texas is headed               0   \n",
       "122923  Trump is the dead past while offers vision of ...              0   \n",
       "122924   How much did he pay in payroll taxes thought ...              2   \n",
       "122925   federal judge finalized the 25 million settle...              5   \n",
       "122926                    You can keep those two jerkoffs              0   \n",
       "\n",
       "        retweets_count  likes_count candidate  tweet_length  Subjectivity  \\\n",
       "0                   41          144     Biden            25      0.900000   \n",
       "1                    0            0     Biden            46      0.550000   \n",
       "2                    0            8     Biden            24      0.150000   \n",
       "3                    0            0     Biden            19      1.000000   \n",
       "4                    0            1     Biden             9      0.000000   \n",
       "...                ...          ...       ...           ...           ...   \n",
       "122922               0            0     Biden             5      0.000000   \n",
       "122923               0            0     Biden            11      0.193750   \n",
       "122924               0            0     Biden            45      0.212500   \n",
       "122925               4           11     Biden            39      0.651515   \n",
       "122926               0            0     Biden             6      0.000000   \n",
       "\n",
       "        Polarity Sentiment Subjectivity_Class  \n",
       "0       0.500000  Positive         Subjective  \n",
       "1       0.000000   Neutral           Balanced  \n",
       "2       0.400000  Positive            Passive  \n",
       "3      -0.500000  Negative         Subjective  \n",
       "4       0.000000   Neutral            Passive  \n",
       "...          ...       ...                ...  \n",
       "122922  0.000000   Neutral            Passive  \n",
       "122923 -0.087500  Negative            Passive  \n",
       "122924  0.087500  Positive            Passive  \n",
       "122925  0.062121  Positive           Balanced  \n",
       "122926  0.000000   Neutral            Passive  \n",
       "\n",
       "[122927 rows x 10 columns]"
      ]
     },
     "execution_count": 9,
     "metadata": {},
     "output_type": "execute_result"
    }
   ],
   "source": [
    "# Categorize subjectivity bins\n",
    "biden_sentiment[\"Subjectivity_Class\"] = pd.cut(biden_bin, bins=bins, labels=groups)\n",
    "biden_sentiment"
   ]
  },
  {
   "cell_type": "code",
   "execution_count": 10,
   "metadata": {},
   "outputs": [],
   "source": [
    "#Feature Engineering (Biden)"
   ]
  },
  {
   "cell_type": "code",
   "execution_count": 11,
   "metadata": {},
   "outputs": [
    {
     "data": {
      "text/plain": [
       "Subjectivity_Class\n",
       "Passive       56341\n",
       "Balanced      48844\n",
       "Subjective    17742\n",
       "Name: tweet, dtype: int64"
      ]
     },
     "execution_count": 11,
     "metadata": {},
     "output_type": "execute_result"
    }
   ],
   "source": [
    "# Calculating Totals by Subjectivity Ranges\n",
    "biden_sub_groups_count = biden_sentiment.groupby([\"Subjectivity_Class\"]).count()[\"tweet\"]\n",
    "biden_sub_groups_count"
   ]
  },
  {
   "cell_type": "code",
   "execution_count": 12,
   "metadata": {},
   "outputs": [
    {
     "data": {
      "text/plain": [
       "Subjectivity_Class\n",
       "Passive       1.610994\n",
       "Balanced      1.756060\n",
       "Subjective    0.972326\n",
       "Name: replies_count, dtype: float64"
      ]
     },
     "execution_count": 12,
     "metadata": {},
     "output_type": "execute_result"
    }
   ],
   "source": [
    "# Average Replies\n",
    "biden_avg_replies = biden_sentiment.groupby([\"Subjectivity_Class\"]).mean()[\"replies_count\"]\n",
    "biden_avg_replies"
   ]
  },
  {
   "cell_type": "code",
   "execution_count": 13,
   "metadata": {},
   "outputs": [
    {
     "data": {
      "text/plain": [
       "Subjectivity_Class\n",
       "Passive       4.591807\n",
       "Balanced      5.599992\n",
       "Subjective    3.642599\n",
       "Name: retweets_count, dtype: float64"
      ]
     },
     "execution_count": 13,
     "metadata": {},
     "output_type": "execute_result"
    }
   ],
   "source": [
    "# Average Retweets\n",
    "biden_avg_retweets = biden_sentiment.groupby([\"Subjectivity_Class\"]).mean()[\"retweets_count\"]\n",
    "biden_avg_retweets"
   ]
  },
  {
   "cell_type": "code",
   "execution_count": 14,
   "metadata": {},
   "outputs": [
    {
     "data": {
      "text/plain": [
       "Subjectivity_Class\n",
       "Passive       18.412648\n",
       "Balanced      21.199963\n",
       "Subjective    16.357570\n",
       "Name: likes_count, dtype: float64"
      ]
     },
     "execution_count": 14,
     "metadata": {},
     "output_type": "execute_result"
    }
   ],
   "source": [
    "# Average Likes\n",
    "biden_avg_likes = biden_sentiment.groupby([\"Subjectivity_Class\"]).mean()[\"likes_count\"]\n",
    "biden_avg_likes"
   ]
  },
  {
   "cell_type": "code",
   "execution_count": 15,
   "metadata": {},
   "outputs": [
    {
     "data": {
      "text/plain": [
       "Subjectivity_Class\n",
       "Passive       14.353135\n",
       "Balanced      25.472259\n",
       "Subjective    18.881073\n",
       "Name: tweet_length, dtype: float64"
      ]
     },
     "execution_count": 15,
     "metadata": {},
     "output_type": "execute_result"
    }
   ],
   "source": [
    "# Average Tweet Length\n",
    "biden_avg_tweet_length = biden_sentiment.groupby([\"Subjectivity_Class\"]).mean()[\"tweet_length\"]\n",
    "biden_avg_tweet_length"
   ]
  },
  {
   "cell_type": "code",
   "execution_count": 16,
   "metadata": {},
   "outputs": [
    {
     "data": {
      "text/plain": [
       "Subjectivity_Class\n",
       "Passive       0.016212\n",
       "Balanced      0.116926\n",
       "Subjective    0.057129\n",
       "Name: Polarity, dtype: float64"
      ]
     },
     "execution_count": 16,
     "metadata": {},
     "output_type": "execute_result"
    }
   ],
   "source": [
    "# Average Sentiment Score\n",
    "biden_avg_sentiment_score= biden_sentiment.groupby([\"Subjectivity_Class\"]).mean()[\"Polarity\"]\n",
    "biden_avg_sentiment_score"
   ]
  },
  {
   "cell_type": "code",
   "execution_count": 17,
   "metadata": {},
   "outputs": [
    {
     "data": {
      "text/html": [
       "<div>\n",
       "<style scoped>\n",
       "    .dataframe tbody tr th:only-of-type {\n",
       "        vertical-align: middle;\n",
       "    }\n",
       "\n",
       "    .dataframe tbody tr th {\n",
       "        vertical-align: top;\n",
       "    }\n",
       "\n",
       "    .dataframe thead th {\n",
       "        text-align: right;\n",
       "    }\n",
       "</style>\n",
       "<table border=\"1\" class=\"dataframe\">\n",
       "  <thead>\n",
       "    <tr style=\"text-align: right;\">\n",
       "      <th></th>\n",
       "      <th>Avg Replies</th>\n",
       "      <th>Avg Retweets</th>\n",
       "      <th>Avg Likes</th>\n",
       "      <th>Avg Tweet Length</th>\n",
       "      <th>Avg Sentiment</th>\n",
       "      <th>Total</th>\n",
       "    </tr>\n",
       "    <tr>\n",
       "      <th>Subjectivity_Class</th>\n",
       "      <th></th>\n",
       "      <th></th>\n",
       "      <th></th>\n",
       "      <th></th>\n",
       "      <th></th>\n",
       "      <th></th>\n",
       "    </tr>\n",
       "  </thead>\n",
       "  <tbody>\n",
       "    <tr>\n",
       "      <th>Passive</th>\n",
       "      <td>1.610994</td>\n",
       "      <td>4.591807</td>\n",
       "      <td>18.412648</td>\n",
       "      <td>14.353135</td>\n",
       "      <td>0.016212</td>\n",
       "      <td>56341</td>\n",
       "    </tr>\n",
       "    <tr>\n",
       "      <th>Balanced</th>\n",
       "      <td>1.756060</td>\n",
       "      <td>5.599992</td>\n",
       "      <td>21.199963</td>\n",
       "      <td>25.472259</td>\n",
       "      <td>0.116926</td>\n",
       "      <td>48844</td>\n",
       "    </tr>\n",
       "    <tr>\n",
       "      <th>Subjective</th>\n",
       "      <td>0.972326</td>\n",
       "      <td>3.642599</td>\n",
       "      <td>16.357570</td>\n",
       "      <td>18.881073</td>\n",
       "      <td>0.057129</td>\n",
       "      <td>17742</td>\n",
       "    </tr>\n",
       "  </tbody>\n",
       "</table>\n",
       "</div>"
      ],
      "text/plain": [
       "                    Avg Replies  Avg Retweets  Avg Likes  Avg Tweet Length  \\\n",
       "Subjectivity_Class                                                           \n",
       "Passive                1.610994      4.591807  18.412648         14.353135   \n",
       "Balanced               1.756060      5.599992  21.199963         25.472259   \n",
       "Subjective             0.972326      3.642599  16.357570         18.881073   \n",
       "\n",
       "                    Avg Sentiment  Total  \n",
       "Subjectivity_Class                        \n",
       "Passive                  0.016212  56341  \n",
       "Balanced                 0.116926  48844  \n",
       "Subjective               0.057129  17742  "
      ]
     },
     "execution_count": 17,
     "metadata": {},
     "output_type": "execute_result"
    }
   ],
   "source": [
    "# Combine each Series for table\n",
    "biden_subjectivity_table = pd.DataFrame({\n",
    "               \"Avg Replies\": biden_avg_replies,\n",
    "               \"Avg Retweets\": biden_avg_retweets,\n",
    "               \"Avg Likes\": biden_avg_likes,\n",
    "               \"Avg Tweet Length\": biden_avg_tweet_length,\n",
    "               \"Avg Sentiment\" : biden_avg_sentiment_score,\n",
    "               \"Total\" : biden_sub_groups_count})\n",
    "\n",
    "biden_subjectivity_table.head()"
   ]
  },
  {
   "cell_type": "code",
   "execution_count": 18,
   "metadata": {},
   "outputs": [
    {
     "data": {
      "text/html": [
       "<div>\n",
       "<style scoped>\n",
       "    .dataframe tbody tr th:only-of-type {\n",
       "        vertical-align: middle;\n",
       "    }\n",
       "\n",
       "    .dataframe tbody tr th {\n",
       "        vertical-align: top;\n",
       "    }\n",
       "\n",
       "    .dataframe thead th {\n",
       "        text-align: right;\n",
       "    }\n",
       "</style>\n",
       "<table border=\"1\" class=\"dataframe\">\n",
       "  <thead>\n",
       "    <tr style=\"text-align: right;\">\n",
       "      <th></th>\n",
       "      <th>Avg Replies</th>\n",
       "      <th>Avg Retweets</th>\n",
       "      <th>Avg Likes</th>\n",
       "      <th>Avg Tweet Length</th>\n",
       "      <th>Avg Sentiment</th>\n",
       "      <th>Total</th>\n",
       "    </tr>\n",
       "    <tr>\n",
       "      <th>Subjectivity_Class</th>\n",
       "      <th></th>\n",
       "      <th></th>\n",
       "      <th></th>\n",
       "      <th></th>\n",
       "      <th></th>\n",
       "      <th></th>\n",
       "    </tr>\n",
       "  </thead>\n",
       "  <tbody>\n",
       "    <tr>\n",
       "      <th>Passive</th>\n",
       "      <td>1.6</td>\n",
       "      <td>4.6</td>\n",
       "      <td>18.4</td>\n",
       "      <td>14.4</td>\n",
       "      <td>0.016</td>\n",
       "      <td>56341</td>\n",
       "    </tr>\n",
       "    <tr>\n",
       "      <th>Balanced</th>\n",
       "      <td>1.8</td>\n",
       "      <td>5.6</td>\n",
       "      <td>21.2</td>\n",
       "      <td>25.5</td>\n",
       "      <td>0.117</td>\n",
       "      <td>48844</td>\n",
       "    </tr>\n",
       "    <tr>\n",
       "      <th>Subjective</th>\n",
       "      <td>1.0</td>\n",
       "      <td>3.6</td>\n",
       "      <td>16.4</td>\n",
       "      <td>18.9</td>\n",
       "      <td>0.057</td>\n",
       "      <td>17742</td>\n",
       "    </tr>\n",
       "  </tbody>\n",
       "</table>\n",
       "</div>"
      ],
      "text/plain": [
       "                   Avg Replies Avg Retweets Avg Likes Avg Tweet Length  \\\n",
       "Subjectivity_Class                                                       \n",
       "Passive                    1.6          4.6      18.4             14.4   \n",
       "Balanced                   1.8          5.6      21.2             25.5   \n",
       "Subjective                 1.0          3.6      16.4             18.9   \n",
       "\n",
       "                   Avg Sentiment  Total  \n",
       "Subjectivity_Class                       \n",
       "Passive                    0.016  56341  \n",
       "Balanced                   0.117  48844  \n",
       "Subjective                 0.057  17742  "
      ]
     },
     "execution_count": 18,
     "metadata": {},
     "output_type": "execute_result"
    }
   ],
   "source": [
    "# Format each column\n",
    "biden_subjectivity_table[\"Avg Replies\"] = biden_subjectivity_table[\"Avg Replies\"].map(\"{:.1f}\".format)\n",
    "\n",
    "biden_subjectivity_table[\"Avg Retweets\"] = biden_subjectivity_table[\"Avg Retweets\"].map(\"{:.1f}\".format)\n",
    "\n",
    "biden_subjectivity_table[\"Avg Likes\"] = biden_subjectivity_table[\"Avg Likes\"].map(\"{:.1f}\".format)\n",
    "\n",
    "biden_subjectivity_table[\"Avg Tweet Length\"] = biden_subjectivity_table[\"Avg Tweet Length\"].map(\"{:.1f}\".format)\n",
    "\n",
    "biden_subjectivity_table[\"Avg Sentiment\"] = biden_subjectivity_table[\"Avg Sentiment\"].map(\"{:.3f}\".format)\n",
    "\n",
    "\n",
    "# Display the DataFrame.\n",
    "biden_subjectivity_table.head()"
   ]
  },
  {
   "cell_type": "code",
   "execution_count": 19,
   "metadata": {},
   "outputs": [],
   "source": [
    "#Writing csv file for Dashboard"
   ]
  },
  {
   "cell_type": "code",
   "execution_count": 20,
   "metadata": {},
   "outputs": [],
   "source": [
    "biden_subjectivity_table.to_csv(r'C:\\Users\\kevin\\Documents\\myrepo\\Final-Project\\Resources\\town_hall_biden_subjectivity.csv', index = True, header=True)"
   ]
  },
  {
   "cell_type": "code",
   "execution_count": 21,
   "metadata": {},
   "outputs": [],
   "source": [
    "#Trump Subjectivity Analysis"
   ]
  },
  {
   "cell_type": "code",
   "execution_count": 22,
   "metadata": {},
   "outputs": [
    {
     "data": {
      "text/plain": [
       "122927    0.750000\n",
       "122928    0.505000\n",
       "122929    0.375000\n",
       "122930    0.466667\n",
       "122931    0.000000\n",
       "            ...   \n",
       "298514    0.000000\n",
       "298515    0.173737\n",
       "298516    0.000000\n",
       "298517    0.000000\n",
       "298518    0.500000\n",
       "Name: Subjectivity, Length: 175592, dtype: float64"
      ]
     },
     "execution_count": 22,
     "metadata": {},
     "output_type": "execute_result"
    }
   ],
   "source": [
    "# Creating Bins for Subjectivity\n",
    "trump_bin=trump_sentiment.Subjectivity\n",
    "trump_bin\n"
   ]
  },
  {
   "cell_type": "code",
   "execution_count": 23,
   "metadata": {},
   "outputs": [],
   "source": [
    "#Creating Bins"
   ]
  },
  {
   "cell_type": "code",
   "execution_count": 24,
   "metadata": {},
   "outputs": [
    {
     "data": {
      "text/plain": [
       "Subjectivity\n",
       "(-0.5, 0.3]    82230\n",
       "(0.3, 0.7]     65588\n",
       "(0.7, 1.5]     27774\n",
       "Name: Subjectivity, dtype: int64"
      ]
     },
     "execution_count": 24,
     "metadata": {},
     "output_type": "execute_result"
    }
   ],
   "source": [
    "# Assumption of Subjectivity Ranges\n",
    "# 0.0 - 0.3 => Passive (or Nonchalant Tweeter)\n",
    "# 0.3 - 0.7 => Balanced (or more Objective Tweeter)\n",
    "# 0.7 - 1.0 => Subjective (or less Objective Tweeter)\n",
    "trump_bin.groupby(pd.cut(trump_bin, bins)).count()"
   ]
  },
  {
   "cell_type": "code",
   "execution_count": 25,
   "metadata": {},
   "outputs": [
    {
     "name": "stderr",
     "output_type": "stream",
     "text": [
      "C:\\Users\\kevin\\anaconda3\\envs\\Pythondata\\lib\\site-packages\\ipykernel_launcher.py:2: SettingWithCopyWarning: \n",
      "A value is trying to be set on a copy of a slice from a DataFrame.\n",
      "Try using .loc[row_indexer,col_indexer] = value instead\n",
      "\n",
      "See the caveats in the documentation: https://pandas.pydata.org/pandas-docs/stable/user_guide/indexing.html#returning-a-view-versus-a-copy\n",
      "  \n"
     ]
    },
    {
     "data": {
      "text/html": [
       "<div>\n",
       "<style scoped>\n",
       "    .dataframe tbody tr th:only-of-type {\n",
       "        vertical-align: middle;\n",
       "    }\n",
       "\n",
       "    .dataframe tbody tr th {\n",
       "        vertical-align: top;\n",
       "    }\n",
       "\n",
       "    .dataframe thead th {\n",
       "        text-align: right;\n",
       "    }\n",
       "</style>\n",
       "<table border=\"1\" class=\"dataframe\">\n",
       "  <thead>\n",
       "    <tr style=\"text-align: right;\">\n",
       "      <th></th>\n",
       "      <th>tweet</th>\n",
       "      <th>replies_count</th>\n",
       "      <th>retweets_count</th>\n",
       "      <th>likes_count</th>\n",
       "      <th>candidate</th>\n",
       "      <th>tweet_length</th>\n",
       "      <th>Subjectivity</th>\n",
       "      <th>Polarity</th>\n",
       "      <th>Sentiment</th>\n",
       "      <th>Subjectivity_Class</th>\n",
       "    </tr>\n",
       "  </thead>\n",
       "  <tbody>\n",
       "    <tr>\n",
       "      <th>122927</th>\n",
       "      <td>m from Nebraska and also disappointed in Sass...</td>\n",
       "      <td>1</td>\n",
       "      <td>13</td>\n",
       "      <td>51</td>\n",
       "      <td>Trump</td>\n",
       "      <td>29</td>\n",
       "      <td>0.750000</td>\n",
       "      <td>-0.750000</td>\n",
       "      <td>Negative</td>\n",
       "      <td>Subjective</td>\n",
       "    </tr>\n",
       "    <tr>\n",
       "      <th>122928</th>\n",
       "      <td>His ratings were higher than yours reminder y...</td>\n",
       "      <td>0</td>\n",
       "      <td>0</td>\n",
       "      <td>0</td>\n",
       "      <td>Trump</td>\n",
       "      <td>51</td>\n",
       "      <td>0.505000</td>\n",
       "      <td>-0.030000</td>\n",
       "      <td>Negative</td>\n",
       "      <td>Balanced</td>\n",
       "    </tr>\n",
       "    <tr>\n",
       "      <th>122929</th>\n",
       "      <td>media just ignores and covers for Biden day i...</td>\n",
       "      <td>1</td>\n",
       "      <td>0</td>\n",
       "      <td>1</td>\n",
       "      <td>Trump</td>\n",
       "      <td>35</td>\n",
       "      <td>0.375000</td>\n",
       "      <td>-0.333333</td>\n",
       "      <td>Negative</td>\n",
       "      <td>Balanced</td>\n",
       "    </tr>\n",
       "    <tr>\n",
       "      <th>122930</th>\n",
       "      <td>LOL those fans are dummies too Democrat or Re...</td>\n",
       "      <td>0</td>\n",
       "      <td>0</td>\n",
       "      <td>0</td>\n",
       "      <td>Trump</td>\n",
       "      <td>29</td>\n",
       "      <td>0.466667</td>\n",
       "      <td>0.208333</td>\n",
       "      <td>Positive</td>\n",
       "      <td>Balanced</td>\n",
       "    </tr>\n",
       "    <tr>\n",
       "      <th>122931</th>\n",
       "      <td>Vote Biden</td>\n",
       "      <td>0</td>\n",
       "      <td>0</td>\n",
       "      <td>0</td>\n",
       "      <td>Trump</td>\n",
       "      <td>2</td>\n",
       "      <td>0.000000</td>\n",
       "      <td>0.000000</td>\n",
       "      <td>Neutral</td>\n",
       "      <td>Passive</td>\n",
       "    </tr>\n",
       "    <tr>\n",
       "      <th>...</th>\n",
       "      <td>...</td>\n",
       "      <td>...</td>\n",
       "      <td>...</td>\n",
       "      <td>...</td>\n",
       "      <td>...</td>\n",
       "      <td>...</td>\n",
       "      <td>...</td>\n",
       "      <td>...</td>\n",
       "      <td>...</td>\n",
       "      <td>...</td>\n",
       "    </tr>\n",
       "    <tr>\n",
       "      <th>298514</th>\n",
       "      <td>Already voted Biden Harris</td>\n",
       "      <td>0</td>\n",
       "      <td>0</td>\n",
       "      <td>1</td>\n",
       "      <td>Trump</td>\n",
       "      <td>4</td>\n",
       "      <td>0.000000</td>\n",
       "      <td>0.000000</td>\n",
       "      <td>Neutral</td>\n",
       "      <td>Passive</td>\n",
       "    </tr>\n",
       "    <tr>\n",
       "      <th>298515</th>\n",
       "      <td>And that is why you will probably die before ...</td>\n",
       "      <td>0</td>\n",
       "      <td>0</td>\n",
       "      <td>0</td>\n",
       "      <td>Trump</td>\n",
       "      <td>49</td>\n",
       "      <td>0.173737</td>\n",
       "      <td>-0.010101</td>\n",
       "      <td>Negative</td>\n",
       "      <td>Passive</td>\n",
       "    </tr>\n",
       "    <tr>\n",
       "      <th>298516</th>\n",
       "      <td>Your life like 218 000 Americans have</td>\n",
       "      <td>0</td>\n",
       "      <td>0</td>\n",
       "      <td>0</td>\n",
       "      <td>Trump</td>\n",
       "      <td>7</td>\n",
       "      <td>0.000000</td>\n",
       "      <td>0.000000</td>\n",
       "      <td>Neutral</td>\n",
       "      <td>Passive</td>\n",
       "    </tr>\n",
       "    <tr>\n",
       "      <th>298517</th>\n",
       "      <td>Liar Liar pants on fire</td>\n",
       "      <td>0</td>\n",
       "      <td>0</td>\n",
       "      <td>0</td>\n",
       "      <td>Trump</td>\n",
       "      <td>5</td>\n",
       "      <td>0.000000</td>\n",
       "      <td>0.000000</td>\n",
       "      <td>Neutral</td>\n",
       "      <td>Passive</td>\n",
       "    </tr>\n",
       "    <tr>\n",
       "      <th>298518</th>\n",
       "      <td>massive red wave goodbye</td>\n",
       "      <td>0</td>\n",
       "      <td>0</td>\n",
       "      <td>1</td>\n",
       "      <td>Trump</td>\n",
       "      <td>4</td>\n",
       "      <td>0.500000</td>\n",
       "      <td>0.000000</td>\n",
       "      <td>Neutral</td>\n",
       "      <td>Balanced</td>\n",
       "    </tr>\n",
       "  </tbody>\n",
       "</table>\n",
       "<p>175592 rows × 10 columns</p>\n",
       "</div>"
      ],
      "text/plain": [
       "                                                    tweet  replies_count  \\\n",
       "122927   m from Nebraska and also disappointed in Sass...              1   \n",
       "122928   His ratings were higher than yours reminder y...              0   \n",
       "122929   media just ignores and covers for Biden day i...              1   \n",
       "122930   LOL those fans are dummies too Democrat or Re...              0   \n",
       "122931                                         Vote Biden              0   \n",
       "...                                                   ...            ...   \n",
       "298514                        Already voted Biden Harris               0   \n",
       "298515   And that is why you will probably die before ...              0   \n",
       "298516             Your life like 218 000 Americans have               0   \n",
       "298517                           Liar Liar pants on fire               0   \n",
       "298518                          massive red wave goodbye               0   \n",
       "\n",
       "        retweets_count  likes_count candidate  tweet_length  Subjectivity  \\\n",
       "122927              13           51     Trump            29      0.750000   \n",
       "122928               0            0     Trump            51      0.505000   \n",
       "122929               0            1     Trump            35      0.375000   \n",
       "122930               0            0     Trump            29      0.466667   \n",
       "122931               0            0     Trump             2      0.000000   \n",
       "...                ...          ...       ...           ...           ...   \n",
       "298514               0            1     Trump             4      0.000000   \n",
       "298515               0            0     Trump            49      0.173737   \n",
       "298516               0            0     Trump             7      0.000000   \n",
       "298517               0            0     Trump             5      0.000000   \n",
       "298518               0            1     Trump             4      0.500000   \n",
       "\n",
       "        Polarity Sentiment Subjectivity_Class  \n",
       "122927 -0.750000  Negative         Subjective  \n",
       "122928 -0.030000  Negative           Balanced  \n",
       "122929 -0.333333  Negative           Balanced  \n",
       "122930  0.208333  Positive           Balanced  \n",
       "122931  0.000000   Neutral            Passive  \n",
       "...          ...       ...                ...  \n",
       "298514  0.000000   Neutral            Passive  \n",
       "298515 -0.010101  Negative            Passive  \n",
       "298516  0.000000   Neutral            Passive  \n",
       "298517  0.000000   Neutral            Passive  \n",
       "298518  0.000000   Neutral           Balanced  \n",
       "\n",
       "[175592 rows x 10 columns]"
      ]
     },
     "execution_count": 25,
     "metadata": {},
     "output_type": "execute_result"
    }
   ],
   "source": [
    "# Categorize subjectivity bins\n",
    "trump_sentiment[\"Subjectivity_Class\"] = pd.cut(trump_bin, bins=bins, labels=groups)\n",
    "trump_sentiment"
   ]
  },
  {
   "cell_type": "code",
   "execution_count": 26,
   "metadata": {},
   "outputs": [
    {
     "data": {
      "text/plain": [
       "Subjectivity_Class\n",
       "Passive       82230\n",
       "Balanced      65588\n",
       "Subjective    27774\n",
       "Name: tweet, dtype: int64"
      ]
     },
     "execution_count": 26,
     "metadata": {},
     "output_type": "execute_result"
    }
   ],
   "source": [
    "# Calculating Totals by Subjectivity Ranges\n",
    "trump_sub_groups_count = trump_sentiment.groupby([\"Subjectivity_Class\"]).count()[\"tweet\"]\n",
    "trump_sub_groups_count"
   ]
  },
  {
   "cell_type": "code",
   "execution_count": 27,
   "metadata": {},
   "outputs": [
    {
     "data": {
      "text/plain": [
       "Subjectivity_Class\n",
       "Passive       1.005424\n",
       "Balanced      2.348722\n",
       "Subjective    0.607367\n",
       "Name: replies_count, dtype: float64"
      ]
     },
     "execution_count": 27,
     "metadata": {},
     "output_type": "execute_result"
    }
   ],
   "source": [
    "# Average Replies\n",
    "trump_avg_replies = trump_sentiment.groupby([\"Subjectivity_Class\"]).mean()[\"replies_count\"]\n",
    "trump_avg_replies"
   ]
  },
  {
   "cell_type": "code",
   "execution_count": 28,
   "metadata": {},
   "outputs": [
    {
     "data": {
      "text/plain": [
       "Subjectivity_Class\n",
       "Passive       2.209765\n",
       "Balanced      4.974523\n",
       "Subjective    1.986678\n",
       "Name: retweets_count, dtype: float64"
      ]
     },
     "execution_count": 28,
     "metadata": {},
     "output_type": "execute_result"
    }
   ],
   "source": [
    "# Average Retweets\n",
    "trump_avg_retweets = trump_sentiment.groupby([\"Subjectivity_Class\"]).mean()[\"retweets_count\"]\n",
    "trump_avg_retweets"
   ]
  },
  {
   "cell_type": "code",
   "execution_count": 29,
   "metadata": {},
   "outputs": [
    {
     "data": {
      "text/plain": [
       "Subjectivity_Class\n",
       "Passive        9.262593\n",
       "Balanced      22.981277\n",
       "Subjective     8.690826\n",
       "Name: likes_count, dtype: float64"
      ]
     },
     "execution_count": 29,
     "metadata": {},
     "output_type": "execute_result"
    }
   ],
   "source": [
    "# Average Likes\n",
    "trump_avg_likes = trump_sentiment.groupby([\"Subjectivity_Class\"]).mean()[\"likes_count\"]\n",
    "trump_avg_likes"
   ]
  },
  {
   "cell_type": "code",
   "execution_count": 30,
   "metadata": {},
   "outputs": [
    {
     "data": {
      "text/plain": [
       "Subjectivity_Class\n",
       "Passive       12.009242\n",
       "Balanced      22.494984\n",
       "Subjective    16.235832\n",
       "Name: tweet_length, dtype: float64"
      ]
     },
     "execution_count": 30,
     "metadata": {},
     "output_type": "execute_result"
    }
   ],
   "source": [
    "# Average Tweet Length\n",
    "trump_avg_tweet_length = trump_sentiment.groupby([\"Subjectivity_Class\"]).mean()[\"tweet_length\"]\n",
    "trump_avg_tweet_length"
   ]
  },
  {
   "cell_type": "code",
   "execution_count": 31,
   "metadata": {},
   "outputs": [
    {
     "data": {
      "text/plain": [
       "Subjectivity_Class\n",
       "Passive       0.015524\n",
       "Balanced      0.106958\n",
       "Subjective   -0.024445\n",
       "Name: Polarity, dtype: float64"
      ]
     },
     "execution_count": 31,
     "metadata": {},
     "output_type": "execute_result"
    }
   ],
   "source": [
    "# Average Sentiment\n",
    "trump_avg_sentiment_score= trump_sentiment.groupby([\"Subjectivity_Class\"]).mean()[\"Polarity\"]\n",
    "trump_avg_sentiment_score"
   ]
  },
  {
   "cell_type": "code",
   "execution_count": 32,
   "metadata": {},
   "outputs": [
    {
     "data": {
      "text/html": [
       "<div>\n",
       "<style scoped>\n",
       "    .dataframe tbody tr th:only-of-type {\n",
       "        vertical-align: middle;\n",
       "    }\n",
       "\n",
       "    .dataframe tbody tr th {\n",
       "        vertical-align: top;\n",
       "    }\n",
       "\n",
       "    .dataframe thead th {\n",
       "        text-align: right;\n",
       "    }\n",
       "</style>\n",
       "<table border=\"1\" class=\"dataframe\">\n",
       "  <thead>\n",
       "    <tr style=\"text-align: right;\">\n",
       "      <th></th>\n",
       "      <th>Avg Replies</th>\n",
       "      <th>Avg Retweets</th>\n",
       "      <th>Avg Likes</th>\n",
       "      <th>Avg Tweet Length</th>\n",
       "      <th>Avg Sentiment</th>\n",
       "      <th>Total</th>\n",
       "    </tr>\n",
       "    <tr>\n",
       "      <th>Subjectivity_Class</th>\n",
       "      <th></th>\n",
       "      <th></th>\n",
       "      <th></th>\n",
       "      <th></th>\n",
       "      <th></th>\n",
       "      <th></th>\n",
       "    </tr>\n",
       "  </thead>\n",
       "  <tbody>\n",
       "    <tr>\n",
       "      <th>Passive</th>\n",
       "      <td>1.005424</td>\n",
       "      <td>2.209765</td>\n",
       "      <td>9.262593</td>\n",
       "      <td>12.009242</td>\n",
       "      <td>0.015524</td>\n",
       "      <td>82230</td>\n",
       "    </tr>\n",
       "    <tr>\n",
       "      <th>Balanced</th>\n",
       "      <td>2.348722</td>\n",
       "      <td>4.974523</td>\n",
       "      <td>22.981277</td>\n",
       "      <td>22.494984</td>\n",
       "      <td>0.106958</td>\n",
       "      <td>65588</td>\n",
       "    </tr>\n",
       "    <tr>\n",
       "      <th>Subjective</th>\n",
       "      <td>0.607367</td>\n",
       "      <td>1.986678</td>\n",
       "      <td>8.690826</td>\n",
       "      <td>16.235832</td>\n",
       "      <td>-0.024445</td>\n",
       "      <td>27774</td>\n",
       "    </tr>\n",
       "  </tbody>\n",
       "</table>\n",
       "</div>"
      ],
      "text/plain": [
       "                    Avg Replies  Avg Retweets  Avg Likes  Avg Tweet Length  \\\n",
       "Subjectivity_Class                                                           \n",
       "Passive                1.005424      2.209765   9.262593         12.009242   \n",
       "Balanced               2.348722      4.974523  22.981277         22.494984   \n",
       "Subjective             0.607367      1.986678   8.690826         16.235832   \n",
       "\n",
       "                    Avg Sentiment  Total  \n",
       "Subjectivity_Class                        \n",
       "Passive                  0.015524  82230  \n",
       "Balanced                 0.106958  65588  \n",
       "Subjective              -0.024445  27774  "
      ]
     },
     "execution_count": 32,
     "metadata": {},
     "output_type": "execute_result"
    }
   ],
   "source": [
    "# Combine each Series for table\n",
    "trump_subjectivity_table = pd.DataFrame({\n",
    "               \"Avg Replies\": trump_avg_replies,\n",
    "               \"Avg Retweets\": trump_avg_retweets,\n",
    "               \"Avg Likes\": trump_avg_likes,\n",
    "               \"Avg Tweet Length\": trump_avg_tweet_length,\n",
    "               \"Avg Sentiment\" : trump_avg_sentiment_score,\n",
    "               \"Total\" : trump_sub_groups_count})\n",
    "\n",
    "trump_subjectivity_table.head()"
   ]
  },
  {
   "cell_type": "code",
   "execution_count": 33,
   "metadata": {},
   "outputs": [
    {
     "data": {
      "text/html": [
       "<div>\n",
       "<style scoped>\n",
       "    .dataframe tbody tr th:only-of-type {\n",
       "        vertical-align: middle;\n",
       "    }\n",
       "\n",
       "    .dataframe tbody tr th {\n",
       "        vertical-align: top;\n",
       "    }\n",
       "\n",
       "    .dataframe thead th {\n",
       "        text-align: right;\n",
       "    }\n",
       "</style>\n",
       "<table border=\"1\" class=\"dataframe\">\n",
       "  <thead>\n",
       "    <tr style=\"text-align: right;\">\n",
       "      <th></th>\n",
       "      <th>Avg Replies</th>\n",
       "      <th>Avg Retweets</th>\n",
       "      <th>Avg Likes</th>\n",
       "      <th>Avg Tweet Length</th>\n",
       "      <th>Avg Sentiment</th>\n",
       "      <th>Total</th>\n",
       "    </tr>\n",
       "    <tr>\n",
       "      <th>Subjectivity_Class</th>\n",
       "      <th></th>\n",
       "      <th></th>\n",
       "      <th></th>\n",
       "      <th></th>\n",
       "      <th></th>\n",
       "      <th></th>\n",
       "    </tr>\n",
       "  </thead>\n",
       "  <tbody>\n",
       "    <tr>\n",
       "      <th>Passive</th>\n",
       "      <td>1.0</td>\n",
       "      <td>2.2</td>\n",
       "      <td>9.3</td>\n",
       "      <td>12.0</td>\n",
       "      <td>0.016</td>\n",
       "      <td>82230</td>\n",
       "    </tr>\n",
       "    <tr>\n",
       "      <th>Balanced</th>\n",
       "      <td>2.3</td>\n",
       "      <td>5.0</td>\n",
       "      <td>23.0</td>\n",
       "      <td>22.5</td>\n",
       "      <td>0.107</td>\n",
       "      <td>65588</td>\n",
       "    </tr>\n",
       "    <tr>\n",
       "      <th>Subjective</th>\n",
       "      <td>0.6</td>\n",
       "      <td>2.0</td>\n",
       "      <td>8.7</td>\n",
       "      <td>16.2</td>\n",
       "      <td>-0.024</td>\n",
       "      <td>27774</td>\n",
       "    </tr>\n",
       "  </tbody>\n",
       "</table>\n",
       "</div>"
      ],
      "text/plain": [
       "                   Avg Replies Avg Retweets Avg Likes Avg Tweet Length  \\\n",
       "Subjectivity_Class                                                       \n",
       "Passive                    1.0          2.2       9.3             12.0   \n",
       "Balanced                   2.3          5.0      23.0             22.5   \n",
       "Subjective                 0.6          2.0       8.7             16.2   \n",
       "\n",
       "                   Avg Sentiment  Total  \n",
       "Subjectivity_Class                       \n",
       "Passive                    0.016  82230  \n",
       "Balanced                   0.107  65588  \n",
       "Subjective                -0.024  27774  "
      ]
     },
     "execution_count": 33,
     "metadata": {},
     "output_type": "execute_result"
    }
   ],
   "source": [
    "# Format each column\n",
    "trump_subjectivity_table[\"Avg Replies\"] = trump_subjectivity_table[\"Avg Replies\"].map(\"{:.1f}\".format)\n",
    "\n",
    "trump_subjectivity_table[\"Avg Retweets\"] = trump_subjectivity_table[\"Avg Retweets\"].map(\"{:.1f}\".format)\n",
    "\n",
    "trump_subjectivity_table[\"Avg Likes\"] = trump_subjectivity_table[\"Avg Likes\"].map(\"{:.1f}\".format)\n",
    "\n",
    "trump_subjectivity_table[\"Avg Tweet Length\"] = trump_subjectivity_table[\"Avg Tweet Length\"].map(\"{:.1f}\".format)\n",
    "\n",
    "trump_subjectivity_table[\"Avg Sentiment\"] = trump_subjectivity_table[\"Avg Sentiment\"].map(\"{:.3f}\".format)\n",
    "\n",
    "\n",
    "# Display the DataFrame.\n",
    "trump_subjectivity_table.head()"
   ]
  },
  {
   "cell_type": "code",
   "execution_count": 34,
   "metadata": {},
   "outputs": [],
   "source": [
    "trump_subjectivity_table.to_csv(r'C:\\Users\\kevin\\Documents\\myrepo\\Final-Project\\Resources\\town_hall_trump_subjectivity.csv', index = True, header=True)"
   ]
  },
  {
   "cell_type": "code",
   "execution_count": null,
   "metadata": {},
   "outputs": [],
   "source": []
  }
 ],
 "metadata": {
  "kernelspec": {
   "display_name": "PythonData",
   "language": "python",
   "name": "pythondata"
  },
  "language_info": {
   "codemirror_mode": {
    "name": "ipython",
    "version": 3
   },
   "file_extension": ".py",
   "mimetype": "text/x-python",
   "name": "python",
   "nbconvert_exporter": "python",
   "pygments_lexer": "ipython3",
   "version": "3.7.7"
  }
 },
 "nbformat": 4,
 "nbformat_minor": 4
}
