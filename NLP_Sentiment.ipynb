{
 "cells": [
  {
   "cell_type": "code",
   "execution_count": 1,
   "metadata": {},
   "outputs": [
    {
     "name": "stderr",
     "output_type": "stream",
     "text": [
      "C:\\Users\\kevin\\anaconda3\\envs\\Pythondata\\lib\\site-packages\\tensorflow\\python\\framework\\dtypes.py:516: FutureWarning: Passing (type, 1) or '1type' as a synonym of type is deprecated; in a future version of numpy, it will be understood as (type, (1,)) / '(1,)type'.\n",
      "  _np_qint8 = np.dtype([(\"qint8\", np.int8, 1)])\n",
      "C:\\Users\\kevin\\anaconda3\\envs\\Pythondata\\lib\\site-packages\\tensorflow\\python\\framework\\dtypes.py:517: FutureWarning: Passing (type, 1) or '1type' as a synonym of type is deprecated; in a future version of numpy, it will be understood as (type, (1,)) / '(1,)type'.\n",
      "  _np_quint8 = np.dtype([(\"quint8\", np.uint8, 1)])\n",
      "C:\\Users\\kevin\\anaconda3\\envs\\Pythondata\\lib\\site-packages\\tensorflow\\python\\framework\\dtypes.py:518: FutureWarning: Passing (type, 1) or '1type' as a synonym of type is deprecated; in a future version of numpy, it will be understood as (type, (1,)) / '(1,)type'.\n",
      "  _np_qint16 = np.dtype([(\"qint16\", np.int16, 1)])\n",
      "C:\\Users\\kevin\\anaconda3\\envs\\Pythondata\\lib\\site-packages\\tensorflow\\python\\framework\\dtypes.py:519: FutureWarning: Passing (type, 1) or '1type' as a synonym of type is deprecated; in a future version of numpy, it will be understood as (type, (1,)) / '(1,)type'.\n",
      "  _np_quint16 = np.dtype([(\"quint16\", np.uint16, 1)])\n",
      "C:\\Users\\kevin\\anaconda3\\envs\\Pythondata\\lib\\site-packages\\tensorflow\\python\\framework\\dtypes.py:520: FutureWarning: Passing (type, 1) or '1type' as a synonym of type is deprecated; in a future version of numpy, it will be understood as (type, (1,)) / '(1,)type'.\n",
      "  _np_qint32 = np.dtype([(\"qint32\", np.int32, 1)])\n",
      "C:\\Users\\kevin\\anaconda3\\envs\\Pythondata\\lib\\site-packages\\tensorflow\\python\\framework\\dtypes.py:525: FutureWarning: Passing (type, 1) or '1type' as a synonym of type is deprecated; in a future version of numpy, it will be understood as (type, (1,)) / '(1,)type'.\n",
      "  np_resource = np.dtype([(\"resource\", np.ubyte, 1)])\n",
      "C:\\Users\\kevin\\anaconda3\\envs\\Pythondata\\lib\\site-packages\\tensorboard\\compat\\tensorflow_stub\\dtypes.py:541: FutureWarning: Passing (type, 1) or '1type' as a synonym of type is deprecated; in a future version of numpy, it will be understood as (type, (1,)) / '(1,)type'.\n",
      "  _np_qint8 = np.dtype([(\"qint8\", np.int8, 1)])\n",
      "C:\\Users\\kevin\\anaconda3\\envs\\Pythondata\\lib\\site-packages\\tensorboard\\compat\\tensorflow_stub\\dtypes.py:542: FutureWarning: Passing (type, 1) or '1type' as a synonym of type is deprecated; in a future version of numpy, it will be understood as (type, (1,)) / '(1,)type'.\n",
      "  _np_quint8 = np.dtype([(\"quint8\", np.uint8, 1)])\n",
      "C:\\Users\\kevin\\anaconda3\\envs\\Pythondata\\lib\\site-packages\\tensorboard\\compat\\tensorflow_stub\\dtypes.py:543: FutureWarning: Passing (type, 1) or '1type' as a synonym of type is deprecated; in a future version of numpy, it will be understood as (type, (1,)) / '(1,)type'.\n",
      "  _np_qint16 = np.dtype([(\"qint16\", np.int16, 1)])\n",
      "C:\\Users\\kevin\\anaconda3\\envs\\Pythondata\\lib\\site-packages\\tensorboard\\compat\\tensorflow_stub\\dtypes.py:544: FutureWarning: Passing (type, 1) or '1type' as a synonym of type is deprecated; in a future version of numpy, it will be understood as (type, (1,)) / '(1,)type'.\n",
      "  _np_quint16 = np.dtype([(\"quint16\", np.uint16, 1)])\n",
      "C:\\Users\\kevin\\anaconda3\\envs\\Pythondata\\lib\\site-packages\\tensorboard\\compat\\tensorflow_stub\\dtypes.py:545: FutureWarning: Passing (type, 1) or '1type' as a synonym of type is deprecated; in a future version of numpy, it will be understood as (type, (1,)) / '(1,)type'.\n",
      "  _np_qint32 = np.dtype([(\"qint32\", np.int32, 1)])\n",
      "C:\\Users\\kevin\\anaconda3\\envs\\Pythondata\\lib\\site-packages\\tensorboard\\compat\\tensorflow_stub\\dtypes.py:550: FutureWarning: Passing (type, 1) or '1type' as a synonym of type is deprecated; in a future version of numpy, it will be understood as (type, (1,)) / '(1,)type'.\n",
      "  np_resource = np.dtype([(\"resource\", np.ubyte, 1)])\n"
     ]
    }
   ],
   "source": [
    "\n",
    "from sklearn.model_selection import train_test_split\n",
    "from sklearn.preprocessing import StandardScaler\n",
    "from sklearn.ensemble import RandomForestClassifier\n",
    "from sklearn.metrics import accuracy_score\n",
    "from sklearn.preprocessing import OneHotEncoder\n",
    "import pandas as pd\n",
    "import tensorflow as tf\n",
    "import sklearn as skl\n",
    "import datetime as dt\n",
    "import numpy as np\n",
    "import re\n",
    "import nltk\n",
    "\n"
   ]
  },
  {
   "cell_type": "code",
   "execution_count": 2,
   "metadata": {},
   "outputs": [
    {
     "name": "stderr",
     "output_type": "stream",
     "text": [
      "C:\\Users\\kevin\\anaconda3\\envs\\Pythondata\\lib\\site-packages\\IPython\\core\\interactiveshell.py:3063: DtypeWarning: Columns (9) have mixed types.Specify dtype option on import or set low_memory=False.\n",
      "  interactivity=interactivity, compiler=compiler, result=result)\n"
     ]
    }
   ],
   "source": [
    "biden_1_debate_df = pd.read_csv(\"Resources/Biden_First_Debate_2020.csv\")"
   ]
  },
  {
   "cell_type": "code",
   "execution_count": 3,
   "metadata": {},
   "outputs": [
    {
     "data": {
      "text/html": [
       "<div>\n",
       "<style scoped>\n",
       "    .dataframe tbody tr th:only-of-type {\n",
       "        vertical-align: middle;\n",
       "    }\n",
       "\n",
       "    .dataframe tbody tr th {\n",
       "        vertical-align: top;\n",
       "    }\n",
       "\n",
       "    .dataframe thead th {\n",
       "        text-align: right;\n",
       "    }\n",
       "</style>\n",
       "<table border=\"1\" class=\"dataframe\">\n",
       "  <thead>\n",
       "    <tr style=\"text-align: right;\">\n",
       "      <th></th>\n",
       "      <th>id</th>\n",
       "      <th>conversation_id</th>\n",
       "      <th>created_at</th>\n",
       "      <th>date</th>\n",
       "      <th>time</th>\n",
       "      <th>timezone</th>\n",
       "      <th>user_id</th>\n",
       "      <th>username</th>\n",
       "      <th>name</th>\n",
       "      <th>place</th>\n",
       "      <th>...</th>\n",
       "      <th>geo</th>\n",
       "      <th>source</th>\n",
       "      <th>user_rt_id</th>\n",
       "      <th>user_rt</th>\n",
       "      <th>retweet_id</th>\n",
       "      <th>reply_to</th>\n",
       "      <th>retweet_date</th>\n",
       "      <th>translate</th>\n",
       "      <th>trans_src</th>\n",
       "      <th>trans_dest</th>\n",
       "    </tr>\n",
       "  </thead>\n",
       "  <tbody>\n",
       "    <tr>\n",
       "      <th>0</th>\n",
       "      <td>1.311460e+18</td>\n",
       "      <td>1.311400e+18</td>\n",
       "      <td>2020-09-30 19:59:59 Eastern Daylight Time</td>\n",
       "      <td>9/30/2020</td>\n",
       "      <td>19:59:59</td>\n",
       "      <td>-400</td>\n",
       "      <td>1.288620e+18</td>\n",
       "      <td>dailyphoenix1</td>\n",
       "      <td>Daily Phoenix</td>\n",
       "      <td>NaN</td>\n",
       "      <td>...</td>\n",
       "      <td>NaN</td>\n",
       "      <td>NaN</td>\n",
       "      <td>NaN</td>\n",
       "      <td>NaN</td>\n",
       "      <td>NaN</td>\n",
       "      <td>{'user_id': '832376325306359808', 'username': ...</td>\n",
       "      <td>NaN</td>\n",
       "      <td>NaN</td>\n",
       "      <td>NaN</td>\n",
       "      <td>NaN</td>\n",
       "    </tr>\n",
       "    <tr>\n",
       "      <th>1</th>\n",
       "      <td>1.311460e+18</td>\n",
       "      <td>1.311130e+18</td>\n",
       "      <td>2020-09-30 19:59:59 Eastern Daylight Time</td>\n",
       "      <td>9/30/2020</td>\n",
       "      <td>19:59:59</td>\n",
       "      <td>-400</td>\n",
       "      <td>1.278010e+18</td>\n",
       "      <td>maya73863414</td>\n",
       "      <td>maya</td>\n",
       "      <td>NaN</td>\n",
       "      <td>...</td>\n",
       "      <td>NaN</td>\n",
       "      <td>NaN</td>\n",
       "      <td>NaN</td>\n",
       "      <td>NaN</td>\n",
       "      <td>NaN</td>\n",
       "      <td>{'user_id': '956360508575232002', 'username': ...</td>\n",
       "      <td>NaN</td>\n",
       "      <td>NaN</td>\n",
       "      <td>NaN</td>\n",
       "      <td>NaN</td>\n",
       "    </tr>\n",
       "    <tr>\n",
       "      <th>2</th>\n",
       "      <td>1.311460e+18</td>\n",
       "      <td>1.311420e+18</td>\n",
       "      <td>2020-09-30 19:59:59 Eastern Daylight Time</td>\n",
       "      <td>9/30/2020</td>\n",
       "      <td>19:59:59</td>\n",
       "      <td>-400</td>\n",
       "      <td>5.723769e+07</td>\n",
       "      <td>wesatkinson</td>\n",
       "      <td>Big Wes</td>\n",
       "      <td>NaN</td>\n",
       "      <td>...</td>\n",
       "      <td>NaN</td>\n",
       "      <td>NaN</td>\n",
       "      <td>NaN</td>\n",
       "      <td>NaN</td>\n",
       "      <td>NaN</td>\n",
       "      <td>{'user_id': '939091', 'username': 'JoeBiden'}</td>\n",
       "      <td>NaN</td>\n",
       "      <td>NaN</td>\n",
       "      <td>NaN</td>\n",
       "      <td>NaN</td>\n",
       "    </tr>\n",
       "    <tr>\n",
       "      <th>3</th>\n",
       "      <td>1.311460e+18</td>\n",
       "      <td>1.311460e+18</td>\n",
       "      <td>2020-09-30 19:59:59 Eastern Daylight Time</td>\n",
       "      <td>9/30/2020</td>\n",
       "      <td>19:59:59</td>\n",
       "      <td>-400</td>\n",
       "      <td>5.544081e+08</td>\n",
       "      <td>woodrow823</td>\n",
       "      <td>Woodrow</td>\n",
       "      <td>NaN</td>\n",
       "      <td>...</td>\n",
       "      <td>NaN</td>\n",
       "      <td>NaN</td>\n",
       "      <td>NaN</td>\n",
       "      <td>NaN</td>\n",
       "      <td>NaN</td>\n",
       "      <td>{'user_id': None, 'username': None}</td>\n",
       "      <td>NaN</td>\n",
       "      <td>NaN</td>\n",
       "      <td>NaN</td>\n",
       "      <td>NaN</td>\n",
       "    </tr>\n",
       "    <tr>\n",
       "      <th>4</th>\n",
       "      <td>1.311460e+18</td>\n",
       "      <td>1.311400e+18</td>\n",
       "      <td>2020-09-30 19:59:59 Eastern Daylight Time</td>\n",
       "      <td>9/30/2020</td>\n",
       "      <td>19:59:59</td>\n",
       "      <td>-400</td>\n",
       "      <td>3.060555e+08</td>\n",
       "      <td>sadie_75resist</td>\n",
       "      <td>😷SADIE💙2020 BLUE WAVE💙</td>\n",
       "      <td>NaN</td>\n",
       "      <td>...</td>\n",
       "      <td>NaN</td>\n",
       "      <td>NaN</td>\n",
       "      <td>NaN</td>\n",
       "      <td>NaN</td>\n",
       "      <td>NaN</td>\n",
       "      <td>{'user_id': '1249416438051246080', 'username':...</td>\n",
       "      <td>NaN</td>\n",
       "      <td>NaN</td>\n",
       "      <td>NaN</td>\n",
       "      <td>NaN</td>\n",
       "    </tr>\n",
       "  </tbody>\n",
       "</table>\n",
       "<p>5 rows × 36 columns</p>\n",
       "</div>"
      ],
      "text/plain": [
       "             id  conversation_id                                 created_at  \\\n",
       "0  1.311460e+18     1.311400e+18  2020-09-30 19:59:59 Eastern Daylight Time   \n",
       "1  1.311460e+18     1.311130e+18  2020-09-30 19:59:59 Eastern Daylight Time   \n",
       "2  1.311460e+18     1.311420e+18  2020-09-30 19:59:59 Eastern Daylight Time   \n",
       "3  1.311460e+18     1.311460e+18  2020-09-30 19:59:59 Eastern Daylight Time   \n",
       "4  1.311460e+18     1.311400e+18  2020-09-30 19:59:59 Eastern Daylight Time   \n",
       "\n",
       "        date      time  timezone       user_id        username  \\\n",
       "0  9/30/2020  19:59:59      -400  1.288620e+18   dailyphoenix1   \n",
       "1  9/30/2020  19:59:59      -400  1.278010e+18    maya73863414   \n",
       "2  9/30/2020  19:59:59      -400  5.723769e+07     wesatkinson   \n",
       "3  9/30/2020  19:59:59      -400  5.544081e+08      woodrow823   \n",
       "4  9/30/2020  19:59:59      -400  3.060555e+08  sadie_75resist   \n",
       "\n",
       "                     name place  ... geo source user_rt_id user_rt retweet_id  \\\n",
       "0           Daily Phoenix   NaN  ... NaN    NaN        NaN     NaN        NaN   \n",
       "1                    maya   NaN  ... NaN    NaN        NaN     NaN        NaN   \n",
       "2                 Big Wes   NaN  ... NaN    NaN        NaN     NaN        NaN   \n",
       "3                 Woodrow   NaN  ... NaN    NaN        NaN     NaN        NaN   \n",
       "4  😷SADIE💙2020 BLUE WAVE💙   NaN  ... NaN    NaN        NaN     NaN        NaN   \n",
       "\n",
       "                                            reply_to  retweet_date  translate  \\\n",
       "0  {'user_id': '832376325306359808', 'username': ...           NaN        NaN   \n",
       "1  {'user_id': '956360508575232002', 'username': ...           NaN        NaN   \n",
       "2      {'user_id': '939091', 'username': 'JoeBiden'}           NaN        NaN   \n",
       "3                {'user_id': None, 'username': None}           NaN        NaN   \n",
       "4  {'user_id': '1249416438051246080', 'username':...           NaN        NaN   \n",
       "\n",
       "  trans_src trans_dest  \n",
       "0       NaN        NaN  \n",
       "1       NaN        NaN  \n",
       "2       NaN        NaN  \n",
       "3       NaN        NaN  \n",
       "4       NaN        NaN  \n",
       "\n",
       "[5 rows x 36 columns]"
      ]
     },
     "execution_count": 3,
     "metadata": {},
     "output_type": "execute_result"
    }
   ],
   "source": [
    "biden_1_debate_df.head(5)"
   ]
  },
  {
   "cell_type": "code",
   "execution_count": 4,
   "metadata": {},
   "outputs": [
    {
     "data": {
      "text/plain": [
       "id                 float64\n",
       "conversation_id    float64\n",
       "created_at          object\n",
       "date                object\n",
       "time                object\n",
       "timezone             int64\n",
       "user_id            float64\n",
       "username            object\n",
       "name                object\n",
       "place               object\n",
       "tweet               object\n",
       "language            object\n",
       "mentions            object\n",
       "urls                object\n",
       "photos              object\n",
       "replies_count        int64\n",
       "retweets_count       int64\n",
       "likes_count          int64\n",
       "hashtags            object\n",
       "cashtags            object\n",
       "link                object\n",
       "retweet            float64\n",
       "quote_url           object\n",
       "video                int64\n",
       "thumbnail           object\n",
       "near               float64\n",
       "geo                float64\n",
       "source             float64\n",
       "user_rt_id         float64\n",
       "user_rt            float64\n",
       "retweet_id         float64\n",
       "reply_to            object\n",
       "retweet_date       float64\n",
       "translate          float64\n",
       "trans_src          float64\n",
       "trans_dest         float64\n",
       "dtype: object"
      ]
     },
     "execution_count": 4,
     "metadata": {},
     "output_type": "execute_result"
    }
   ],
   "source": [
    "biden_1_debate_df.dtypes"
   ]
  },
  {
   "cell_type": "code",
   "execution_count": 5,
   "metadata": {},
   "outputs": [
    {
     "data": {
      "text/plain": [
       "id                      0\n",
       "conversation_id         0\n",
       "created_at              0\n",
       "date                    0\n",
       "time                    0\n",
       "timezone                0\n",
       "user_id                 0\n",
       "username                0\n",
       "name                   50\n",
       "place              536201\n",
       "tweet                   0\n",
       "language                0\n",
       "mentions                0\n",
       "urls                    0\n",
       "photos                  0\n",
       "replies_count           0\n",
       "retweets_count          0\n",
       "likes_count             0\n",
       "hashtags                0\n",
       "cashtags                0\n",
       "link                    0\n",
       "retweet            536260\n",
       "quote_url          504852\n",
       "video                   0\n",
       "thumbnail          475276\n",
       "near               536260\n",
       "geo                536260\n",
       "source             536260\n",
       "user_rt_id         536260\n",
       "user_rt            536260\n",
       "retweet_id         536260\n",
       "reply_to                0\n",
       "retweet_date       536260\n",
       "translate          536260\n",
       "trans_src          536260\n",
       "trans_dest         536260\n",
       "dtype: int64"
      ]
     },
     "execution_count": 5,
     "metadata": {},
     "output_type": "execute_result"
    }
   ],
   "source": [
    "biden_1_debate_df.isnull().sum(axis = 0)"
   ]
  },
  {
   "cell_type": "code",
   "execution_count": 6,
   "metadata": {},
   "outputs": [
    {
     "data": {
      "text/plain": [
       "Series([], Name: retweet, dtype: int64)"
      ]
     },
     "execution_count": 6,
     "metadata": {},
     "output_type": "execute_result"
    }
   ],
   "source": [
    "\n",
    "biden_1_debate_df.retweet.value_counts()"
   ]
  },
  {
   "cell_type": "code",
   "execution_count": 7,
   "metadata": {},
   "outputs": [
    {
     "data": {
      "text/plain": [
       "(536260, 36)"
      ]
     },
     "execution_count": 7,
     "metadata": {},
     "output_type": "execute_result"
    }
   ],
   "source": [
    "biden_1_debate_df.shape"
   ]
  },
  {
   "cell_type": "code",
   "execution_count": 8,
   "metadata": {},
   "outputs": [],
   "source": [
    "columns = [\"place\", \"retweet\", \"quote_url\", \"near\", \"geo\", \"source\", \"user_rt_id\", \"user_rt\", \"retweet_date\", \"retweet_id\", \"translate\", \"trans_src\", \"trans_dest\"]"
   ]
  },
  {
   "cell_type": "code",
   "execution_count": 9,
   "metadata": {},
   "outputs": [],
   "source": [
    "\n",
    "biden_1_debate_df.drop(columns, axis=1, inplace=True)"
   ]
  },
  {
   "cell_type": "code",
   "execution_count": 10,
   "metadata": {},
   "outputs": [
    {
     "data": {
      "text/html": [
       "<div>\n",
       "<style scoped>\n",
       "    .dataframe tbody tr th:only-of-type {\n",
       "        vertical-align: middle;\n",
       "    }\n",
       "\n",
       "    .dataframe tbody tr th {\n",
       "        vertical-align: top;\n",
       "    }\n",
       "\n",
       "    .dataframe thead th {\n",
       "        text-align: right;\n",
       "    }\n",
       "</style>\n",
       "<table border=\"1\" class=\"dataframe\">\n",
       "  <thead>\n",
       "    <tr style=\"text-align: right;\">\n",
       "      <th></th>\n",
       "      <th>id</th>\n",
       "      <th>conversation_id</th>\n",
       "      <th>created_at</th>\n",
       "      <th>date</th>\n",
       "      <th>time</th>\n",
       "      <th>timezone</th>\n",
       "      <th>user_id</th>\n",
       "      <th>username</th>\n",
       "      <th>name</th>\n",
       "      <th>tweet</th>\n",
       "      <th>...</th>\n",
       "      <th>photos</th>\n",
       "      <th>replies_count</th>\n",
       "      <th>retweets_count</th>\n",
       "      <th>likes_count</th>\n",
       "      <th>hashtags</th>\n",
       "      <th>cashtags</th>\n",
       "      <th>link</th>\n",
       "      <th>video</th>\n",
       "      <th>thumbnail</th>\n",
       "      <th>reply_to</th>\n",
       "    </tr>\n",
       "  </thead>\n",
       "  <tbody>\n",
       "    <tr>\n",
       "      <th>0</th>\n",
       "      <td>1.311460e+18</td>\n",
       "      <td>1.311400e+18</td>\n",
       "      <td>2020-09-30 19:59:59 Eastern Daylight Time</td>\n",
       "      <td>9/30/2020</td>\n",
       "      <td>19:59:59</td>\n",
       "      <td>-400</td>\n",
       "      <td>1.288620e+18</td>\n",
       "      <td>dailyphoenix1</td>\n",
       "      <td>Daily Phoenix</td>\n",
       "      <td>@kathyhoffman_az @JoeBiden Should we have CRT ...</td>\n",
       "      <td>...</td>\n",
       "      <td>[]</td>\n",
       "      <td>1</td>\n",
       "      <td>0</td>\n",
       "      <td>2</td>\n",
       "      <td>[]</td>\n",
       "      <td>[]</td>\n",
       "      <td>https://twitter.com/DailyPhoenix1/status/13114...</td>\n",
       "      <td>0</td>\n",
       "      <td>NaN</td>\n",
       "      <td>{'user_id': '832376325306359808', 'username': ...</td>\n",
       "    </tr>\n",
       "    <tr>\n",
       "      <th>1</th>\n",
       "      <td>1.311460e+18</td>\n",
       "      <td>1.311130e+18</td>\n",
       "      <td>2020-09-30 19:59:59 Eastern Daylight Time</td>\n",
       "      <td>9/30/2020</td>\n",
       "      <td>19:59:59</td>\n",
       "      <td>-400</td>\n",
       "      <td>1.278010e+18</td>\n",
       "      <td>maya73863414</td>\n",
       "      <td>maya</td>\n",
       "      <td>@Rocket54441 @JoeBiden Literally trump but ok</td>\n",
       "      <td>...</td>\n",
       "      <td>[]</td>\n",
       "      <td>0</td>\n",
       "      <td>0</td>\n",
       "      <td>0</td>\n",
       "      <td>[]</td>\n",
       "      <td>[]</td>\n",
       "      <td>https://twitter.com/maya73863414/status/131145...</td>\n",
       "      <td>0</td>\n",
       "      <td>NaN</td>\n",
       "      <td>{'user_id': '956360508575232002', 'username': ...</td>\n",
       "    </tr>\n",
       "    <tr>\n",
       "      <th>2</th>\n",
       "      <td>1.311460e+18</td>\n",
       "      <td>1.311420e+18</td>\n",
       "      <td>2020-09-30 19:59:59 Eastern Daylight Time</td>\n",
       "      <td>9/30/2020</td>\n",
       "      <td>19:59:59</td>\n",
       "      <td>-400</td>\n",
       "      <td>5.723769e+07</td>\n",
       "      <td>wesatkinson</td>\n",
       "      <td>Big Wes</td>\n",
       "      <td>@JoeBiden @MonicaLewinsky https://t.co/Wni5F0WJHt</td>\n",
       "      <td>...</td>\n",
       "      <td>['https://pbs.twimg.com/media/EjM6FGwXgAEhUL3....</td>\n",
       "      <td>0</td>\n",
       "      <td>0</td>\n",
       "      <td>2</td>\n",
       "      <td>[]</td>\n",
       "      <td>[]</td>\n",
       "      <td>https://twitter.com/wesatkinson/status/1311455...</td>\n",
       "      <td>1</td>\n",
       "      <td>https://pbs.twimg.com/media/EjM6FGwXgAEhUL3.jpg</td>\n",
       "      <td>{'user_id': '939091', 'username': 'JoeBiden'}</td>\n",
       "    </tr>\n",
       "    <tr>\n",
       "      <th>3</th>\n",
       "      <td>1.311460e+18</td>\n",
       "      <td>1.311460e+18</td>\n",
       "      <td>2020-09-30 19:59:59 Eastern Daylight Time</td>\n",
       "      <td>9/30/2020</td>\n",
       "      <td>19:59:59</td>\n",
       "      <td>-400</td>\n",
       "      <td>5.544081e+08</td>\n",
       "      <td>woodrow823</td>\n",
       "      <td>Woodrow</td>\n",
       "      <td>Pres. you missed the op to mention HBCU.  @Joe...</td>\n",
       "      <td>...</td>\n",
       "      <td>[]</td>\n",
       "      <td>0</td>\n",
       "      <td>0</td>\n",
       "      <td>0</td>\n",
       "      <td>['blackvote']</td>\n",
       "      <td>[]</td>\n",
       "      <td>https://twitter.com/woodrow823/status/13114557...</td>\n",
       "      <td>0</td>\n",
       "      <td>NaN</td>\n",
       "      <td>{'user_id': None, 'username': None}</td>\n",
       "    </tr>\n",
       "    <tr>\n",
       "      <th>4</th>\n",
       "      <td>1.311460e+18</td>\n",
       "      <td>1.311400e+18</td>\n",
       "      <td>2020-09-30 19:59:59 Eastern Daylight Time</td>\n",
       "      <td>9/30/2020</td>\n",
       "      <td>19:59:59</td>\n",
       "      <td>-400</td>\n",
       "      <td>3.060555e+08</td>\n",
       "      <td>sadie_75resist</td>\n",
       "      <td>😷SADIE💙2020 BLUE WAVE💙</td>\n",
       "      <td>@Jillbiden46 @JoeBiden ❤️ #VoteBidenHarris2020...</td>\n",
       "      <td>...</td>\n",
       "      <td>['https://pbs.twimg.com/tweet_video_thumb/EjM6...</td>\n",
       "      <td>0</td>\n",
       "      <td>0</td>\n",
       "      <td>0</td>\n",
       "      <td>['votebidenharris2020', 'voteearly', 'votebide...</td>\n",
       "      <td>[]</td>\n",
       "      <td>https://twitter.com/Sadie_75Resist/status/1311...</td>\n",
       "      <td>1</td>\n",
       "      <td>https://pbs.twimg.com/tweet_video_thumb/EjM6FP...</td>\n",
       "      <td>{'user_id': '1249416438051246080', 'username':...</td>\n",
       "    </tr>\n",
       "  </tbody>\n",
       "</table>\n",
       "<p>5 rows × 23 columns</p>\n",
       "</div>"
      ],
      "text/plain": [
       "             id  conversation_id                                 created_at  \\\n",
       "0  1.311460e+18     1.311400e+18  2020-09-30 19:59:59 Eastern Daylight Time   \n",
       "1  1.311460e+18     1.311130e+18  2020-09-30 19:59:59 Eastern Daylight Time   \n",
       "2  1.311460e+18     1.311420e+18  2020-09-30 19:59:59 Eastern Daylight Time   \n",
       "3  1.311460e+18     1.311460e+18  2020-09-30 19:59:59 Eastern Daylight Time   \n",
       "4  1.311460e+18     1.311400e+18  2020-09-30 19:59:59 Eastern Daylight Time   \n",
       "\n",
       "        date      time  timezone       user_id        username  \\\n",
       "0  9/30/2020  19:59:59      -400  1.288620e+18   dailyphoenix1   \n",
       "1  9/30/2020  19:59:59      -400  1.278010e+18    maya73863414   \n",
       "2  9/30/2020  19:59:59      -400  5.723769e+07     wesatkinson   \n",
       "3  9/30/2020  19:59:59      -400  5.544081e+08      woodrow823   \n",
       "4  9/30/2020  19:59:59      -400  3.060555e+08  sadie_75resist   \n",
       "\n",
       "                     name                                              tweet  \\\n",
       "0           Daily Phoenix  @kathyhoffman_az @JoeBiden Should we have CRT ...   \n",
       "1                    maya      @Rocket54441 @JoeBiden Literally trump but ok   \n",
       "2                 Big Wes  @JoeBiden @MonicaLewinsky https://t.co/Wni5F0WJHt   \n",
       "3                 Woodrow  Pres. you missed the op to mention HBCU.  @Joe...   \n",
       "4  😷SADIE💙2020 BLUE WAVE💙  @Jillbiden46 @JoeBiden ❤️ #VoteBidenHarris2020...   \n",
       "\n",
       "   ...                                             photos replies_count  \\\n",
       "0  ...                                                 []             1   \n",
       "1  ...                                                 []             0   \n",
       "2  ...  ['https://pbs.twimg.com/media/EjM6FGwXgAEhUL3....             0   \n",
       "3  ...                                                 []             0   \n",
       "4  ...  ['https://pbs.twimg.com/tweet_video_thumb/EjM6...             0   \n",
       "\n",
       "  retweets_count likes_count  \\\n",
       "0              0           2   \n",
       "1              0           0   \n",
       "2              0           2   \n",
       "3              0           0   \n",
       "4              0           0   \n",
       "\n",
       "                                            hashtags  cashtags  \\\n",
       "0                                                 []        []   \n",
       "1                                                 []        []   \n",
       "2                                                 []        []   \n",
       "3                                      ['blackvote']        []   \n",
       "4  ['votebidenharris2020', 'voteearly', 'votebide...        []   \n",
       "\n",
       "                                                link video  \\\n",
       "0  https://twitter.com/DailyPhoenix1/status/13114...     0   \n",
       "1  https://twitter.com/maya73863414/status/131145...     0   \n",
       "2  https://twitter.com/wesatkinson/status/1311455...     1   \n",
       "3  https://twitter.com/woodrow823/status/13114557...     0   \n",
       "4  https://twitter.com/Sadie_75Resist/status/1311...     1   \n",
       "\n",
       "                                           thumbnail  \\\n",
       "0                                                NaN   \n",
       "1                                                NaN   \n",
       "2    https://pbs.twimg.com/media/EjM6FGwXgAEhUL3.jpg   \n",
       "3                                                NaN   \n",
       "4  https://pbs.twimg.com/tweet_video_thumb/EjM6FP...   \n",
       "\n",
       "                                            reply_to  \n",
       "0  {'user_id': '832376325306359808', 'username': ...  \n",
       "1  {'user_id': '956360508575232002', 'username': ...  \n",
       "2      {'user_id': '939091', 'username': 'JoeBiden'}  \n",
       "3                {'user_id': None, 'username': None}  \n",
       "4  {'user_id': '1249416438051246080', 'username':...  \n",
       "\n",
       "[5 rows x 23 columns]"
      ]
     },
     "execution_count": 10,
     "metadata": {},
     "output_type": "execute_result"
    }
   ],
   "source": [
    "biden_1_debate_df.head()"
   ]
  },
  {
   "cell_type": "code",
   "execution_count": 11,
   "metadata": {},
   "outputs": [],
   "source": [
    "def cleaned_tweet (row):\n",
    "    clean_tweet=row[\"tweet\"]\n",
    "    s = []\n",
    "    for word in clean_tweet.split():\n",
    "        if '@' not in word and 'https' not in word and '#' not in word:\n",
    "            s.append(word)\n",
    "    return (' ').join(s)"
   ]
  },
  {
   "cell_type": "code",
   "execution_count": 12,
   "metadata": {},
   "outputs": [],
   "source": [
    "def label_na (row):\n",
    "    if len(row['cleaned_tweet'].strip())==0: \n",
    "        return np.NaN\n",
    "    else:\n",
    "        return row[\"cleaned_tweet\"]"
   ]
  },
  {
   "cell_type": "code",
   "execution_count": 13,
   "metadata": {},
   "outputs": [],
   "source": [
    "\n",
    "biden_1_debate_df[\"cleaned_tweet\"]=biden_1_debate_df.apply (lambda row: cleaned_tweet(row), axis=1)"
   ]
  },
  {
   "cell_type": "code",
   "execution_count": 14,
   "metadata": {},
   "outputs": [
    {
     "data": {
      "text/html": [
       "<div>\n",
       "<style scoped>\n",
       "    .dataframe tbody tr th:only-of-type {\n",
       "        vertical-align: middle;\n",
       "    }\n",
       "\n",
       "    .dataframe tbody tr th {\n",
       "        vertical-align: top;\n",
       "    }\n",
       "\n",
       "    .dataframe thead th {\n",
       "        text-align: right;\n",
       "    }\n",
       "</style>\n",
       "<table border=\"1\" class=\"dataframe\">\n",
       "  <thead>\n",
       "    <tr style=\"text-align: right;\">\n",
       "      <th></th>\n",
       "      <th>id</th>\n",
       "      <th>conversation_id</th>\n",
       "      <th>created_at</th>\n",
       "      <th>date</th>\n",
       "      <th>time</th>\n",
       "      <th>timezone</th>\n",
       "      <th>user_id</th>\n",
       "      <th>username</th>\n",
       "      <th>name</th>\n",
       "      <th>tweet</th>\n",
       "      <th>...</th>\n",
       "      <th>replies_count</th>\n",
       "      <th>retweets_count</th>\n",
       "      <th>likes_count</th>\n",
       "      <th>hashtags</th>\n",
       "      <th>cashtags</th>\n",
       "      <th>link</th>\n",
       "      <th>video</th>\n",
       "      <th>thumbnail</th>\n",
       "      <th>reply_to</th>\n",
       "      <th>cleaned_tweet</th>\n",
       "    </tr>\n",
       "  </thead>\n",
       "  <tbody>\n",
       "    <tr>\n",
       "      <th>0</th>\n",
       "      <td>1.311460e+18</td>\n",
       "      <td>1.311400e+18</td>\n",
       "      <td>2020-09-30 19:59:59 Eastern Daylight Time</td>\n",
       "      <td>9/30/2020</td>\n",
       "      <td>19:59:59</td>\n",
       "      <td>-400</td>\n",
       "      <td>1.288620e+18</td>\n",
       "      <td>dailyphoenix1</td>\n",
       "      <td>Daily Phoenix</td>\n",
       "      <td>@kathyhoffman_az @JoeBiden Should we have CRT ...</td>\n",
       "      <td>...</td>\n",
       "      <td>1</td>\n",
       "      <td>0</td>\n",
       "      <td>2</td>\n",
       "      <td>[]</td>\n",
       "      <td>[]</td>\n",
       "      <td>https://twitter.com/DailyPhoenix1/status/13114...</td>\n",
       "      <td>0</td>\n",
       "      <td>NaN</td>\n",
       "      <td>{'user_id': '832376325306359808', 'username': ...</td>\n",
       "      <td>Should we have CRT in schools? We need a leader.</td>\n",
       "    </tr>\n",
       "    <tr>\n",
       "      <th>1</th>\n",
       "      <td>1.311460e+18</td>\n",
       "      <td>1.311130e+18</td>\n",
       "      <td>2020-09-30 19:59:59 Eastern Daylight Time</td>\n",
       "      <td>9/30/2020</td>\n",
       "      <td>19:59:59</td>\n",
       "      <td>-400</td>\n",
       "      <td>1.278010e+18</td>\n",
       "      <td>maya73863414</td>\n",
       "      <td>maya</td>\n",
       "      <td>@Rocket54441 @JoeBiden Literally trump but ok</td>\n",
       "      <td>...</td>\n",
       "      <td>0</td>\n",
       "      <td>0</td>\n",
       "      <td>0</td>\n",
       "      <td>[]</td>\n",
       "      <td>[]</td>\n",
       "      <td>https://twitter.com/maya73863414/status/131145...</td>\n",
       "      <td>0</td>\n",
       "      <td>NaN</td>\n",
       "      <td>{'user_id': '956360508575232002', 'username': ...</td>\n",
       "      <td>Literally trump but ok</td>\n",
       "    </tr>\n",
       "    <tr>\n",
       "      <th>2</th>\n",
       "      <td>1.311460e+18</td>\n",
       "      <td>1.311420e+18</td>\n",
       "      <td>2020-09-30 19:59:59 Eastern Daylight Time</td>\n",
       "      <td>9/30/2020</td>\n",
       "      <td>19:59:59</td>\n",
       "      <td>-400</td>\n",
       "      <td>5.723769e+07</td>\n",
       "      <td>wesatkinson</td>\n",
       "      <td>Big Wes</td>\n",
       "      <td>@JoeBiden @MonicaLewinsky https://t.co/Wni5F0WJHt</td>\n",
       "      <td>...</td>\n",
       "      <td>0</td>\n",
       "      <td>0</td>\n",
       "      <td>2</td>\n",
       "      <td>[]</td>\n",
       "      <td>[]</td>\n",
       "      <td>https://twitter.com/wesatkinson/status/1311455...</td>\n",
       "      <td>1</td>\n",
       "      <td>https://pbs.twimg.com/media/EjM6FGwXgAEhUL3.jpg</td>\n",
       "      <td>{'user_id': '939091', 'username': 'JoeBiden'}</td>\n",
       "      <td></td>\n",
       "    </tr>\n",
       "    <tr>\n",
       "      <th>3</th>\n",
       "      <td>1.311460e+18</td>\n",
       "      <td>1.311460e+18</td>\n",
       "      <td>2020-09-30 19:59:59 Eastern Daylight Time</td>\n",
       "      <td>9/30/2020</td>\n",
       "      <td>19:59:59</td>\n",
       "      <td>-400</td>\n",
       "      <td>5.544081e+08</td>\n",
       "      <td>woodrow823</td>\n",
       "      <td>Woodrow</td>\n",
       "      <td>Pres. you missed the op to mention HBCU.  @Joe...</td>\n",
       "      <td>...</td>\n",
       "      <td>0</td>\n",
       "      <td>0</td>\n",
       "      <td>0</td>\n",
       "      <td>['blackvote']</td>\n",
       "      <td>[]</td>\n",
       "      <td>https://twitter.com/woodrow823/status/13114557...</td>\n",
       "      <td>0</td>\n",
       "      <td>NaN</td>\n",
       "      <td>{'user_id': None, 'username': None}</td>\n",
       "      <td>Pres. you missed the op to mention HBCU. obvio...</td>\n",
       "    </tr>\n",
       "    <tr>\n",
       "      <th>4</th>\n",
       "      <td>1.311460e+18</td>\n",
       "      <td>1.311400e+18</td>\n",
       "      <td>2020-09-30 19:59:59 Eastern Daylight Time</td>\n",
       "      <td>9/30/2020</td>\n",
       "      <td>19:59:59</td>\n",
       "      <td>-400</td>\n",
       "      <td>3.060555e+08</td>\n",
       "      <td>sadie_75resist</td>\n",
       "      <td>😷SADIE💙2020 BLUE WAVE💙</td>\n",
       "      <td>@Jillbiden46 @JoeBiden ❤️ #VoteBidenHarris2020...</td>\n",
       "      <td>...</td>\n",
       "      <td>0</td>\n",
       "      <td>0</td>\n",
       "      <td>0</td>\n",
       "      <td>['votebidenharris2020', 'voteearly', 'votebide...</td>\n",
       "      <td>[]</td>\n",
       "      <td>https://twitter.com/Sadie_75Resist/status/1311...</td>\n",
       "      <td>1</td>\n",
       "      <td>https://pbs.twimg.com/tweet_video_thumb/EjM6FP...</td>\n",
       "      <td>{'user_id': '1249416438051246080', 'username':...</td>\n",
       "      <td>❤️ ❤️</td>\n",
       "    </tr>\n",
       "  </tbody>\n",
       "</table>\n",
       "<p>5 rows × 24 columns</p>\n",
       "</div>"
      ],
      "text/plain": [
       "             id  conversation_id                                 created_at  \\\n",
       "0  1.311460e+18     1.311400e+18  2020-09-30 19:59:59 Eastern Daylight Time   \n",
       "1  1.311460e+18     1.311130e+18  2020-09-30 19:59:59 Eastern Daylight Time   \n",
       "2  1.311460e+18     1.311420e+18  2020-09-30 19:59:59 Eastern Daylight Time   \n",
       "3  1.311460e+18     1.311460e+18  2020-09-30 19:59:59 Eastern Daylight Time   \n",
       "4  1.311460e+18     1.311400e+18  2020-09-30 19:59:59 Eastern Daylight Time   \n",
       "\n",
       "        date      time  timezone       user_id        username  \\\n",
       "0  9/30/2020  19:59:59      -400  1.288620e+18   dailyphoenix1   \n",
       "1  9/30/2020  19:59:59      -400  1.278010e+18    maya73863414   \n",
       "2  9/30/2020  19:59:59      -400  5.723769e+07     wesatkinson   \n",
       "3  9/30/2020  19:59:59      -400  5.544081e+08      woodrow823   \n",
       "4  9/30/2020  19:59:59      -400  3.060555e+08  sadie_75resist   \n",
       "\n",
       "                     name                                              tweet  \\\n",
       "0           Daily Phoenix  @kathyhoffman_az @JoeBiden Should we have CRT ...   \n",
       "1                    maya      @Rocket54441 @JoeBiden Literally trump but ok   \n",
       "2                 Big Wes  @JoeBiden @MonicaLewinsky https://t.co/Wni5F0WJHt   \n",
       "3                 Woodrow  Pres. you missed the op to mention HBCU.  @Joe...   \n",
       "4  😷SADIE💙2020 BLUE WAVE💙  @Jillbiden46 @JoeBiden ❤️ #VoteBidenHarris2020...   \n",
       "\n",
       "   ... replies_count retweets_count likes_count  \\\n",
       "0  ...             1              0           2   \n",
       "1  ...             0              0           0   \n",
       "2  ...             0              0           2   \n",
       "3  ...             0              0           0   \n",
       "4  ...             0              0           0   \n",
       "\n",
       "                                            hashtags  cashtags  \\\n",
       "0                                                 []        []   \n",
       "1                                                 []        []   \n",
       "2                                                 []        []   \n",
       "3                                      ['blackvote']        []   \n",
       "4  ['votebidenharris2020', 'voteearly', 'votebide...        []   \n",
       "\n",
       "                                                link  video  \\\n",
       "0  https://twitter.com/DailyPhoenix1/status/13114...      0   \n",
       "1  https://twitter.com/maya73863414/status/131145...      0   \n",
       "2  https://twitter.com/wesatkinson/status/1311455...      1   \n",
       "3  https://twitter.com/woodrow823/status/13114557...      0   \n",
       "4  https://twitter.com/Sadie_75Resist/status/1311...      1   \n",
       "\n",
       "                                           thumbnail  \\\n",
       "0                                                NaN   \n",
       "1                                                NaN   \n",
       "2    https://pbs.twimg.com/media/EjM6FGwXgAEhUL3.jpg   \n",
       "3                                                NaN   \n",
       "4  https://pbs.twimg.com/tweet_video_thumb/EjM6FP...   \n",
       "\n",
       "                                            reply_to  \\\n",
       "0  {'user_id': '832376325306359808', 'username': ...   \n",
       "1  {'user_id': '956360508575232002', 'username': ...   \n",
       "2      {'user_id': '939091', 'username': 'JoeBiden'}   \n",
       "3                {'user_id': None, 'username': None}   \n",
       "4  {'user_id': '1249416438051246080', 'username':...   \n",
       "\n",
       "                                       cleaned_tweet  \n",
       "0   Should we have CRT in schools? We need a leader.  \n",
       "1                             Literally trump but ok  \n",
       "2                                                     \n",
       "3  Pres. you missed the op to mention HBCU. obvio...  \n",
       "4                                              ❤️ ❤️  \n",
       "\n",
       "[5 rows x 24 columns]"
      ]
     },
     "execution_count": 14,
     "metadata": {},
     "output_type": "execute_result"
    }
   ],
   "source": [
    "biden_1_debate_df.head()"
   ]
  },
  {
   "cell_type": "code",
   "execution_count": 15,
   "metadata": {},
   "outputs": [],
   "source": [
    "\n",
    "import re"
   ]
  },
  {
   "cell_type": "code",
   "execution_count": 16,
   "metadata": {},
   "outputs": [],
   "source": [
    "\n",
    "biden_1_debate_df['cleaned_tweet'] = biden_1_debate_df['cleaned_tweet'].str.replace('[^\\w\\s#@/:%.,_-]', '', flags=re.UNICODE)"
   ]
  },
  {
   "cell_type": "code",
   "execution_count": 17,
   "metadata": {},
   "outputs": [
    {
     "data": {
      "text/html": [
       "<div>\n",
       "<style scoped>\n",
       "    .dataframe tbody tr th:only-of-type {\n",
       "        vertical-align: middle;\n",
       "    }\n",
       "\n",
       "    .dataframe tbody tr th {\n",
       "        vertical-align: top;\n",
       "    }\n",
       "\n",
       "    .dataframe thead th {\n",
       "        text-align: right;\n",
       "    }\n",
       "</style>\n",
       "<table border=\"1\" class=\"dataframe\">\n",
       "  <thead>\n",
       "    <tr style=\"text-align: right;\">\n",
       "      <th></th>\n",
       "      <th>id</th>\n",
       "      <th>conversation_id</th>\n",
       "      <th>created_at</th>\n",
       "      <th>date</th>\n",
       "      <th>time</th>\n",
       "      <th>timezone</th>\n",
       "      <th>user_id</th>\n",
       "      <th>username</th>\n",
       "      <th>name</th>\n",
       "      <th>tweet</th>\n",
       "      <th>...</th>\n",
       "      <th>replies_count</th>\n",
       "      <th>retweets_count</th>\n",
       "      <th>likes_count</th>\n",
       "      <th>hashtags</th>\n",
       "      <th>cashtags</th>\n",
       "      <th>link</th>\n",
       "      <th>video</th>\n",
       "      <th>thumbnail</th>\n",
       "      <th>reply_to</th>\n",
       "      <th>cleaned_tweet</th>\n",
       "    </tr>\n",
       "  </thead>\n",
       "  <tbody>\n",
       "    <tr>\n",
       "      <th>0</th>\n",
       "      <td>1.311460e+18</td>\n",
       "      <td>1.311400e+18</td>\n",
       "      <td>2020-09-30 19:59:59 Eastern Daylight Time</td>\n",
       "      <td>9/30/2020</td>\n",
       "      <td>19:59:59</td>\n",
       "      <td>-400</td>\n",
       "      <td>1.288620e+18</td>\n",
       "      <td>dailyphoenix1</td>\n",
       "      <td>Daily Phoenix</td>\n",
       "      <td>@kathyhoffman_az @JoeBiden Should we have CRT ...</td>\n",
       "      <td>...</td>\n",
       "      <td>1</td>\n",
       "      <td>0</td>\n",
       "      <td>2</td>\n",
       "      <td>[]</td>\n",
       "      <td>[]</td>\n",
       "      <td>https://twitter.com/DailyPhoenix1/status/13114...</td>\n",
       "      <td>0</td>\n",
       "      <td>NaN</td>\n",
       "      <td>{'user_id': '832376325306359808', 'username': ...</td>\n",
       "      <td>Should we have CRT in schools We need a leader.</td>\n",
       "    </tr>\n",
       "    <tr>\n",
       "      <th>1</th>\n",
       "      <td>1.311460e+18</td>\n",
       "      <td>1.311130e+18</td>\n",
       "      <td>2020-09-30 19:59:59 Eastern Daylight Time</td>\n",
       "      <td>9/30/2020</td>\n",
       "      <td>19:59:59</td>\n",
       "      <td>-400</td>\n",
       "      <td>1.278010e+18</td>\n",
       "      <td>maya73863414</td>\n",
       "      <td>maya</td>\n",
       "      <td>@Rocket54441 @JoeBiden Literally trump but ok</td>\n",
       "      <td>...</td>\n",
       "      <td>0</td>\n",
       "      <td>0</td>\n",
       "      <td>0</td>\n",
       "      <td>[]</td>\n",
       "      <td>[]</td>\n",
       "      <td>https://twitter.com/maya73863414/status/131145...</td>\n",
       "      <td>0</td>\n",
       "      <td>NaN</td>\n",
       "      <td>{'user_id': '956360508575232002', 'username': ...</td>\n",
       "      <td>Literally trump but ok</td>\n",
       "    </tr>\n",
       "    <tr>\n",
       "      <th>2</th>\n",
       "      <td>1.311460e+18</td>\n",
       "      <td>1.311420e+18</td>\n",
       "      <td>2020-09-30 19:59:59 Eastern Daylight Time</td>\n",
       "      <td>9/30/2020</td>\n",
       "      <td>19:59:59</td>\n",
       "      <td>-400</td>\n",
       "      <td>5.723769e+07</td>\n",
       "      <td>wesatkinson</td>\n",
       "      <td>Big Wes</td>\n",
       "      <td>@JoeBiden @MonicaLewinsky https://t.co/Wni5F0WJHt</td>\n",
       "      <td>...</td>\n",
       "      <td>0</td>\n",
       "      <td>0</td>\n",
       "      <td>2</td>\n",
       "      <td>[]</td>\n",
       "      <td>[]</td>\n",
       "      <td>https://twitter.com/wesatkinson/status/1311455...</td>\n",
       "      <td>1</td>\n",
       "      <td>https://pbs.twimg.com/media/EjM6FGwXgAEhUL3.jpg</td>\n",
       "      <td>{'user_id': '939091', 'username': 'JoeBiden'}</td>\n",
       "      <td></td>\n",
       "    </tr>\n",
       "    <tr>\n",
       "      <th>3</th>\n",
       "      <td>1.311460e+18</td>\n",
       "      <td>1.311460e+18</td>\n",
       "      <td>2020-09-30 19:59:59 Eastern Daylight Time</td>\n",
       "      <td>9/30/2020</td>\n",
       "      <td>19:59:59</td>\n",
       "      <td>-400</td>\n",
       "      <td>5.544081e+08</td>\n",
       "      <td>woodrow823</td>\n",
       "      <td>Woodrow</td>\n",
       "      <td>Pres. you missed the op to mention HBCU.  @Joe...</td>\n",
       "      <td>...</td>\n",
       "      <td>0</td>\n",
       "      <td>0</td>\n",
       "      <td>0</td>\n",
       "      <td>['blackvote']</td>\n",
       "      <td>[]</td>\n",
       "      <td>https://twitter.com/woodrow823/status/13114557...</td>\n",
       "      <td>0</td>\n",
       "      <td>NaN</td>\n",
       "      <td>{'user_id': None, 'username': None}</td>\n",
       "      <td>Pres. you missed the op to mention HBCU. obvio...</td>\n",
       "    </tr>\n",
       "    <tr>\n",
       "      <th>4</th>\n",
       "      <td>1.311460e+18</td>\n",
       "      <td>1.311400e+18</td>\n",
       "      <td>2020-09-30 19:59:59 Eastern Daylight Time</td>\n",
       "      <td>9/30/2020</td>\n",
       "      <td>19:59:59</td>\n",
       "      <td>-400</td>\n",
       "      <td>3.060555e+08</td>\n",
       "      <td>sadie_75resist</td>\n",
       "      <td>😷SADIE💙2020 BLUE WAVE💙</td>\n",
       "      <td>@Jillbiden46 @JoeBiden ❤️ #VoteBidenHarris2020...</td>\n",
       "      <td>...</td>\n",
       "      <td>0</td>\n",
       "      <td>0</td>\n",
       "      <td>0</td>\n",
       "      <td>['votebidenharris2020', 'voteearly', 'votebide...</td>\n",
       "      <td>[]</td>\n",
       "      <td>https://twitter.com/Sadie_75Resist/status/1311...</td>\n",
       "      <td>1</td>\n",
       "      <td>https://pbs.twimg.com/tweet_video_thumb/EjM6FP...</td>\n",
       "      <td>{'user_id': '1249416438051246080', 'username':...</td>\n",
       "      <td></td>\n",
       "    </tr>\n",
       "  </tbody>\n",
       "</table>\n",
       "<p>5 rows × 24 columns</p>\n",
       "</div>"
      ],
      "text/plain": [
       "             id  conversation_id                                 created_at  \\\n",
       "0  1.311460e+18     1.311400e+18  2020-09-30 19:59:59 Eastern Daylight Time   \n",
       "1  1.311460e+18     1.311130e+18  2020-09-30 19:59:59 Eastern Daylight Time   \n",
       "2  1.311460e+18     1.311420e+18  2020-09-30 19:59:59 Eastern Daylight Time   \n",
       "3  1.311460e+18     1.311460e+18  2020-09-30 19:59:59 Eastern Daylight Time   \n",
       "4  1.311460e+18     1.311400e+18  2020-09-30 19:59:59 Eastern Daylight Time   \n",
       "\n",
       "        date      time  timezone       user_id        username  \\\n",
       "0  9/30/2020  19:59:59      -400  1.288620e+18   dailyphoenix1   \n",
       "1  9/30/2020  19:59:59      -400  1.278010e+18    maya73863414   \n",
       "2  9/30/2020  19:59:59      -400  5.723769e+07     wesatkinson   \n",
       "3  9/30/2020  19:59:59      -400  5.544081e+08      woodrow823   \n",
       "4  9/30/2020  19:59:59      -400  3.060555e+08  sadie_75resist   \n",
       "\n",
       "                     name                                              tweet  \\\n",
       "0           Daily Phoenix  @kathyhoffman_az @JoeBiden Should we have CRT ...   \n",
       "1                    maya      @Rocket54441 @JoeBiden Literally trump but ok   \n",
       "2                 Big Wes  @JoeBiden @MonicaLewinsky https://t.co/Wni5F0WJHt   \n",
       "3                 Woodrow  Pres. you missed the op to mention HBCU.  @Joe...   \n",
       "4  😷SADIE💙2020 BLUE WAVE💙  @Jillbiden46 @JoeBiden ❤️ #VoteBidenHarris2020...   \n",
       "\n",
       "   ... replies_count retweets_count likes_count  \\\n",
       "0  ...             1              0           2   \n",
       "1  ...             0              0           0   \n",
       "2  ...             0              0           2   \n",
       "3  ...             0              0           0   \n",
       "4  ...             0              0           0   \n",
       "\n",
       "                                            hashtags  cashtags  \\\n",
       "0                                                 []        []   \n",
       "1                                                 []        []   \n",
       "2                                                 []        []   \n",
       "3                                      ['blackvote']        []   \n",
       "4  ['votebidenharris2020', 'voteearly', 'votebide...        []   \n",
       "\n",
       "                                                link  video  \\\n",
       "0  https://twitter.com/DailyPhoenix1/status/13114...      0   \n",
       "1  https://twitter.com/maya73863414/status/131145...      0   \n",
       "2  https://twitter.com/wesatkinson/status/1311455...      1   \n",
       "3  https://twitter.com/woodrow823/status/13114557...      0   \n",
       "4  https://twitter.com/Sadie_75Resist/status/1311...      1   \n",
       "\n",
       "                                           thumbnail  \\\n",
       "0                                                NaN   \n",
       "1                                                NaN   \n",
       "2    https://pbs.twimg.com/media/EjM6FGwXgAEhUL3.jpg   \n",
       "3                                                NaN   \n",
       "4  https://pbs.twimg.com/tweet_video_thumb/EjM6FP...   \n",
       "\n",
       "                                            reply_to  \\\n",
       "0  {'user_id': '832376325306359808', 'username': ...   \n",
       "1  {'user_id': '956360508575232002', 'username': ...   \n",
       "2      {'user_id': '939091', 'username': 'JoeBiden'}   \n",
       "3                {'user_id': None, 'username': None}   \n",
       "4  {'user_id': '1249416438051246080', 'username':...   \n",
       "\n",
       "                                       cleaned_tweet  \n",
       "0    Should we have CRT in schools We need a leader.  \n",
       "1                             Literally trump but ok  \n",
       "2                                                     \n",
       "3  Pres. you missed the op to mention HBCU. obvio...  \n",
       "4                                                     \n",
       "\n",
       "[5 rows x 24 columns]"
      ]
     },
     "execution_count": 17,
     "metadata": {},
     "output_type": "execute_result"
    }
   ],
   "source": [
    "biden_1_debate_df.head()"
   ]
  },
  {
   "cell_type": "code",
   "execution_count": 18,
   "metadata": {},
   "outputs": [
    {
     "data": {
      "text/plain": [
       "0"
      ]
     },
     "execution_count": 18,
     "metadata": {},
     "output_type": "execute_result"
    }
   ],
   "source": [
    "len(biden_1_debate_df['cleaned_tweet'][4].strip())"
   ]
  },
  {
   "cell_type": "code",
   "execution_count": 19,
   "metadata": {},
   "outputs": [],
   "source": [
    "\n",
    "biden_1_debate_df[\"cleaned_tweet\"]=biden_1_debate_df.apply (lambda row: label_na(row), axis=1)"
   ]
  },
  {
   "cell_type": "code",
   "execution_count": 20,
   "metadata": {},
   "outputs": [
    {
     "data": {
      "text/html": [
       "<div>\n",
       "<style scoped>\n",
       "    .dataframe tbody tr th:only-of-type {\n",
       "        vertical-align: middle;\n",
       "    }\n",
       "\n",
       "    .dataframe tbody tr th {\n",
       "        vertical-align: top;\n",
       "    }\n",
       "\n",
       "    .dataframe thead th {\n",
       "        text-align: right;\n",
       "    }\n",
       "</style>\n",
       "<table border=\"1\" class=\"dataframe\">\n",
       "  <thead>\n",
       "    <tr style=\"text-align: right;\">\n",
       "      <th></th>\n",
       "      <th>id</th>\n",
       "      <th>conversation_id</th>\n",
       "      <th>created_at</th>\n",
       "      <th>date</th>\n",
       "      <th>time</th>\n",
       "      <th>timezone</th>\n",
       "      <th>user_id</th>\n",
       "      <th>username</th>\n",
       "      <th>name</th>\n",
       "      <th>tweet</th>\n",
       "      <th>...</th>\n",
       "      <th>replies_count</th>\n",
       "      <th>retweets_count</th>\n",
       "      <th>likes_count</th>\n",
       "      <th>hashtags</th>\n",
       "      <th>cashtags</th>\n",
       "      <th>link</th>\n",
       "      <th>video</th>\n",
       "      <th>thumbnail</th>\n",
       "      <th>reply_to</th>\n",
       "      <th>cleaned_tweet</th>\n",
       "    </tr>\n",
       "  </thead>\n",
       "  <tbody>\n",
       "    <tr>\n",
       "      <th>0</th>\n",
       "      <td>1.311460e+18</td>\n",
       "      <td>1.311400e+18</td>\n",
       "      <td>2020-09-30 19:59:59 Eastern Daylight Time</td>\n",
       "      <td>9/30/2020</td>\n",
       "      <td>19:59:59</td>\n",
       "      <td>-400</td>\n",
       "      <td>1.288620e+18</td>\n",
       "      <td>dailyphoenix1</td>\n",
       "      <td>Daily Phoenix</td>\n",
       "      <td>@kathyhoffman_az @JoeBiden Should we have CRT ...</td>\n",
       "      <td>...</td>\n",
       "      <td>1</td>\n",
       "      <td>0</td>\n",
       "      <td>2</td>\n",
       "      <td>[]</td>\n",
       "      <td>[]</td>\n",
       "      <td>https://twitter.com/DailyPhoenix1/status/13114...</td>\n",
       "      <td>0</td>\n",
       "      <td>NaN</td>\n",
       "      <td>{'user_id': '832376325306359808', 'username': ...</td>\n",
       "      <td>Should we have CRT in schools We need a leader.</td>\n",
       "    </tr>\n",
       "    <tr>\n",
       "      <th>1</th>\n",
       "      <td>1.311460e+18</td>\n",
       "      <td>1.311130e+18</td>\n",
       "      <td>2020-09-30 19:59:59 Eastern Daylight Time</td>\n",
       "      <td>9/30/2020</td>\n",
       "      <td>19:59:59</td>\n",
       "      <td>-400</td>\n",
       "      <td>1.278010e+18</td>\n",
       "      <td>maya73863414</td>\n",
       "      <td>maya</td>\n",
       "      <td>@Rocket54441 @JoeBiden Literally trump but ok</td>\n",
       "      <td>...</td>\n",
       "      <td>0</td>\n",
       "      <td>0</td>\n",
       "      <td>0</td>\n",
       "      <td>[]</td>\n",
       "      <td>[]</td>\n",
       "      <td>https://twitter.com/maya73863414/status/131145...</td>\n",
       "      <td>0</td>\n",
       "      <td>NaN</td>\n",
       "      <td>{'user_id': '956360508575232002', 'username': ...</td>\n",
       "      <td>Literally trump but ok</td>\n",
       "    </tr>\n",
       "    <tr>\n",
       "      <th>2</th>\n",
       "      <td>1.311460e+18</td>\n",
       "      <td>1.311420e+18</td>\n",
       "      <td>2020-09-30 19:59:59 Eastern Daylight Time</td>\n",
       "      <td>9/30/2020</td>\n",
       "      <td>19:59:59</td>\n",
       "      <td>-400</td>\n",
       "      <td>5.723769e+07</td>\n",
       "      <td>wesatkinson</td>\n",
       "      <td>Big Wes</td>\n",
       "      <td>@JoeBiden @MonicaLewinsky https://t.co/Wni5F0WJHt</td>\n",
       "      <td>...</td>\n",
       "      <td>0</td>\n",
       "      <td>0</td>\n",
       "      <td>2</td>\n",
       "      <td>[]</td>\n",
       "      <td>[]</td>\n",
       "      <td>https://twitter.com/wesatkinson/status/1311455...</td>\n",
       "      <td>1</td>\n",
       "      <td>https://pbs.twimg.com/media/EjM6FGwXgAEhUL3.jpg</td>\n",
       "      <td>{'user_id': '939091', 'username': 'JoeBiden'}</td>\n",
       "      <td>NaN</td>\n",
       "    </tr>\n",
       "    <tr>\n",
       "      <th>3</th>\n",
       "      <td>1.311460e+18</td>\n",
       "      <td>1.311460e+18</td>\n",
       "      <td>2020-09-30 19:59:59 Eastern Daylight Time</td>\n",
       "      <td>9/30/2020</td>\n",
       "      <td>19:59:59</td>\n",
       "      <td>-400</td>\n",
       "      <td>5.544081e+08</td>\n",
       "      <td>woodrow823</td>\n",
       "      <td>Woodrow</td>\n",
       "      <td>Pres. you missed the op to mention HBCU.  @Joe...</td>\n",
       "      <td>...</td>\n",
       "      <td>0</td>\n",
       "      <td>0</td>\n",
       "      <td>0</td>\n",
       "      <td>['blackvote']</td>\n",
       "      <td>[]</td>\n",
       "      <td>https://twitter.com/woodrow823/status/13114557...</td>\n",
       "      <td>0</td>\n",
       "      <td>NaN</td>\n",
       "      <td>{'user_id': None, 'username': None}</td>\n",
       "      <td>Pres. you missed the op to mention HBCU. obvio...</td>\n",
       "    </tr>\n",
       "    <tr>\n",
       "      <th>4</th>\n",
       "      <td>1.311460e+18</td>\n",
       "      <td>1.311400e+18</td>\n",
       "      <td>2020-09-30 19:59:59 Eastern Daylight Time</td>\n",
       "      <td>9/30/2020</td>\n",
       "      <td>19:59:59</td>\n",
       "      <td>-400</td>\n",
       "      <td>3.060555e+08</td>\n",
       "      <td>sadie_75resist</td>\n",
       "      <td>😷SADIE💙2020 BLUE WAVE💙</td>\n",
       "      <td>@Jillbiden46 @JoeBiden ❤️ #VoteBidenHarris2020...</td>\n",
       "      <td>...</td>\n",
       "      <td>0</td>\n",
       "      <td>0</td>\n",
       "      <td>0</td>\n",
       "      <td>['votebidenharris2020', 'voteearly', 'votebide...</td>\n",
       "      <td>[]</td>\n",
       "      <td>https://twitter.com/Sadie_75Resist/status/1311...</td>\n",
       "      <td>1</td>\n",
       "      <td>https://pbs.twimg.com/tweet_video_thumb/EjM6FP...</td>\n",
       "      <td>{'user_id': '1249416438051246080', 'username':...</td>\n",
       "      <td>NaN</td>\n",
       "    </tr>\n",
       "  </tbody>\n",
       "</table>\n",
       "<p>5 rows × 24 columns</p>\n",
       "</div>"
      ],
      "text/plain": [
       "             id  conversation_id                                 created_at  \\\n",
       "0  1.311460e+18     1.311400e+18  2020-09-30 19:59:59 Eastern Daylight Time   \n",
       "1  1.311460e+18     1.311130e+18  2020-09-30 19:59:59 Eastern Daylight Time   \n",
       "2  1.311460e+18     1.311420e+18  2020-09-30 19:59:59 Eastern Daylight Time   \n",
       "3  1.311460e+18     1.311460e+18  2020-09-30 19:59:59 Eastern Daylight Time   \n",
       "4  1.311460e+18     1.311400e+18  2020-09-30 19:59:59 Eastern Daylight Time   \n",
       "\n",
       "        date      time  timezone       user_id        username  \\\n",
       "0  9/30/2020  19:59:59      -400  1.288620e+18   dailyphoenix1   \n",
       "1  9/30/2020  19:59:59      -400  1.278010e+18    maya73863414   \n",
       "2  9/30/2020  19:59:59      -400  5.723769e+07     wesatkinson   \n",
       "3  9/30/2020  19:59:59      -400  5.544081e+08      woodrow823   \n",
       "4  9/30/2020  19:59:59      -400  3.060555e+08  sadie_75resist   \n",
       "\n",
       "                     name                                              tweet  \\\n",
       "0           Daily Phoenix  @kathyhoffman_az @JoeBiden Should we have CRT ...   \n",
       "1                    maya      @Rocket54441 @JoeBiden Literally trump but ok   \n",
       "2                 Big Wes  @JoeBiden @MonicaLewinsky https://t.co/Wni5F0WJHt   \n",
       "3                 Woodrow  Pres. you missed the op to mention HBCU.  @Joe...   \n",
       "4  😷SADIE💙2020 BLUE WAVE💙  @Jillbiden46 @JoeBiden ❤️ #VoteBidenHarris2020...   \n",
       "\n",
       "   ... replies_count retweets_count likes_count  \\\n",
       "0  ...             1              0           2   \n",
       "1  ...             0              0           0   \n",
       "2  ...             0              0           2   \n",
       "3  ...             0              0           0   \n",
       "4  ...             0              0           0   \n",
       "\n",
       "                                            hashtags  cashtags  \\\n",
       "0                                                 []        []   \n",
       "1                                                 []        []   \n",
       "2                                                 []        []   \n",
       "3                                      ['blackvote']        []   \n",
       "4  ['votebidenharris2020', 'voteearly', 'votebide...        []   \n",
       "\n",
       "                                                link  video  \\\n",
       "0  https://twitter.com/DailyPhoenix1/status/13114...      0   \n",
       "1  https://twitter.com/maya73863414/status/131145...      0   \n",
       "2  https://twitter.com/wesatkinson/status/1311455...      1   \n",
       "3  https://twitter.com/woodrow823/status/13114557...      0   \n",
       "4  https://twitter.com/Sadie_75Resist/status/1311...      1   \n",
       "\n",
       "                                           thumbnail  \\\n",
       "0                                                NaN   \n",
       "1                                                NaN   \n",
       "2    https://pbs.twimg.com/media/EjM6FGwXgAEhUL3.jpg   \n",
       "3                                                NaN   \n",
       "4  https://pbs.twimg.com/tweet_video_thumb/EjM6FP...   \n",
       "\n",
       "                                            reply_to  \\\n",
       "0  {'user_id': '832376325306359808', 'username': ...   \n",
       "1  {'user_id': '956360508575232002', 'username': ...   \n",
       "2      {'user_id': '939091', 'username': 'JoeBiden'}   \n",
       "3                {'user_id': None, 'username': None}   \n",
       "4  {'user_id': '1249416438051246080', 'username':...   \n",
       "\n",
       "                                       cleaned_tweet  \n",
       "0    Should we have CRT in schools We need a leader.  \n",
       "1                             Literally trump but ok  \n",
       "2                                                NaN  \n",
       "3  Pres. you missed the op to mention HBCU. obvio...  \n",
       "4                                                NaN  \n",
       "\n",
       "[5 rows x 24 columns]"
      ]
     },
     "execution_count": 20,
     "metadata": {},
     "output_type": "execute_result"
    }
   ],
   "source": [
    "biden_1_debate_df.head()\n"
   ]
  },
  {
   "cell_type": "code",
   "execution_count": 21,
   "metadata": {},
   "outputs": [],
   "source": [
    "biden_1_debate_df = biden_1_debate_df[biden_1_debate_df['cleaned_tweet'].notna()]"
   ]
  },
  {
   "cell_type": "code",
   "execution_count": 22,
   "metadata": {},
   "outputs": [
    {
     "data": {
      "text/html": [
       "<div>\n",
       "<style scoped>\n",
       "    .dataframe tbody tr th:only-of-type {\n",
       "        vertical-align: middle;\n",
       "    }\n",
       "\n",
       "    .dataframe tbody tr th {\n",
       "        vertical-align: top;\n",
       "    }\n",
       "\n",
       "    .dataframe thead th {\n",
       "        text-align: right;\n",
       "    }\n",
       "</style>\n",
       "<table border=\"1\" class=\"dataframe\">\n",
       "  <thead>\n",
       "    <tr style=\"text-align: right;\">\n",
       "      <th></th>\n",
       "      <th>id</th>\n",
       "      <th>conversation_id</th>\n",
       "      <th>created_at</th>\n",
       "      <th>date</th>\n",
       "      <th>time</th>\n",
       "      <th>timezone</th>\n",
       "      <th>user_id</th>\n",
       "      <th>username</th>\n",
       "      <th>name</th>\n",
       "      <th>tweet</th>\n",
       "      <th>...</th>\n",
       "      <th>replies_count</th>\n",
       "      <th>retweets_count</th>\n",
       "      <th>likes_count</th>\n",
       "      <th>hashtags</th>\n",
       "      <th>cashtags</th>\n",
       "      <th>link</th>\n",
       "      <th>video</th>\n",
       "      <th>thumbnail</th>\n",
       "      <th>reply_to</th>\n",
       "      <th>cleaned_tweet</th>\n",
       "    </tr>\n",
       "  </thead>\n",
       "  <tbody>\n",
       "    <tr>\n",
       "      <th>0</th>\n",
       "      <td>1.311460e+18</td>\n",
       "      <td>1.311400e+18</td>\n",
       "      <td>2020-09-30 19:59:59 Eastern Daylight Time</td>\n",
       "      <td>9/30/2020</td>\n",
       "      <td>19:59:59</td>\n",
       "      <td>-400</td>\n",
       "      <td>1.288620e+18</td>\n",
       "      <td>dailyphoenix1</td>\n",
       "      <td>Daily Phoenix</td>\n",
       "      <td>@kathyhoffman_az @JoeBiden Should we have CRT ...</td>\n",
       "      <td>...</td>\n",
       "      <td>1</td>\n",
       "      <td>0</td>\n",
       "      <td>2</td>\n",
       "      <td>[]</td>\n",
       "      <td>[]</td>\n",
       "      <td>https://twitter.com/DailyPhoenix1/status/13114...</td>\n",
       "      <td>0</td>\n",
       "      <td>NaN</td>\n",
       "      <td>{'user_id': '832376325306359808', 'username': ...</td>\n",
       "      <td>Should we have CRT in schools We need a leader.</td>\n",
       "    </tr>\n",
       "    <tr>\n",
       "      <th>1</th>\n",
       "      <td>1.311460e+18</td>\n",
       "      <td>1.311130e+18</td>\n",
       "      <td>2020-09-30 19:59:59 Eastern Daylight Time</td>\n",
       "      <td>9/30/2020</td>\n",
       "      <td>19:59:59</td>\n",
       "      <td>-400</td>\n",
       "      <td>1.278010e+18</td>\n",
       "      <td>maya73863414</td>\n",
       "      <td>maya</td>\n",
       "      <td>@Rocket54441 @JoeBiden Literally trump but ok</td>\n",
       "      <td>...</td>\n",
       "      <td>0</td>\n",
       "      <td>0</td>\n",
       "      <td>0</td>\n",
       "      <td>[]</td>\n",
       "      <td>[]</td>\n",
       "      <td>https://twitter.com/maya73863414/status/131145...</td>\n",
       "      <td>0</td>\n",
       "      <td>NaN</td>\n",
       "      <td>{'user_id': '956360508575232002', 'username': ...</td>\n",
       "      <td>Literally trump but ok</td>\n",
       "    </tr>\n",
       "    <tr>\n",
       "      <th>3</th>\n",
       "      <td>1.311460e+18</td>\n",
       "      <td>1.311460e+18</td>\n",
       "      <td>2020-09-30 19:59:59 Eastern Daylight Time</td>\n",
       "      <td>9/30/2020</td>\n",
       "      <td>19:59:59</td>\n",
       "      <td>-400</td>\n",
       "      <td>5.544081e+08</td>\n",
       "      <td>woodrow823</td>\n",
       "      <td>Woodrow</td>\n",
       "      <td>Pres. you missed the op to mention HBCU.  @Joe...</td>\n",
       "      <td>...</td>\n",
       "      <td>0</td>\n",
       "      <td>0</td>\n",
       "      <td>0</td>\n",
       "      <td>['blackvote']</td>\n",
       "      <td>[]</td>\n",
       "      <td>https://twitter.com/woodrow823/status/13114557...</td>\n",
       "      <td>0</td>\n",
       "      <td>NaN</td>\n",
       "      <td>{'user_id': None, 'username': None}</td>\n",
       "      <td>Pres. you missed the op to mention HBCU. obvio...</td>\n",
       "    </tr>\n",
       "    <tr>\n",
       "      <th>5</th>\n",
       "      <td>1.311460e+18</td>\n",
       "      <td>1.311460e+18</td>\n",
       "      <td>2020-09-30 19:59:59 Eastern Daylight Time</td>\n",
       "      <td>9/30/2020</td>\n",
       "      <td>19:59:59</td>\n",
       "      <td>-400</td>\n",
       "      <td>3.356462e+07</td>\n",
       "      <td>reneechelle20</td>\n",
       "      <td>Renee 🇨🇦 🇺🇸</td>\n",
       "      <td>@CNNPolitics @JoeBiden @TheView @JoyVBehar @An...</td>\n",
       "      <td>...</td>\n",
       "      <td>0</td>\n",
       "      <td>0</td>\n",
       "      <td>0</td>\n",
       "      <td>[]</td>\n",
       "      <td>[]</td>\n",
       "      <td>https://twitter.com/Reneechelle20/status/13114...</td>\n",
       "      <td>0</td>\n",
       "      <td>NaN</td>\n",
       "      <td>{'user_id': '13850422', 'username': 'CNNPoliti...</td>\n",
       "      <td>THIS IS ANTIFA</td>\n",
       "    </tr>\n",
       "    <tr>\n",
       "      <th>6</th>\n",
       "      <td>1.311460e+18</td>\n",
       "      <td>1.311460e+18</td>\n",
       "      <td>2020-09-30 19:59:59 Eastern Daylight Time</td>\n",
       "      <td>9/30/2020</td>\n",
       "      <td>19:59:59</td>\n",
       "      <td>-400</td>\n",
       "      <td>2.365115e+08</td>\n",
       "      <td>monkjona</td>\n",
       "      <td>Monk Áedán Shaun</td>\n",
       "      <td>#JoniMitchell - #SexKills https://t.co/NiRYkTO...</td>\n",
       "      <td>...</td>\n",
       "      <td>0</td>\n",
       "      <td>0</td>\n",
       "      <td>0</td>\n",
       "      <td>['jonimitchell', 'sexkills', 'trumpworld', 'ep...</td>\n",
       "      <td>[]</td>\n",
       "      <td>https://twitter.com/monkjona/status/1311455784...</td>\n",
       "      <td>0</td>\n",
       "      <td>NaN</td>\n",
       "      <td>{'user_id': None, 'username': None}</td>\n",
       "      <td>-</td>\n",
       "    </tr>\n",
       "  </tbody>\n",
       "</table>\n",
       "<p>5 rows × 24 columns</p>\n",
       "</div>"
      ],
      "text/plain": [
       "             id  conversation_id                                 created_at  \\\n",
       "0  1.311460e+18     1.311400e+18  2020-09-30 19:59:59 Eastern Daylight Time   \n",
       "1  1.311460e+18     1.311130e+18  2020-09-30 19:59:59 Eastern Daylight Time   \n",
       "3  1.311460e+18     1.311460e+18  2020-09-30 19:59:59 Eastern Daylight Time   \n",
       "5  1.311460e+18     1.311460e+18  2020-09-30 19:59:59 Eastern Daylight Time   \n",
       "6  1.311460e+18     1.311460e+18  2020-09-30 19:59:59 Eastern Daylight Time   \n",
       "\n",
       "        date      time  timezone       user_id       username  \\\n",
       "0  9/30/2020  19:59:59      -400  1.288620e+18  dailyphoenix1   \n",
       "1  9/30/2020  19:59:59      -400  1.278010e+18   maya73863414   \n",
       "3  9/30/2020  19:59:59      -400  5.544081e+08     woodrow823   \n",
       "5  9/30/2020  19:59:59      -400  3.356462e+07  reneechelle20   \n",
       "6  9/30/2020  19:59:59      -400  2.365115e+08       monkjona   \n",
       "\n",
       "               name                                              tweet  ...  \\\n",
       "0     Daily Phoenix  @kathyhoffman_az @JoeBiden Should we have CRT ...  ...   \n",
       "1              maya      @Rocket54441 @JoeBiden Literally trump but ok  ...   \n",
       "3           Woodrow  Pres. you missed the op to mention HBCU.  @Joe...  ...   \n",
       "5       Renee 🇨🇦 🇺🇸  @CNNPolitics @JoeBiden @TheView @JoyVBehar @An...  ...   \n",
       "6  Monk Áedán Shaun  #JoniMitchell - #SexKills https://t.co/NiRYkTO...  ...   \n",
       "\n",
       "  replies_count retweets_count likes_count  \\\n",
       "0             1              0           2   \n",
       "1             0              0           0   \n",
       "3             0              0           0   \n",
       "5             0              0           0   \n",
       "6             0              0           0   \n",
       "\n",
       "                                            hashtags  cashtags  \\\n",
       "0                                                 []        []   \n",
       "1                                                 []        []   \n",
       "3                                      ['blackvote']        []   \n",
       "5                                                 []        []   \n",
       "6  ['jonimitchell', 'sexkills', 'trumpworld', 'ep...        []   \n",
       "\n",
       "                                                link  video thumbnail  \\\n",
       "0  https://twitter.com/DailyPhoenix1/status/13114...      0       NaN   \n",
       "1  https://twitter.com/maya73863414/status/131145...      0       NaN   \n",
       "3  https://twitter.com/woodrow823/status/13114557...      0       NaN   \n",
       "5  https://twitter.com/Reneechelle20/status/13114...      0       NaN   \n",
       "6  https://twitter.com/monkjona/status/1311455784...      0       NaN   \n",
       "\n",
       "                                            reply_to  \\\n",
       "0  {'user_id': '832376325306359808', 'username': ...   \n",
       "1  {'user_id': '956360508575232002', 'username': ...   \n",
       "3                {'user_id': None, 'username': None}   \n",
       "5  {'user_id': '13850422', 'username': 'CNNPoliti...   \n",
       "6                {'user_id': None, 'username': None}   \n",
       "\n",
       "                                       cleaned_tweet  \n",
       "0    Should we have CRT in schools We need a leader.  \n",
       "1                             Literally trump but ok  \n",
       "3  Pres. you missed the op to mention HBCU. obvio...  \n",
       "5                                     THIS IS ANTIFA  \n",
       "6                                                  -  \n",
       "\n",
       "[5 rows x 24 columns]"
      ]
     },
     "execution_count": 22,
     "metadata": {},
     "output_type": "execute_result"
    }
   ],
   "source": [
    "biden_1_debate_df.head()"
   ]
  },
  {
   "cell_type": "code",
   "execution_count": 23,
   "metadata": {},
   "outputs": [],
   "source": [
    "biden_1_debate_df.to_csv('super_clean_biden_1.csv', index = False)"
   ]
  },
  {
   "cell_type": "code",
   "execution_count": 24,
   "metadata": {},
   "outputs": [
    {
     "data": {
      "text/plain": [
       "(490976, 24)"
      ]
     },
     "execution_count": 24,
     "metadata": {},
     "output_type": "execute_result"
    }
   ],
   "source": [
    "biden_1_debate_df.shape"
   ]
  },
  {
   "cell_type": "code",
   "execution_count": 25,
   "metadata": {},
   "outputs": [],
   "source": [
    "biden_Test_debate_df = pd.read_csv(\"Resources/super_clean_biden_1_example.csv\")"
   ]
  },
  {
   "cell_type": "code",
   "execution_count": 26,
   "metadata": {
    "scrolled": true
   },
   "outputs": [
    {
     "data": {
      "text/html": [
       "<div>\n",
       "<style scoped>\n",
       "    .dataframe tbody tr th:only-of-type {\n",
       "        vertical-align: middle;\n",
       "    }\n",
       "\n",
       "    .dataframe tbody tr th {\n",
       "        vertical-align: top;\n",
       "    }\n",
       "\n",
       "    .dataframe thead th {\n",
       "        text-align: right;\n",
       "    }\n",
       "</style>\n",
       "<table border=\"1\" class=\"dataframe\">\n",
       "  <thead>\n",
       "    <tr style=\"text-align: right;\">\n",
       "      <th></th>\n",
       "      <th>id</th>\n",
       "      <th>conversation_id</th>\n",
       "      <th>created_at</th>\n",
       "      <th>date</th>\n",
       "      <th>time</th>\n",
       "      <th>timezone</th>\n",
       "      <th>user_id</th>\n",
       "      <th>username</th>\n",
       "      <th>name</th>\n",
       "      <th>tweet</th>\n",
       "      <th>...</th>\n",
       "      <th>replies_count</th>\n",
       "      <th>retweets_count</th>\n",
       "      <th>likes_count</th>\n",
       "      <th>hashtags</th>\n",
       "      <th>cashtags</th>\n",
       "      <th>link</th>\n",
       "      <th>video</th>\n",
       "      <th>thumbnail</th>\n",
       "      <th>reply_to</th>\n",
       "      <th>cleaned_tweet</th>\n",
       "    </tr>\n",
       "  </thead>\n",
       "  <tbody>\n",
       "    <tr>\n",
       "      <th>0</th>\n",
       "      <td>1311460000000000000</td>\n",
       "      <td>1311400000000000000</td>\n",
       "      <td>2020-09-30 19:59:59 Eastern Daylight Time</td>\n",
       "      <td>9/30/2020</td>\n",
       "      <td>19:59:59</td>\n",
       "      <td>-400</td>\n",
       "      <td>1.290000e+18</td>\n",
       "      <td>dailyphoenix1</td>\n",
       "      <td>Daily Phoenix</td>\n",
       "      <td>@kathyhoffman_az @JoeBiden Should we have CRT ...</td>\n",
       "      <td>...</td>\n",
       "      <td>1</td>\n",
       "      <td>0</td>\n",
       "      <td>2</td>\n",
       "      <td>[]</td>\n",
       "      <td>[]</td>\n",
       "      <td>https://twitter.com/DailyPhoenix1/status/13114...</td>\n",
       "      <td>0</td>\n",
       "      <td>NaN</td>\n",
       "      <td>{'user_id': '832376325306359808', 'username': ...</td>\n",
       "      <td>Should we have CRT in schools We need a leader.</td>\n",
       "    </tr>\n",
       "    <tr>\n",
       "      <th>1</th>\n",
       "      <td>1311460000000000000</td>\n",
       "      <td>1311130000000000000</td>\n",
       "      <td>2020-09-30 19:59:59 Eastern Daylight Time</td>\n",
       "      <td>9/30/2020</td>\n",
       "      <td>19:59:59</td>\n",
       "      <td>-400</td>\n",
       "      <td>1.280000e+18</td>\n",
       "      <td>maya73863414</td>\n",
       "      <td>maya</td>\n",
       "      <td>@Rocket54441 @JoeBiden Literally trump but ok</td>\n",
       "      <td>...</td>\n",
       "      <td>0</td>\n",
       "      <td>0</td>\n",
       "      <td>0</td>\n",
       "      <td>[]</td>\n",
       "      <td>[]</td>\n",
       "      <td>https://twitter.com/maya73863414/status/131145...</td>\n",
       "      <td>0</td>\n",
       "      <td>NaN</td>\n",
       "      <td>{'user_id': '956360508575232002', 'username': ...</td>\n",
       "      <td>Literally trump but ok</td>\n",
       "    </tr>\n",
       "    <tr>\n",
       "      <th>2</th>\n",
       "      <td>1311460000000000000</td>\n",
       "      <td>1311460000000000000</td>\n",
       "      <td>2020-09-30 19:59:59 Eastern Daylight Time</td>\n",
       "      <td>9/30/2020</td>\n",
       "      <td>19:59:59</td>\n",
       "      <td>-400</td>\n",
       "      <td>5.544081e+08</td>\n",
       "      <td>woodrow823</td>\n",
       "      <td>Woodrow</td>\n",
       "      <td>Pres. you missed the op to mention HBCU.  @Joe...</td>\n",
       "      <td>...</td>\n",
       "      <td>0</td>\n",
       "      <td>0</td>\n",
       "      <td>0</td>\n",
       "      <td>['blackvote']</td>\n",
       "      <td>[]</td>\n",
       "      <td>https://twitter.com/woodrow823/status/13114557...</td>\n",
       "      <td>0</td>\n",
       "      <td>NaN</td>\n",
       "      <td>{'user_id': None, 'username': None}</td>\n",
       "      <td>Pres. you missed the op to mention HBCU. obvio...</td>\n",
       "    </tr>\n",
       "    <tr>\n",
       "      <th>3</th>\n",
       "      <td>1311460000000000000</td>\n",
       "      <td>1311460000000000000</td>\n",
       "      <td>2020-09-30 19:59:59 Eastern Daylight Time</td>\n",
       "      <td>9/30/2020</td>\n",
       "      <td>19:59:59</td>\n",
       "      <td>-400</td>\n",
       "      <td>3.356462e+07</td>\n",
       "      <td>reneechelle20</td>\n",
       "      <td>Renee 🇨🇦 🇺🇸</td>\n",
       "      <td>@CNNPolitics @JoeBiden @TheView @JoyVBehar @An...</td>\n",
       "      <td>...</td>\n",
       "      <td>0</td>\n",
       "      <td>0</td>\n",
       "      <td>0</td>\n",
       "      <td>[]</td>\n",
       "      <td>[]</td>\n",
       "      <td>https://twitter.com/Reneechelle20/status/13114...</td>\n",
       "      <td>0</td>\n",
       "      <td>NaN</td>\n",
       "      <td>{'user_id': '13850422', 'username': 'CNNPoliti...</td>\n",
       "      <td>THIS IS ANTIFA</td>\n",
       "    </tr>\n",
       "    <tr>\n",
       "      <th>4</th>\n",
       "      <td>1311460000000000000</td>\n",
       "      <td>1311460000000000000</td>\n",
       "      <td>2020-09-30 19:59:59 Eastern Daylight Time</td>\n",
       "      <td>9/30/2020</td>\n",
       "      <td>19:59:59</td>\n",
       "      <td>-400</td>\n",
       "      <td>2.365115e+08</td>\n",
       "      <td>monkjona</td>\n",
       "      <td>Monk Áedán Shaun</td>\n",
       "      <td>#JoniMitchell - #SexKills https://t.co/NiRYkTO...</td>\n",
       "      <td>...</td>\n",
       "      <td>0</td>\n",
       "      <td>0</td>\n",
       "      <td>0</td>\n",
       "      <td>['jonimitchell', 'sexkills', 'trumpworld', 'ep...</td>\n",
       "      <td>[]</td>\n",
       "      <td>https://twitter.com/monkjona/status/1311455784...</td>\n",
       "      <td>0</td>\n",
       "      <td>NaN</td>\n",
       "      <td>{'user_id': None, 'username': None}</td>\n",
       "      <td>-</td>\n",
       "    </tr>\n",
       "  </tbody>\n",
       "</table>\n",
       "<p>5 rows × 24 columns</p>\n",
       "</div>"
      ],
      "text/plain": [
       "                    id      conversation_id  \\\n",
       "0  1311460000000000000  1311400000000000000   \n",
       "1  1311460000000000000  1311130000000000000   \n",
       "2  1311460000000000000  1311460000000000000   \n",
       "3  1311460000000000000  1311460000000000000   \n",
       "4  1311460000000000000  1311460000000000000   \n",
       "\n",
       "                                  created_at       date      time  timezone  \\\n",
       "0  2020-09-30 19:59:59 Eastern Daylight Time  9/30/2020  19:59:59      -400   \n",
       "1  2020-09-30 19:59:59 Eastern Daylight Time  9/30/2020  19:59:59      -400   \n",
       "2  2020-09-30 19:59:59 Eastern Daylight Time  9/30/2020  19:59:59      -400   \n",
       "3  2020-09-30 19:59:59 Eastern Daylight Time  9/30/2020  19:59:59      -400   \n",
       "4  2020-09-30 19:59:59 Eastern Daylight Time  9/30/2020  19:59:59      -400   \n",
       "\n",
       "        user_id       username              name  \\\n",
       "0  1.290000e+18  dailyphoenix1     Daily Phoenix   \n",
       "1  1.280000e+18   maya73863414              maya   \n",
       "2  5.544081e+08     woodrow823           Woodrow   \n",
       "3  3.356462e+07  reneechelle20       Renee 🇨🇦 🇺🇸   \n",
       "4  2.365115e+08       monkjona  Monk Áedán Shaun   \n",
       "\n",
       "                                               tweet  ... replies_count  \\\n",
       "0  @kathyhoffman_az @JoeBiden Should we have CRT ...  ...             1   \n",
       "1      @Rocket54441 @JoeBiden Literally trump but ok  ...             0   \n",
       "2  Pres. you missed the op to mention HBCU.  @Joe...  ...             0   \n",
       "3  @CNNPolitics @JoeBiden @TheView @JoyVBehar @An...  ...             0   \n",
       "4  #JoniMitchell - #SexKills https://t.co/NiRYkTO...  ...             0   \n",
       "\n",
       "  retweets_count likes_count  \\\n",
       "0              0           2   \n",
       "1              0           0   \n",
       "2              0           0   \n",
       "3              0           0   \n",
       "4              0           0   \n",
       "\n",
       "                                            hashtags  cashtags  \\\n",
       "0                                                 []        []   \n",
       "1                                                 []        []   \n",
       "2                                      ['blackvote']        []   \n",
       "3                                                 []        []   \n",
       "4  ['jonimitchell', 'sexkills', 'trumpworld', 'ep...        []   \n",
       "\n",
       "                                                link  video thumbnail  \\\n",
       "0  https://twitter.com/DailyPhoenix1/status/13114...      0       NaN   \n",
       "1  https://twitter.com/maya73863414/status/131145...      0       NaN   \n",
       "2  https://twitter.com/woodrow823/status/13114557...      0       NaN   \n",
       "3  https://twitter.com/Reneechelle20/status/13114...      0       NaN   \n",
       "4  https://twitter.com/monkjona/status/1311455784...      0       NaN   \n",
       "\n",
       "                                            reply_to  \\\n",
       "0  {'user_id': '832376325306359808', 'username': ...   \n",
       "1  {'user_id': '956360508575232002', 'username': ...   \n",
       "2                {'user_id': None, 'username': None}   \n",
       "3  {'user_id': '13850422', 'username': 'CNNPoliti...   \n",
       "4                {'user_id': None, 'username': None}   \n",
       "\n",
       "                                       cleaned_tweet  \n",
       "0    Should we have CRT in schools We need a leader.  \n",
       "1                             Literally trump but ok  \n",
       "2  Pres. you missed the op to mention HBCU. obvio...  \n",
       "3                                     THIS IS ANTIFA  \n",
       "4                                                  -  \n",
       "\n",
       "[5 rows x 24 columns]"
      ]
     },
     "execution_count": 26,
     "metadata": {},
     "output_type": "execute_result"
    }
   ],
   "source": [
    "biden_Test_debate_df.head(5)"
   ]
  },
  {
   "cell_type": "code",
   "execution_count": 27,
   "metadata": {},
   "outputs": [
    {
     "data": {
      "text/html": [
       "        <script type=\"text/javascript\">\n",
       "        window.PlotlyConfig = {MathJaxConfig: 'local'};\n",
       "        if (window.MathJax) {MathJax.Hub.Config({SVG: {font: \"STIX-Web\"}});}\n",
       "        if (typeof require !== 'undefined') {\n",
       "        require.undef(\"plotly\");\n",
       "        requirejs.config({\n",
       "            paths: {\n",
       "                'plotly': ['https://cdn.plot.ly/plotly-latest.min']\n",
       "            }\n",
       "        });\n",
       "        require(['plotly'], function(Plotly) {\n",
       "            window._Plotly = Plotly;\n",
       "        });\n",
       "        }\n",
       "        </script>\n",
       "        "
      ]
     },
     "metadata": {},
     "output_type": "display_data"
    },
    {
     "data": {
      "application/vnd.plotly.v1+json": {
       "config": {
        "plotlyServerURL": "https://plot.ly"
       },
       "data": [
        {
         "alignmentgroup": "True",
         "bingroup": "x",
         "hovertemplate": "likes_count=%{x}<br>count=%{y}<extra></extra>",
         "legendgroup": "",
         "marker": {
          "color": "turquoise",
          "line": {
           "color": "rgb(8,48,107)",
           "width": 5.5
          }
         },
         "name": "",
         "offsetgroup": "",
         "orientation": "v",
         "showlegend": false,
         "type": "histogram",
         "x": [
          2,
          0,
          0,
          0,
          0,
          0,
          1,
          0,
          2,
          0,
          2,
          0,
          2,
          0,
          2,
          1,
          0,
          0,
          0
         ],
         "xaxis": "x",
         "yaxis": "y"
        }
       ],
       "layout": {
        "barmode": "relative",
        "legend": {
         "tracegroupgap": 0
        },
        "margin": {
         "t": 60
        },
        "template": {
         "data": {
          "bar": [
           {
            "error_x": {
             "color": "#2a3f5f"
            },
            "error_y": {
             "color": "#2a3f5f"
            },
            "marker": {
             "line": {
              "color": "#E5ECF6",
              "width": 0.5
             }
            },
            "type": "bar"
           }
          ],
          "barpolar": [
           {
            "marker": {
             "line": {
              "color": "#E5ECF6",
              "width": 0.5
             }
            },
            "type": "barpolar"
           }
          ],
          "carpet": [
           {
            "aaxis": {
             "endlinecolor": "#2a3f5f",
             "gridcolor": "white",
             "linecolor": "white",
             "minorgridcolor": "white",
             "startlinecolor": "#2a3f5f"
            },
            "baxis": {
             "endlinecolor": "#2a3f5f",
             "gridcolor": "white",
             "linecolor": "white",
             "minorgridcolor": "white",
             "startlinecolor": "#2a3f5f"
            },
            "type": "carpet"
           }
          ],
          "choropleth": [
           {
            "colorbar": {
             "outlinewidth": 0,
             "ticks": ""
            },
            "type": "choropleth"
           }
          ],
          "contour": [
           {
            "colorbar": {
             "outlinewidth": 0,
             "ticks": ""
            },
            "colorscale": [
             [
              0,
              "#0d0887"
             ],
             [
              0.1111111111111111,
              "#46039f"
             ],
             [
              0.2222222222222222,
              "#7201a8"
             ],
             [
              0.3333333333333333,
              "#9c179e"
             ],
             [
              0.4444444444444444,
              "#bd3786"
             ],
             [
              0.5555555555555556,
              "#d8576b"
             ],
             [
              0.6666666666666666,
              "#ed7953"
             ],
             [
              0.7777777777777778,
              "#fb9f3a"
             ],
             [
              0.8888888888888888,
              "#fdca26"
             ],
             [
              1,
              "#f0f921"
             ]
            ],
            "type": "contour"
           }
          ],
          "contourcarpet": [
           {
            "colorbar": {
             "outlinewidth": 0,
             "ticks": ""
            },
            "type": "contourcarpet"
           }
          ],
          "heatmap": [
           {
            "colorbar": {
             "outlinewidth": 0,
             "ticks": ""
            },
            "colorscale": [
             [
              0,
              "#0d0887"
             ],
             [
              0.1111111111111111,
              "#46039f"
             ],
             [
              0.2222222222222222,
              "#7201a8"
             ],
             [
              0.3333333333333333,
              "#9c179e"
             ],
             [
              0.4444444444444444,
              "#bd3786"
             ],
             [
              0.5555555555555556,
              "#d8576b"
             ],
             [
              0.6666666666666666,
              "#ed7953"
             ],
             [
              0.7777777777777778,
              "#fb9f3a"
             ],
             [
              0.8888888888888888,
              "#fdca26"
             ],
             [
              1,
              "#f0f921"
             ]
            ],
            "type": "heatmap"
           }
          ],
          "heatmapgl": [
           {
            "colorbar": {
             "outlinewidth": 0,
             "ticks": ""
            },
            "colorscale": [
             [
              0,
              "#0d0887"
             ],
             [
              0.1111111111111111,
              "#46039f"
             ],
             [
              0.2222222222222222,
              "#7201a8"
             ],
             [
              0.3333333333333333,
              "#9c179e"
             ],
             [
              0.4444444444444444,
              "#bd3786"
             ],
             [
              0.5555555555555556,
              "#d8576b"
             ],
             [
              0.6666666666666666,
              "#ed7953"
             ],
             [
              0.7777777777777778,
              "#fb9f3a"
             ],
             [
              0.8888888888888888,
              "#fdca26"
             ],
             [
              1,
              "#f0f921"
             ]
            ],
            "type": "heatmapgl"
           }
          ],
          "histogram": [
           {
            "marker": {
             "colorbar": {
              "outlinewidth": 0,
              "ticks": ""
             }
            },
            "type": "histogram"
           }
          ],
          "histogram2d": [
           {
            "colorbar": {
             "outlinewidth": 0,
             "ticks": ""
            },
            "colorscale": [
             [
              0,
              "#0d0887"
             ],
             [
              0.1111111111111111,
              "#46039f"
             ],
             [
              0.2222222222222222,
              "#7201a8"
             ],
             [
              0.3333333333333333,
              "#9c179e"
             ],
             [
              0.4444444444444444,
              "#bd3786"
             ],
             [
              0.5555555555555556,
              "#d8576b"
             ],
             [
              0.6666666666666666,
              "#ed7953"
             ],
             [
              0.7777777777777778,
              "#fb9f3a"
             ],
             [
              0.8888888888888888,
              "#fdca26"
             ],
             [
              1,
              "#f0f921"
             ]
            ],
            "type": "histogram2d"
           }
          ],
          "histogram2dcontour": [
           {
            "colorbar": {
             "outlinewidth": 0,
             "ticks": ""
            },
            "colorscale": [
             [
              0,
              "#0d0887"
             ],
             [
              0.1111111111111111,
              "#46039f"
             ],
             [
              0.2222222222222222,
              "#7201a8"
             ],
             [
              0.3333333333333333,
              "#9c179e"
             ],
             [
              0.4444444444444444,
              "#bd3786"
             ],
             [
              0.5555555555555556,
              "#d8576b"
             ],
             [
              0.6666666666666666,
              "#ed7953"
             ],
             [
              0.7777777777777778,
              "#fb9f3a"
             ],
             [
              0.8888888888888888,
              "#fdca26"
             ],
             [
              1,
              "#f0f921"
             ]
            ],
            "type": "histogram2dcontour"
           }
          ],
          "mesh3d": [
           {
            "colorbar": {
             "outlinewidth": 0,
             "ticks": ""
            },
            "type": "mesh3d"
           }
          ],
          "parcoords": [
           {
            "line": {
             "colorbar": {
              "outlinewidth": 0,
              "ticks": ""
             }
            },
            "type": "parcoords"
           }
          ],
          "pie": [
           {
            "automargin": true,
            "type": "pie"
           }
          ],
          "scatter": [
           {
            "marker": {
             "colorbar": {
              "outlinewidth": 0,
              "ticks": ""
             }
            },
            "type": "scatter"
           }
          ],
          "scatter3d": [
           {
            "line": {
             "colorbar": {
              "outlinewidth": 0,
              "ticks": ""
             }
            },
            "marker": {
             "colorbar": {
              "outlinewidth": 0,
              "ticks": ""
             }
            },
            "type": "scatter3d"
           }
          ],
          "scattercarpet": [
           {
            "marker": {
             "colorbar": {
              "outlinewidth": 0,
              "ticks": ""
             }
            },
            "type": "scattercarpet"
           }
          ],
          "scattergeo": [
           {
            "marker": {
             "colorbar": {
              "outlinewidth": 0,
              "ticks": ""
             }
            },
            "type": "scattergeo"
           }
          ],
          "scattergl": [
           {
            "marker": {
             "colorbar": {
              "outlinewidth": 0,
              "ticks": ""
             }
            },
            "type": "scattergl"
           }
          ],
          "scattermapbox": [
           {
            "marker": {
             "colorbar": {
              "outlinewidth": 0,
              "ticks": ""
             }
            },
            "type": "scattermapbox"
           }
          ],
          "scatterpolar": [
           {
            "marker": {
             "colorbar": {
              "outlinewidth": 0,
              "ticks": ""
             }
            },
            "type": "scatterpolar"
           }
          ],
          "scatterpolargl": [
           {
            "marker": {
             "colorbar": {
              "outlinewidth": 0,
              "ticks": ""
             }
            },
            "type": "scatterpolargl"
           }
          ],
          "scatterternary": [
           {
            "marker": {
             "colorbar": {
              "outlinewidth": 0,
              "ticks": ""
             }
            },
            "type": "scatterternary"
           }
          ],
          "surface": [
           {
            "colorbar": {
             "outlinewidth": 0,
             "ticks": ""
            },
            "colorscale": [
             [
              0,
              "#0d0887"
             ],
             [
              0.1111111111111111,
              "#46039f"
             ],
             [
              0.2222222222222222,
              "#7201a8"
             ],
             [
              0.3333333333333333,
              "#9c179e"
             ],
             [
              0.4444444444444444,
              "#bd3786"
             ],
             [
              0.5555555555555556,
              "#d8576b"
             ],
             [
              0.6666666666666666,
              "#ed7953"
             ],
             [
              0.7777777777777778,
              "#fb9f3a"
             ],
             [
              0.8888888888888888,
              "#fdca26"
             ],
             [
              1,
              "#f0f921"
             ]
            ],
            "type": "surface"
           }
          ],
          "table": [
           {
            "cells": {
             "fill": {
              "color": "#EBF0F8"
             },
             "line": {
              "color": "white"
             }
            },
            "header": {
             "fill": {
              "color": "#C8D4E3"
             },
             "line": {
              "color": "white"
             }
            },
            "type": "table"
           }
          ]
         },
         "layout": {
          "annotationdefaults": {
           "arrowcolor": "#2a3f5f",
           "arrowhead": 0,
           "arrowwidth": 1
          },
          "coloraxis": {
           "colorbar": {
            "outlinewidth": 0,
            "ticks": ""
           }
          },
          "colorscale": {
           "diverging": [
            [
             0,
             "#8e0152"
            ],
            [
             0.1,
             "#c51b7d"
            ],
            [
             0.2,
             "#de77ae"
            ],
            [
             0.3,
             "#f1b6da"
            ],
            [
             0.4,
             "#fde0ef"
            ],
            [
             0.5,
             "#f7f7f7"
            ],
            [
             0.6,
             "#e6f5d0"
            ],
            [
             0.7,
             "#b8e186"
            ],
            [
             0.8,
             "#7fbc41"
            ],
            [
             0.9,
             "#4d9221"
            ],
            [
             1,
             "#276419"
            ]
           ],
           "sequential": [
            [
             0,
             "#0d0887"
            ],
            [
             0.1111111111111111,
             "#46039f"
            ],
            [
             0.2222222222222222,
             "#7201a8"
            ],
            [
             0.3333333333333333,
             "#9c179e"
            ],
            [
             0.4444444444444444,
             "#bd3786"
            ],
            [
             0.5555555555555556,
             "#d8576b"
            ],
            [
             0.6666666666666666,
             "#ed7953"
            ],
            [
             0.7777777777777778,
             "#fb9f3a"
            ],
            [
             0.8888888888888888,
             "#fdca26"
            ],
            [
             1,
             "#f0f921"
            ]
           ],
           "sequentialminus": [
            [
             0,
             "#0d0887"
            ],
            [
             0.1111111111111111,
             "#46039f"
            ],
            [
             0.2222222222222222,
             "#7201a8"
            ],
            [
             0.3333333333333333,
             "#9c179e"
            ],
            [
             0.4444444444444444,
             "#bd3786"
            ],
            [
             0.5555555555555556,
             "#d8576b"
            ],
            [
             0.6666666666666666,
             "#ed7953"
            ],
            [
             0.7777777777777778,
             "#fb9f3a"
            ],
            [
             0.8888888888888888,
             "#fdca26"
            ],
            [
             1,
             "#f0f921"
            ]
           ]
          },
          "colorway": [
           "#636efa",
           "#EF553B",
           "#00cc96",
           "#ab63fa",
           "#FFA15A",
           "#19d3f3",
           "#FF6692",
           "#B6E880",
           "#FF97FF",
           "#FECB52"
          ],
          "font": {
           "color": "#2a3f5f"
          },
          "geo": {
           "bgcolor": "white",
           "lakecolor": "white",
           "landcolor": "#E5ECF6",
           "showlakes": true,
           "showland": true,
           "subunitcolor": "white"
          },
          "hoverlabel": {
           "align": "left"
          },
          "hovermode": "closest",
          "mapbox": {
           "style": "light"
          },
          "paper_bgcolor": "white",
          "plot_bgcolor": "#E5ECF6",
          "polar": {
           "angularaxis": {
            "gridcolor": "white",
            "linecolor": "white",
            "ticks": ""
           },
           "bgcolor": "#E5ECF6",
           "radialaxis": {
            "gridcolor": "white",
            "linecolor": "white",
            "ticks": ""
           }
          },
          "scene": {
           "xaxis": {
            "backgroundcolor": "#E5ECF6",
            "gridcolor": "white",
            "gridwidth": 2,
            "linecolor": "white",
            "showbackground": true,
            "ticks": "",
            "zerolinecolor": "white"
           },
           "yaxis": {
            "backgroundcolor": "#E5ECF6",
            "gridcolor": "white",
            "gridwidth": 2,
            "linecolor": "white",
            "showbackground": true,
            "ticks": "",
            "zerolinecolor": "white"
           },
           "zaxis": {
            "backgroundcolor": "#E5ECF6",
            "gridcolor": "white",
            "gridwidth": 2,
            "linecolor": "white",
            "showbackground": true,
            "ticks": "",
            "zerolinecolor": "white"
           }
          },
          "shapedefaults": {
           "line": {
            "color": "#2a3f5f"
           }
          },
          "ternary": {
           "aaxis": {
            "gridcolor": "white",
            "linecolor": "white",
            "ticks": ""
           },
           "baxis": {
            "gridcolor": "white",
            "linecolor": "white",
            "ticks": ""
           },
           "bgcolor": "#E5ECF6",
           "caxis": {
            "gridcolor": "white",
            "linecolor": "white",
            "ticks": ""
           }
          },
          "title": {
           "x": 0.05
          },
          "xaxis": {
           "automargin": true,
           "gridcolor": "white",
           "linecolor": "white",
           "ticks": "",
           "title": {
            "standoff": 15
           },
           "zerolinecolor": "white",
           "zerolinewidth": 2
          },
          "yaxis": {
           "automargin": true,
           "gridcolor": "white",
           "linecolor": "white",
           "ticks": "",
           "title": {
            "standoff": 15
           },
           "zerolinecolor": "white",
           "zerolinewidth": 2
          }
         }
        },
        "title": {
         "text": "Tweets"
        },
        "xaxis": {
         "anchor": "y",
         "domain": [
          0,
          1
         ],
         "title": {
          "text": "likes_count"
         }
        },
        "yaxis": {
         "anchor": "x",
         "domain": [
          0,
          1
         ],
         "title": {
          "text": "count"
         }
        }
       }
      },
      "text/html": [
       "<div>                            <div id=\"2548d19c-8d86-4641-ac6c-774162d2befe\" class=\"plotly-graph-div\" style=\"height:525px; width:100%;\"></div>            <script type=\"text/javascript\">                require([\"plotly\"], function(Plotly) {                    window.PLOTLYENV=window.PLOTLYENV || {};                                    if (document.getElementById(\"2548d19c-8d86-4641-ac6c-774162d2befe\")) {                    Plotly.newPlot(                        \"2548d19c-8d86-4641-ac6c-774162d2befe\",                        [{\"alignmentgroup\": \"True\", \"bingroup\": \"x\", \"hovertemplate\": \"likes_count=%{x}<br>count=%{y}<extra></extra>\", \"legendgroup\": \"\", \"marker\": {\"color\": \"turquoise\", \"line\": {\"color\": \"rgb(8,48,107)\", \"width\": 5.5}}, \"name\": \"\", \"offsetgroup\": \"\", \"orientation\": \"v\", \"showlegend\": false, \"type\": \"histogram\", \"x\": [2, 0, 0, 0, 0, 0, 1, 0, 2, 0, 2, 0, 2, 0, 2, 1, 0, 0, 0], \"xaxis\": \"x\", \"yaxis\": \"y\"}],                        {\"barmode\": \"relative\", \"legend\": {\"tracegroupgap\": 0}, \"margin\": {\"t\": 60}, \"template\": {\"data\": {\"bar\": [{\"error_x\": {\"color\": \"#2a3f5f\"}, \"error_y\": {\"color\": \"#2a3f5f\"}, \"marker\": {\"line\": {\"color\": \"#E5ECF6\", \"width\": 0.5}}, \"type\": \"bar\"}], \"barpolar\": [{\"marker\": {\"line\": {\"color\": \"#E5ECF6\", \"width\": 0.5}}, \"type\": \"barpolar\"}], \"carpet\": [{\"aaxis\": {\"endlinecolor\": \"#2a3f5f\", \"gridcolor\": \"white\", \"linecolor\": \"white\", \"minorgridcolor\": \"white\", \"startlinecolor\": \"#2a3f5f\"}, \"baxis\": {\"endlinecolor\": \"#2a3f5f\", \"gridcolor\": \"white\", \"linecolor\": \"white\", \"minorgridcolor\": \"white\", \"startlinecolor\": \"#2a3f5f\"}, \"type\": \"carpet\"}], \"choropleth\": [{\"colorbar\": {\"outlinewidth\": 0, \"ticks\": \"\"}, \"type\": \"choropleth\"}], \"contour\": [{\"colorbar\": {\"outlinewidth\": 0, \"ticks\": \"\"}, \"colorscale\": [[0.0, \"#0d0887\"], [0.1111111111111111, \"#46039f\"], [0.2222222222222222, \"#7201a8\"], [0.3333333333333333, \"#9c179e\"], [0.4444444444444444, \"#bd3786\"], [0.5555555555555556, \"#d8576b\"], [0.6666666666666666, \"#ed7953\"], [0.7777777777777778, \"#fb9f3a\"], [0.8888888888888888, \"#fdca26\"], [1.0, \"#f0f921\"]], \"type\": \"contour\"}], \"contourcarpet\": [{\"colorbar\": {\"outlinewidth\": 0, \"ticks\": \"\"}, \"type\": \"contourcarpet\"}], \"heatmap\": [{\"colorbar\": {\"outlinewidth\": 0, \"ticks\": \"\"}, \"colorscale\": [[0.0, \"#0d0887\"], [0.1111111111111111, \"#46039f\"], [0.2222222222222222, \"#7201a8\"], [0.3333333333333333, \"#9c179e\"], [0.4444444444444444, \"#bd3786\"], [0.5555555555555556, \"#d8576b\"], [0.6666666666666666, \"#ed7953\"], [0.7777777777777778, \"#fb9f3a\"], [0.8888888888888888, \"#fdca26\"], [1.0, \"#f0f921\"]], \"type\": \"heatmap\"}], \"heatmapgl\": [{\"colorbar\": {\"outlinewidth\": 0, \"ticks\": \"\"}, \"colorscale\": [[0.0, \"#0d0887\"], [0.1111111111111111, \"#46039f\"], [0.2222222222222222, \"#7201a8\"], [0.3333333333333333, \"#9c179e\"], [0.4444444444444444, \"#bd3786\"], [0.5555555555555556, \"#d8576b\"], [0.6666666666666666, \"#ed7953\"], [0.7777777777777778, \"#fb9f3a\"], [0.8888888888888888, \"#fdca26\"], [1.0, \"#f0f921\"]], \"type\": \"heatmapgl\"}], \"histogram\": [{\"marker\": {\"colorbar\": {\"outlinewidth\": 0, \"ticks\": \"\"}}, \"type\": \"histogram\"}], \"histogram2d\": [{\"colorbar\": {\"outlinewidth\": 0, \"ticks\": \"\"}, \"colorscale\": [[0.0, \"#0d0887\"], [0.1111111111111111, \"#46039f\"], [0.2222222222222222, \"#7201a8\"], [0.3333333333333333, \"#9c179e\"], [0.4444444444444444, \"#bd3786\"], [0.5555555555555556, \"#d8576b\"], [0.6666666666666666, \"#ed7953\"], [0.7777777777777778, \"#fb9f3a\"], [0.8888888888888888, \"#fdca26\"], [1.0, \"#f0f921\"]], \"type\": \"histogram2d\"}], \"histogram2dcontour\": [{\"colorbar\": {\"outlinewidth\": 0, \"ticks\": \"\"}, \"colorscale\": [[0.0, \"#0d0887\"], [0.1111111111111111, \"#46039f\"], [0.2222222222222222, \"#7201a8\"], [0.3333333333333333, \"#9c179e\"], [0.4444444444444444, \"#bd3786\"], [0.5555555555555556, \"#d8576b\"], [0.6666666666666666, \"#ed7953\"], [0.7777777777777778, \"#fb9f3a\"], [0.8888888888888888, \"#fdca26\"], [1.0, \"#f0f921\"]], \"type\": \"histogram2dcontour\"}], \"mesh3d\": [{\"colorbar\": {\"outlinewidth\": 0, \"ticks\": \"\"}, \"type\": \"mesh3d\"}], \"parcoords\": [{\"line\": {\"colorbar\": {\"outlinewidth\": 0, \"ticks\": \"\"}}, \"type\": \"parcoords\"}], \"pie\": [{\"automargin\": true, \"type\": \"pie\"}], \"scatter\": [{\"marker\": {\"colorbar\": {\"outlinewidth\": 0, \"ticks\": \"\"}}, \"type\": \"scatter\"}], \"scatter3d\": [{\"line\": {\"colorbar\": {\"outlinewidth\": 0, \"ticks\": \"\"}}, \"marker\": {\"colorbar\": {\"outlinewidth\": 0, \"ticks\": \"\"}}, \"type\": \"scatter3d\"}], \"scattercarpet\": [{\"marker\": {\"colorbar\": {\"outlinewidth\": 0, \"ticks\": \"\"}}, \"type\": \"scattercarpet\"}], \"scattergeo\": [{\"marker\": {\"colorbar\": {\"outlinewidth\": 0, \"ticks\": \"\"}}, \"type\": \"scattergeo\"}], \"scattergl\": [{\"marker\": {\"colorbar\": {\"outlinewidth\": 0, \"ticks\": \"\"}}, \"type\": \"scattergl\"}], \"scattermapbox\": [{\"marker\": {\"colorbar\": {\"outlinewidth\": 0, \"ticks\": \"\"}}, \"type\": \"scattermapbox\"}], \"scatterpolar\": [{\"marker\": {\"colorbar\": {\"outlinewidth\": 0, \"ticks\": \"\"}}, \"type\": \"scatterpolar\"}], \"scatterpolargl\": [{\"marker\": {\"colorbar\": {\"outlinewidth\": 0, \"ticks\": \"\"}}, \"type\": \"scatterpolargl\"}], \"scatterternary\": [{\"marker\": {\"colorbar\": {\"outlinewidth\": 0, \"ticks\": \"\"}}, \"type\": \"scatterternary\"}], \"surface\": [{\"colorbar\": {\"outlinewidth\": 0, \"ticks\": \"\"}, \"colorscale\": [[0.0, \"#0d0887\"], [0.1111111111111111, \"#46039f\"], [0.2222222222222222, \"#7201a8\"], [0.3333333333333333, \"#9c179e\"], [0.4444444444444444, \"#bd3786\"], [0.5555555555555556, \"#d8576b\"], [0.6666666666666666, \"#ed7953\"], [0.7777777777777778, \"#fb9f3a\"], [0.8888888888888888, \"#fdca26\"], [1.0, \"#f0f921\"]], \"type\": \"surface\"}], \"table\": [{\"cells\": {\"fill\": {\"color\": \"#EBF0F8\"}, \"line\": {\"color\": \"white\"}}, \"header\": {\"fill\": {\"color\": \"#C8D4E3\"}, \"line\": {\"color\": \"white\"}}, \"type\": \"table\"}]}, \"layout\": {\"annotationdefaults\": {\"arrowcolor\": \"#2a3f5f\", \"arrowhead\": 0, \"arrowwidth\": 1}, \"coloraxis\": {\"colorbar\": {\"outlinewidth\": 0, \"ticks\": \"\"}}, \"colorscale\": {\"diverging\": [[0, \"#8e0152\"], [0.1, \"#c51b7d\"], [0.2, \"#de77ae\"], [0.3, \"#f1b6da\"], [0.4, \"#fde0ef\"], [0.5, \"#f7f7f7\"], [0.6, \"#e6f5d0\"], [0.7, \"#b8e186\"], [0.8, \"#7fbc41\"], [0.9, \"#4d9221\"], [1, \"#276419\"]], \"sequential\": [[0.0, \"#0d0887\"], [0.1111111111111111, \"#46039f\"], [0.2222222222222222, \"#7201a8\"], [0.3333333333333333, \"#9c179e\"], [0.4444444444444444, \"#bd3786\"], [0.5555555555555556, \"#d8576b\"], [0.6666666666666666, \"#ed7953\"], [0.7777777777777778, \"#fb9f3a\"], [0.8888888888888888, \"#fdca26\"], [1.0, \"#f0f921\"]], \"sequentialminus\": [[0.0, \"#0d0887\"], [0.1111111111111111, \"#46039f\"], [0.2222222222222222, \"#7201a8\"], [0.3333333333333333, \"#9c179e\"], [0.4444444444444444, \"#bd3786\"], [0.5555555555555556, \"#d8576b\"], [0.6666666666666666, \"#ed7953\"], [0.7777777777777778, \"#fb9f3a\"], [0.8888888888888888, \"#fdca26\"], [1.0, \"#f0f921\"]]}, \"colorway\": [\"#636efa\", \"#EF553B\", \"#00cc96\", \"#ab63fa\", \"#FFA15A\", \"#19d3f3\", \"#FF6692\", \"#B6E880\", \"#FF97FF\", \"#FECB52\"], \"font\": {\"color\": \"#2a3f5f\"}, \"geo\": {\"bgcolor\": \"white\", \"lakecolor\": \"white\", \"landcolor\": \"#E5ECF6\", \"showlakes\": true, \"showland\": true, \"subunitcolor\": \"white\"}, \"hoverlabel\": {\"align\": \"left\"}, \"hovermode\": \"closest\", \"mapbox\": {\"style\": \"light\"}, \"paper_bgcolor\": \"white\", \"plot_bgcolor\": \"#E5ECF6\", \"polar\": {\"angularaxis\": {\"gridcolor\": \"white\", \"linecolor\": \"white\", \"ticks\": \"\"}, \"bgcolor\": \"#E5ECF6\", \"radialaxis\": {\"gridcolor\": \"white\", \"linecolor\": \"white\", \"ticks\": \"\"}}, \"scene\": {\"xaxis\": {\"backgroundcolor\": \"#E5ECF6\", \"gridcolor\": \"white\", \"gridwidth\": 2, \"linecolor\": \"white\", \"showbackground\": true, \"ticks\": \"\", \"zerolinecolor\": \"white\"}, \"yaxis\": {\"backgroundcolor\": \"#E5ECF6\", \"gridcolor\": \"white\", \"gridwidth\": 2, \"linecolor\": \"white\", \"showbackground\": true, \"ticks\": \"\", \"zerolinecolor\": \"white\"}, \"zaxis\": {\"backgroundcolor\": \"#E5ECF6\", \"gridcolor\": \"white\", \"gridwidth\": 2, \"linecolor\": \"white\", \"showbackground\": true, \"ticks\": \"\", \"zerolinecolor\": \"white\"}}, \"shapedefaults\": {\"line\": {\"color\": \"#2a3f5f\"}}, \"ternary\": {\"aaxis\": {\"gridcolor\": \"white\", \"linecolor\": \"white\", \"ticks\": \"\"}, \"baxis\": {\"gridcolor\": \"white\", \"linecolor\": \"white\", \"ticks\": \"\"}, \"bgcolor\": \"#E5ECF6\", \"caxis\": {\"gridcolor\": \"white\", \"linecolor\": \"white\", \"ticks\": \"\"}}, \"title\": {\"x\": 0.05}, \"xaxis\": {\"automargin\": true, \"gridcolor\": \"white\", \"linecolor\": \"white\", \"ticks\": \"\", \"title\": {\"standoff\": 15}, \"zerolinecolor\": \"white\", \"zerolinewidth\": 2}, \"yaxis\": {\"automargin\": true, \"gridcolor\": \"white\", \"linecolor\": \"white\", \"ticks\": \"\", \"title\": {\"standoff\": 15}, \"zerolinecolor\": \"white\", \"zerolinewidth\": 2}}}, \"title\": {\"text\": \"Tweets\"}, \"xaxis\": {\"anchor\": \"y\", \"domain\": [0.0, 1.0], \"title\": {\"text\": \"likes_count\"}}, \"yaxis\": {\"anchor\": \"x\", \"domain\": [0.0, 1.0], \"title\": {\"text\": \"count\"}}},                        {\"responsive\": true}                    ).then(function(){\n",
       "                            \n",
       "var gd = document.getElementById('2548d19c-8d86-4641-ac6c-774162d2befe');\n",
       "var x = new MutationObserver(function (mutations, observer) {{\n",
       "        var display = window.getComputedStyle(gd).display;\n",
       "        if (!display || display === 'none') {{\n",
       "            console.log([gd, 'removed!']);\n",
       "            Plotly.purge(gd);\n",
       "            observer.disconnect();\n",
       "        }}\n",
       "}});\n",
       "\n",
       "// Listen for the removal of the full notebook cells\n",
       "var notebookContainer = gd.closest('#notebook-container');\n",
       "if (notebookContainer) {{\n",
       "    x.observe(notebookContainer, {childList: true});\n",
       "}}\n",
       "\n",
       "// Listen for the clearing of the current output cell\n",
       "var outputEl = gd.closest('.output');\n",
       "if (outputEl) {{\n",
       "    x.observe(outputEl, {childList: true});\n",
       "}}\n",
       "\n",
       "                        })                };                });            </script>        </div>"
      ]
     },
     "metadata": {},
     "output_type": "display_data"
    }
   ],
   "source": [
    "# Imports\n",
    "import matplotlib.pyplot as plt\n",
    "import seaborn as sns\n",
    "color = sns.color_palette()\n",
    "%matplotlib inline\n",
    "import plotly.offline as py\n",
    "py.init_notebook_mode(connected=True)\n",
    "import plotly.graph_objs as go\n",
    "import plotly.tools as tls\n",
    "import plotly.express as px\n",
    "# Product Scores\n",
    "fig = px.histogram(biden_Test_debate_df, x=\"likes_count\")\n",
    "fig.update_traces(marker_color=\"turquoise\",marker_line_color='rgb(8,48,107)',\n",
    "                  marker_line_width=5.5)\n",
    "fig.update_layout(title_text='Tweets')\n",
    "fig.show()"
   ]
  },
  {
   "cell_type": "code",
   "execution_count": 28,
   "metadata": {
    "scrolled": true
   },
   "outputs": [],
   "source": [
    "from textblob import TextBlob"
   ]
  },
  {
   "cell_type": "code",
   "execution_count": 29,
   "metadata": {},
   "outputs": [
    {
     "name": "stdout",
     "output_type": "stream",
     "text": [
      "Sentiment(polarity=-0.2, subjectivity=0.8)\n",
      "Sentiment(polarity=0.0, subjectivity=0.0)\n",
      "Sentiment(polarity=0.0, subjectivity=0.0)\n",
      "Sentiment(polarity=0.2, subjectivity=0.2)\n",
      "Sentiment(polarity=0.20000000000000004, subjectivity=0.75)\n"
     ]
    }
   ],
   "source": [
    "\n",
    "Feedback1 = \"KamalaHarris Yeah for the worse We need a productive President one who stands for us all The ONLY MAN FOR THE JOB IS DONALD J TRUMP TRUMP 2020 TRUMP JR 2024\"\n",
    "Feedback2 = \"realDonaldTrump The 2020 election is a matter of life and death. So vote like your life depends on it BidenHarris2020 \"\n",
    "Feedback3 = \"realDonaldTrump Hell no VoteBlueToEndThisNightmare VoteBidenHarris2020 VoteBidenHarrisToSaveAmerica\"\n",
    "Feedback4 = \"Contrary to what the pundits in the mainstream media would have you believe, President Donald Trump obliterated Joe Biden in the presidential debate on Tuesday night, and it really was not even close.\"\n",
    "Feedback5 = \"Donald Trump is amazing.  He is the greatest president ever, Joe Biden is a racist, downright stupid, ignorant human being.\"\n",
    "\n",
    "blob1 = TextBlob(Feedback1)\n",
    "blob2 = TextBlob(Feedback2)\n",
    "blob3 = TextBlob(Feedback3)\n",
    "blob4 = TextBlob(Feedback4)\n",
    "blob5 = TextBlob(Feedback5)\n",
    "\n",
    "print(blob1.sentiment)\n",
    "print(blob2.sentiment)\n",
    "print(blob3.sentiment)\n",
    "print(blob4.sentiment)\n",
    "print(blob5.sentiment)"
   ]
  },
  {
   "cell_type": "code",
   "execution_count": 30,
   "metadata": {},
   "outputs": [],
   "source": [
    "\n",
    "import nltk\n",
    "import string\n",
    "import pandas as pd\n",
    "\n",
    "from collections import Counter\n",
    "import matplotlib.pyplot as plt"
   ]
  },
  {
   "cell_type": "code",
   "execution_count": 39,
   "metadata": {},
   "outputs": [
    {
     "data": {
      "text/html": [
       "<div>\n",
       "<style scoped>\n",
       "    .dataframe tbody tr th:only-of-type {\n",
       "        vertical-align: middle;\n",
       "    }\n",
       "\n",
       "    .dataframe tbody tr th {\n",
       "        vertical-align: top;\n",
       "    }\n",
       "\n",
       "    .dataframe thead th {\n",
       "        text-align: right;\n",
       "    }\n",
       "</style>\n",
       "<table border=\"1\" class=\"dataframe\">\n",
       "  <thead>\n",
       "    <tr style=\"text-align: right;\">\n",
       "      <th></th>\n",
       "      <th>id</th>\n",
       "      <th>conversation_id</th>\n",
       "      <th>created_at</th>\n",
       "      <th>date</th>\n",
       "      <th>time</th>\n",
       "      <th>timezone</th>\n",
       "      <th>user_id</th>\n",
       "      <th>username</th>\n",
       "      <th>name</th>\n",
       "      <th>tweet</th>\n",
       "      <th>...</th>\n",
       "      <th>replies_count</th>\n",
       "      <th>retweets_count</th>\n",
       "      <th>likes_count</th>\n",
       "      <th>hashtags</th>\n",
       "      <th>cashtags</th>\n",
       "      <th>link</th>\n",
       "      <th>video</th>\n",
       "      <th>thumbnail</th>\n",
       "      <th>reply_to</th>\n",
       "      <th>cleaned_tweet</th>\n",
       "    </tr>\n",
       "  </thead>\n",
       "  <tbody>\n",
       "    <tr>\n",
       "      <th>0</th>\n",
       "      <td>1311460000000000000</td>\n",
       "      <td>1311400000000000000</td>\n",
       "      <td>2020-09-30 19:59:59 Eastern Daylight Time</td>\n",
       "      <td>9/30/2020</td>\n",
       "      <td>19:59:59</td>\n",
       "      <td>-400</td>\n",
       "      <td>1.290000e+18</td>\n",
       "      <td>dailyphoenix1</td>\n",
       "      <td>Daily Phoenix</td>\n",
       "      <td>@kathyhoffman_az @JoeBiden Should we have CRT ...</td>\n",
       "      <td>...</td>\n",
       "      <td>1</td>\n",
       "      <td>0</td>\n",
       "      <td>2</td>\n",
       "      <td>[]</td>\n",
       "      <td>[]</td>\n",
       "      <td>https://twitter.com/DailyPhoenix1/status/13114...</td>\n",
       "      <td>0</td>\n",
       "      <td>NaN</td>\n",
       "      <td>{'user_id': '832376325306359808', 'username': ...</td>\n",
       "      <td>Should we have CRT in schools We need a leader.</td>\n",
       "    </tr>\n",
       "    <tr>\n",
       "      <th>1</th>\n",
       "      <td>1311460000000000000</td>\n",
       "      <td>1311130000000000000</td>\n",
       "      <td>2020-09-30 19:59:59 Eastern Daylight Time</td>\n",
       "      <td>9/30/2020</td>\n",
       "      <td>19:59:59</td>\n",
       "      <td>-400</td>\n",
       "      <td>1.280000e+18</td>\n",
       "      <td>maya73863414</td>\n",
       "      <td>maya</td>\n",
       "      <td>@Rocket54441 @JoeBiden Literally trump but ok</td>\n",
       "      <td>...</td>\n",
       "      <td>0</td>\n",
       "      <td>0</td>\n",
       "      <td>0</td>\n",
       "      <td>[]</td>\n",
       "      <td>[]</td>\n",
       "      <td>https://twitter.com/maya73863414/status/131145...</td>\n",
       "      <td>0</td>\n",
       "      <td>NaN</td>\n",
       "      <td>{'user_id': '956360508575232002', 'username': ...</td>\n",
       "      <td>Literally trump but ok</td>\n",
       "    </tr>\n",
       "    <tr>\n",
       "      <th>2</th>\n",
       "      <td>1311460000000000000</td>\n",
       "      <td>1311460000000000000</td>\n",
       "      <td>2020-09-30 19:59:59 Eastern Daylight Time</td>\n",
       "      <td>9/30/2020</td>\n",
       "      <td>19:59:59</td>\n",
       "      <td>-400</td>\n",
       "      <td>5.544081e+08</td>\n",
       "      <td>woodrow823</td>\n",
       "      <td>Woodrow</td>\n",
       "      <td>Pres. you missed the op to mention HBCU.  @Joe...</td>\n",
       "      <td>...</td>\n",
       "      <td>0</td>\n",
       "      <td>0</td>\n",
       "      <td>0</td>\n",
       "      <td>['blackvote']</td>\n",
       "      <td>[]</td>\n",
       "      <td>https://twitter.com/woodrow823/status/13114557...</td>\n",
       "      <td>0</td>\n",
       "      <td>NaN</td>\n",
       "      <td>{'user_id': None, 'username': None}</td>\n",
       "      <td>Pres. you missed the op to mention HBCU. obvio...</td>\n",
       "    </tr>\n",
       "    <tr>\n",
       "      <th>3</th>\n",
       "      <td>1311460000000000000</td>\n",
       "      <td>1311460000000000000</td>\n",
       "      <td>2020-09-30 19:59:59 Eastern Daylight Time</td>\n",
       "      <td>9/30/2020</td>\n",
       "      <td>19:59:59</td>\n",
       "      <td>-400</td>\n",
       "      <td>3.356462e+07</td>\n",
       "      <td>reneechelle20</td>\n",
       "      <td>Renee 🇨🇦 🇺🇸</td>\n",
       "      <td>@CNNPolitics @JoeBiden @TheView @JoyVBehar @An...</td>\n",
       "      <td>...</td>\n",
       "      <td>0</td>\n",
       "      <td>0</td>\n",
       "      <td>0</td>\n",
       "      <td>[]</td>\n",
       "      <td>[]</td>\n",
       "      <td>https://twitter.com/Reneechelle20/status/13114...</td>\n",
       "      <td>0</td>\n",
       "      <td>NaN</td>\n",
       "      <td>{'user_id': '13850422', 'username': 'CNNPoliti...</td>\n",
       "      <td>THIS IS ANTIFA</td>\n",
       "    </tr>\n",
       "    <tr>\n",
       "      <th>4</th>\n",
       "      <td>1311460000000000000</td>\n",
       "      <td>1311460000000000000</td>\n",
       "      <td>2020-09-30 19:59:59 Eastern Daylight Time</td>\n",
       "      <td>9/30/2020</td>\n",
       "      <td>19:59:59</td>\n",
       "      <td>-400</td>\n",
       "      <td>2.365115e+08</td>\n",
       "      <td>monkjona</td>\n",
       "      <td>Monk Áedán Shaun</td>\n",
       "      <td>#JoniMitchell - #SexKills https://t.co/NiRYkTO...</td>\n",
       "      <td>...</td>\n",
       "      <td>0</td>\n",
       "      <td>0</td>\n",
       "      <td>0</td>\n",
       "      <td>['jonimitchell', 'sexkills', 'trumpworld', 'ep...</td>\n",
       "      <td>[]</td>\n",
       "      <td>https://twitter.com/monkjona/status/1311455784...</td>\n",
       "      <td>0</td>\n",
       "      <td>NaN</td>\n",
       "      <td>{'user_id': None, 'username': None}</td>\n",
       "      <td>-</td>\n",
       "    </tr>\n",
       "    <tr>\n",
       "      <th>5</th>\n",
       "      <td>1311460000000000000</td>\n",
       "      <td>1311430000000000000</td>\n",
       "      <td>2020-09-30 19:59:59 Eastern Daylight Time</td>\n",
       "      <td>9/30/2020</td>\n",
       "      <td>19:59:59</td>\n",
       "      <td>-400</td>\n",
       "      <td>1.706917e+09</td>\n",
       "      <td>ikechukwu_aa</td>\n",
       "      <td>Rafe Miyagi</td>\n",
       "      <td>@Imagecaptured @JoeBiden Yeah silence is oppre...</td>\n",
       "      <td>...</td>\n",
       "      <td>2</td>\n",
       "      <td>0</td>\n",
       "      <td>0</td>\n",
       "      <td>[]</td>\n",
       "      <td>[]</td>\n",
       "      <td>https://twitter.com/Ikechukwu_Aa/status/131145...</td>\n",
       "      <td>0</td>\n",
       "      <td>NaN</td>\n",
       "      <td>{'user_id': '2941706661', 'username': 'Imageca...</td>\n",
       "      <td>Yeah silence is oppression especially from the...</td>\n",
       "    </tr>\n",
       "    <tr>\n",
       "      <th>6</th>\n",
       "      <td>1311460000000000000</td>\n",
       "      <td>1311430000000000000</td>\n",
       "      <td>2020-09-30 19:59:59 Eastern Daylight Time</td>\n",
       "      <td>9/30/2020</td>\n",
       "      <td>19:59:59</td>\n",
       "      <td>-400</td>\n",
       "      <td>1.120000e+18</td>\n",
       "      <td>kempson_luke</td>\n",
       "      <td>Luke Kempson</td>\n",
       "      <td>@Scottd1885 @FormerLiberaI @IonlyPlayDumb4U @J...</td>\n",
       "      <td>...</td>\n",
       "      <td>0</td>\n",
       "      <td>0</td>\n",
       "      <td>1</td>\n",
       "      <td>[]</td>\n",
       "      <td>[]</td>\n",
       "      <td>https://twitter.com/kempson_luke/status/131145...</td>\n",
       "      <td>0</td>\n",
       "      <td>NaN</td>\n",
       "      <td>{'user_id': '1260172583036747782', 'username':...</td>\n",
       "      <td>I couldnt give a fuck about Mansfail.. Nice tr...</td>\n",
       "    </tr>\n",
       "    <tr>\n",
       "      <th>7</th>\n",
       "      <td>1311460000000000000</td>\n",
       "      <td>1311410000000000000</td>\n",
       "      <td>2020-09-30 19:59:59 Eastern Daylight Time</td>\n",
       "      <td>9/30/2020</td>\n",
       "      <td>19:59:59</td>\n",
       "      <td>-400</td>\n",
       "      <td>2.047996e+07</td>\n",
       "      <td>modeka</td>\n",
       "      <td>Modeka</td>\n",
       "      <td>@realDonaldTrump @JoeBiden sure knows how to p...</td>\n",
       "      <td>...</td>\n",
       "      <td>0</td>\n",
       "      <td>0</td>\n",
       "      <td>0</td>\n",
       "      <td>[]</td>\n",
       "      <td>[]</td>\n",
       "      <td>https://twitter.com/modeka/status/131145578317...</td>\n",
       "      <td>0</td>\n",
       "      <td>NaN</td>\n",
       "      <td>{'user_id': '25073877', 'username': 'realDonal...</td>\n",
       "      <td>sure knows how to pull in a crowd doesnt he do...</td>\n",
       "    </tr>\n",
       "    <tr>\n",
       "      <th>8</th>\n",
       "      <td>1311460000000000000</td>\n",
       "      <td>1311120000000000000</td>\n",
       "      <td>2020-09-30 19:59:58 Eastern Daylight Time</td>\n",
       "      <td>9/30/2020</td>\n",
       "      <td>19:59:58</td>\n",
       "      <td>-400</td>\n",
       "      <td>1.260000e+18</td>\n",
       "      <td>lpryanovichcom2</td>\n",
       "      <td>Desdemona Rose Garden</td>\n",
       "      <td>@Rambopolitan @glomad128 @JoeBiden Exactly.  A...</td>\n",
       "      <td>...</td>\n",
       "      <td>0</td>\n",
       "      <td>0</td>\n",
       "      <td>2</td>\n",
       "      <td>[]</td>\n",
       "      <td>[]</td>\n",
       "      <td>https://twitter.com/lpryanovichcom2/status/131...</td>\n",
       "      <td>0</td>\n",
       "      <td>NaN</td>\n",
       "      <td>{'user_id': '285423423', 'username': 'Rambopol...</td>\n",
       "      <td>Exactly. And I admit from when my phone echos ...</td>\n",
       "    </tr>\n",
       "    <tr>\n",
       "      <th>9</th>\n",
       "      <td>1311460000000000000</td>\n",
       "      <td>1311460000000000000</td>\n",
       "      <td>2020-09-30 19:59:58 Eastern Daylight Time</td>\n",
       "      <td>9/30/2020</td>\n",
       "      <td>19:59:58</td>\n",
       "      <td>-400</td>\n",
       "      <td>1.675993e+08</td>\n",
       "      <td>kevinstein_</td>\n",
       "      <td>Dza</td>\n",
       "      <td>Biden selling shirts with trump face on it , k...</td>\n",
       "      <td>...</td>\n",
       "      <td>0</td>\n",
       "      <td>0</td>\n",
       "      <td>0</td>\n",
       "      <td>[]</td>\n",
       "      <td>[]</td>\n",
       "      <td>https://twitter.com/kevinstein_/status/1311455...</td>\n",
       "      <td>0</td>\n",
       "      <td>NaN</td>\n",
       "      <td>{'user_id': None, 'username': None}</td>\n",
       "      <td>Biden selling shirts with trump face on it , k...</td>\n",
       "    </tr>\n",
       "    <tr>\n",
       "      <th>10</th>\n",
       "      <td>1311460000000000000</td>\n",
       "      <td>1311400000000000000</td>\n",
       "      <td>2020-09-30 19:59:58 Eastern Daylight Time</td>\n",
       "      <td>9/30/2020</td>\n",
       "      <td>19:59:58</td>\n",
       "      <td>-400</td>\n",
       "      <td>4.468434e+07</td>\n",
       "      <td>s1lentonexx88</td>\n",
       "      <td>Ivan Perez</td>\n",
       "      <td>@Plu9to @deanna5266 @PattyArquette @SpeakerPel...</td>\n",
       "      <td>...</td>\n",
       "      <td>1</td>\n",
       "      <td>0</td>\n",
       "      <td>2</td>\n",
       "      <td>[]</td>\n",
       "      <td>[]</td>\n",
       "      <td>https://twitter.com/S1lentonexx88/status/13114...</td>\n",
       "      <td>0</td>\n",
       "      <td>NaN</td>\n",
       "      <td>{'user_id': '1300441931974094848', 'username':...</td>\n",
       "      <td>ANTIFA is not an organization you dope, its an...</td>\n",
       "    </tr>\n",
       "    <tr>\n",
       "      <th>11</th>\n",
       "      <td>1311460000000000000</td>\n",
       "      <td>1311420000000000000</td>\n",
       "      <td>2020-09-30 19:59:58 Eastern Daylight Time</td>\n",
       "      <td>9/30/2020</td>\n",
       "      <td>19:59:58</td>\n",
       "      <td>-400</td>\n",
       "      <td>3.130190e+09</td>\n",
       "      <td>geordie_paul_uk</td>\n",
       "      <td>Paul 🌟🌟🌟</td>\n",
       "      <td>@MartinBiddulp12 @appropriatepro2 @JoeBiden An...</td>\n",
       "      <td>...</td>\n",
       "      <td>0</td>\n",
       "      <td>0</td>\n",
       "      <td>0</td>\n",
       "      <td>[]</td>\n",
       "      <td>[]</td>\n",
       "      <td>https://twitter.com/Geordie_Paul_UK/status/131...</td>\n",
       "      <td>0</td>\n",
       "      <td>NaN</td>\n",
       "      <td>{'user_id': '3130190374', 'username': 'Geordie...</td>\n",
       "      <td>And youve spilled beer down your shirt.</td>\n",
       "    </tr>\n",
       "    <tr>\n",
       "      <th>12</th>\n",
       "      <td>1311460000000000000</td>\n",
       "      <td>1311340000000000000</td>\n",
       "      <td>2020-09-30 19:59:58 Eastern Daylight Time</td>\n",
       "      <td>9/30/2020</td>\n",
       "      <td>19:59:58</td>\n",
       "      <td>-400</td>\n",
       "      <td>2.838478e+09</td>\n",
       "      <td>martinemilympta</td>\n",
       "      <td>Emily Martin</td>\n",
       "      <td>@umdbulldogs93 @MeidasTouch @JoeBiden Me too!!</td>\n",
       "      <td>...</td>\n",
       "      <td>0</td>\n",
       "      <td>0</td>\n",
       "      <td>2</td>\n",
       "      <td>[]</td>\n",
       "      <td>[]</td>\n",
       "      <td>https://twitter.com/MartinEmilympta/status/131...</td>\n",
       "      <td>0</td>\n",
       "      <td>NaN</td>\n",
       "      <td>{'user_id': '862352982180057090', 'username': ...</td>\n",
       "      <td>Me too</td>\n",
       "    </tr>\n",
       "    <tr>\n",
       "      <th>13</th>\n",
       "      <td>1311460000000000000</td>\n",
       "      <td>1311370000000000000</td>\n",
       "      <td>2020-09-30 19:59:58 Eastern Daylight Time</td>\n",
       "      <td>9/30/2020</td>\n",
       "      <td>19:59:58</td>\n",
       "      <td>-400</td>\n",
       "      <td>1.290000e+18</td>\n",
       "      <td>rome67224060</td>\n",
       "      <td>Rome</td>\n",
       "      <td>@JoeBiden Best president ever</td>\n",
       "      <td>...</td>\n",
       "      <td>0</td>\n",
       "      <td>0</td>\n",
       "      <td>0</td>\n",
       "      <td>[]</td>\n",
       "      <td>[]</td>\n",
       "      <td>https://twitter.com/Rome67224060/status/131145...</td>\n",
       "      <td>0</td>\n",
       "      <td>NaN</td>\n",
       "      <td>{'user_id': '939091', 'username': 'JoeBiden'}</td>\n",
       "      <td>Best president ever</td>\n",
       "    </tr>\n",
       "    <tr>\n",
       "      <th>14</th>\n",
       "      <td>1311460000000000000</td>\n",
       "      <td>1311130000000000000</td>\n",
       "      <td>2020-09-30 19:59:57 Eastern Daylight Time</td>\n",
       "      <td>9/30/2020</td>\n",
       "      <td>19:59:57</td>\n",
       "      <td>-400</td>\n",
       "      <td>1.300000e+18</td>\n",
       "      <td>too_survivor</td>\n",
       "      <td>SoulSurvivorToo</td>\n",
       "      <td>@ChrissieEvert @POTUS @JoeBiden He knows no sh...</td>\n",
       "      <td>...</td>\n",
       "      <td>0</td>\n",
       "      <td>0</td>\n",
       "      <td>2</td>\n",
       "      <td>[]</td>\n",
       "      <td>[]</td>\n",
       "      <td>https://twitter.com/too_survivor/status/131145...</td>\n",
       "      <td>0</td>\n",
       "      <td>NaN</td>\n",
       "      <td>{'user_id': '310427634', 'username': 'Chrissie...</td>\n",
       "      <td>He knows no shame.</td>\n",
       "    </tr>\n",
       "    <tr>\n",
       "      <th>15</th>\n",
       "      <td>1311460000000000000</td>\n",
       "      <td>1311310000000000000</td>\n",
       "      <td>2020-09-30 19:59:57 Eastern Daylight Time</td>\n",
       "      <td>9/30/2020</td>\n",
       "      <td>19:59:57</td>\n",
       "      <td>-400</td>\n",
       "      <td>9.500000e+17</td>\n",
       "      <td>browntownclownt</td>\n",
       "      <td>Aaron and Wesley</td>\n",
       "      <td>@knallfall @pattymiller1959 @ToddMcMurtry @Joe...</td>\n",
       "      <td>...</td>\n",
       "      <td>3</td>\n",
       "      <td>0</td>\n",
       "      <td>1</td>\n",
       "      <td>[]</td>\n",
       "      <td>[]</td>\n",
       "      <td>https://twitter.com/BrownTownClownT/status/131...</td>\n",
       "      <td>0</td>\n",
       "      <td>NaN</td>\n",
       "      <td>{'user_id': '2813203196', 'username': 'knallfa...</td>\n",
       "      <td>That would fail at first instance and you know...</td>\n",
       "    </tr>\n",
       "    <tr>\n",
       "      <th>16</th>\n",
       "      <td>1311460000000000000</td>\n",
       "      <td>1311460000000000000</td>\n",
       "      <td>2020-09-30 19:59:57 Eastern Daylight Time</td>\n",
       "      <td>9/30/2020</td>\n",
       "      <td>19:59:57</td>\n",
       "      <td>-400</td>\n",
       "      <td>1.300000e+18</td>\n",
       "      <td>beoverlooked</td>\n",
       "      <td>Don't Be Overlooked Recruiting</td>\n",
       "      <td>@joebiden I didn’t know that a “idea” could be...</td>\n",
       "      <td>...</td>\n",
       "      <td>0</td>\n",
       "      <td>0</td>\n",
       "      <td>0</td>\n",
       "      <td>[]</td>\n",
       "      <td>[]</td>\n",
       "      <td>https://twitter.com/BeOverlooked/status/131145...</td>\n",
       "      <td>0</td>\n",
       "      <td>NaN</td>\n",
       "      <td>{'user_id': '939091', 'username': 'JoeBiden'}</td>\n",
       "      <td>I didnt know that a idea could be arrested for...</td>\n",
       "    </tr>\n",
       "    <tr>\n",
       "      <th>17</th>\n",
       "      <td>1311460000000000000</td>\n",
       "      <td>1311270000000000000</td>\n",
       "      <td>2020-09-30 19:59:57 Eastern Daylight Time</td>\n",
       "      <td>9/30/2020</td>\n",
       "      <td>19:59:57</td>\n",
       "      <td>-400</td>\n",
       "      <td>1.160000e+18</td>\n",
       "      <td>popsixtyeight</td>\n",
       "      <td>POPSIXTYEIGHT</td>\n",
       "      <td>@JoeBiden @JoeBiden Will you disavow BLACK sup...</td>\n",
       "      <td>...</td>\n",
       "      <td>0</td>\n",
       "      <td>0</td>\n",
       "      <td>0</td>\n",
       "      <td>[]</td>\n",
       "      <td>[]</td>\n",
       "      <td>https://twitter.com/popsixtyeight/status/13114...</td>\n",
       "      <td>0</td>\n",
       "      <td>NaN</td>\n",
       "      <td>{'user_id': '939091', 'username': 'JoeBiden'}</td>\n",
       "      <td>Will you disavow BLACK supremacistsBLM I Didnt...</td>\n",
       "    </tr>\n",
       "    <tr>\n",
       "      <th>18</th>\n",
       "      <td>1311460000000000000</td>\n",
       "      <td>1311180000000000000</td>\n",
       "      <td>2020-09-30 19:59:57 Eastern Daylight Time</td>\n",
       "      <td>9/30/2020</td>\n",
       "      <td>19:59:57</td>\n",
       "      <td>-400</td>\n",
       "      <td>2.819288e+07</td>\n",
       "      <td>freitweeter</td>\n",
       "      <td>🇩🇪 🇺🇸 🇮🇱 pro Besitzbürgertum®️QD928🔆</td>\n",
       "      <td>@DSunkler @HugoMuellerVogg @realDonaldTrump @J...</td>\n",
       "      <td>...</td>\n",
       "      <td>0</td>\n",
       "      <td>0</td>\n",
       "      <td>0</td>\n",
       "      <td>[]</td>\n",
       "      <td>[]</td>\n",
       "      <td>https://twitter.com/freitweeter/status/1311455...</td>\n",
       "      <td>0</td>\n",
       "      <td>NaN</td>\n",
       "      <td>{'user_id': '1139169693992988672', 'username':...</td>\n",
       "      <td>Mit Selbstreflektion haben die Politiker hier ...</td>\n",
       "    </tr>\n",
       "  </tbody>\n",
       "</table>\n",
       "<p>19 rows × 24 columns</p>\n",
       "</div>"
      ],
      "text/plain": [
       "                     id      conversation_id  \\\n",
       "0   1311460000000000000  1311400000000000000   \n",
       "1   1311460000000000000  1311130000000000000   \n",
       "2   1311460000000000000  1311460000000000000   \n",
       "3   1311460000000000000  1311460000000000000   \n",
       "4   1311460000000000000  1311460000000000000   \n",
       "5   1311460000000000000  1311430000000000000   \n",
       "6   1311460000000000000  1311430000000000000   \n",
       "7   1311460000000000000  1311410000000000000   \n",
       "8   1311460000000000000  1311120000000000000   \n",
       "9   1311460000000000000  1311460000000000000   \n",
       "10  1311460000000000000  1311400000000000000   \n",
       "11  1311460000000000000  1311420000000000000   \n",
       "12  1311460000000000000  1311340000000000000   \n",
       "13  1311460000000000000  1311370000000000000   \n",
       "14  1311460000000000000  1311130000000000000   \n",
       "15  1311460000000000000  1311310000000000000   \n",
       "16  1311460000000000000  1311460000000000000   \n",
       "17  1311460000000000000  1311270000000000000   \n",
       "18  1311460000000000000  1311180000000000000   \n",
       "\n",
       "                                   created_at       date      time  timezone  \\\n",
       "0   2020-09-30 19:59:59 Eastern Daylight Time  9/30/2020  19:59:59      -400   \n",
       "1   2020-09-30 19:59:59 Eastern Daylight Time  9/30/2020  19:59:59      -400   \n",
       "2   2020-09-30 19:59:59 Eastern Daylight Time  9/30/2020  19:59:59      -400   \n",
       "3   2020-09-30 19:59:59 Eastern Daylight Time  9/30/2020  19:59:59      -400   \n",
       "4   2020-09-30 19:59:59 Eastern Daylight Time  9/30/2020  19:59:59      -400   \n",
       "5   2020-09-30 19:59:59 Eastern Daylight Time  9/30/2020  19:59:59      -400   \n",
       "6   2020-09-30 19:59:59 Eastern Daylight Time  9/30/2020  19:59:59      -400   \n",
       "7   2020-09-30 19:59:59 Eastern Daylight Time  9/30/2020  19:59:59      -400   \n",
       "8   2020-09-30 19:59:58 Eastern Daylight Time  9/30/2020  19:59:58      -400   \n",
       "9   2020-09-30 19:59:58 Eastern Daylight Time  9/30/2020  19:59:58      -400   \n",
       "10  2020-09-30 19:59:58 Eastern Daylight Time  9/30/2020  19:59:58      -400   \n",
       "11  2020-09-30 19:59:58 Eastern Daylight Time  9/30/2020  19:59:58      -400   \n",
       "12  2020-09-30 19:59:58 Eastern Daylight Time  9/30/2020  19:59:58      -400   \n",
       "13  2020-09-30 19:59:58 Eastern Daylight Time  9/30/2020  19:59:58      -400   \n",
       "14  2020-09-30 19:59:57 Eastern Daylight Time  9/30/2020  19:59:57      -400   \n",
       "15  2020-09-30 19:59:57 Eastern Daylight Time  9/30/2020  19:59:57      -400   \n",
       "16  2020-09-30 19:59:57 Eastern Daylight Time  9/30/2020  19:59:57      -400   \n",
       "17  2020-09-30 19:59:57 Eastern Daylight Time  9/30/2020  19:59:57      -400   \n",
       "18  2020-09-30 19:59:57 Eastern Daylight Time  9/30/2020  19:59:57      -400   \n",
       "\n",
       "         user_id         username                                  name  \\\n",
       "0   1.290000e+18    dailyphoenix1                         Daily Phoenix   \n",
       "1   1.280000e+18     maya73863414                                  maya   \n",
       "2   5.544081e+08       woodrow823                               Woodrow   \n",
       "3   3.356462e+07    reneechelle20                           Renee 🇨🇦 🇺🇸   \n",
       "4   2.365115e+08         monkjona                      Monk Áedán Shaun   \n",
       "5   1.706917e+09     ikechukwu_aa                           Rafe Miyagi   \n",
       "6   1.120000e+18     kempson_luke                          Luke Kempson   \n",
       "7   2.047996e+07           modeka                                Modeka   \n",
       "8   1.260000e+18  lpryanovichcom2                 Desdemona Rose Garden   \n",
       "9   1.675993e+08      kevinstein_                                   Dza   \n",
       "10  4.468434e+07    s1lentonexx88                            Ivan Perez   \n",
       "11  3.130190e+09  geordie_paul_uk                              Paul 🌟🌟🌟   \n",
       "12  2.838478e+09  martinemilympta                          Emily Martin   \n",
       "13  1.290000e+18     rome67224060                                  Rome   \n",
       "14  1.300000e+18     too_survivor                       SoulSurvivorToo   \n",
       "15  9.500000e+17  browntownclownt                      Aaron and Wesley   \n",
       "16  1.300000e+18     beoverlooked        Don't Be Overlooked Recruiting   \n",
       "17  1.160000e+18    popsixtyeight                         POPSIXTYEIGHT   \n",
       "18  2.819288e+07      freitweeter  🇩🇪 🇺🇸 🇮🇱 pro Besitzbürgertum®️QD928🔆   \n",
       "\n",
       "                                                tweet  ... replies_count  \\\n",
       "0   @kathyhoffman_az @JoeBiden Should we have CRT ...  ...             1   \n",
       "1       @Rocket54441 @JoeBiden Literally trump but ok  ...             0   \n",
       "2   Pres. you missed the op to mention HBCU.  @Joe...  ...             0   \n",
       "3   @CNNPolitics @JoeBiden @TheView @JoyVBehar @An...  ...             0   \n",
       "4   #JoniMitchell - #SexKills https://t.co/NiRYkTO...  ...             0   \n",
       "5   @Imagecaptured @JoeBiden Yeah silence is oppre...  ...             2   \n",
       "6   @Scottd1885 @FormerLiberaI @IonlyPlayDumb4U @J...  ...             0   \n",
       "7   @realDonaldTrump @JoeBiden sure knows how to p...  ...             0   \n",
       "8   @Rambopolitan @glomad128 @JoeBiden Exactly.  A...  ...             0   \n",
       "9   Biden selling shirts with trump face on it , k...  ...             0   \n",
       "10  @Plu9to @deanna5266 @PattyArquette @SpeakerPel...  ...             1   \n",
       "11  @MartinBiddulp12 @appropriatepro2 @JoeBiden An...  ...             0   \n",
       "12     @umdbulldogs93 @MeidasTouch @JoeBiden Me too!!  ...             0   \n",
       "13                      @JoeBiden Best president ever  ...             0   \n",
       "14  @ChrissieEvert @POTUS @JoeBiden He knows no sh...  ...             0   \n",
       "15  @knallfall @pattymiller1959 @ToddMcMurtry @Joe...  ...             3   \n",
       "16  @joebiden I didn’t know that a “idea” could be...  ...             0   \n",
       "17  @JoeBiden @JoeBiden Will you disavow BLACK sup...  ...             0   \n",
       "18  @DSunkler @HugoMuellerVogg @realDonaldTrump @J...  ...             0   \n",
       "\n",
       "   retweets_count likes_count  \\\n",
       "0               0           2   \n",
       "1               0           0   \n",
       "2               0           0   \n",
       "3               0           0   \n",
       "4               0           0   \n",
       "5               0           0   \n",
       "6               0           1   \n",
       "7               0           0   \n",
       "8               0           2   \n",
       "9               0           0   \n",
       "10              0           2   \n",
       "11              0           0   \n",
       "12              0           2   \n",
       "13              0           0   \n",
       "14              0           2   \n",
       "15              0           1   \n",
       "16              0           0   \n",
       "17              0           0   \n",
       "18              0           0   \n",
       "\n",
       "                                             hashtags  cashtags  \\\n",
       "0                                                  []        []   \n",
       "1                                                  []        []   \n",
       "2                                       ['blackvote']        []   \n",
       "3                                                  []        []   \n",
       "4   ['jonimitchell', 'sexkills', 'trumpworld', 'ep...        []   \n",
       "5                                                  []        []   \n",
       "6                                                  []        []   \n",
       "7                                                  []        []   \n",
       "8                                                  []        []   \n",
       "9                                                  []        []   \n",
       "10                                                 []        []   \n",
       "11                                                 []        []   \n",
       "12                                                 []        []   \n",
       "13                                                 []        []   \n",
       "14                                                 []        []   \n",
       "15                                                 []        []   \n",
       "16                                                 []        []   \n",
       "17                                                 []        []   \n",
       "18                                                 []        []   \n",
       "\n",
       "                                                 link  video thumbnail  \\\n",
       "0   https://twitter.com/DailyPhoenix1/status/13114...      0       NaN   \n",
       "1   https://twitter.com/maya73863414/status/131145...      0       NaN   \n",
       "2   https://twitter.com/woodrow823/status/13114557...      0       NaN   \n",
       "3   https://twitter.com/Reneechelle20/status/13114...      0       NaN   \n",
       "4   https://twitter.com/monkjona/status/1311455784...      0       NaN   \n",
       "5   https://twitter.com/Ikechukwu_Aa/status/131145...      0       NaN   \n",
       "6   https://twitter.com/kempson_luke/status/131145...      0       NaN   \n",
       "7   https://twitter.com/modeka/status/131145578317...      0       NaN   \n",
       "8   https://twitter.com/lpryanovichcom2/status/131...      0       NaN   \n",
       "9   https://twitter.com/kevinstein_/status/1311455...      0       NaN   \n",
       "10  https://twitter.com/S1lentonexx88/status/13114...      0       NaN   \n",
       "11  https://twitter.com/Geordie_Paul_UK/status/131...      0       NaN   \n",
       "12  https://twitter.com/MartinEmilympta/status/131...      0       NaN   \n",
       "13  https://twitter.com/Rome67224060/status/131145...      0       NaN   \n",
       "14  https://twitter.com/too_survivor/status/131145...      0       NaN   \n",
       "15  https://twitter.com/BrownTownClownT/status/131...      0       NaN   \n",
       "16  https://twitter.com/BeOverlooked/status/131145...      0       NaN   \n",
       "17  https://twitter.com/popsixtyeight/status/13114...      0       NaN   \n",
       "18  https://twitter.com/freitweeter/status/1311455...      0       NaN   \n",
       "\n",
       "                                             reply_to  \\\n",
       "0   {'user_id': '832376325306359808', 'username': ...   \n",
       "1   {'user_id': '956360508575232002', 'username': ...   \n",
       "2                 {'user_id': None, 'username': None}   \n",
       "3   {'user_id': '13850422', 'username': 'CNNPoliti...   \n",
       "4                 {'user_id': None, 'username': None}   \n",
       "5   {'user_id': '2941706661', 'username': 'Imageca...   \n",
       "6   {'user_id': '1260172583036747782', 'username':...   \n",
       "7   {'user_id': '25073877', 'username': 'realDonal...   \n",
       "8   {'user_id': '285423423', 'username': 'Rambopol...   \n",
       "9                 {'user_id': None, 'username': None}   \n",
       "10  {'user_id': '1300441931974094848', 'username':...   \n",
       "11  {'user_id': '3130190374', 'username': 'Geordie...   \n",
       "12  {'user_id': '862352982180057090', 'username': ...   \n",
       "13      {'user_id': '939091', 'username': 'JoeBiden'}   \n",
       "14  {'user_id': '310427634', 'username': 'Chrissie...   \n",
       "15  {'user_id': '2813203196', 'username': 'knallfa...   \n",
       "16      {'user_id': '939091', 'username': 'JoeBiden'}   \n",
       "17      {'user_id': '939091', 'username': 'JoeBiden'}   \n",
       "18  {'user_id': '1139169693992988672', 'username':...   \n",
       "\n",
       "                                        cleaned_tweet  \n",
       "0     Should we have CRT in schools We need a leader.  \n",
       "1                              Literally trump but ok  \n",
       "2   Pres. you missed the op to mention HBCU. obvio...  \n",
       "3                                      THIS IS ANTIFA  \n",
       "4                                                   -  \n",
       "5   Yeah silence is oppression especially from the...  \n",
       "6   I couldnt give a fuck about Mansfail.. Nice tr...  \n",
       "7   sure knows how to pull in a crowd doesnt he do...  \n",
       "8   Exactly. And I admit from when my phone echos ...  \n",
       "9   Biden selling shirts with trump face on it , k...  \n",
       "10  ANTIFA is not an organization you dope, its an...  \n",
       "11            And youve spilled beer down your shirt.  \n",
       "12                                             Me too  \n",
       "13                                Best president ever  \n",
       "14                                 He knows no shame.  \n",
       "15  That would fail at first instance and you know...  \n",
       "16  I didnt know that a idea could be arrested for...  \n",
       "17  Will you disavow BLACK supremacistsBLM I Didnt...  \n",
       "18  Mit Selbstreflektion haben die Politiker hier ...  \n",
       "\n",
       "[19 rows x 24 columns]"
      ]
     },
     "execution_count": 39,
     "metadata": {},
     "output_type": "execute_result"
    }
   ],
   "source": [
    "biden_Test_debate_df.head(50)"
   ]
  },
  {
   "cell_type": "code",
   "execution_count": 32,
   "metadata": {},
   "outputs": [
    {
     "data": {
      "text/html": [
       "<div>\n",
       "<style scoped>\n",
       "    .dataframe tbody tr th:only-of-type {\n",
       "        vertical-align: middle;\n",
       "    }\n",
       "\n",
       "    .dataframe tbody tr th {\n",
       "        vertical-align: top;\n",
       "    }\n",
       "\n",
       "    .dataframe thead th {\n",
       "        text-align: right;\n",
       "    }\n",
       "</style>\n",
       "<table border=\"1\" class=\"dataframe\">\n",
       "  <thead>\n",
       "    <tr style=\"text-align: right;\">\n",
       "      <th></th>\n",
       "      <th>cleaned_tweet</th>\n",
       "    </tr>\n",
       "  </thead>\n",
       "  <tbody>\n",
       "    <tr>\n",
       "      <th>0</th>\n",
       "      <td>Should we have CRT in schools We need a leader.</td>\n",
       "    </tr>\n",
       "    <tr>\n",
       "      <th>1</th>\n",
       "      <td>Literally trump but ok</td>\n",
       "    </tr>\n",
       "    <tr>\n",
       "      <th>2</th>\n",
       "      <td>Pres. you missed the op to mention HBCU. obvio...</td>\n",
       "    </tr>\n",
       "    <tr>\n",
       "      <th>3</th>\n",
       "      <td>THIS IS ANTIFA</td>\n",
       "    </tr>\n",
       "    <tr>\n",
       "      <th>4</th>\n",
       "      <td>-</td>\n",
       "    </tr>\n",
       "  </tbody>\n",
       "</table>\n",
       "</div>"
      ],
      "text/plain": [
       "                                       cleaned_tweet\n",
       "0    Should we have CRT in schools We need a leader.\n",
       "1                             Literally trump but ok\n",
       "2  Pres. you missed the op to mention HBCU. obvio...\n",
       "3                                     THIS IS ANTIFA\n",
       "4                                                  -"
      ]
     },
     "execution_count": 32,
     "metadata": {},
     "output_type": "execute_result"
    }
   ],
   "source": [
    "df=pd.DataFrame(biden_Test_debate_df, columns=['cleaned_tweet'])\n",
    "df.head()"
   ]
  },
  {
   "cell_type": "code",
   "execution_count": 33,
   "metadata": {},
   "outputs": [
    {
     "data": {
      "text/html": [
       "<div>\n",
       "<style scoped>\n",
       "    .dataframe tbody tr th:only-of-type {\n",
       "        vertical-align: middle;\n",
       "    }\n",
       "\n",
       "    .dataframe tbody tr th {\n",
       "        vertical-align: top;\n",
       "    }\n",
       "\n",
       "    .dataframe thead th {\n",
       "        text-align: right;\n",
       "    }\n",
       "</style>\n",
       "<table border=\"1\" class=\"dataframe\">\n",
       "  <thead>\n",
       "    <tr style=\"text-align: right;\">\n",
       "      <th></th>\n",
       "      <th>cleaned_tweet</th>\n",
       "      <th>Subjectivity</th>\n",
       "      <th>Polarity</th>\n",
       "    </tr>\n",
       "  </thead>\n",
       "  <tbody>\n",
       "    <tr>\n",
       "      <th>0</th>\n",
       "      <td>Should we have CRT in schools We need a leader.</td>\n",
       "      <td>0.000000</td>\n",
       "      <td>0.000000</td>\n",
       "    </tr>\n",
       "    <tr>\n",
       "      <th>1</th>\n",
       "      <td>Literally trump but ok</td>\n",
       "      <td>0.500000</td>\n",
       "      <td>0.500000</td>\n",
       "    </tr>\n",
       "    <tr>\n",
       "      <th>2</th>\n",
       "      <td>Pres. you missed the op to mention HBCU. obvio...</td>\n",
       "      <td>0.333333</td>\n",
       "      <td>-0.111111</td>\n",
       "    </tr>\n",
       "    <tr>\n",
       "      <th>3</th>\n",
       "      <td>THIS IS ANTIFA</td>\n",
       "      <td>0.000000</td>\n",
       "      <td>0.000000</td>\n",
       "    </tr>\n",
       "    <tr>\n",
       "      <th>4</th>\n",
       "      <td>-</td>\n",
       "      <td>0.000000</td>\n",
       "      <td>0.000000</td>\n",
       "    </tr>\n",
       "  </tbody>\n",
       "</table>\n",
       "</div>"
      ],
      "text/plain": [
       "                                       cleaned_tweet  Subjectivity  Polarity\n",
       "0    Should we have CRT in schools We need a leader.      0.000000  0.000000\n",
       "1                             Literally trump but ok      0.500000  0.500000\n",
       "2  Pres. you missed the op to mention HBCU. obvio...      0.333333 -0.111111\n",
       "3                                     THIS IS ANTIFA      0.000000  0.000000\n",
       "4                                                  -      0.000000  0.000000"
      ]
     },
     "execution_count": 33,
     "metadata": {},
     "output_type": "execute_result"
    }
   ],
   "source": [
    "# Create function to obtain subjectivity\n",
    "def getSubjectivity(text):\n",
    "    return TextBlob(text).sentiment.subjectivity\n",
    "\n",
    "# Create function to obtain polarity\n",
    "def getPolarity(text):\n",
    "    return TextBlob(text).sentiment.polarity\n",
    "\n",
    "# Create Columns for Subjectivity and Polarity\n",
    "df['Subjectivity']=df['cleaned_tweet'].apply(getSubjectivity)\n",
    "df['Polarity']=df['cleaned_tweet'].apply(getPolarity)\n",
    "df.head()"
   ]
  },
  {
   "cell_type": "code",
   "execution_count": 35,
   "metadata": {},
   "outputs": [
    {
     "data": {
      "image/png": "[encoded data removed]",
      "text/plain": [
       "<Figure size 432x288 with 1 Axes>"
      ]
     },
     "metadata": {
      "needs_background": "light"
     },
     "output_type": "display_data"
    }
   ],
   "source": [
    "# Plotting a word cloud\n",
    "import matplotlib.pyplot as plt\n",
    "from wordcloud import WordCloud\n",
    "\n",
    "allWords= ' '.join([twts for twts in df['cleaned_tweet']])\n",
    "wordCloud=WordCloud(width=500, height=300, random_state=21, max_font_size = 119).generate(allWords)\n",
    "plt.imshow(wordCloud, interpolation='bilinear')\n",
    "plt.axis('off')\n",
    "plt.show()"
   ]
  },
  {
   "cell_type": "code",
   "execution_count": 36,
   "metadata": {},
   "outputs": [
    {
     "data": {
      "text/html": [
       "<div>\n",
       "<style scoped>\n",
       "    .dataframe tbody tr th:only-of-type {\n",
       "        vertical-align: middle;\n",
       "    }\n",
       "\n",
       "    .dataframe tbody tr th {\n",
       "        vertical-align: top;\n",
       "    }\n",
       "\n",
       "    .dataframe thead th {\n",
       "        text-align: right;\n",
       "    }\n",
       "</style>\n",
       "<table border=\"1\" class=\"dataframe\">\n",
       "  <thead>\n",
       "    <tr style=\"text-align: right;\">\n",
       "      <th></th>\n",
       "      <th>cleaned_tweet</th>\n",
       "      <th>Subjectivity</th>\n",
       "      <th>Polarity</th>\n",
       "      <th>Sentiment</th>\n",
       "    </tr>\n",
       "  </thead>\n",
       "  <tbody>\n",
       "    <tr>\n",
       "      <th>0</th>\n",
       "      <td>Should we have CRT in schools We need a leader.</td>\n",
       "      <td>0.000000</td>\n",
       "      <td>0.000000</td>\n",
       "      <td>Neutral</td>\n",
       "    </tr>\n",
       "    <tr>\n",
       "      <th>1</th>\n",
       "      <td>Literally trump but ok</td>\n",
       "      <td>0.500000</td>\n",
       "      <td>0.500000</td>\n",
       "      <td>Positive</td>\n",
       "    </tr>\n",
       "    <tr>\n",
       "      <th>2</th>\n",
       "      <td>Pres. you missed the op to mention HBCU. obvio...</td>\n",
       "      <td>0.333333</td>\n",
       "      <td>-0.111111</td>\n",
       "      <td>Negative</td>\n",
       "    </tr>\n",
       "    <tr>\n",
       "      <th>3</th>\n",
       "      <td>THIS IS ANTIFA</td>\n",
       "      <td>0.000000</td>\n",
       "      <td>0.000000</td>\n",
       "      <td>Neutral</td>\n",
       "    </tr>\n",
       "    <tr>\n",
       "      <th>4</th>\n",
       "      <td>-</td>\n",
       "      <td>0.000000</td>\n",
       "      <td>0.000000</td>\n",
       "      <td>Neutral</td>\n",
       "    </tr>\n",
       "  </tbody>\n",
       "</table>\n",
       "</div>"
      ],
      "text/plain": [
       "                                       cleaned_tweet  Subjectivity  Polarity  \\\n",
       "0    Should we have CRT in schools We need a leader.      0.000000  0.000000   \n",
       "1                             Literally trump but ok      0.500000  0.500000   \n",
       "2  Pres. you missed the op to mention HBCU. obvio...      0.333333 -0.111111   \n",
       "3                                     THIS IS ANTIFA      0.000000  0.000000   \n",
       "4                                                  -      0.000000  0.000000   \n",
       "\n",
       "  Sentiment  \n",
       "0   Neutral  \n",
       "1  Positive  \n",
       "2  Negative  \n",
       "3   Neutral  \n",
       "4   Neutral  "
      ]
     },
     "execution_count": 36,
     "metadata": {},
     "output_type": "execute_result"
    }
   ],
   "source": [
    "\n",
    "# Obtaining Polarity Analysis\n",
    "def getPolarityAnalysis(score):\n",
    "    if score < 0:\n",
    "        return 'Negative'\n",
    "    elif score == 0:\n",
    "        return 'Neutral'\n",
    "    else:\n",
    "        return 'Positive'\n",
    "    \n",
    "df['Sentiment']=df['Polarity'].apply(getPolarityAnalysis)\n",
    "df.head()"
   ]
  },
  {
   "cell_type": "code",
   "execution_count": 38,
   "metadata": {},
   "outputs": [
    {
     "data": {
      "image/png": "[encoded data removed]",
      "text/plain": [
       "<Figure size 720x576 with 1 Axes>"
      ]
     },
     "metadata": {
      "needs_background": "light"
     },
     "output_type": "display_data"
    }
   ],
   "source": [
    "\n",
    "# Plotting polarity and subjectivity\n",
    "plt.figure(figsize=(10,8))\n",
    "plt.scatter(df['Polarity'], df['Subjectivity'], color='Blue')\n",
    "\n",
    "plt.title('Sentiment Analysis')\n",
    "plt.xlabel('Polarity')\n",
    "plt.ylabel('Subjectivity')\n",
    "plt.savefig('Resources/sentiment_test.png')\n",
    "plt.show()"
   ]
  },
  {
   "cell_type": "code",
   "execution_count": null,
   "metadata": {},
   "outputs": [],
   "source": []
  }
 ],
 "metadata": {
  "kernelspec": {
   "display_name": "PythonData",
   "language": "python",
   "name": "pythondata"
  },
  "language_info": {
   "codemirror_mode": {
    "name": "ipython",
    "version": 3
   },
   "file_extension": ".py",
   "mimetype": "text/x-python",
   "name": "python",
   "nbconvert_exporter": "python",
   "pygments_lexer": "ipython3",
   "version": "3.7.7"
  }
 },
 "nbformat": 4,
 "nbformat_minor": 4
}
